{
 "cells": [
  {
   "cell_type": "code",
   "execution_count": 1,
   "id": "b9b1fe39",
   "metadata": {},
   "outputs": [
    {
     "name": "stdout",
     "output_type": "stream",
     "text": [
      "12\n"
     ]
    }
   ],
   "source": [
    "# WAP to sum of all integer elements in a given list\n",
    "l=[1,2,4,5]\n",
    "sum=0\n",
    "for ele in l:\n",
    "    sum+=ele\n",
    "print(sum)"
   ]
  },
  {
   "cell_type": "code",
   "execution_count": 2,
   "id": "b9c716c0",
   "metadata": {},
   "outputs": [
    {
     "name": "stdout",
     "output_type": "stream",
     "text": [
      "4\n"
     ]
    }
   ],
   "source": [
    "# WAP to count total no of positive elements from a list\n",
    "l=[1,2,-1,-2,4,5]\n",
    "count=0\n",
    "for ele in l:\n",
    "    if ele>0:\n",
    "        count+=1\n",
    "print(count)"
   ]
  },
  {
   "cell_type": "code",
   "execution_count": 3,
   "id": "4bed895e",
   "metadata": {},
   "outputs": [
    {
     "name": "stdout",
     "output_type": "stream",
     "text": [
      "4\n"
     ]
    }
   ],
   "source": [
    "# WAP to count total no of even numbers in a given list\n",
    "l=[1,2,3,4,5,6,7,8,9]\n",
    "count=0\n",
    "for ele in l:\n",
    "    if ele%2==0:\n",
    "        count+=1\n",
    "print(count)"
   ]
  },
  {
   "cell_type": "code",
   "execution_count": 7,
   "id": "bde4491b",
   "metadata": {},
   "outputs": [
    {
     "name": "stdout",
     "output_type": "stream",
     "text": [
      "[2, 3] 3\n"
     ]
    }
   ],
   "source": [
    "# WAP to print maximum occuring subarray from a given list\n",
    "\n",
    "# arr=[1,2,3,3,2,1,1,2,3,2,3,2]\n",
    "# i=0\n",
    "# res=[]\n",
    "# max_count=0\n",
    "# while i<len(arr):\n",
    "#     j=i\n",
    "#     while j<len(arr):\n",
    "#         sub=arr[i:j+1]\n",
    "#         if len(sub)>1:\n",
    "#             res+=[sub]\n",
    "#         j+=1\n",
    "#     i+=1\n",
    "# max_sub=[]\n",
    "# print(res)\n",
    "# for ele1 in res:\n",
    "#     count=0\n",
    "#     for ele2 in res:\n",
    "#         if ele1==ele2:\n",
    "#             count+=1\n",
    "#     if max_count<count:\n",
    "#         max_sub=ele1\n",
    "#         max_count=count\n",
    "# print(max_sub,max_count)\n",
    "\n",
    "# OR\n",
    "\n",
    "arr=[1,2,3,3,2,1,1,2,3,2,3,2]\n",
    "i=0\n",
    "max_count=0\n",
    "max_subArray=[]\n",
    "while i<len(arr):\n",
    "    j=i\n",
    "    while j<len(arr):\n",
    "        sub=arr[i:j+1]\n",
    "        count=0\n",
    "        m=0\n",
    "        while m<len(arr):\n",
    "            n=m\n",
    "            while n<len(arr):\n",
    "                sub2=arr[m:n+1]\n",
    "                if sub==sub2 and len(sub)>1:\n",
    "                    count+=1\n",
    "                n+=1\n",
    "            if max_count<count:\n",
    "                max_count=count\n",
    "                max_subArray=sub\n",
    "            m+=1\n",
    "        j+=1\n",
    "    i+=1\n",
    "print(max_subArray,max_count)\n"
   ]
  },
  {
   "cell_type": "code",
   "execution_count": 5,
   "id": "464abddd",
   "metadata": {},
   "outputs": [
    {
     "name": "stdout",
     "output_type": "stream",
     "text": [
      "[1, 2, 3, 3, 2, 1]\n"
     ]
    }
   ],
   "source": [
    "arr=[1,2,3,3,2,1,1,2,3,2,3,2]\n",
    "i=0\n",
    "max_subPalindrome=[]\n",
    "while i<len(arr):\n",
    "    j=i\n",
    "    while j<len(arr):\n",
    "        sub=arr[i:j+1]\n",
    "        if sub==sub[::-1] and len(sub)>1:\n",
    "            if len(max_subPalindrome)<len(sub):\n",
    "                max_subPalindrome=sub\n",
    "        j+=1\n",
    "    i+=1\n",
    "print(max_subPalindrome)"
   ]
  },
  {
   "cell_type": "markdown",
   "id": "3cd68625",
   "metadata": {},
   "source": [
    "ASSIGNMENT QUESTIONS (ARRAY -01)"
   ]
  },
  {
   "cell_type": "code",
   "execution_count": 5,
   "id": "b1c8ba56",
   "metadata": {},
   "outputs": [
    {
     "name": "stdout",
     "output_type": "stream",
     "text": [
      "0 1\n",
      "1 2\n",
      "2 3\n",
      "3 4\n",
      "4 5\n",
      "5 6\n",
      "6 7\n",
      "7 8\n",
      "8 9\n"
     ]
    }
   ],
   "source": [
    "# 1.WAP to access Array index and values\n",
    "arr=[1,2,3,4,5,6,7,8,9]\n",
    "i=0\n",
    "while i<len(arr):\n",
    "    print(i,arr[i])\n",
    "    i+=1"
   ]
  },
  {
   "cell_type": "code",
   "execution_count": 6,
   "id": "1c7ff331",
   "metadata": {},
   "outputs": [
    {
     "name": "stdout",
     "output_type": "stream",
     "text": [
      "[1, 2, 3, 4, 5, 6, 7, 8, 9, 1, 2, 3, 4, 5, 6, 7, 8, 9]\n"
     ]
    }
   ],
   "source": [
    "# 2.WAP to add two arrays\n",
    "arr=[1,2,3,4,5,6,7,8,9]\n",
    "arr1=[1,2,3,4,5,6,7,8,9]\n",
    "print(arr+arr1)"
   ]
  },
  {
   "cell_type": "code",
   "execution_count": 11,
   "id": "6bcb5b1e",
   "metadata": {},
   "outputs": [
    {
     "name": "stdout",
     "output_type": "stream",
     "text": [
      "[0, 0, 2, 0, 0, 0, 4, 3, 7]\n"
     ]
    }
   ],
   "source": [
    "# 3.WAP for arithmetic operations on arrays\n",
    "arr=[1,2,3,4,5,6,7,8,9]\n",
    "arr1=[1,2,1,4,5,6,3,5,2]\n",
    "res=[]\n",
    "i=0\n",
    "while i<len(arr) and i<len(arr):\n",
    "    res+=[arr[i]-arr1[i]]\n",
    "    i+=1\n",
    "print(res)"
   ]
  },
  {
   "cell_type": "code",
   "execution_count": 13,
   "id": "cb5f27d9",
   "metadata": {},
   "outputs": [
    {
     "name": "stdout",
     "output_type": "stream",
     "text": [
      "True\n"
     ]
    }
   ],
   "source": [
    "# 4.WAP to check if array is empty or not\n",
    "count=0\n",
    "arr=[]\n",
    "for ch in arr:\n",
    "    count+=1\n",
    "print(count==0)"
   ]
  },
  {
   "cell_type": "code",
   "execution_count": 15,
   "id": "29809b4f",
   "metadata": {},
   "outputs": [
    {
     "name": "stdout",
     "output_type": "stream",
     "text": [
      "[1, 2, 3, 4, 5, 6, 7, 8, 9]\n"
     ]
    }
   ],
   "source": [
    "# 5.WAP to copy or clone an array\n",
    "arr=[1,2,3,4,5,6,7,8,9]\n",
    "arr1=[]\n",
    "for el in arr:\n",
    "    arr1+=[el]\n",
    "print(arr1)"
   ]
  },
  {
   "cell_type": "code",
   "execution_count": 18,
   "id": "fddb60c0",
   "metadata": {},
   "outputs": [
    {
     "name": "stdout",
     "output_type": "stream",
     "text": [
      "8\n",
      "5\n"
     ]
    }
   ],
   "source": [
    "# 6.WAP to count even and odd numbers in array\n",
    "arr=[1,2,3,4,5,6,7,8,9,0,0,0,0]\n",
    "eve=0\n",
    "odd=0\n",
    "for ele in arr:\n",
    "    if ele%2==0:\n",
    "        eve+=1\n",
    "    else:\n",
    "        odd+=1\n",
    "print(eve,odd,sep='\\n')"
   ]
  },
  {
   "cell_type": "code",
   "execution_count": 21,
   "id": "e1caac04",
   "metadata": {},
   "outputs": [
    {
     "name": "stdout",
     "output_type": "stream",
     "text": [
      "9\n",
      "6\n"
     ]
    }
   ],
   "source": [
    "# 7.WAP to count positive and negative number in an array\n",
    "arr=[1,2,3,4,5,6,-1,-2,-3,-4,-5,-6,7,8,9]\n",
    "i=0\n",
    "pos=neg=0\n",
    "while i<len(arr):\n",
    "    if arr[i]>0:\n",
    "        pos+=1\n",
    "    else:\n",
    "        neg+=1\n",
    "    i+=1\n",
    "print(pos,neg,sep='\\n')"
   ]
  },
  {
   "cell_type": "code",
   "execution_count": 24,
   "id": "54cdf3b0",
   "metadata": {},
   "outputs": [
    {
     "name": "stdout",
     "output_type": "stream",
     "text": [
      "33\n"
     ]
    }
   ],
   "source": [
    "# 8.WAP to Print Largest Number in a Array\n",
    "large=arr[0]\n",
    "arr=[33,1,2,3,4,5,6,7,8,9,22]\n",
    "i=0\n",
    "while i<len(arr):\n",
    "    ele=arr[i]\n",
    "    if ele>large:\n",
    "        large=ele\n",
    "    i+=1\n",
    "print(large)"
   ]
  },
  {
   "cell_type": "code",
   "execution_count": 25,
   "id": "22efa964",
   "metadata": {},
   "outputs": [
    {
     "name": "stdout",
     "output_type": "stream",
     "text": [
      "1\n",
      "33\n"
     ]
    }
   ],
   "source": [
    "# 9.WAP to Print Largest and Smallest Number in Array\n",
    "large=arr[0]\n",
    "small=arr[0]\n",
    "arr=[1,2,3,4,5,6,7,8,9]\n",
    "i=0\n",
    "while i<len(arr):\n",
    "    ele=arr[i]\n",
    "    if ele>large:\n",
    "        large=ele\n",
    "    if ele<small:\n",
    "        small=ele\n",
    "    i+=1\n",
    "print(small,large,sep='\\n')\n"
   ]
  },
  {
   "cell_type": "code",
   "execution_count": 26,
   "id": "47c1ce0a",
   "metadata": {},
   "outputs": [
    {
     "name": "stdout",
     "output_type": "stream",
     "text": [
      "9\n"
     ]
    }
   ],
   "source": [
    "# 10.WAP to find Length of a Array\n",
    "count=0\n",
    "arr=[1,2,3,4,5,6,7,8,9]\n",
    "for _ in arr:\n",
    "    count+=1\n",
    "print(count)\n"
   ]
  },
  {
   "cell_type": "code",
   "execution_count": 27,
   "id": "7874dc81",
   "metadata": {},
   "outputs": [
    {
     "name": "stdout",
     "output_type": "stream",
     "text": [
      "[2, 4, 6, 8]\n"
     ]
    }
   ],
   "source": [
    "# 11.WAP to find Array Difference\n",
    "arr=[1,2,3,4,5,6,7,8,9]\n",
    "sub=[1,3,5,7,9]\n",
    "res=[]\n",
    "i=0\n",
    "while i<len(arr):\n",
    "    if arr[i] not in sub:\n",
    "        res+=[arr[i]]\n",
    "    i+=1\n",
    "print(res)"
   ]
  },
  {
   "cell_type": "code",
   "execution_count": 29,
   "id": "8fe2a9a2",
   "metadata": {},
   "outputs": [
    {
     "name": "stdout",
     "output_type": "stream",
     "text": [
      "[1, 4, 9, 16, 25, 36, 49, 64, 81, 1, 2, 3]\n"
     ]
    }
   ],
   "source": [
    "# 12.WAP Array Multiplication Program\n",
    "arr=[1,2,3,4,5,6,7,8,9,1,2,3]\n",
    "arr1=[1,2,3,4,5,6,7,8,9]\n",
    "res=[]\n",
    "i=0\n",
    "while i<len(arr) or i<len(arr1):\n",
    "    if i<len(arr) and i<len(arr1):\n",
    "        res+=[arr[i]*arr1[i]]\n",
    "    elif i<len(arr):\n",
    "        res+=[arr[i]]\n",
    "    else:\n",
    "        res+=[arr1[i]]\n",
    "    i+=1\n",
    "print(res)"
   ]
  },
  {
   "cell_type": "code",
   "execution_count": 30,
   "id": "6169f93d",
   "metadata": {},
   "outputs": [
    {
     "name": "stdout",
     "output_type": "stream",
     "text": [
      "1\n",
      "2\n",
      "3\n",
      "4\n",
      "5\n",
      "6\n",
      "7\n",
      "8\n",
      "9\n"
     ]
    }
   ],
   "source": [
    "# 13.WAP to Print Elements in a Array\n",
    "arr=[1,2,3,4,5,6,7,8,9]\n",
    "for el in arr:\n",
    "    print(el)\n"
   ]
  },
  {
   "cell_type": "code",
   "execution_count": 31,
   "id": "9fdc94d8",
   "metadata": {},
   "outputs": [
    {
     "name": "stdout",
     "output_type": "stream",
     "text": [
      "2\n",
      "4\n",
      "6\n",
      "8\n"
     ]
    }
   ],
   "source": [
    "# 14.WAP Even Numbers in a Array\n",
    "arr=[1,2,3,4,5,6,7,8,9]\n",
    "i=0\n",
    "while i<len(arr):\n",
    "    if arr[i]%2==0:\n",
    "        print(arr[i])\n",
    "    i+=1"
   ]
  },
  {
   "cell_type": "code",
   "execution_count": 32,
   "id": "aa1355b4",
   "metadata": {},
   "outputs": [
    {
     "name": "stdout",
     "output_type": "stream",
     "text": [
      "1\n",
      "3\n",
      "5\n",
      "7\n",
      "9\n"
     ]
    }
   ],
   "source": [
    "# 15.WAP to Print Odd Array Numbers\n",
    "arr=[1,2,3,4,5,6,7,8,9]\n",
    "i=0\n",
    "while i<len(arr):\n",
    "    if arr[i]%2!=0:\n",
    "        print(arr[i])\n",
    "    i+=1\n",
    "\n"
   ]
  },
  {
   "cell_type": "code",
   "execution_count": 33,
   "id": "bb96e0b5",
   "metadata": {},
   "outputs": [
    {
     "name": "stdout",
     "output_type": "stream",
     "text": [
      "1\n",
      "2\n",
      "5\n",
      "6\n",
      "8\n",
      "9\n"
     ]
    }
   ],
   "source": [
    "# 16.WAP to Print Positive Numbers\n",
    "arr=[1,2,-3,-4,5,6,-7,8,9]\n",
    "i=0\n",
    "while i<len(arr):\n",
    "    if arr[i]>0:\n",
    "        print(arr[i])\n",
    "    i+=1"
   ]
  },
  {
   "cell_type": "code",
   "execution_count": 35,
   "id": "3225ebaf",
   "metadata": {},
   "outputs": [
    {
     "name": "stdout",
     "output_type": "stream",
     "text": [
      "-3\n",
      "-6\n",
      "-9\n"
     ]
    }
   ],
   "source": [
    "# 17.WAP to Print Negative Numbers\n",
    "arr=[1,2,-3,4,5,-6,7,8,-9]\n",
    "i=0\n",
    "while i<len(arr):\n",
    "    if arr[i]<0:\n",
    "        print(arr[i])\n",
    "    i+=1"
   ]
  },
  {
   "cell_type": "code",
   "execution_count": 37,
   "id": "d8fc0dd0",
   "metadata": {},
   "outputs": [
    {
     "name": "stdout",
     "output_type": "stream",
     "text": [
      "[2, 4, 6, 8] [1, 3, 5, 7, 9]\n"
     ]
    }
   ],
   "source": [
    "# 18.WAP to Put Even and odd Numbers in Separate Array\n",
    "even=[]\n",
    "odd=[]\n",
    "arr=[1,2,3,4,5,6,7,8,9]\n",
    "i=0\n",
    "while i<len(arr):\n",
    "    el=arr[i]\n",
    "    if el%2==0:\n",
    "        even+=[el]\n",
    "    else:\n",
    "        odd+=[el]\n",
    "    i+=1\n",
    "print(even,odd)"
   ]
  },
  {
   "cell_type": "code",
   "execution_count": 41,
   "id": "edf84efd",
   "metadata": {},
   "outputs": [
    {
     "name": "stdout",
     "output_type": "stream",
     "text": [
      "[1, 2, 3, 4, 6, 9] [-5, -7, -8]\n"
     ]
    }
   ],
   "source": [
    "# 19.WAP to Put Positive and Negative Numbers in Separate Array\n",
    "arr=[1,2,3,4,-5,6,-7,-8,9]\n",
    "pos=[]\n",
    "neg=[]\n",
    "i=0\n",
    "while i<len(arr):\n",
    "    el=arr[i]\n",
    "    if el>=0:\n",
    "        pos+=[el]\n",
    "    else:\n",
    "        neg+=[el]\n",
    "    i+=1\n",
    "print(pos,neg)"
   ]
  },
  {
   "cell_type": "code",
   "execution_count": 43,
   "id": "3203cca4",
   "metadata": {},
   "outputs": [
    {
     "name": "stdout",
     "output_type": "stream",
     "text": [
      "[1, 2, 3, 4, 5, 6, 7, 8, 9, 0]\n"
     ]
    }
   ],
   "source": [
    "# 20.WAP to Remove Duplicates from Array\n",
    "arr=[1,2,3,3,4,3,4,5,6,7,8,9,6,5,4,5,6,7,5,5,4,4,5,0,6,7,8,9]\n",
    "res=[]\n",
    "i=0\n",
    "while i<len(arr):\n",
    "    el=arr[i]\n",
    "    if el not in res:\n",
    "        res+=[el]\n",
    "    i+=1\n",
    "print(res)"
   ]
  },
  {
   "cell_type": "code",
   "execution_count": null,
   "id": "88cc3120",
   "metadata": {},
   "outputs": [
    {
     "name": "stdout",
     "output_type": "stream",
     "text": [
      "[1, 3, 5, 7, 9]\n"
     ]
    }
   ],
   "source": [
    "# 21.WAP to Remove Even Numbers in a Array\n",
    "arr=[1,2,3,4,5,6,7,8,9]\n",
    "i=0\n",
    "while i<len(arr):\n",
    "    el=arr[i]\n",
    "    if el%2==0:\n",
    "        arr.remove(el)\n",
    "    i+=1\n",
    "print(arr)"
   ]
  },
  {
   "cell_type": "code",
   "execution_count": 49,
   "id": "e7f169f7",
   "metadata": {},
   "outputs": [
    {
     "name": "stdout",
     "output_type": "stream",
     "text": [
      "[9, 8, 7, 6, 5, 4, 3, 2, 1]\n"
     ]
    }
   ],
   "source": [
    "# 22.WAP to Reverse Array Items\n",
    "arr=[1,2,3,4,5,6,7,8,9]\n",
    "\n",
    "i=0\n",
    "while i<len(arr)//2:\n",
    "    arr[i],arr[len(arr)-i-1]=arr[len(arr)-i-1],arr[i]\n",
    "    i+=1\n",
    "print(arr)"
   ]
  },
  {
   "cell_type": "code",
   "execution_count": 50,
   "id": "801b0376",
   "metadata": {},
   "outputs": [
    {
     "name": "stdout",
     "output_type": "stream",
     "text": [
      "8\n"
     ]
    }
   ],
   "source": [
    "# 23.WAP to Print Second Largest Number in a Array\n",
    "arr=[1,2,3,4,5,6,7,8,9]\n",
    "first=second=arr[0]\n",
    "for el in arr:\n",
    "    if el>first:\n",
    "        first=el\n",
    "for el in arr:\n",
    "    if el>second and el<first:\n",
    "        second=el\n",
    "print(second)"
   ]
  },
  {
   "cell_type": "code",
   "execution_count": 67,
   "id": "ef95173d",
   "metadata": {},
   "outputs": [
    {
     "name": "stdout",
     "output_type": "stream",
     "text": [
      "[0, 1, 2, 3, 4, 5, 6, 7, 7, 9]\n",
      "[0, 1, 2, 3, 4, 5, 6, 7, 7, 9]\n"
     ]
    }
   ],
   "source": [
    "# 24.WAP to Sort Elements in Ascending Order\n",
    "\n",
    "# BUBBLE SORT\n",
    "arr=[4,7,3,2,1,7,5,6,9,0]\n",
    "i=0\n",
    "while i<len(arr):\n",
    "    j=0\n",
    "    while j<len(arr)-1-i:\n",
    "        if arr[j]>arr[j+1]:\n",
    "            arr[j],arr[j+1]=arr[j+1],arr[j]\n",
    "        j+=1\n",
    "    i+=1\n",
    "print(arr)\n",
    "\n",
    "# SELECTION SORT (SWAPPING)\n",
    "arr=[4,7,3,2,1,7,5,6,9,0]\n",
    "i=0\n",
    "minEle=arr[0]\n",
    "minIndex=0\n",
    "while i<len(arr):\n",
    "    minEle=arr[i]\n",
    "    j=i\n",
    "    while j<len(arr):\n",
    "        el=arr[j]\n",
    "        if el<minEle:\n",
    "            minEle=el\n",
    "            minIndex=j\n",
    "        j+=1\n",
    "    arr[i],arr[minIndex]=minEle,arr[i]\n",
    "    i+=1 \n",
    "print(arr)"
   ]
  },
  {
   "cell_type": "code",
   "execution_count": 68,
   "id": "20489a47",
   "metadata": {},
   "outputs": [
    {
     "name": "stdout",
     "output_type": "stream",
     "text": [
      "0\n"
     ]
    }
   ],
   "source": [
    "# 25.WAP to Print Smallest Element in a Array\n",
    "arr=[4,7,3,2,1,7,5,6,9,0]\n",
    "small=arr[0]\n",
    "for el in arr:\n",
    "    if el<small:\n",
    "        small=el\n",
    "print(small)"
   ]
  },
  {
   "cell_type": "code",
   "execution_count": 69,
   "id": "0f4e8782",
   "metadata": {},
   "outputs": [
    {
     "name": "stdout",
     "output_type": "stream",
     "text": [
      "44\n"
     ]
    }
   ],
   "source": [
    "# 26.WAP to find Sum of All Elements\n",
    "arr=[4,7,3,2,1,7,5,6,9,0]\n",
    "sum=0\n",
    "i=0\n",
    "while i<len(arr):\n",
    "    sum+=arr[i]\n",
    "    i+=1\n",
    "print(sum)"
   ]
  },
  {
   "cell_type": "code",
   "execution_count": 72,
   "id": "6e294320",
   "metadata": {},
   "outputs": [
    {
     "name": "stdout",
     "output_type": "stream",
     "text": [
      "12 32\n"
     ]
    }
   ],
   "source": [
    "# 27.WAP to find Sum of Even and Odd Numbers in a Array\n",
    "even_sum=0\n",
    "odd_sum=0\n",
    "arr=[4,7,3,2,1,7,5,6,9,0]\n",
    "i=0\n",
    "while i<len(arr):\n",
    "    el=arr[i]\n",
    "    if el%2==0:\n",
    "        even_sum+=el\n",
    "    else:\n",
    "        odd_sum+=el\n",
    "    i+=1\n",
    "print(even_sum,odd_sum)"
   ]
  },
  {
   "cell_type": "markdown",
   "id": "c4d0acd9",
   "metadata": {},
   "source": [
    "ASSIGNMENT ARRAY PART-02"
   ]
  },
  {
   "cell_type": "code",
   "execution_count": 8,
   "id": "779db724",
   "metadata": {},
   "outputs": [
    {
     "name": "stdout",
     "output_type": "stream",
     "text": [
      "45\n"
     ]
    }
   ],
   "source": [
    "# 1.WAP to find the sum of all given elements in integer array\n",
    "sum=0\n",
    "arr=[1,2,3,4,5,6,7,8,9]\n",
    "for el in arr:\n",
    "    sum+=el\n",
    "print(sum)"
   ]
  },
  {
   "cell_type": "code",
   "execution_count": 9,
   "id": "9e7ae83c",
   "metadata": {},
   "outputs": [
    {
     "name": "stdout",
     "output_type": "stream",
     "text": [
      "1\n"
     ]
    }
   ],
   "source": [
    "# 2.WAP to find the minimum element from an integer array\n",
    "arr=[1,2,3,4,5,6,7,8,9]\n",
    "min=arr[0]\n",
    "for el in arr:\n",
    "    if el<min:\n",
    "        min=el\n",
    "print(min)"
   ]
  },
  {
   "cell_type": "code",
   "execution_count": 10,
   "id": "46078ca3",
   "metadata": {},
   "outputs": [
    {
     "name": "stdout",
     "output_type": "stream",
     "text": [
      "9\n"
     ]
    }
   ],
   "source": [
    "# 3.WAP to find max element from an integer array\n",
    "arr=[1,2,3,4,5,6,7,8,9]\n",
    "max=arr[0]\n",
    "for el in arr:\n",
    "    if el>max:\n",
    "        max=el\n",
    "print(max)"
   ]
  },
  {
   "cell_type": "code",
   "execution_count": 16,
   "id": "aee7ab6e",
   "metadata": {},
   "outputs": [
    {
     "name": "stdout",
     "output_type": "stream",
     "text": [
      "1\n"
     ]
    }
   ],
   "source": [
    "# 4.WAP 2nd min element from the given int array\n",
    "arr=[1,2,3,4,5,6,7,8,0,9]\n",
    "min=arr[0]\n",
    "min_2=arr[1]\n",
    "\n",
    "for el in arr:\n",
    "    if el<min:\n",
    "        min=el\n",
    "for el in arr:\n",
    "    if el<min_2 and el>min and min!=el:\n",
    "        min_2=el\n",
    "print(min_2)\n",
    "    "
   ]
  },
  {
   "cell_type": "code",
   "execution_count": null,
   "id": "a36dc1cf",
   "metadata": {},
   "outputs": [
    {
     "name": "stdout",
     "output_type": "stream",
     "text": [
      "8\n"
     ]
    }
   ],
   "source": [
    "# 5.WAP 2nd max element from the given int array.\n",
    "arr=[9,1,2,3,4,5,6,7,8]\n",
    "max=arr[0]\n",
    "max_2=arr[0]\n",
    "\n",
    "for el in arr:\n",
    "    if max<el:\n",
    "        max=el\n",
    "for el in arr:\n",
    "    if el>max_2 and el<max:\n",
    "        max_2=el\n",
    "print(max_2)"
   ]
  },
  {
   "cell_type": "code",
   "execution_count": 23,
   "id": "855a8623",
   "metadata": {},
   "outputs": [
    {
     "name": "stdout",
     "output_type": "stream",
     "text": [
      "5.0\n"
     ]
    }
   ],
   "source": [
    "# 6.WAP average value of an int array\n",
    "sum=0\n",
    "count=0\n",
    "arr=[1,2,3,4,5,6,7,8,9]\n",
    "for el in arr:\n",
    "    count+=1\n",
    "    sum+=el\n",
    "print(sum/count)    "
   ]
  },
  {
   "cell_type": "code",
   "execution_count": 1,
   "id": "edb5b8fc",
   "metadata": {},
   "outputs": [
    {
     "name": "stdout",
     "output_type": "stream",
     "text": [
      "1\n",
      "3\n",
      "5\n",
      "7\n",
      "9\n"
     ]
    }
   ],
   "source": [
    "# 7.WAP to Find out the sum of all even indexed elements from a given int array\n",
    "arr=[1,2,3,4,5,6,7,8,9]\n",
    "i=0\n",
    "while i<len(arr):\n",
    "    if i%2==0:\n",
    "        print(arr[i])\n",
    "    i+=1"
   ]
  },
  {
   "cell_type": "code",
   "execution_count": 2,
   "id": "49ca756f",
   "metadata": {},
   "outputs": [
    {
     "name": "stdout",
     "output_type": "stream",
     "text": [
      "25\n"
     ]
    }
   ],
   "source": [
    "# 8.WAP to Find out the sum of all odd indexed elements from a given int array\n",
    "sum=0\n",
    "arr=[1,2,3,4,5,6,7,8,9]\n",
    "i=0\n",
    "while i<len(arr):\n",
    "    if i%2==0:\n",
    "        sum+=arr[i]\n",
    "    i+=1\n",
    "print(sum)"
   ]
  },
  {
   "cell_type": "code",
   "execution_count": 6,
   "id": "7d6134c8",
   "metadata": {},
   "outputs": [
    {
     "name": "stdout",
     "output_type": "stream",
     "text": [
      "0\n"
     ]
    }
   ],
   "source": [
    "# 9.WAP to Find out the min value from all even indexed elements from a given int array\n",
    "arr=[1,2,3,4,5,6,7,8,9,0,0]\n",
    "min=arr[0]\n",
    "i=0\n",
    "while i<len(arr):\n",
    "    if i%2==0 and min>arr[i]:\n",
    "        min=arr[i]\n",
    "    i+=1\n",
    "print(min)"
   ]
  },
  {
   "cell_type": "code",
   "execution_count": 8,
   "id": "51feea13",
   "metadata": {},
   "outputs": [
    {
     "name": "stdout",
     "output_type": "stream",
     "text": [
      "10\n"
     ]
    }
   ],
   "source": [
    "# 10.WAP to Find out the max value from all odd indexed elements from a given int array \n",
    "arr=[1,2,3,4,5,6,7,8,9,10]\n",
    "max=arr[0]\n",
    "i=0\n",
    "while i<len(arr):\n",
    "    if i%2!=0 and max<arr[i]:\n",
    "        max=arr[i]\n",
    "    i+=1\n",
    "print(max)"
   ]
  },
  {
   "cell_type": "code",
   "execution_count": 9,
   "id": "ed66fb30",
   "metadata": {},
   "outputs": [
    {
     "name": "stdout",
     "output_type": "stream",
     "text": [
      "5.0\n"
     ]
    }
   ],
   "source": [
    "# 11.WAP to Find out the avg value from all even indexed elements from a given int array\n",
    "arr=[1,2,3,4,5,6,7,8,9]\n",
    "count=0\n",
    "sum=0\n",
    "i=0\n",
    "while i<len(arr):\n",
    "    if i%2==0:\n",
    "        sum+=arr[i]\n",
    "        count+=1\n",
    "    i+=1\n",
    "print(sum/count)"
   ]
  },
  {
   "cell_type": "code",
   "execution_count": 11,
   "id": "006ad2a7",
   "metadata": {},
   "outputs": [
    {
     "name": "stdout",
     "output_type": "stream",
     "text": [
      "5.0\n"
     ]
    }
   ],
   "source": [
    "# 12.WAP to Find out the avg value from all odd indexed elements from a given int array.\n",
    "arr=[1,2,3,4,5,6,7,8,9]\n",
    "count=0\n",
    "sum=0\n",
    "i=0\n",
    "while i<len(arr):\n",
    "    if i%2!=0:\n",
    "        sum+=arr[i]\n",
    "        count+=1\n",
    "    i+=1\n",
    "print(sum/count)"
   ]
  },
  {
   "cell_type": "code",
   "execution_count": 13,
   "id": "a8e557e1",
   "metadata": {},
   "outputs": [
    {
     "name": "stdout",
     "output_type": "stream",
     "text": [
      "10\n"
     ]
    }
   ],
   "source": [
    "# 13.WAP to Find out the sum of all elements from a first half of given int array \n",
    "arr=[1,2,3,4,5,6,7,8,9]\n",
    "sum=0\n",
    "i=0\n",
    "while i<len(arr)//2:\n",
    "    sum+=arr[i]\n",
    "    i+=1\n",
    "print(sum)"
   ]
  },
  {
   "cell_type": "code",
   "execution_count": 14,
   "id": "4e51cbab",
   "metadata": {},
   "outputs": [
    {
     "name": "stdout",
     "output_type": "stream",
     "text": [
      "35\n"
     ]
    }
   ],
   "source": [
    "# 14.WAP to Find out the sum of all elements from a second half of given int array.\n",
    "arr=[1,2,3,4,5,6,7,8,9]\n",
    "sum=0\n",
    "i=len(arr)//2\n",
    "while i<len(arr):\n",
    "    sum+=arr[i]\n",
    "    i+=1\n",
    "print(sum)"
   ]
  },
  {
   "cell_type": "code",
   "execution_count": 19,
   "id": "1d3c811f",
   "metadata": {},
   "outputs": [
    {
     "name": "stdout",
     "output_type": "stream",
     "text": [
      "1\n"
     ]
    }
   ],
   "source": [
    "# 15.WAP to Find out the min value from a first half of given int array.\n",
    "arr=[1,2,3,4,5,6,7,8,9]\n",
    "min=arr[0]\n",
    "i=0\n",
    "while i<len(arr)//2:\n",
    "    if min>arr[i]:\n",
    "        min=arr[i]\n",
    "    i+=1\n",
    "print(min)"
   ]
  },
  {
   "cell_type": "code",
   "execution_count": 17,
   "id": "6102f7e5",
   "metadata": {},
   "outputs": [
    {
     "name": "stdout",
     "output_type": "stream",
     "text": [
      "5\n"
     ]
    }
   ],
   "source": [
    "# 16.WAP to Find out the min value from a second half of given int array\n",
    "arr=[1,2,3,4,5,6,7,8,9]\n",
    "min=arr[-1]\n",
    "i=len(arr)//2\n",
    "while i<len(arr):\n",
    "    if min>arr[i]:\n",
    "        min=arr[i]\n",
    "    i+=1\n",
    "print(min)"
   ]
  },
  {
   "cell_type": "code",
   "execution_count": 20,
   "id": "595f6886",
   "metadata": {},
   "outputs": [
    {
     "name": "stdout",
     "output_type": "stream",
     "text": [
      "4\n"
     ]
    }
   ],
   "source": [
    "# 17.WAP to Find out the max value from a first half of given int array \n",
    "arr=[1,2,3,4,5,6,7,8,9]\n",
    "max=arr[0]\n",
    "i=0\n",
    "while i<len(arr)//2:\n",
    "    if max<arr[i]:\n",
    "        max=arr[i]\n",
    "    i+=1\n",
    "print(max)"
   ]
  },
  {
   "cell_type": "code",
   "execution_count": 21,
   "id": "39c07d35",
   "metadata": {},
   "outputs": [
    {
     "name": "stdout",
     "output_type": "stream",
     "text": [
      "9\n"
     ]
    }
   ],
   "source": [
    "# 18.WAP to Find out the max value from a second half of given int array\n",
    "arr=[1,2,3,4,5,6,7,8,9]\n",
    "max=arr[-1]\n",
    "i=len(arr)//2\n",
    "while i<len(arr):\n",
    "    if max<arr[i]:\n",
    "        max=arr[i]\n",
    "    i+=1\n",
    "print(max)"
   ]
  },
  {
   "cell_type": "code",
   "execution_count": 22,
   "id": "084ad04d",
   "metadata": {},
   "outputs": [
    {
     "name": "stdout",
     "output_type": "stream",
     "text": [
      "3.0\n"
     ]
    }
   ],
   "source": [
    "# 19.WAP to Find out the avg value from a first half of given int array\n",
    "arr=[1,2,3,4,5,6,7,8,9]\n",
    "count=0\n",
    "sum=0\n",
    "i=0\n",
    "while i<len(arr)//2:\n",
    "    if i%2!=0:\n",
    "        sum+=arr[i]\n",
    "        count+=1\n",
    "    i+=1\n",
    "print(sum/count)"
   ]
  },
  {
   "cell_type": "code",
   "execution_count": 23,
   "id": "6b2881f6",
   "metadata": {},
   "outputs": [
    {
     "name": "stdout",
     "output_type": "stream",
     "text": [
      "7.0\n"
     ]
    }
   ],
   "source": [
    "# 20.WAP to Find out the avg value from a second half of given int array \n",
    "arr=[1,2,3,4,5,6,7,8,9]\n",
    "count=0\n",
    "sum=0\n",
    "i=len(arr)//2\n",
    "while i<len(arr):\n",
    "    if i%2!=0:\n",
    "        sum+=arr[i]\n",
    "        count+=1\n",
    "    i+=1\n",
    "print(sum/count)"
   ]
  },
  {
   "cell_type": "code",
   "execution_count": 24,
   "id": "9508ddc2",
   "metadata": {},
   "outputs": [
    {
     "name": "stdout",
     "output_type": "stream",
     "text": [
      "9\n",
      "8\n",
      "7\n",
      "6\n",
      "5\n",
      "4\n",
      "3\n",
      "2\n",
      "1\n"
     ]
    }
   ],
   "source": [
    "# 21.WAP to Read all elements from an array in the reverse order\n",
    "arr=[1,2,3,4,5,6,7,8,9]\n",
    "i=len(arr)-1\n",
    "while i>=0:\n",
    "    print(arr[i])\n",
    "    i-=1"
   ]
  },
  {
   "cell_type": "code",
   "execution_count": 27,
   "id": "7daf0f75",
   "metadata": {},
   "outputs": [
    {
     "name": "stdout",
     "output_type": "stream",
     "text": [
      "5\n",
      "4\n",
      "3\n",
      "2\n",
      "1\n"
     ]
    }
   ],
   "source": [
    "# 22.WAP to Read first half of the elements in the reverse direction from an array\n",
    "arr=[1,2,3,4,5,6,7,8,9]\n",
    "i=len(arr)//2\n",
    "while i>=0:\n",
    "    print(arr[i])\n",
    "    i-=1"
   ]
  },
  {
   "cell_type": "code",
   "execution_count": 6,
   "id": "52da8011",
   "metadata": {},
   "outputs": [
    {
     "name": "stdout",
     "output_type": "stream",
     "text": [
      "9\n",
      "8\n",
      "7\n",
      "6\n",
      "5\n"
     ]
    }
   ],
   "source": [
    "# 23.WAP to Read second half of the elements in the reverse direction from an array\n",
    "arr=[1,2,3,4,5,6,7,8,9]\n",
    "i=len(arr)-1\n",
    "while i>=len(arr)//2:\n",
    "    print(arr[i])\n",
    "    i-=1\n"
   ]
  },
  {
   "cell_type": "code",
   "execution_count": 7,
   "id": "1d113fa3",
   "metadata": {},
   "outputs": [
    {
     "name": "stdout",
     "output_type": "stream",
     "text": [
      "1\n",
      "2\n",
      "3\n",
      "4\n",
      "5\n",
      "6\n",
      "7\n",
      "8\n",
      "9\n"
     ]
    }
   ],
   "source": [
    "# 24.WAP to Read only even indexed elements from an array \n",
    "arr=[1,2,3,4,5,6,7,8,9]\n",
    "i=0\n",
    "while i<len(arr):\n",
    "    print(arr[i])\n",
    "    i+=1\n",
    "    "
   ]
  },
  {
   "cell_type": "code",
   "execution_count": 8,
   "id": "77be08ba",
   "metadata": {},
   "outputs": [
    {
     "name": "stdout",
     "output_type": "stream",
     "text": [
      "9\n",
      "7\n",
      "5\n",
      "3\n",
      "1\n"
     ]
    }
   ],
   "source": [
    "# 25.WAP to Read only even indexed elements from an array in the reverse order\n",
    "arr=[1,2,3,4,5,6,7,8,9]\n",
    "i=len(arr)-1\n",
    "while i>=0:\n",
    "    if i%2==0:\n",
    "        print(arr[i])\n",
    "    i-=1"
   ]
  },
  {
   "cell_type": "code",
   "execution_count": 9,
   "id": "32362920",
   "metadata": {},
   "outputs": [
    {
     "name": "stdout",
     "output_type": "stream",
     "text": [
      "2\n",
      "4\n",
      "6\n",
      "8\n"
     ]
    }
   ],
   "source": [
    "# 26.WAP to Read only odd indexed elements from an array.\n",
    "arr=[1,2,3,4,5,6,7,8,9]\n",
    "i=0\n",
    "while i<len(arr):\n",
    "    if i%2!=0:\n",
    "        print(arr[i])\n",
    "    i+=1\n",
    "    "
   ]
  },
  {
   "cell_type": "code",
   "execution_count": 10,
   "id": "5cdaa776",
   "metadata": {},
   "outputs": [
    {
     "name": "stdout",
     "output_type": "stream",
     "text": [
      "8\n",
      "6\n",
      "4\n",
      "2\n"
     ]
    }
   ],
   "source": [
    "# 27.WAP to Read only odd indexed elements from an array in the reverse order \n",
    "arr=[1,2,3,4,5,6,7,8,9]\n",
    "i=len(arr)-1\n",
    "while i>=0:\n",
    "    if i%2!=0:\n",
    "        print(arr[i])\n",
    "    i-=1"
   ]
  },
  {
   "cell_type": "code",
   "execution_count": 11,
   "id": "b9b95038",
   "metadata": {},
   "outputs": [
    {
     "name": "stdout",
     "output_type": "stream",
     "text": [
      "6\n"
     ]
    }
   ],
   "source": [
    "# 28.WAP to Find out an index of a specified element from a given array.\n",
    "arr=[1,2,3,4,5,6,7,8,9]\n",
    "num=int(input(\"Enter a number\"))\n",
    "i=0\n",
    "while i<len(arr):\n",
    "    if num==arr[i]:\n",
    "        print(i)\n",
    "    i+=1"
   ]
  },
  {
   "cell_type": "code",
   "execution_count": 13,
   "id": "d921a21f",
   "metadata": {},
   "outputs": [
    {
     "name": "stdout",
     "output_type": "stream",
     "text": [
      "[2, 1, 3, 4, 5, 6, 7, 8, 9]\n"
     ]
    }
   ],
   "source": [
    "# 29.WAP to Swap two given indexed elements from the array\n",
    "arr=[1,2,3,4,5,6,7,8,9]\n",
    "index1=int(input(\"Enter a number\"))\n",
    "index2=int(input(\"Enter a number\"))\n",
    "temp=arr[index2]\n",
    "arr[index2]=arr[index1]\n",
    "arr[index1]=temp\n",
    "print(arr)\n"
   ]
  },
  {
   "cell_type": "code",
   "execution_count": 15,
   "id": "bb6a9131",
   "metadata": {},
   "outputs": [
    {
     "name": "stdout",
     "output_type": "stream",
     "text": [
      "[9, 8, 7, 6, 5, 4, 3, 2, 1]\n"
     ]
    }
   ],
   "source": [
    "# 30.WAP to Reverse the elements of given array.\n",
    "arr=[1,2,3,4,5,6,7,8,9]\n",
    "i=0\n",
    "while i<len(arr)//2:\n",
    "    arr[i],arr[len(arr)-i-1]=arr[len(arr)-i-1],arr[i]\n",
    "    i+=1\n",
    "print(arr)"
   ]
  },
  {
   "cell_type": "code",
   "execution_count": 16,
   "id": "8e478085",
   "metadata": {},
   "outputs": [
    {
     "name": "stdout",
     "output_type": "stream",
     "text": [
      "[4, 3, 2, 1, 5, 6, 7, 8, 9]\n"
     ]
    }
   ],
   "source": [
    "# 31.WAP to Reverse only first half of the elements of given array\n",
    "arr=[1,2,3,4,5,6,7,8,9]\n",
    "i=0\n",
    "while i<len(arr)//4:\n",
    "    arr[i],arr[len(arr)//2-i-1]=arr[len(arr)//2-i-1],arr[i]\n",
    "    i+=1\n",
    "print(arr)"
   ]
  },
  {
   "cell_type": "code",
   "execution_count": null,
   "id": "6c9597c4",
   "metadata": {},
   "outputs": [
    {
     "name": "stdout",
     "output_type": "stream",
     "text": [
      "[1, 2, 3, 4, 5, 6, 7, 8, 9]\n"
     ]
    }
   ],
   "source": [
    "# 32.WAP to Reverse only last half of the elements of given array \n",
    "arr=[1,2,3,4,5,6,7,8,9]\n",
    "i=len(arr)//2\n",
    "while i<len(arr)//4+len(arr)//2:\n",
    "    arr[i],arr[len(arr)//2-i-1]=arr[len(arr)//2-i-1],arr[i]\n",
    "    i+=1\n",
    "print(arr)"
   ]
  },
  {
   "cell_type": "code",
   "execution_count": 24,
   "id": "974e64c0",
   "metadata": {},
   "outputs": [
    {
     "name": "stdout",
     "output_type": "stream",
     "text": [
      "[9, 2, 7, 4, 5, 6, 3, 8, 1]\n"
     ]
    }
   ],
   "source": [
    "# 33.WAP to Reverse only even indexed of the elements of given array\n",
    "arr=[1,2,3,4,5,6,7,8,9]\n",
    "i=0\n",
    "while i<len(arr)//2:\n",
    "    if i%2==0:\n",
    "        arr[i],arr[len(arr)-i-1]=arr[len(arr)-i-1],arr[i]\n",
    "    i+=1\n",
    "print(arr)"
   ]
  },
  {
   "cell_type": "code",
   "execution_count": 25,
   "id": "e4b9fdc9",
   "metadata": {},
   "outputs": [
    {
     "name": "stdout",
     "output_type": "stream",
     "text": [
      "[1, 8, 3, 6, 5, 4, 7, 2, 9]\n"
     ]
    }
   ],
   "source": [
    "# 34.WAP to Reverse only odd indexed of the elements of given array\n",
    "arr=[1,2,3,4,5,6,7,8,9]\n",
    "i=0\n",
    "while i<len(arr)//2:\n",
    "    if i%2!=0:\n",
    "        arr[i],arr[len(arr)-i-1]=arr[len(arr)-i-1],arr[i]\n",
    "    i+=1\n",
    "print(arr)"
   ]
  },
  {
   "cell_type": "code",
   "execution_count": 26,
   "id": "b6e3bed4",
   "metadata": {},
   "outputs": [
    {
     "name": "stdout",
     "output_type": "stream",
     "text": [
      "[1, 3, 2, 5, 4, 7, 6, 9, 8]\n"
     ]
    }
   ],
   "source": [
    "# 35.WAP to Swap odd indexed elements with its immediate next even indexed elements of given array.\n",
    "arr=[1,2,3,4,5,6,7,8,9]\n",
    "i=0\n",
    "while i<len(arr):\n",
    "    if i%2!=0:\n",
    "        arr[i],arr[i+1]=arr[i+1],arr[i]\n",
    "    i+=1\n",
    "print(arr)"
   ]
  },
  {
   "cell_type": "code",
   "execution_count": 1,
   "id": "7712c0bb",
   "metadata": {},
   "outputs": [
    {
     "name": "stdout",
     "output_type": "stream",
     "text": [
      "[9, 1, 2, 3, 4, 5, 6, 7, 8]\n"
     ]
    }
   ],
   "source": [
    "# 36.WAP to Do right shift by one for elements of given array\n",
    "arr=[1,2,3,4,5,6,7,8,9]\n",
    "ele=arr[-1]\n",
    "i=len(arr)-2\n",
    "while i>=0:\n",
    "    arr[i+1]=arr[i]\n",
    "    i-=1\n",
    "arr[0]=ele\n",
    "print(arr)"
   ]
  },
  {
   "cell_type": "code",
   "execution_count": 23,
   "id": "f0f3a46e",
   "metadata": {},
   "outputs": [
    {
     "name": "stdout",
     "output_type": "stream",
     "text": [
      "[8, 9, 1, 2, 3, 4, 5, 6, 7]\n"
     ]
    }
   ],
   "source": [
    "# 37.WAP to Do right shift by two for elements of given array \n",
    "arr=[1,2,3,4,5,6,7,8,9]\n",
    "shift=0\n",
    "num=2\n",
    "while shift<num:\n",
    "    ele=arr[-1]\n",
    "    i=len(arr)-1\n",
    "    while i>=0:\n",
    "        arr[i]=arr[i-1]\n",
    "        i-=1\n",
    "    arr[0]=ele\n",
    "    shift+=1\n",
    "print(arr)"
   ]
  },
  {
   "cell_type": "code",
   "execution_count": 22,
   "id": "44cefda5",
   "metadata": {},
   "outputs": [
    {
     "name": "stdout",
     "output_type": "stream",
     "text": [
      "[7, 8, 9, 1, 2, 3, 4, 5, 6]\n"
     ]
    }
   ],
   "source": [
    "# 38.WAP to Do right shift by three for elements of given array\n",
    "arr=[1,2,3,4,5,6,7,8,9]\n",
    "shift=0\n",
    "num=3\n",
    "while shift<num:\n",
    "    el=arr[-1]\n",
    "    i=len(arr)-1\n",
    "    while i>=0:\n",
    "        arr[i]=arr[i-1]\n",
    "        i-=1\n",
    "    arr[0]=el\n",
    "    shift+=1\n",
    "print(arr)"
   ]
  },
  {
   "cell_type": "code",
   "execution_count": 9,
   "id": "617885f3",
   "metadata": {},
   "outputs": [
    {
     "name": "stdout",
     "output_type": "stream",
     "text": [
      "[2, 3, 4, 5, 6, 7, 8, 9, 0]\n"
     ]
    }
   ],
   "source": [
    "# 39.WAP to Do left shift by one for elements of given array \n",
    "arr=[1,2,3,4,5,6,7,8,9]\n",
    "# el=arr[0]\n",
    "i=1\n",
    "while i<len(arr):\n",
    "    arr[i-1]=arr[i]\n",
    "    i+=1\n",
    "arr[-1]=0\n",
    "print(arr)"
   ]
  },
  {
   "cell_type": "code",
   "execution_count": 10,
   "id": "2e3fb673",
   "metadata": {},
   "outputs": [
    {
     "name": "stdout",
     "output_type": "stream",
     "text": [
      "[3, 4, 5, 6, 7, 8, 9, 0, 0]\n"
     ]
    }
   ],
   "source": [
    "# 40.WAP to Do left shift by two for elements of given array\n",
    "arr=[1,2,3,4,5,6,7,8,9]\n",
    "shift=0\n",
    "num=2\n",
    "while shift<num:\n",
    "    i=0\n",
    "    # el=arr[0]\n",
    "    while i<len(arr)-1:\n",
    "        arr[i]=arr[i+1]\n",
    "        i+=1\n",
    "    arr[-1]=0\n",
    "    shift+=1\n",
    "print(arr)"
   ]
  },
  {
   "cell_type": "code",
   "execution_count": 11,
   "id": "17455a06",
   "metadata": {},
   "outputs": [
    {
     "name": "stdout",
     "output_type": "stream",
     "text": [
      "[6, 7, 8, 9, 0, 0, 0, 0, 0]\n"
     ]
    }
   ],
   "source": [
    "# 41.WAP to Do left shift by three for elements of given array\n",
    "arr=[1,2,3,4,5,6,7,8,9]\n",
    "num=int(input())\n",
    "shift=0\n",
    "while shift<num:\n",
    "    # el=arr[0]\n",
    "    i=0\n",
    "    while i<len(arr)-1:\n",
    "        arr[i]=arr[i+1]\n",
    "        i+=1\n",
    "    arr[-1]=0\n",
    "    shift+=1\n",
    "print(arr)"
   ]
  },
  {
   "cell_type": "code",
   "execution_count": 15,
   "id": "af718869",
   "metadata": {},
   "outputs": [
    {
     "name": "stdout",
     "output_type": "stream",
     "text": [
      "[9, 1, 2, 3, 4, 5, 6, 7, 8]\n"
     ]
    }
   ],
   "source": [
    "# 42.WAP to Do right rotate by one for elements of given array \n",
    "arr=[1,2,3,4,5,6,7,8,9]\n",
    "el=arr[-1]\n",
    "i=len(arr)-1\n",
    "while i>=0:\n",
    "    arr[i]=arr[i-1]\n",
    "    i-=1\n",
    "arr[0]=el\n",
    "print(arr)"
   ]
  },
  {
   "cell_type": "code",
   "execution_count": 16,
   "id": "e0949f56",
   "metadata": {},
   "outputs": [
    {
     "name": "stdout",
     "output_type": "stream",
     "text": [
      "[8, 9, 1, 2, 3, 4, 5, 6, 7]\n"
     ]
    }
   ],
   "source": [
    "# 43.WAP to Do right rotate by two for elements of given array\n",
    "arr=[1,2,3,4,5,6,7,8,9]\n",
    "shift=0\n",
    "num=2\n",
    "while shift<num:\n",
    "    i=len(arr)-1\n",
    "    el=arr[-1]\n",
    "    while i>=0:\n",
    "        arr[i]=arr[i-1]\n",
    "        i-=1\n",
    "    arr[0]=el\n",
    "    shift+=1\n",
    "\n",
    "print(arr)"
   ]
  },
  {
   "cell_type": "code",
   "execution_count": 18,
   "id": "fa718de8",
   "metadata": {},
   "outputs": [
    {
     "name": "stdout",
     "output_type": "stream",
     "text": [
      "[6, 7, 8, 9, 1, 2, 3, 4, 5]\n"
     ]
    }
   ],
   "source": [
    "# 44.WAP to Do right rotate by three for elements of given array \n",
    "arr=[1,2,3,4,5,6,7,8,9]\n",
    "shift=0\n",
    "num=int(input())\n",
    "while shift<num:\n",
    "    el=arr[-1]\n",
    "    i=len(arr)-1\n",
    "    while i>0:\n",
    "        arr[i]=arr[i-1]\n",
    "        i-=1\n",
    "    arr[0]=el\n",
    "    shift+=1\n",
    "print(arr)"
   ]
  },
  {
   "cell_type": "code",
   "execution_count": 19,
   "id": "7a5e93de",
   "metadata": {},
   "outputs": [
    {
     "name": "stdout",
     "output_type": "stream",
     "text": [
      "[2, 3, 4, 5, 6, 7, 8, 9, 1]\n"
     ]
    }
   ],
   "source": [
    "# 45.WAP to Do left rotate by one for elements of given array\n",
    "arr=[1,2,3,4,5,6,7,8,9]\n",
    "i=0\n",
    "el=arr[0]\n",
    "while i<len(arr)-1:\n",
    "    arr[i]=arr[i+1]\n",
    "    i+=1\n",
    "arr[-1]=el\n",
    "print(arr)\n"
   ]
  },
  {
   "cell_type": "code",
   "execution_count": 20,
   "id": "487f0f6b",
   "metadata": {},
   "outputs": [
    {
     "name": "stdout",
     "output_type": "stream",
     "text": [
      "[3, 4, 5, 6, 7, 8, 9, 1, 2]\n"
     ]
    }
   ],
   "source": [
    "# 46.WAP to Do left rotate by two for elements of given array\n",
    "arr=[1,2,3,4,5,6,7,8,9]\n",
    "shift=0\n",
    "num=2\n",
    "while shift<num:\n",
    "    i=0\n",
    "    el=arr[0]\n",
    "    while i<len(arr)-1:\n",
    "        arr[i]=arr[i+1]\n",
    "        i+=1\n",
    "    arr[-1]=el\n",
    "    shift+=1\n",
    "print(arr)\n"
   ]
  },
  {
   "cell_type": "code",
   "execution_count": 21,
   "id": "f95ed130",
   "metadata": {},
   "outputs": [
    {
     "name": "stdout",
     "output_type": "stream",
     "text": [
      "[4, 5, 6, 7, 8, 9, 1, 2, 3]\n"
     ]
    }
   ],
   "source": [
    "# 47.WAP to Do left rotate by three for elements of given array\n",
    "arr=[1,2,3,4,5,6,7,8,9]\n",
    "shift=0\n",
    "num=int(input())\n",
    "while shift<num:\n",
    "    el=arr[0]\n",
    "    i=0\n",
    "    while i<len(arr)-1:\n",
    "        arr[i]=arr[i+1]\n",
    "        i+=1\n",
    "    arr[-1]=el\n",
    "    shift+=1\n",
    "print(arr)"
   ]
  },
  {
   "cell_type": "code",
   "execution_count": null,
   "id": "08161380",
   "metadata": {},
   "outputs": [
    {
     "name": "stdout",
     "output_type": "stream",
     "text": [
      "[30, 10, 20, 40, 50, 60]\n"
     ]
    }
   ],
   "source": [
    "# 48.WAP to Rotate first half of elements by one\n",
    "arr=[10, 20, 30, 40, 50, 60][10, 20, 30, 40, 50, 60]\n",
    "i=len(arr)//2-1\n",
    "el=arr[len(arr)//2-1]\n",
    "while i>0:\n",
    "    arr[i]=arr[i-1]\n",
    "    i-=1\n",
    "arr[0]=el\n",
    "print(arr)\n"
   ]
  },
  {
   "cell_type": "code",
   "execution_count": 27,
   "id": "489e492c",
   "metadata": {},
   "outputs": [
    {
     "name": "stdout",
     "output_type": "stream",
     "text": [
      "[10, 20, 30, 60, 40, 50]\n"
     ]
    }
   ],
   "source": [
    "# 49.WAP to Rotate 2nd half of elements by one\n",
    "arr=[10, 20, 30, 40, 50, 60]\n",
    "i=len(arr)-1\n",
    "el=arr[-1]\n",
    "while i>len(arr)//2:\n",
    "    arr[i]=arr[i-1]\n",
    "    i-=1\n",
    "arr[len(arr)//2]=el\n",
    "print(arr)"
   ]
  },
  {
   "cell_type": "code",
   "execution_count": 30,
   "id": "7b1dca32",
   "metadata": {},
   "outputs": [
    {
     "name": "stdout",
     "output_type": "stream",
     "text": [
      "[20, 30, 10, 50, 60, 40]\n"
     ]
    }
   ],
   "source": [
    "# 50.WAP to Rotate first half of elements by one and 2nd half of the elements by one separately\n",
    "arr=[10, 20, 30, 40, 50, 60]\n",
    "i=0\n",
    "j=len(arr)//2\n",
    "el1=arr[0]\n",
    "el2=arr[len(arr)//2]\n",
    "while i<len(arr)//2:\n",
    "    arr[i]=arr[i+1]\n",
    "    i+=1\n",
    "while j<len(arr)-1:\n",
    "    arr[j]=arr[j+1]\n",
    "    j+=1\n",
    "arr[len(arr)//2-1]=el1\n",
    "arr[-1]=el2\n",
    "print(arr)"
   ]
  },
  {
   "cell_type": "code",
   "execution_count": 31,
   "id": "4fa217c0",
   "metadata": {},
   "outputs": [
    {
     "name": "stdout",
     "output_type": "stream",
     "text": [
      "[10, 20, 40, 50, 60]\n"
     ]
    }
   ],
   "source": [
    "# 51.WAP to Remove specified indexed element from the given array\n",
    "num=int(input(\"Enter a number\"))\n",
    "arr=[10, 20, 30, 40, 50, 60]\n",
    "i=0\n",
    "while i<len(arr):\n",
    "    if i==num:\n",
    "        arr.remove(arr[i])\n",
    "    i+=1\n",
    "print(arr)\n"
   ]
  },
  {
   "cell_type": "code",
   "execution_count": 4,
   "id": "c40a541f",
   "metadata": {},
   "outputs": [
    {
     "name": "stdout",
     "output_type": "stream",
     "text": [
      "[10, 20, 30, 40, 400, 60]\n"
     ]
    }
   ],
   "source": [
    "# 52.WAP to Update specified indexed element with a new element from the given array\n",
    "arr=[10, 20, 30, 40, 50, 60]\n",
    "index=int(input())\n",
    "ele=int(input())\n",
    "i=0\n",
    "while i<len(arr):\n",
    "    if i==index:\n",
    "        arr[index]=ele\n",
    "    i+=1\n",
    "print(arr)"
   ]
  },
  {
   "cell_type": "code",
   "execution_count": 8,
   "id": "65c2231b",
   "metadata": {},
   "outputs": [
    {
     "name": "stdout",
     "output_type": "stream",
     "text": [
      "[10, 20, 30, 40, 50, 10, 20, 30, 40, 50]\n"
     ]
    }
   ],
   "source": [
    "# 53.WAP to Remove all occurrences of specified element from the given array\n",
    "arr=[10, 20, 30, 40, 50, 60,10, 20, 30, 40, 50, 60]\n",
    "ele=60\n",
    "i=0\n",
    "while i<len(arr):\n",
    "    if arr[i]==ele:\n",
    "        arr.remove(ele)\n",
    "    i+=1\n",
    "print(arr)\n"
   ]
  },
  {
   "cell_type": "code",
   "execution_count": 20,
   "id": "5e94ac36",
   "metadata": {},
   "outputs": [
    {
     "name": "stdout",
     "output_type": "stream",
     "text": [
      "[10, 30, 50]\n"
     ]
    }
   ],
   "source": [
    "# 54.WAP to Remove all odd indexed elements from the given array\n",
    "arr = [10, 20, 30, 40, 50, 60]\n",
    "i=len(arr)-1\n",
    "while i>=0:\n",
    "    if i%2!=0:\n",
    "        del arr[i]\n",
    "    i-=1\n",
    "print(arr)\n"
   ]
  },
  {
   "cell_type": "code",
   "execution_count": 21,
   "id": "5abcc870",
   "metadata": {},
   "outputs": [
    {
     "name": "stdout",
     "output_type": "stream",
     "text": [
      "[20, 40, 60]\n"
     ]
    }
   ],
   "source": [
    "# 55.WAP to Remove all even indexed elements from the given array\n",
    "arr=[10, 20, 30, 40, 50, 60]\n",
    "i=len(arr)-1\n",
    "while i>=0:\n",
    "    if i%2==0:\n",
    "        del arr[i]\n",
    "    i-=1\n",
    "print(arr)\n"
   ]
  },
  {
   "cell_type": "code",
   "execution_count": 17,
   "id": "6f775b40",
   "metadata": {},
   "outputs": [
    {
     "name": "stdout",
     "output_type": "stream",
     "text": [
      "[10, 20, 30, 40, 50, 60, 5]\n"
     ]
    }
   ],
   "source": [
    "# 56.WAP to Remove the duplicates from the given array\n",
    "arr=[10,10, 20, 30, 40, 50, 60,10, 20, 30, 40, 50, 60,5]\n",
    "# i=0\n",
    "# end=len(arr)\n",
    "# while i<end:\n",
    "#     j=i-1\n",
    "#     while j>=0:\n",
    "#         if arr[i]==arr[j]:\n",
    "#             del arr[i]\n",
    "#             i-=1\n",
    "#         j-=1\n",
    "#     i+=1\n",
    "#     end=len(arr)\n",
    "# print(arr)\n",
    "end=len(arr)\n",
    "i=end-1\n",
    "while i>0:\n",
    "    j=i-1\n",
    "    while j>=0:\n",
    "        if arr[i]==arr[j]:\n",
    "            del arr[i]\n",
    "        j-=1\n",
    "    end=len(arr)\n",
    "    i-=1\n",
    "print(arr)"
   ]
  },
  {
   "cell_type": "code",
   "execution_count": 22,
   "id": "6060e2ed",
   "metadata": {},
   "outputs": [
    {
     "name": "stdout",
     "output_type": "stream",
     "text": [
      "[3, 4, 6, 7, 8]\n"
     ]
    }
   ],
   "source": [
    "# 57.WAP to Find out missed elements from the given array between min and max element \n",
    "arr = [2, 5, 9]\n",
    "\n",
    "minEle=arr[0]\n",
    "maxEle=arr[0]\n",
    "res=[]\n",
    "for el in arr:\n",
    "    if minEle>el:\n",
    "        minEle=el\n",
    "    if maxEle<el:\n",
    "        maxEle=el\n",
    "# print(minEle,maxEle)\n",
    "for i in range(minEle,maxEle+1):\n",
    "    if i not in arr:\n",
    "        res+=[i]\n",
    "print(res)"
   ]
  },
  {
   "cell_type": "code",
   "execution_count": 25,
   "id": "246c58cc",
   "metadata": {},
   "outputs": [
    {
     "name": "stdout",
     "output_type": "stream",
     "text": [
      "4\n",
      "6\n"
     ]
    }
   ],
   "source": [
    "# 58.WAP to Find out index of an element which contains left indexed element is same as right indexed element.\n",
    "arr = [1, 2, 3, 4, 2,4,3,4,3]\n",
    "end=len(arr)-2\n",
    "start=1\n",
    "while start<end:\n",
    "    if arr[start-1]==arr[start+1]:\n",
    "        print(start)\n",
    "    start+=1\n"
   ]
  },
  {
   "cell_type": "code",
   "execution_count": 31,
   "id": "0be9dc76",
   "metadata": {},
   "outputs": [
    {
     "name": "stdout",
     "output_type": "stream",
     "text": [
      "10\n",
      "20\n",
      "40\n"
     ]
    }
   ],
   "source": [
    "# 59.WAP to Find out the elements which are not duplicates in the given array\n",
    "arr=[10, 20, 30, 40, 50, 60,50,60,30]\n",
    "i=0\n",
    "while i<len(arr):\n",
    "    count=0\n",
    "    j=0\n",
    "    while j<len(arr):\n",
    "        if arr[i]==arr[j]:\n",
    "            count+=1\n",
    "        j+=1\n",
    "    if count==1:\n",
    "        print(arr[i])\n",
    "    i+=1"
   ]
  },
  {
   "cell_type": "code",
   "execution_count": 37,
   "id": "818d2a3b",
   "metadata": {},
   "outputs": [
    {
     "name": "stdout",
     "output_type": "stream",
     "text": [
      "2\n",
      "3\n",
      "1\n"
     ]
    }
   ],
   "source": [
    "# 60.WAP to Find out elements which are having minimum one duplicate\n",
    "arr = [2, 3, 3, 3, 2,1,11,1]\n",
    "start=0\n",
    "end=len(arr)\n",
    "res=[]\n",
    "while start<end:\n",
    "    count=0\n",
    "    i=0\n",
    "    while i<end:\n",
    "        if arr[start]==arr[i]:\n",
    "            count+=1\n",
    "        i+=1\n",
    "    if count>1 and arr[start] not in res:\n",
    "        print(arr[start])\n",
    "        res+=[arr[start]]\n",
    "    start+=1\n"
   ]
  },
  {
   "cell_type": "code",
   "execution_count": 39,
   "id": "bbdce979",
   "metadata": {},
   "outputs": [
    {
     "name": "stdout",
     "output_type": "stream",
     "text": [
      "10 2\n",
      "12 1\n",
      "11 1\n",
      "15 1\n",
      "14 1\n",
      "10 2\n",
      "20 1\n",
      "30 1\n",
      "40 1\n",
      "50 1\n",
      "60 1\n"
     ]
    }
   ],
   "source": [
    "# 61.WAP to Find out element frequency in the given array\n",
    "arr = [10, 12, 11, 15, 14,10, 20, 30, 40, 50, 60]\n",
    "start=0\n",
    "end=len(arr)\n",
    "while start<end:\n",
    "    i=0\n",
    "    count=0\n",
    "    while i<end:\n",
    "        if arr[start]==arr[i]:\n",
    "            count+=1\n",
    "        i+=1\n",
    "    print(arr[start],count)\n",
    "    start+=1\n"
   ]
  },
  {
   "cell_type": "code",
   "execution_count": 45,
   "id": "345683a2",
   "metadata": {},
   "outputs": [
    {
     "name": "stdout",
     "output_type": "stream",
     "text": [
      "[1, 2, 3, 4, 5, 6, 6, 7, 9]\n"
     ]
    }
   ],
   "source": [
    "# 62.WAP to Sorting int elements from an arrays (BUBBLE SORT). \n",
    "arr=[1,4,3,2,5,9,6,7,6]\n",
    "iter=0\n",
    "end=len(arr)-1\n",
    "while iter<end:\n",
    "    start=0\n",
    "    while start<end-iter:  #to reduce the number of iterations we use -iter by assuming the last iter characters of arr is sorted\n",
    "        if arr[start]>arr[start+1]:\n",
    "            arr[start],arr[start+1]=arr[start+1],arr[start]\n",
    "        start+=1\n",
    "    iter+=1\n",
    "print(arr)"
   ]
  },
  {
   "cell_type": "code",
   "execution_count": 1,
   "id": "1dfe5b4d",
   "metadata": {},
   "outputs": [
    {
     "name": "stdout",
     "output_type": "stream",
     "text": [
      "[1, 2, 3, 4]\n"
     ]
    }
   ],
   "source": [
    "# 63.WAP to Sorting int elements from an arrays? (SELECTION SORT).\n",
    "\n",
    "arr=[1,4,3,2]\n",
    "iter=0\n",
    "end=len(arr)\n",
    "while iter<end:\n",
    "    minEle=arr[iter]\n",
    "    minIndex=iter\n",
    "    start=iter\n",
    "    while start<end:\n",
    "        if minEle>arr[start]:\n",
    "            minEle=arr[start]\n",
    "            minIndex=start\n",
    "        start+=1\n",
    "    arr[iter],arr[minIndex]=minEle,arr[iter]\n",
    "    iter+=1\n",
    "print(arr)"
   ]
  },
  {
   "cell_type": "markdown",
   "id": "e27abd78",
   "metadata": {},
   "source": [
    "FINAL ASSIGNMENT"
   ]
  },
  {
   "cell_type": "code",
   "execution_count": 1,
   "id": "0c44fe07",
   "metadata": {},
   "outputs": [
    {
     "name": "stdout",
     "output_type": "stream",
     "text": [
      "10\n",
      "20\n",
      "30\n",
      "40\n",
      "50\n",
      "60\n"
     ]
    }
   ],
   "source": [
    "# 1.WAP to print all elements in an array.\n",
    "arr=[10, 20, 30, 40, 50, 60]\n",
    "for el in arr:\n",
    "    print(el)"
   ]
  },
  {
   "cell_type": "code",
   "execution_count": 2,
   "id": "a91ca2cc",
   "metadata": {},
   "outputs": [
    {
     "name": "stdout",
     "output_type": "stream",
     "text": [
      "6\n"
     ]
    }
   ],
   "source": [
    "# 2.WAP to count the No. of elements in an array.\n",
    "count=0\n",
    "for el in arr:\n",
    "    count+=1\n",
    "print(count)"
   ]
  },
  {
   "cell_type": "code",
   "execution_count": 4,
   "id": "80dbd629",
   "metadata": {},
   "outputs": [
    {
     "name": "stdout",
     "output_type": "stream",
     "text": [
      "60\n",
      "50\n",
      "40\n",
      "30\n",
      "20\n",
      "10\n"
     ]
    }
   ],
   "source": [
    "# 3. WAPT Print the elements of an array in reverse order.\n",
    "end=len(arr)-1\n",
    "start=0\n",
    "while end>=start:\n",
    "    print(arr[end])\n",
    "    end-=1"
   ]
  },
  {
   "cell_type": "code",
   "execution_count": 5,
   "id": "14d8b8a0",
   "metadata": {},
   "outputs": [
    {
     "name": "stdout",
     "output_type": "stream",
     "text": [
      "10\n",
      "30\n",
      "50\n"
     ]
    }
   ],
   "source": [
    "# 4. WAPT Print all elements at even indices in an array.\n",
    "i=0\n",
    "while i<len(arr):\n",
    "    if i%2==0:\n",
    "        print(arr[i])\n",
    "    i+=1"
   ]
  },
  {
   "cell_type": "code",
   "execution_count": 8,
   "id": "4a3a3469",
   "metadata": {},
   "outputs": [
    {
     "name": "stdout",
     "output_type": "stream",
     "text": [
      "210\n"
     ]
    }
   ],
   "source": [
    "# 5. WAPT Calculate the sum of all elements in an array.\n",
    "arr=[10, 20, 30, 40, 50, 60]\n",
    "sum=0\n",
    "start=0\n",
    "while start<len(arr):\n",
    "    sum+=arr[start]\n",
    "    start+=1\n",
    "print(sum)"
   ]
  },
  {
   "cell_type": "code",
   "execution_count": 10,
   "id": "1230cea1",
   "metadata": {},
   "outputs": [
    {
     "name": "stdout",
     "output_type": "stream",
     "text": [
      "10\n",
      "10\n"
     ]
    }
   ],
   "source": [
    "# 6. WAPT Print all duplicate elements in an array.\n",
    "arr=[10, 20, 30, 40, 50, 60,10]\n",
    "for el in arr:\n",
    "    count=0\n",
    "    for el1 in arr:\n",
    "        if el==el1:\n",
    "            count+=1\n",
    "    if count>1:\n",
    "        print(el)\n",
    "        "
   ]
  },
  {
   "cell_type": "code",
   "execution_count": 11,
   "id": "fd794702",
   "metadata": {},
   "outputs": [
    {
     "name": "stdout",
     "output_type": "stream",
     "text": [
      "[10, 20, 30, 40, 50, 60]\n"
     ]
    }
   ],
   "source": [
    "# 7. WAPT Sort an array without using predefined methods.\n",
    "arr=[60, 20, 40, 30, 50, 10]\n",
    "for _ in arr:\n",
    "    start=0\n",
    "    while start<len(arr)-1:\n",
    "        if arr[start]>arr[start+1]:\n",
    "            arr[start],arr[start+1]=arr[start+1],arr[start]\n",
    "        start+=1\n",
    "print(arr)"
   ]
  },
  {
   "cell_type": "code",
   "execution_count": 1,
   "id": "173da9f2",
   "metadata": {},
   "outputs": [
    {
     "name": "stdout",
     "output_type": "stream",
     "text": [
      "[12, 9, 4, 3, 8, 7, 2, 5, 6, 14, 19, 23, 32, 44]\n"
     ]
    }
   ],
   "source": [
    "# 8. WAPT Merge two arrays.\n",
    "arr=[12, 9, 4, 3, 8, 7, 2, 5]\n",
    "arr1=[6,14,19,23,32,44]\n",
    "print(arr+arr1)"
   ]
  },
  {
   "cell_type": "code",
   "execution_count": 16,
   "id": "79ada007",
   "metadata": {},
   "outputs": [
    {
     "name": "stdout",
     "output_type": "stream",
     "text": [
      "60\n"
     ]
    }
   ],
   "source": [
    "# 9. WAPT Print the largest element in a given array.\n",
    "arr=[60, 20, 40, 30, 50, 10]\n",
    "largest=arr[0]\n",
    "for el in arr:\n",
    "    if el>largest:\n",
    "        largest=el\n",
    "print(largest)"
   ]
  },
  {
   "cell_type": "code",
   "execution_count": 17,
   "id": "93b0209c",
   "metadata": {},
   "outputs": [
    {
     "name": "stdout",
     "output_type": "stream",
     "text": [
      "10\n"
     ]
    }
   ],
   "source": [
    "# 10. WAPT Print the smallest element in a given array.\n",
    "arr=[60, 20, 40, 30, 50, 10]\n",
    "smallest=arr[0]\n",
    "for el in arr:\n",
    "    if el<smallest:\n",
    "        smallest=el\n",
    "print(smallest)"
   ]
  },
  {
   "cell_type": "code",
   "execution_count": 19,
   "id": "abbd02e1",
   "metadata": {},
   "outputs": [
    {
     "name": "stdout",
     "output_type": "stream",
     "text": [
      "2 10\n",
      "3 30\n",
      "2 50\n",
      "2 70\n",
      "1 40\n",
      "3 30\n",
      "2 70\n",
      "2 50\n",
      "2 10\n",
      "3 30\n",
      "1 20\n"
     ]
    }
   ],
   "source": [
    "# 11. WAPT Find the frequency of each element in an array.\n",
    "arr=[10,30,50,70,40,30,70,50,10,30,20]\n",
    "i=0\n",
    "while i<len(arr):\n",
    "    count=0\n",
    "    j=0\n",
    "    while j<len(arr):\n",
    "        if arr[i]==arr[j]:\n",
    "            count+=1\n",
    "        j+=1\n",
    "    print(count,arr[i])\n",
    "    i+=1"
   ]
  },
  {
   "cell_type": "code",
   "execution_count": 21,
   "id": "c177e0a4",
   "metadata": {},
   "outputs": [
    {
     "name": "stdout",
     "output_type": "stream",
     "text": [
      "[10, 30, 50, 70, 40, 30, 70, 50, 10, 30, 20]\n"
     ]
    }
   ],
   "source": [
    "# 12. WAPT to copy all elements from one array to another array.\n",
    "arr1=[]\n",
    "for el in arr:\n",
    "    arr1+=[el]\n",
    "print(arr1)"
   ]
  },
  {
   "cell_type": "code",
   "execution_count": 22,
   "id": "28277759",
   "metadata": {},
   "outputs": [
    {
     "name": "stdout",
     "output_type": "stream",
     "text": [
      "200\n"
     ]
    }
   ],
   "source": [
    "# 13.WAP to Calculate the sum of all even elements in an array.\n",
    "eve_sum=0\n",
    "start=0\n",
    "while start<len(arr):\n",
    "    if start%2==0:\n",
    "        eve_sum+=arr[start]\n",
    "    start+=1\n",
    "print(eve_sum)"
   ]
  },
  {
   "cell_type": "code",
   "execution_count": 23,
   "id": "53cc77f8",
   "metadata": {},
   "outputs": [
    {
     "name": "stdout",
     "output_type": "stream",
     "text": [
      "210\n"
     ]
    }
   ],
   "source": [
    "# 14.WAP to Calculate the sum of all odd elements in an array.\n",
    "odd_sum=0\n",
    "start=0\n",
    "while start<len(arr):\n",
    "    if start%2!=0:\n",
    "        odd_sum+=arr[start]\n",
    "    start+=1\n",
    "print(odd_sum)\n"
   ]
  },
  {
   "cell_type": "code",
   "execution_count": 24,
   "id": "99a545d3",
   "metadata": {},
   "outputs": [
    {
     "name": "stdout",
     "output_type": "stream",
     "text": [
      "30\n"
     ]
    }
   ],
   "source": [
    "# 15.WAP to Calculate the sum of the first and last elements in an array.\n",
    "print(arr[0]+arr[-1])"
   ]
  },
  {
   "cell_type": "code",
   "execution_count": 26,
   "id": "84def429",
   "metadata": {},
   "outputs": [
    {
     "name": "stdout",
     "output_type": "stream",
     "text": [
      "50\n"
     ]
    }
   ],
   "source": [
    "# 16.WAP to Calculate the sum of the last two elements in an array.\n",
    "print(arr[-1]+arr[-2])"
   ]
  },
  {
   "cell_type": "code",
   "execution_count": 29,
   "id": "1f78afbd",
   "metadata": {},
   "outputs": [
    {
     "name": "stdout",
     "output_type": "stream",
     "text": [
      "18\n"
     ]
    }
   ],
   "source": [
    "# 17.WAP to Calculate the sum of all prime numbers in a given array.\n",
    "prime_sum=0\n",
    "arr=[1,2,3,4,5,6,7,8,9]\n",
    "i=0\n",
    "while i<len(arr):\n",
    "    el=arr[i]\n",
    "    count=0\n",
    "    for j in range(2,el):\n",
    "        if el%j==0:\n",
    "            count+=1\n",
    "    if count==0:\n",
    "        prime_sum+=el\n",
    "    i+=1\n",
    "print(prime_sum)"
   ]
  },
  {
   "cell_type": "code",
   "execution_count": 32,
   "id": "b73e52f7",
   "metadata": {},
   "outputs": [
    {
     "name": "stdout",
     "output_type": "stream",
     "text": [
      "[1, 2, 3, 4, 5, 6, 7, 8, 9]\n",
      "362880\n"
     ]
    }
   ],
   "source": [
    "# 18.WAP to Calculate the multiplication of all elements in an array.\n",
    "prod=1\n",
    "print(arr)\n",
    "for el in arr:\n",
    "    prod*=el\n",
    "print(prod)"
   ]
  },
  {
   "cell_type": "code",
   "execution_count": 33,
   "id": "1a9e3d21",
   "metadata": {},
   "outputs": [
    {
     "name": "stdout",
     "output_type": "stream",
     "text": [
      "[1, 2, 3, 4, 5, 6, 7, 8, 9]\n",
      "945\n"
     ]
    }
   ],
   "source": [
    "# 19.WAP to Calculate the multiplication of all even elements in an array.\n",
    "even_prod=1\n",
    "print(arr)\n",
    "start=0\n",
    "while start<len(arr):\n",
    "    if start%2==0:\n",
    "        even_prod*=arr[start]\n",
    "    start+=1\n",
    "print(even_prod)\n"
   ]
  },
  {
   "cell_type": "code",
   "execution_count": 39,
   "id": "da93f405",
   "metadata": {},
   "outputs": [
    {
     "name": "stdout",
     "output_type": "stream",
     "text": [
      "[1, 2, 3, 4, 5, 6, 7, 8, 9]\n",
      "210\n"
     ]
    }
   ],
   "source": [
    "# 20.WAP to Calculate the multiplication of all prime numbers in a given array.\n",
    "even_prime_prod=1\n",
    "print(arr)\n",
    "i=0\n",
    "while i<len(arr):\n",
    "    el=arr[i]\n",
    "    count=0\n",
    "    start=1\n",
    "    while start<=el:\n",
    "        if el%start==0:\n",
    "            count+=1\n",
    "        start+=1\n",
    "    if count==2:\n",
    "        even_prime_prod*=el\n",
    "    i+=1\n",
    "print(even_prime_prod)"
   ]
  },
  {
   "cell_type": "code",
   "execution_count": 40,
   "id": "a5b5df33",
   "metadata": {},
   "outputs": [
    {
     "name": "stdout",
     "output_type": "stream",
     "text": [
      "[1, 2, 3, 4, 5, 6, 7, 8, 9]\n",
      "5.0\n"
     ]
    }
   ],
   "source": [
    "# 21.WAP to Calculate the average value of all elements in a given array.\n",
    "sum=0\n",
    "count=0\n",
    "print(arr)\n",
    "for el in arr:\n",
    "    sum+=el\n",
    "    count+=1\n",
    "print(sum/count)"
   ]
  },
  {
   "cell_type": "code",
   "execution_count": 44,
   "id": "4e469af7",
   "metadata": {},
   "outputs": [
    {
     "name": "stdout",
     "output_type": "stream",
     "text": [
      "odd\n"
     ]
    }
   ],
   "source": [
    "# 22.WAP to Check if the multiplication of the last two elements in an array is even.\n",
    "arr=[1,2,3,4,5,6,7,3,3]\n",
    "res=arr[-1]*arr[-2]\n",
    "if res%2==0:\n",
    "    print('Even')\n",
    "else:\n",
    "    print(\"odd\")"
   ]
  },
  {
   "cell_type": "code",
   "execution_count": 46,
   "id": "8965d97f",
   "metadata": {},
   "outputs": [
    {
     "name": "stdout",
     "output_type": "stream",
     "text": [
      "1 1\n",
      "1 2\n",
      "3 3\n",
      "1 4\n",
      "1 5\n",
      "1 6\n",
      "1 7\n",
      "3 3\n",
      "3 3\n"
     ]
    }
   ],
   "source": [
    "# 23.WAP to find the frequency of each element in an array\n",
    "first=0\n",
    "while first<len(arr):\n",
    "    el=arr[first]\n",
    "    count=0\n",
    "    second=0\n",
    "    while second<len(arr):\n",
    "        el1=arr[second]\n",
    "        if el==el1:\n",
    "            count+=1\n",
    "        second+=1\n",
    "    print(count,el)\n",
    "    first+=1"
   ]
  },
  {
   "cell_type": "code",
   "execution_count": 48,
   "id": "5ad7e4bf",
   "metadata": {},
   "outputs": [
    {
     "name": "stdout",
     "output_type": "stream",
     "text": [
      "3\n"
     ]
    }
   ],
   "source": [
    "# 24.WAP to Remove the most repeated elements from an array.\n",
    "most_repeated=arr[0]\n",
    "max_count=0\n",
    "first=0\n",
    "while first<len(arr):\n",
    "    el=arr[first]\n",
    "    count=0\n",
    "    second=0\n",
    "    while second<len(arr):\n",
    "        el1=arr[second]\n",
    "        if el==el1:\n",
    "            count+=1\n",
    "        second+=1\n",
    "    if count>max_count:\n",
    "        most_repeated=el\n",
    "        max_count=count\n",
    "    first+=1\n",
    "print(most_repeated)"
   ]
  },
  {
   "cell_type": "code",
   "execution_count": 50,
   "id": "62eeecc0",
   "metadata": {},
   "outputs": [
    {
     "name": "stdout",
     "output_type": "stream",
     "text": [
      "2\n"
     ]
    }
   ],
   "source": [
    "# 25.WAP to Remove the most repeated even elements from an array.\n",
    "most_repeated=arr[0]\n",
    "max_count=0\n",
    "start=0\n",
    "while start<len(arr):\n",
    "    el=arr[start]\n",
    "    second=0\n",
    "    count=0\n",
    "    while second<len(arr):\n",
    "        el1=arr[second]\n",
    "        if el==el1:\n",
    "            count+=1\n",
    "        second+=1\n",
    "    if count>max_count and el%2==0:\n",
    "        max_count=count\n",
    "        most_repeated=el\n",
    "    start+=1\n",
    "print(most_repeated)"
   ]
  },
  {
   "cell_type": "code",
   "execution_count": null,
   "id": "9b52bdd6",
   "metadata": {},
   "outputs": [
    {
     "name": "stdout",
     "output_type": "stream",
     "text": [
      "[10, 20, 30, 40, 50, 60]\n"
     ]
    }
   ],
   "source": [
    "# 26.WAP to remove duplicates from a sorted array.\n",
    "arr=[10,10,20,20,20,30,30,30,30,30,40,40,50,50,50,50,60]\n",
    "i=0\n",
    "while i<len(arr)-1:\n",
    "    el=arr[i]\n",
    "    el1=arr[i+1]\n",
    "    if el==el1:\n",
    "        del arr[i]\n",
    "    else:\n",
    "        i+=1\n",
    "# if arr[-1]==arr[-2]:  #IN STORING TO ANOTHER VARIABLE, WE NEED TO TAKE SPECIAL CARE FOR LAST ELEMENT\n",
    "#     del arr[-1]\n",
    "print(arr)"
   ]
  },
  {
   "cell_type": "code",
   "execution_count": 15,
   "id": "4c226a2e",
   "metadata": {},
   "outputs": [
    {
     "name": "stdout",
     "output_type": "stream",
     "text": [
      "[4]\n"
     ]
    }
   ],
   "source": [
    "# 27.WAP to Print duplicate elements at even indices in an array.\n",
    "eve_count=0\n",
    "arr = [4, 5, 3, 4, 5, 3, 4, 8, 7, 4]\n",
    "\n",
    "# i=0\n",
    "# while i<len(arr):\n",
    "#     count=0\n",
    "#     if i%2==0:\n",
    "#         el1=arr[i]\n",
    "#         j=0\n",
    "#         while j<len(arr):\n",
    "#             el2=arr[j]\n",
    "#             if j%2==0:\n",
    "#                 if el1==el2:\n",
    "#                     count+=1\n",
    "#             j+=1\n",
    "#     if count>1:\n",
    "#         print(el1)\n",
    "#     i+=1\n",
    "\n",
    "dup=[]\n",
    "res=[]\n",
    "i=0\n",
    "while i<len(arr):\n",
    "    if i%2==0:\n",
    "        el=arr[i]\n",
    "        if el not in res:\n",
    "            res+=[el]\n",
    "        elif el not in dup:\n",
    "            dup+=[el]\n",
    "    i+=1\n",
    "print(dup)"
   ]
  },
  {
   "cell_type": "code",
   "execution_count": 22,
   "id": "99f273cb",
   "metadata": {},
   "outputs": [
    {
     "name": "stdout",
     "output_type": "stream",
     "text": [
      "2\n",
      "5\n",
      "7\n"
     ]
    }
   ],
   "source": [
    "# 28.WAP to Merge two arrays and find duplicate elements in the merged array.\n",
    "arr=[2, 5, 7, 9, 5]\n",
    "arr1= [4, 5, 2, 12, 7]\n",
    "\n",
    "uniq=[]\n",
    "arr2=arr+arr1\n",
    "for el in arr2:\n",
    "    if el not in uniq:\n",
    "        uniq+=[el]\n",
    "for el in uniq:\n",
    "    count=0\n",
    "    for el1 in arr2:\n",
    "        if el==el1:\n",
    "            count+=1\n",
    "    if count>1:\n",
    "        print(el)\n",
    "\n"
   ]
  },
  {
   "cell_type": "code",
   "execution_count": 26,
   "id": "86c6f70e",
   "metadata": {},
   "outputs": [
    {
     "name": "stdout",
     "output_type": "stream",
     "text": [
      "12\n"
     ]
    }
   ],
   "source": [
    "# 29.WAP to Calculate the sum of duplicate elements in a given array.\n",
    "arr = [4, 5, 3, 4, 5, 3, 4, 8, 7, 4]\n",
    "uniq=[]\n",
    "sum=0\n",
    "for el in arr:\n",
    "    if el not in uniq:\n",
    "        uniq+=[el]\n",
    "for el in uniq:\n",
    "    count=0\n",
    "    for el1 in arr:\n",
    "        if el==el1:\n",
    "            count+=1\n",
    "    if count>1:\n",
    "        sum+=el\n",
    "print(sum)"
   ]
  },
  {
   "cell_type": "code",
   "execution_count": null,
   "id": "41b8fc1c",
   "metadata": {},
   "outputs": [],
   "source": [
    "# 30.WAP to Calculate the sum of duplicate elements in a given array.\n"
   ]
  },
  {
   "cell_type": "code",
   "execution_count": 32,
   "id": "e7dc4442",
   "metadata": {},
   "outputs": [
    {
     "name": "stdout",
     "output_type": "stream",
     "text": [
      "[2, 9, 4, 3, 8, 7, 12, 5]\n"
     ]
    }
   ],
   "source": [
    "# 31.WAP to Sort only the even elements in a given array.\n",
    "arr=[12, 9, 4, 3, 8, 7, 2, 5]\n",
    "even_array=[]\n",
    "i=0\n",
    "# print(arr)\n",
    "while i<len(arr):\n",
    "    if i%2==0:\n",
    "        even_array+=[arr[i]]\n",
    "    i+=1\n",
    "# print(even_array)\n",
    "iter=0\n",
    "while iter<len(even_array):\n",
    "    sor=0\n",
    "    while sor<len(even_array)-1-iter:\n",
    "        if even_array[sor]>even_array[sor+1]:\n",
    "            even_array[sor],even_array[sor+1]=even_array[sor+1],even_array[sor]\n",
    "        sor+=1\n",
    "    iter+=1\n",
    "# print(even_array)\n",
    "i=0\n",
    "j=0\n",
    "while i<len(arr):\n",
    "    if i%2==0:\n",
    "        arr[i]=even_array[j]\n",
    "        j+=1\n",
    "    i+=1\n",
    "print(arr)"
   ]
  },
  {
   "cell_type": "code",
   "execution_count": null,
   "id": "448744bd",
   "metadata": {},
   "outputs": [
    {
     "name": "stdout",
     "output_type": "stream",
     "text": [
      "[11, 7, 3, 5]\n",
      "[3, 5, 7, 11]\n",
      "[3, 4, 5, 8, 7, 10, 11]\n"
     ]
    }
   ],
   "source": [
    "# 32.WAP to Sort only the prime elements in a given array.\n",
    "arr=[11, 4, 7, 8, 3, 10 ,5]\n",
    "prime_array=[]\n",
    "i=0\n",
    "while i<len(arr):\n",
    "    el=arr[i]\n",
    "    start=1\n",
    "    count=0\n",
    "    while start<=el:\n",
    "        if el%start==0:\n",
    "            count+=1\n",
    "        start+=1\n",
    "    if count==2:\n",
    "        prime_array+=[el]\n",
    "    i+=1\n",
    "# print(prime_array)\n",
    "\n",
    "# SORT\n",
    "i=0\n",
    "while i<len(prime_array):\n",
    "    j=0\n",
    "    while j<len(prime_array)-1-i:\n",
    "        if prime_array[j]>prime_array[j+1]:\n",
    "            prime_array[j],prime_array[j+1]=prime_array[j+1],prime_array[j]\n",
    "        j+=1\n",
    "    i+=1\n",
    "# print(prime_array)\n",
    "\n",
    "# REPLACE SORTED ARRAY IN PLACES OF PRIME NUMBERS\n",
    "i=0\n",
    "z=0\n",
    "while i<len(arr):\n",
    "    num=arr[i]\n",
    "    j=1\n",
    "    count=0\n",
    "    while j<=num:\n",
    "        if num%j==0:\n",
    "            count+=1\n",
    "        j+=1\n",
    "    if count==2:\n",
    "        arr[i]=prime_array[z]\n",
    "        z+=1\n",
    "    i+=1\n",
    "print(arr)\n",
    "    "
   ]
  },
  {
   "cell_type": "code",
   "execution_count": 64,
   "id": "6608269d",
   "metadata": {},
   "outputs": [
    {
     "name": "stdout",
     "output_type": "stream",
     "text": [
      "[2, 3, 3, 3, 4, 4, 4, 4, 4, 5, 5, 5, 7, 7, 8, 8, 9, 12]\n"
     ]
    }
   ],
   "source": [
    "# 33.WAP to Merge two arrays and sort the merged elements.\n",
    "arr=[12, 9, 4, 3, 8, 7, 2, 5]\n",
    "arr1 = [4, 5, 3, 4, 5, 3, 4, 8, 7, 4]\n",
    "arr2=arr+arr1\n",
    "for _ in arr2:\n",
    "    i=0\n",
    "    while i<len(arr2)-1:\n",
    "        if arr2[i]>arr2[i+1]:\n",
    "            arr2[i],arr2[i+1]=arr2[i+1],arr2[i]\n",
    "        i+=1\n",
    "print(arr2)\n"
   ]
  },
  {
   "cell_type": "code",
   "execution_count": null,
   "id": "12ace0c5",
   "metadata": {},
   "outputs": [
    {
     "name": "stdout",
     "output_type": "stream",
     "text": [
      "[9, 12, 4, 3, 8, 7, 7, 9]\n"
     ]
    }
   ],
   "source": [
    "# 34.WAP to Sort only the first two and last two elements in a given array.\n",
    "arr=[12, 9, 4, 3, 8, 7, 9, 7]\n",
    "if arr[0]>arr[1]:\n",
    "    arr[0],arr[1]=arr[1],arr[0]\n",
    "if arr[-2]>arr[-1]:\n",
    "    arr[-2],arr[-1]=arr[-1],arr[-2]\n",
    "print(arr)"
   ]
  },
  {
   "cell_type": "code",
   "execution_count": 72,
   "id": "c88f355b",
   "metadata": {},
   "outputs": [
    {
     "name": "stdout",
     "output_type": "stream",
     "text": [
      "[12, 9, 8, 7, 5, 4, 3, 2]\n",
      "9\n"
     ]
    }
   ],
   "source": [
    "# 35.WAP to Print the second largest element in an array.\n",
    "arr=[12, 9, 4, 3, 8, 7, 2, 5]\n",
    "i=0\n",
    "while i<len(arr):\n",
    "    j=0\n",
    "    while j<len(arr)-i-1:\n",
    "        if arr[j]<arr[j+1]:\n",
    "            arr[j],arr[j+1]=arr[j+1],arr[j]\n",
    "        j+=1\n",
    "    i+=1\n",
    "print(arr)\n",
    "print(arr[1])"
   ]
  },
  {
   "cell_type": "code",
   "execution_count": 74,
   "id": "c1fe3823",
   "metadata": {},
   "outputs": [
    {
     "name": "stdout",
     "output_type": "stream",
     "text": [
      "3\n"
     ]
    }
   ],
   "source": [
    "# 36.WAP to Print the second smallest element in an array.\n",
    "arr=[12, 9, 4, 3, 8, 7, 2, 5]\n",
    "i=0\n",
    "while i<len(arr):\n",
    "    j=0\n",
    "    while j<len(arr)-1-i:\n",
    "        if arr[j]>arr[j+1]:\n",
    "            arr[j],arr[j+1]=arr[j+1],arr[j]\n",
    "        j+=1\n",
    "    i+=1\n",
    "print(arr[1])"
   ]
  },
  {
   "cell_type": "code",
   "execution_count": 79,
   "id": "545b2ad9",
   "metadata": {},
   "outputs": [
    {
     "name": "stdout",
     "output_type": "stream",
     "text": [
      "9\n",
      "[2, 3, 4, 5, 7, 8, 9, 12]\n"
     ]
    }
   ],
   "source": [
    "# 37.WAP to Print the nth largest element in a given array.\n",
    "arr=[12, 9, 4, 3, 8, 7, 2, 5]\n",
    "num=int(input())\n",
    "i=0\n",
    "while i<len(arr):\n",
    "    j=0\n",
    "    while j<len(arr)-1-i:\n",
    "        if arr[j]>arr[j+1]:\n",
    "            arr[j],arr[j+1]=arr[j+1],arr[j]\n",
    "        j+=1\n",
    "    i+=1\n",
    "print(arr[-num])\n",
    "print(arr)"
   ]
  },
  {
   "cell_type": "code",
   "execution_count": 84,
   "id": "931f303f",
   "metadata": {},
   "outputs": [
    {
     "name": "stdout",
     "output_type": "stream",
     "text": [
      "Sorry the element is out of range.\n"
     ]
    }
   ],
   "source": [
    "# 38.WAP to Print the nth smallest element in a given array.\n",
    "arr=[12, 9, 4, 3, 8, 7, 2, 5]\n",
    "num=int(input())\n",
    "i=0\n",
    "while i<len(arr):\n",
    "    j=0\n",
    "    while j<len(arr)-i-1:\n",
    "        if arr[j]<arr[j+1]:\n",
    "            arr[j],arr[j+1]=arr[j+1],arr[j]\n",
    "        j+=1\n",
    "    i+=1\n",
    "try:\n",
    "    print(arr[-num])\n",
    "    print(arr)\n",
    "except IndexError as e:\n",
    "    print(\"Sorry the element is out of range.\")"
   ]
  },
  {
   "cell_type": "code",
   "execution_count": 86,
   "id": "7b4ebb45",
   "metadata": {},
   "outputs": [
    {
     "name": "stdout",
     "output_type": "stream",
     "text": [
      "8\n"
     ]
    }
   ],
   "source": [
    "# 39.WAP to Print the largest even element in a given array.\n",
    "arr = [4, 5, 3, 4, 5, 3, 4, 8, 7, 4]\n",
    "\n",
    "largest_even=arr[0]\n",
    "i=0\n",
    "while i<len(arr):\n",
    "    el=arr[i]\n",
    "    if el%2==0 and largest_even<el:\n",
    "        largest_even=el\n",
    "    i+=1\n",
    "print(largest_even)"
   ]
  },
  {
   "cell_type": "code",
   "execution_count": 89,
   "id": "d5c7c0eb",
   "metadata": {},
   "outputs": [
    {
     "name": "stdout",
     "output_type": "stream",
     "text": [
      "1\n"
     ]
    }
   ],
   "source": [
    "# 40.WAP to Print the smallest odd element in a given array.\n",
    "arr = [4, 5, 3, 4, 5, 3, 4, 8,1, 7,0, 4]\n",
    "smallest_odd=arr[0]\n",
    "i=0\n",
    "while i<len(arr):\n",
    "    el=arr[i]\n",
    "    if el%2!=0 and smallest_odd>el:\n",
    "        smallest_odd=el\n",
    "    i+=1\n",
    "print(smallest_odd)"
   ]
  },
  {
   "cell_type": "code",
   "execution_count": 96,
   "id": "ac70f6be",
   "metadata": {},
   "outputs": [
    {
     "name": "stdout",
     "output_type": "stream",
     "text": [
      "11\n"
     ]
    }
   ],
   "source": [
    "# 41.WAP to Print the largest prime number in a given array.\n",
    "arr=[12, 9, 4, 3, 8, 7, 2,11, 5]\n",
    "i=0\n",
    "largest_prime=0\n",
    "while i<len(arr):\n",
    "    num=arr[i]\n",
    "    j=1\n",
    "    count=0\n",
    "    while j<=num:\n",
    "        if num%j==0:\n",
    "            count+=1\n",
    "        j+=1\n",
    "    if count==2 and largest_prime<num:\n",
    "        largest_prime=num\n",
    "    i+=1\n",
    "print(largest_prime)"
   ]
  },
  {
   "cell_type": "code",
   "execution_count": 101,
   "id": "9fd6de84",
   "metadata": {},
   "outputs": [
    {
     "name": "stdout",
     "output_type": "stream",
     "text": [
      "15\n"
     ]
    }
   ],
   "source": [
    "# 42.WAP to Calculate the sum of the largest and smallest elements in an array.\n",
    "arr=[13,12, 9, 4, 3, 8, 7, 2, 5]\n",
    "largest=arr[0]\n",
    "smallest=arr[0]\n",
    "i=0\n",
    "while i<len(arr):\n",
    "    el=arr[i]\n",
    "    if largest<el:\n",
    "        largest=el\n",
    "    if smallest>el:\n",
    "        smallest=el\n",
    "    i+=1\n",
    "print(largest+smallest)"
   ]
  },
  {
   "cell_type": "code",
   "execution_count": 4,
   "id": "47e0f1f1",
   "metadata": {},
   "outputs": [
    {
     "name": "stdout",
     "output_type": "stream",
     "text": [
      "12\n"
     ]
    }
   ],
   "source": [
    "# 43.WAP to Calculate the multiplication of the largest and smallest elements in an array.\n",
    "arr=[12, 9, 4, 3, 8, 7, 2, 5,1]\n",
    "largest=arr[0]\n",
    "smallest=arr[0]\n",
    "i=0\n",
    "while i<len(arr):\n",
    "    num=arr[i]\n",
    "    if num>largest:\n",
    "        largest=num\n",
    "    if num<smallest:\n",
    "        smallest=num\n",
    "    i+=1\n",
    "print(smallest*largest)"
   ]
  },
  {
   "cell_type": "code",
   "execution_count": 7,
   "id": "31e7cc81",
   "metadata": {},
   "outputs": [
    {
     "name": "stdout",
     "output_type": "stream",
     "text": [
      "6.0\n"
     ]
    }
   ],
   "source": [
    "# 44.WAP to Calculate the average of the largest and smallest elements in an array.\n",
    "arr=[12, 9, 4, 3, 8, 7, 2, 5,0]\n",
    "largest=arr[0]\n",
    "smallest=arr[0]\n",
    "i=0\n",
    "while i<len(arr):\n",
    "    num=arr[i]\n",
    "    if num>largest:\n",
    "        largest=num\n",
    "    if num<smallest:\n",
    "        smallest=num\n",
    "    i+=1\n",
    "sum=largest+smallest\n",
    "print(sum/2)\n"
   ]
  },
  {
   "cell_type": "code",
   "execution_count": 8,
   "id": "f565e238",
   "metadata": {},
   "outputs": [
    {
     "name": "stdout",
     "output_type": "stream",
     "text": [
      "10\n"
     ]
    }
   ],
   "source": [
    "# 45.WAP to Calculate the difference between the largest and smallest elements in an array.\n",
    "arr=[12, 9, 4, 3, 8, 7, 2, 5]\n",
    "largest=arr[0]\n",
    "smallest=arr[0]\n",
    "i=0\n",
    "while i<len(arr):\n",
    "    num=arr[i]\n",
    "    if num>largest:\n",
    "        largest=num\n",
    "    if num<smallest:\n",
    "        smallest=num\n",
    "    i+=1\n",
    "print(largest-smallest)"
   ]
  },
  {
   "cell_type": "code",
   "execution_count": 10,
   "id": "d5d8203f",
   "metadata": {},
   "outputs": [
    {
     "name": "stdout",
     "output_type": "stream",
     "text": [
      "[44, 32, 14, 6, 2, 8, 4, 12]\n"
     ]
    }
   ],
   "source": [
    "# 46.WAP to Merge only the even elements from two arrays into a single array and print it in reverse order.\n",
    "arr=[12, 9, 4, 3, 8, 7, 2, 5]\n",
    "arr1=[6,14,19,23,32,44]\n",
    "res=[]\n",
    "i=0\n",
    "while i<len(arr):\n",
    "    num=arr[i]\n",
    "    if num%2==0:\n",
    "        res+=[num]\n",
    "    i+=1\n",
    "i=0\n",
    "while i<len(arr1):\n",
    "    num=arr1[i]\n",
    "    if num%2==0:\n",
    "        res+=[num]\n",
    "    i+=1\n",
    "print(res[::-1])"
   ]
  },
  {
   "cell_type": "code",
   "execution_count": 14,
   "id": "3e91ec4a",
   "metadata": {},
   "outputs": [
    {
     "name": "stdout",
     "output_type": "stream",
     "text": [
      "2\n",
      "4\n",
      "8\n",
      "12\n",
      "6\n",
      "14\n",
      "32\n",
      "44\n"
     ]
    }
   ],
   "source": [
    "# 47.WAP to Sort two arrays in ascending order, merge them, and print only the even numbers.\n",
    "arr=[12, 9, 4, 3, 8, 7, 2, 5]\n",
    "arr1=[6,14,19,23,32,44]\n",
    "\n",
    "def bubble_sort(arr):\n",
    "    i=0\n",
    "    while i<len(arr):\n",
    "        j=0\n",
    "        while j<len(arr)-i-1:\n",
    "            if arr[j]>arr[j+1]:\n",
    "                arr[j],arr[j+1]=arr[j+1],arr[j]\n",
    "            j+=1\n",
    "        i+=1\n",
    "    return arr\n",
    "\n",
    "arr=bubble_sort(arr)\n",
    "arr1=bubble_sort(arr1)\n",
    "res=arr+arr1\n",
    "for num in res:\n",
    "    if num%2==0:\n",
    "        print(num)\n"
   ]
  },
  {
   "cell_type": "code",
   "execution_count": 21,
   "id": "25b0b47e",
   "metadata": {},
   "outputs": [
    {
     "name": "stdout",
     "output_type": "stream",
     "text": [
      "[2, 3, 5, 7, 19, 23, 67]\n"
     ]
    }
   ],
   "source": [
    "# 48.WAP to Sort the prime numbers from two arrays and merge them into a single array.\n",
    "arr=[12, 9, 4, 3, 8, 7, 2, 5]\n",
    "arr1=[6,14,19,23,32,44,67]\n",
    "res=[]\n",
    "def fetch_prime(arr):\n",
    "    prime_array=[]\n",
    "    for el in arr:\n",
    "        i=1\n",
    "        count=0\n",
    "        while i<=el:\n",
    "            if el%i==0:\n",
    "                count+=1\n",
    "            i+=1\n",
    "        if count==2:\n",
    "            prime_array+=[el]\n",
    "    return prime_array\n",
    "prime_array_1=fetch_prime(arr)\n",
    "prime_array_2=fetch_prime(arr1)\n",
    "res=prime_array_1+prime_array_2\n",
    "print(bubble_sort(res))"
   ]
  },
  {
   "cell_type": "code",
   "execution_count": 23,
   "id": "645fde9b",
   "metadata": {},
   "outputs": [
    {
     "name": "stdout",
     "output_type": "stream",
     "text": [
      "[2, 12, 6, 44]\n"
     ]
    }
   ],
   "source": [
    "# 49.WAP to Merge the largest and smallest elements from two arrays into a single array.\n",
    "arr=[12, 9, 4, 3, 8, 7, 2, 5]\n",
    "arr1=[6,14,19,23,32,44]\n",
    "\n",
    "def sl(arr):\n",
    "    largest=arr[0]\n",
    "    smallest=arr[0]\n",
    "    for num in arr:\n",
    "        if num>largest:\n",
    "            largest=num\n",
    "        if num<smallest:\n",
    "            smallest=num\n",
    "    return [smallest,largest]\n",
    "\n",
    "res=sl(arr)+sl(arr1)\n",
    "print(res)\n"
   ]
  },
  {
   "cell_type": "code",
   "execution_count": 24,
   "id": "fb31d003",
   "metadata": {},
   "outputs": [
    {
     "name": "stdout",
     "output_type": "stream",
     "text": [
      "3\n",
      "7\n",
      "2\n",
      "5\n"
     ]
    }
   ],
   "source": [
    "# 50.WAP to Print all prime numbers in an array.\n",
    "arr=[12, 9, 4, 3, 8, 7, 2, 5]\n",
    "i=0\n",
    "while i<len(arr):\n",
    "    num=arr[i]\n",
    "    j=1\n",
    "    count=0\n",
    "    while j<=num:\n",
    "        if num%j==0:\n",
    "            count+=1\n",
    "        j+=1\n",
    "    if count==2:\n",
    "        print(num)\n",
    "    i+=1"
   ]
  },
  {
   "cell_type": "code",
   "execution_count": 31,
   "id": "1b234aa1",
   "metadata": {},
   "outputs": [
    {
     "name": "stdout",
     "output_type": "stream",
     "text": [
      "14\n"
     ]
    }
   ],
   "source": [
    "# 51.WAP to Calculate the sum of the last four even numbers in an array.\n",
    "arr=[12, 9, 2,4, 3, 8, 7, 2, 5,0]\n",
    "i=-1\n",
    "sum=0\n",
    "count=0\n",
    "while i>=-len(arr) and count<4:\n",
    "    num=arr[i]\n",
    "    if num%2==0:\n",
    "        sum+=num\n",
    "        count+=1\n",
    "    i-=1\n",
    "print(sum)"
   ]
  },
  {
   "cell_type": "code",
   "execution_count": null,
   "id": "0627546d",
   "metadata": {},
   "outputs": [
    {
     "name": "stdout",
     "output_type": "stream",
     "text": [
      "[4, 3, 8, 7, 2, 5, 12, 9]\n"
     ]
    }
   ],
   "source": [
    "# 52.WAP to rotate an array to the left by a given number of steps.\n",
    "arr=[12, 9, 4, 3, 8, 7, 2, 5]\n",
    "num=int(input())\n",
    "i=0\n",
    "while i<num:\n",
    "    start=0\n",
    "    el=arr[0]\n",
    "    while start<len(arr)-1:\n",
    "        arr[start]=arr[start+1]\n",
    "        start+=1\n",
    "    i+=1\n",
    "    arr[-1]=el\n",
    "print(arr)"
   ]
  },
  {
   "cell_type": "code",
   "execution_count": 37,
   "id": "6a253255",
   "metadata": {},
   "outputs": [
    {
     "name": "stdout",
     "output_type": "stream",
     "text": [
      "[2, 5, 12, 9, 4, 3, 8, 7]\n"
     ]
    }
   ],
   "source": [
    "# 53.WAP to rotate an array to the right by a given number of steps.\n",
    "arr=[12, 9, 4, 3, 8, 7, 2, 5]\n",
    "steps=2\n",
    "i=0\n",
    "while i<steps:\n",
    "    el=arr[-1]\n",
    "    start=len(arr)-1\n",
    "    while start>0:\n",
    "        arr[start]=arr[start-1]\n",
    "        start-=1\n",
    "    i+=1\n",
    "    arr[0]=el\n",
    "print(arr)"
   ]
  },
  {
   "cell_type": "code",
   "execution_count": null,
   "id": "24d5377d",
   "metadata": {},
   "outputs": [
    {
     "name": "stdout",
     "output_type": "stream",
     "text": [
      "8\n",
      "7\n"
     ]
    }
   ],
   "source": [
    "# 54.WAP to find the first non-repeating element in an array.\n",
    "arr = [4, 5, 3, 4, 5, 3, 4, 8, 7, 4]\n",
    "for el in arr:\n",
    "    count=0\n",
    "    for el1 in arr:\n",
    "        if el==el1:\n",
    "            count+=1\n",
    "    if count==1:\n",
    "        print(el)\n",
    "        break"
   ]
  },
  {
   "cell_type": "code",
   "execution_count": 41,
   "id": "89112f5e",
   "metadata": {},
   "outputs": [
    {
     "name": "stdout",
     "output_type": "stream",
     "text": [
      "True\n"
     ]
    }
   ],
   "source": [
    "# 55.WAP to check if an array is a palindrome.\n",
    "arr=[12, 9, 4,9,12]\n",
    "print(arr==arr[::-1])"
   ]
  },
  {
   "cell_type": "code",
   "execution_count": 2,
   "id": "56b14baa",
   "metadata": {},
   "outputs": [
    {
     "name": "stdout",
     "output_type": "stream",
     "text": [
      "[12, 9, 3, 8, 7, 2, 5]\n"
     ]
    }
   ],
   "source": [
    "# 56.WAP to remove an element from an array at a specific position.\n",
    "arr=[12, 9, 4, 3, 8, 7, 2, 5]\n",
    "index=int(input())\n",
    "try:\n",
    "    del arr[index]\n",
    "except IndexError:\n",
    "    print(\"The index is out of range\")\n",
    "print(arr)"
   ]
  },
  {
   "cell_type": "code",
   "execution_count": 2,
   "id": "f204dbd2",
   "metadata": {},
   "outputs": [
    {
     "name": "stdout",
     "output_type": "stream",
     "text": [
      "True\n"
     ]
    }
   ],
   "source": [
    "# 57.WAP to check if two arrays are equal or not.\n",
    "arr=[12, 9, 4, 3, 8, 7, 2, 5]\n",
    "arr2=[12, 9, 4, 3, 8, 7, 2, 5]\n",
    "arr1=[6,14,19,23,32,44]\n",
    "print(arr==arr2)"
   ]
  },
  {
   "cell_type": "code",
   "execution_count": 4,
   "id": "ed5f53ef",
   "metadata": {},
   "outputs": [
    {
     "name": "stdout",
     "output_type": "stream",
     "text": [
      "8\n"
     ]
    }
   ],
   "source": [
    "# 58.WAP to Count the number of elements in an array without using the .length property.\n",
    "arr=[12, 9, 4, 3, 8, 7, 2, 5,8]\n",
    "try:\n",
    "    i=0\n",
    "    count=0\n",
    "    while True:\n",
    "        i+=1\n",
    "        el=arr[i]\n",
    "        count+=1\n",
    "except IndexError:\n",
    "    print(count)\n"
   ]
  },
  {
   "cell_type": "code",
   "execution_count": 5,
   "id": "f795bf02",
   "metadata": {},
   "outputs": [
    {
     "name": "stdout",
     "output_type": "stream",
     "text": [
      "108\n"
     ]
    }
   ],
   "source": [
    "# 59.WAP to find the maximum product of two integers in an array.\n",
    "arr=[12, 9, 4, 3, 8, 7, 2, 5]\n",
    "prod=arr[0]*arr[1]\n",
    "for i in arr:\n",
    "    for i1 in arr:\n",
    "        if i!=i1:\n",
    "            mul=i*i1\n",
    "            if mul>prod:\n",
    "                prod=mul\n",
    "print(prod)"
   ]
  },
  {
   "cell_type": "code",
   "execution_count": 9,
   "id": "bfca6e30",
   "metadata": {},
   "outputs": [
    {
     "name": "stdout",
     "output_type": "stream",
     "text": [
      "[12, 21, 25, 28, 36, 43, 45, 50]\n"
     ]
    }
   ],
   "source": [
    "# 60.WAP to calculate the prefix sum array.\n",
    "arr=[12, 9, 4, 3, 8, 7, 2, 5]\n",
    "i=0\n",
    "res=[]\n",
    "while i<len(arr):\n",
    "    j=0\n",
    "    sum=0\n",
    "    while j<=i:\n",
    "        sum+=arr[j]\n",
    "        j+=1\n",
    "    res+=[sum]\n",
    "    i+=1\n",
    "print(res)\n"
   ]
  },
  {
   "cell_type": "code",
   "execution_count": 11,
   "id": "a955a501",
   "metadata": {},
   "outputs": [
    {
     "name": "stdout",
     "output_type": "stream",
     "text": [
      "4 3\n",
      "3 4\n",
      "2 5\n",
      "5 2\n"
     ]
    }
   ],
   "source": [
    "# 61.WAP to find pairs in an array with a given sum.\n",
    "arr=[12, 9, 4, 3, 8, 7, 2, 5]\n",
    "sum=7\n",
    "i=0\n",
    "while i<len(arr):\n",
    "    j=0\n",
    "    while j<len(arr):\n",
    "        if i!=j and arr[i]+arr[j]==sum:\n",
    "            print(arr[i],arr[j])\n",
    "        j+=1\n",
    "    i+=1"
   ]
  },
  {
   "cell_type": "code",
   "execution_count": 15,
   "id": "647cfd50",
   "metadata": {},
   "outputs": [
    {
     "name": "stdout",
     "output_type": "stream",
     "text": [
      "armstrong number\n"
     ]
    }
   ],
   "source": [
    "# 62.WAP to Check if the sum of all array elements is an Armstrong number.\n",
    "arr = [1, 5, 3, 144]\n",
    "sum=0\n",
    "for el in arr:\n",
    "    sum+=el\n",
    "num=num1=num2=sum\n",
    "sum=0\n",
    "count=0\n",
    "while num>0:\n",
    "    count+=1\n",
    "    num=num//10\n",
    "while num1>0:\n",
    "    dig=num1%10\n",
    "    sum+=dig**count\n",
    "    num1=num1//10\n",
    "if sum==num2:\n",
    "    print('armstrong number')\n",
    "else:\n",
    "    print(\"Not an Armstrong Number\")\n",
    "\n"
   ]
  },
  {
   "cell_type": "code",
   "execution_count": 18,
   "id": "56cc02fa",
   "metadata": {},
   "outputs": [
    {
     "name": "stdout",
     "output_type": "stream",
     "text": [
      "Palindrome Number\n"
     ]
    }
   ],
   "source": [
    "# 63.WAP to Check if the product of all array elements is a palindrome.\n",
    "arr = [1, 2, 1]\n",
    "prod=1\n",
    "for el in arr:\n",
    "    prod*=el\n",
    "num=prod\n",
    "rev=0\n",
    "while num>0:\n",
    "    dig=num%10\n",
    "    rev=rev*10+dig\n",
    "    num=num//10\n",
    "\n",
    "if prod==rev:\n",
    "    print(\"Palindrome Number\")\n",
    "else:\n",
    "    print(\"Not a palindrome Number\")"
   ]
  },
  {
   "cell_type": "code",
   "execution_count": null,
   "id": "7f85b998",
   "metadata": {},
   "outputs": [
    {
     "name": "stdout",
     "output_type": "stream",
     "text": [
      "2\n",
      "2\n",
      "2\n",
      "Strong number\n"
     ]
    }
   ],
   "source": [
    "# 64.WAP to Check if the sum of all even elements is a strong number.\n",
    "eve_sum=0\n",
    "arr = [2]\n",
    "i=0\n",
    "while i<len(arr):\n",
    "    if arr[i]%2==0:\n",
    "        eve_sum+=arr[i]\n",
    "    i+=1\n",
    "\n",
    "num1=num=eve_sum\n",
    "sum=0\n",
    "while num>0:\n",
    "    prod=1\n",
    "    dig=num%10\n",
    "    while dig>0:\n",
    "        prod*=dig\n",
    "        dig-=1\n",
    "    sum+=prod\n",
    "    num=num//10\n",
    "if sum==num1:\n",
    "    print('Strong number')\n",
    "else:\n",
    "    print(\"Not a strong Number\")\n"
   ]
  },
  {
   "cell_type": "code",
   "execution_count": 31,
   "id": "5e35475c",
   "metadata": {},
   "outputs": [
    {
     "name": "stdout",
     "output_type": "stream",
     "text": [
      "Armstrong Number\n"
     ]
    }
   ],
   "source": [
    "# 65.WAP to Check if the sum of all odd elements is an Armstrong number.\n",
    "arr = [1 ,2 ,3 ,4 ,5]\n",
    "odd_sum=0\n",
    "i=0\n",
    "while i<len(arr):\n",
    "    if arr[i]%2!=0:\n",
    "        odd_sum+=arr[i]\n",
    "    i+=1\n",
    "num=num1=odd_sum\n",
    "count=0\n",
    "sum=0\n",
    "while num>0:\n",
    "    count+=1\n",
    "    num=num//10\n",
    "\n",
    "while num1>0:\n",
    "    dig=num1%10\n",
    "    sum+=dig**count\n",
    "    num1=num1//10\n",
    "\n",
    "if sum==odd_sum:\n",
    "    print('Armstrong Number')\n",
    "else:\n",
    "    print(\"Not an Armstrong Number\")"
   ]
  },
  {
   "cell_type": "code",
   "execution_count": null,
   "id": "62eb3a26",
   "metadata": {},
   "outputs": [],
   "source": [
    "# 66.Write a python Program for MergeSort\n",
    "# Problem:\n",
    "# Implement a Python program for MergeSort algorithm to sort an array in ascending order.\n",
    "# Example Input:\n",
    "# arr = [12, 11, 13, 5, 6, 7]\n",
    "# Example Output:\n",
    "# arr = [5, 6, 7, 11, 12, 13]"
   ]
  },
  {
   "cell_type": "code",
   "execution_count": null,
   "id": "2b125203",
   "metadata": {},
   "outputs": [],
   "source": [
    "# 67.Write a python Program for QuickSort\n",
    "# Problem:\n",
    "# Implement a python program for QuickSort algorithm to sort an array in ascending order.\n",
    "# Example Input:\n",
    "# arr = [10, 7, 8, 9, 1, 5]\n",
    "# Example Output:\n",
    "# arr = [1, 5, 7, 8, 9, 10]"
   ]
  },
  {
   "cell_type": "code",
   "execution_count": 4,
   "id": "7ed6d8de",
   "metadata": {},
   "outputs": [
    {
     "name": "stdout",
     "output_type": "stream",
     "text": [
      "[17, 17, 5, 5, 5, -1]\n"
     ]
    }
   ],
   "source": [
    "# 68. Replace every element with the next greatest element (from the \n",
    "# right side) in a given array, replacing the last element with -1\n",
    "# Problem:\n",
    "# Replace every element of the array with the next greatest element from the right side. Replace the \n",
    "# last element with -1.\n",
    "# Example Input:\n",
    "# arr = [16, 17, 4, 3, 5, 2]\n",
    "# Example Output:\n",
    "# arr = [17, 17, 5, 5, 5, -1]\n",
    "\n",
    "arr = [16, 17, 4, 3, 5, 2]\n",
    "i=0\n",
    "while i<len(arr):\n",
    "    num=arr[i]\n",
    "    j=i\n",
    "    max=arr[j]\n",
    "    max_index=j\n",
    "    while j<len(arr):\n",
    "        num2=arr[j]\n",
    "        if arr[j]>max:\n",
    "            max=arr[j]\n",
    "            max_index=j\n",
    "        j+=1\n",
    "    arr[i]=max\n",
    "    i+=1\n",
    "arr[-1]=-1\n",
    "print(arr)"
   ]
  },
  {
   "cell_type": "code",
   "execution_count": null,
   "id": "ff55ec4d",
   "metadata": {},
   "outputs": [
    {
     "name": "stdout",
     "output_type": "stream",
     "text": [
      "[1, 6, 2, 5, 3, 4]\n"
     ]
    }
   ],
   "source": [
    "# 69. Rearrange an array with alternate high and low elements\n",
    "# Problem:\n",
    "# Rearrange the elements of the array in a way such that the array alternates between high and low \n",
    "# elements.\n",
    "# Example Input:\n",
    "# arr = [1, 2, 3, 4, 5, 6]\n",
    "# Example Output:\n",
    "# arr = [1, 6, 2, 5, 3, 4]\n",
    "\n",
    "arr = [1, 2, 3, 4, 5, 6]\n",
    "i=0\n",
    "while i<len(arr):\n",
    "    maxEle=arr[i]\n",
    "    maxIndex=i\n",
    "    minEle=arr[i]\n",
    "    minIndex=i\n",
    "    j=i\n",
    "    while j<len(arr):\n",
    "        num=arr[j]\n",
    "        if maxEle<num:\n",
    "            maxEle=num\n",
    "            maxIndex=j\n",
    "        if minEle>num:\n",
    "            minEle=num\n",
    "            minIndex=j\n",
    "        j+=1\n",
    "    if i%2==0:\n",
    "        arr[i],arr[minIndex]=minEle,arr[i]\n",
    "    else:\n",
    "        arr[i],arr[maxIndex]=maxEle,arr[i]\n",
    "    i+=1\n",
    "print(arr)"
   ]
  },
  {
   "cell_type": "code",
   "execution_count": null,
   "id": "ea39049b",
   "metadata": {},
   "outputs": [
    {
     "name": "stdout",
     "output_type": "stream",
     "text": [
      "3\n",
      "5\n"
     ]
    }
   ],
   "source": [
    "# 70. Find the missing element in a given array in the series of 1 to n\n",
    "# Problem:\n",
    "# Given an array with integers from 1 to n with one element missing, find the missing element.\n",
    "# Example Input:\n",
    "# arr = [1, 2, 4, 6, 3, 7, 8]\n",
    "# Example Output:\n",
    "# Missing Element: 5\n",
    "\n",
    "arr = [1, 2, 4, 6, 7, 8]\n",
    "min=arr[0]\n",
    "max=arr[0]\n",
    "for el in arr:\n",
    "    if min>el:\n",
    "        min=el\n",
    "    if max<el:\n",
    "        max=el\n",
    "for i in range(min,max+1):\n",
    "    if i not in arr:\n",
    "        print(i)"
   ]
  },
  {
   "cell_type": "code",
   "execution_count": null,
   "id": "875be489",
   "metadata": {},
   "outputs": [
    {
     "name": "stdout",
     "output_type": "stream",
     "text": [
      "2\n"
     ]
    }
   ],
   "source": [
    "# 71. Find the Majority Element (Boyer-Moore Algorithm)\n",
    "# Problem:\n",
    "# Given an array of size n, find the element that appears more than n/2 times (majority element). You \n",
    "# can assume that the majority element always exists in the array.\n",
    "# Example Input:\n",
    "# arr = [2, 2, 1, 1, 2, 2]\n",
    "# Example Output:\n",
    "# Majority Element: 2\n",
    "\n",
    "arr = [2, 2, 1, 1, 2, 2]\n",
    "res=[]\n",
    "for el in arr:\n",
    "    count=0\n",
    "    for el1 in arr:\n",
    "        if el==el1:\n",
    "            count+=1\n",
    "    if count>(len(arr)//2) and el not in res:\n",
    "        print(el)\n",
    "        res+=[el]\n"
   ]
  },
  {
   "cell_type": "code",
   "execution_count": null,
   "id": "57df63dd",
   "metadata": {},
   "outputs": [
    {
     "name": "stdout",
     "output_type": "stream",
     "text": [
      "False\n"
     ]
    }
   ],
   "source": [
    "# 72. Check If Array Can Be Made Strictly Increasing by Removing One \n",
    "# Element\n",
    "# Problem:\n",
    "# Given an array, determine if it’s possible to make the array strictly increasing by removing at most \n",
    "# one element. Return true if the array can be made strictly increasing by removing one element, \n",
    "# otherwise false.\n",
    "# Example Input:\n",
    "# arr = [10, 1, 2, 3, 4]\n",
    "# Example Output:\n",
    "# True (Remove 10)\n",
    "arr = [10, 1, 2, 3, 4]\n",
    "i=0\n",
    "count=0\n",
    "while i<len(arr)-1:\n",
    "    num=arr[i]\n",
    "    num1=arr[i+1]\n",
    "    if num1 != (num+1):\n",
    "        count+=1\n",
    "    i+=1\n",
    "\n",
    "print(count<2)\n"
   ]
  },
  {
   "cell_type": "code",
   "execution_count": 37,
   "id": "17602441",
   "metadata": {},
   "outputs": [
    {
     "name": "stdout",
     "output_type": "stream",
     "text": [
      "20\n",
      "30\n"
     ]
    }
   ],
   "source": [
    "# 73. Find the Peak Element\n",
    "# Problem:\n",
    "# Find an element which is strictly greater than its neighbors. The array should not be empty, and you \n",
    "# are required to solve it in O(log n) time.\n",
    "# Example Input:\n",
    "# arr = [1, 3, 20, 4, 1]\n",
    "# Example Output:\n",
    "# 20\n",
    "\n",
    "arr = [1, 3, 20, 4, 1,30]\n",
    "i=1\n",
    "while i<len(arr):\n",
    "    if i==0 and arr[i]>arr[i+1]:\n",
    "        print(arr[i])\n",
    "    if i==len(arr)-1 and arr[len(arr)-1]>arr[len(arr)-2]:\n",
    "        print(arr[i])\n",
    "        break\n",
    "    if arr[i]>arr[i+1] and arr[i] > arr[i-1]:\n",
    "        print(arr[i])\n",
    "\n",
    "    i+=1"
   ]
  }
 ],
 "metadata": {
  "kernelspec": {
   "display_name": "Python 3",
   "language": "python",
   "name": "python3"
  },
  "language_info": {
   "codemirror_mode": {
    "name": "ipython",
    "version": 3
   },
   "file_extension": ".py",
   "mimetype": "text/x-python",
   "name": "python",
   "nbconvert_exporter": "python",
   "pygments_lexer": "ipython3",
   "version": "3.13.5"
  }
 },
 "nbformat": 4,
 "nbformat_minor": 5
}
