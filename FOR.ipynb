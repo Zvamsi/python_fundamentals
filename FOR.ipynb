{
 "cells": [
  {
   "cell_type": "code",
   "execution_count": 1,
   "id": "4c8d989c",
   "metadata": {},
   "outputs": [
    {
     "name": "stdout",
     "output_type": "stream",
     "text": [
      "1\n",
      "2\n",
      "3\n",
      "4\n",
      "5\n",
      "6\n",
      "7\n",
      "8\n",
      "9\n",
      "10\n"
     ]
    }
   ],
   "source": [
    "# 1.Print numbers from 1 to 10.\n",
    "for i in range(1,11):\n",
    "    print(i)"
   ]
  },
  {
   "cell_type": "code",
   "execution_count": 2,
   "id": "f5e332fa",
   "metadata": {},
   "outputs": [
    {
     "name": "stdout",
     "output_type": "stream",
     "text": [
      "2\n",
      "4\n",
      "6\n",
      "8\n",
      "10\n",
      "12\n",
      "14\n",
      "16\n",
      "18\n",
      "20\n"
     ]
    }
   ],
   "source": [
    "# 2.Print even numbers from 1 to 20.\n",
    "for i in range(1,21):\n",
    "    if i%2==0:\n",
    "        print(i)"
   ]
  },
  {
   "cell_type": "code",
   "execution_count": 3,
   "id": "0e71f057",
   "metadata": {},
   "outputs": [
    {
     "name": "stdout",
     "output_type": "stream",
     "text": [
      "1\n",
      "4\n",
      "9\n",
      "16\n",
      "25\n",
      "36\n",
      "49\n",
      "64\n",
      "81\n",
      "100\n"
     ]
    }
   ],
   "source": [
    "# 3. Print the square of each number from 1 to 10.\n",
    "for i in range(1,11):\n",
    "    print(i**2)"
   ]
  },
  {
   "cell_type": "code",
   "execution_count": 4,
   "id": "289555b5",
   "metadata": {},
   "outputs": [
    {
     "name": "stdout",
     "output_type": "stream",
     "text": [
      "p\n",
      "y\n",
      "t\n",
      "h\n",
      "o\n",
      "n\n"
     ]
    }
   ],
   "source": [
    "# 4. Print all characters in the string `\"Python\"`.\n",
    "for ch in 'python':\n",
    "    print(ch)"
   ]
  },
  {
   "cell_type": "code",
   "execution_count": 5,
   "id": "6c6be92d",
   "metadata": {},
   "outputs": [
    {
     "name": "stdout",
     "output_type": "stream",
     "text": [
      "5050\n"
     ]
    }
   ],
   "source": [
    "# 5. Print the sum of all numbers from 1 to 100.\n",
    "sum=0\n",
    "for num in range(1,101):\n",
    "    sum+=num\n",
    "print(sum)"
   ]
  },
  {
   "cell_type": "code",
   "execution_count": 6,
   "id": "9a73716a",
   "metadata": {},
   "outputs": [
    {
     "name": "stdout",
     "output_type": "stream",
     "text": [
      "3\n"
     ]
    }
   ],
   "source": [
    "# 6. Count and print the number of vowels in a string.\n",
    "count=0\n",
    "st=input()\n",
    "for ch in st:\n",
    "    if ch in 'AEIOUaeiou':\n",
    "        count+=1\n",
    "print(count)"
   ]
  },
  {
   "cell_type": "code",
   "execution_count": 7,
   "id": "34ab4bce",
   "metadata": {},
   "outputs": [
    {
     "name": "stdout",
     "output_type": "stream",
     "text": [
      "7 X 0 = 0\n",
      "7 X 1 = 7\n",
      "7 X 2 = 14\n",
      "7 X 3 = 21\n",
      "7 X 4 = 28\n",
      "7 X 5 = 35\n",
      "7 X 6 = 42\n",
      "7 X 7 = 49\n",
      "7 X 8 = 56\n",
      "7 X 9 = 63\n",
      "7 X 10 = 70\n"
     ]
    }
   ],
   "source": [
    "# 7. Print the multiplication table of a number (e.g., 7).\n",
    "num=int(input(\"Enter a number\"))\n",
    "for i in range(11):\n",
    "    print(f\"{num} X {i} = {num*i}\")"
   ]
  },
  {
   "cell_type": "code",
   "execution_count": 9,
   "id": "90d9b357",
   "metadata": {},
   "outputs": [
    {
     "name": "stdout",
     "output_type": "stream",
     "text": [
      "olleh\n"
     ]
    }
   ],
   "source": [
    "# 8. Print the reverse of a string using a loop.\n",
    "st=input()\n",
    "res=''\n",
    "for ch in st:\n",
    "    res=ch+res\n",
    "print(res)"
   ]
  },
  {
   "cell_type": "code",
   "execution_count": 10,
   "id": "b60ffde7",
   "metadata": {},
   "outputs": [
    {
     "name": "stdout",
     "output_type": "stream",
     "text": [
      "1\n",
      "2\n",
      "3\n",
      "4\n",
      "5\n",
      "hello\n",
      "3.14\n",
      "wave\n"
     ]
    }
   ],
   "source": [
    "# 9. Print all elements of a list using a `for` loop.\n",
    "list1=[1,2,3,4,5,'hello',3.14,'wave']\n",
    "for i in list1:\n",
    "    print(i)"
   ]
  },
  {
   "cell_type": "code",
   "execution_count": 11,
   "id": "3ea1a649",
   "metadata": {},
   "outputs": [
    {
     "name": "stdout",
     "output_type": "stream",
     "text": [
      "1\n",
      "2\n",
      "3\n",
      "4\n",
      "5\n",
      "6\n",
      "7\n",
      "8\n",
      "9\n",
      "hello\n",
      "wave\n"
     ]
    }
   ],
   "source": [
    "# 10. Print all elements in a tuple using a loop.\n",
    "tuple1=(1,2,3,4,5,6,7,8,9,'hello','wave')\n",
    "for i in tuple1:\n",
    "    print(i)"
   ]
  },
  {
   "cell_type": "code",
   "execution_count": 12,
   "id": "f7215f7b",
   "metadata": {},
   "outputs": [
    {
     "name": "stdout",
     "output_type": "stream",
     "text": [
      "120\n"
     ]
    }
   ],
   "source": [
    "# 11. Print the factorial of a given number using a `for` loop.\n",
    "num=int(input(\"Enter a number\"))\n",
    "fact=1\n",
    "for i in range(1,num+1):\n",
    "    fact*=i\n",
    "print(fact)"
   ]
  },
  {
   "cell_type": "code",
   "execution_count": null,
   "id": "46cceb8e",
   "metadata": {},
   "outputs": [
    {
     "name": "stdout",
     "output_type": "stream",
     "text": [
      "1 0\n",
      "2 1\n",
      "3 2\n",
      "4 3\n",
      "5 4\n",
      "hello 5\n",
      "3.14 6\n",
      "wave 7\n",
      "3 2\n"
     ]
    }
   ],
   "source": [
    "# 12. Print each element in a list along with its index.\n",
    "list1=[1,2,3,4,5,'hello',3.14,'wave']\n",
    "for i in list1:\n",
    "    print(i,list1.index(i))"
   ]
  },
  {
   "cell_type": "code",
   "execution_count": 16,
   "id": "c7660421",
   "metadata": {},
   "outputs": [
    {
     "name": "stdout",
     "output_type": "stream",
     "text": [
      "\n",
      "* \n",
      "* * \n",
      "* * * \n",
      "* * * * \n"
     ]
    }
   ],
   "source": [
    "# 13. Print a pattern like:\n",
    "'''\n",
    "    *\n",
    "    * *\n",
    "    * * *\n",
    "    * * * *\n",
    "'''\n",
    "\n",
    "for i in range(5):\n",
    "    print(i*'* ')"
   ]
  },
  {
   "cell_type": "code",
   "execution_count": 17,
   "id": "959224e8",
   "metadata": {},
   "outputs": [
    {
     "name": "stdout",
     "output_type": "stream",
     "text": [
      "10\n",
      "9\n",
      "8\n",
      "7\n",
      "6\n",
      "5\n",
      "4\n",
      "3\n",
      "2\n",
      "1\n"
     ]
    }
   ],
   "source": [
    "# 14. Print numbers from 10 to 1 (in reverse).\n",
    "for i in range(10,0,-1):\n",
    "    print(i)"
   ]
  },
  {
   "cell_type": "code",
   "execution_count": 18,
   "id": "c454d167",
   "metadata": {},
   "outputs": [
    {
     "name": "stdout",
     "output_type": "stream",
     "text": [
      "1\n",
      "3\n",
      "5\n",
      "7\n",
      "9\n",
      "11\n",
      "13\n",
      "15\n",
      "17\n",
      "19\n",
      "21\n",
      "23\n",
      "25\n",
      "27\n",
      "29\n",
      "31\n",
      "33\n",
      "35\n",
      "37\n",
      "39\n",
      "41\n",
      "43\n",
      "45\n",
      "47\n",
      "49\n"
     ]
    }
   ],
   "source": [
    "# 15. Print all odd numbers between 1 and 50.\n",
    "for i in range(1,51):\n",
    "    if i%2!=0:\n",
    "        print(i)"
   ]
  },
  {
   "cell_type": "code",
   "execution_count": 130,
   "id": "18cce6cd",
   "metadata": {},
   "outputs": [
    {
     "name": "stdout",
     "output_type": "stream",
     "text": [
      "even\n"
     ]
    }
   ],
   "source": [
    "# 16. Find the sum of digits of a given number.\n",
    "num=input(\"Enter a number\")\n",
    "sum=0\n",
    "for i in num:\n",
    "    sum+=int(i)\n",
    "if sum%2==0:\n",
    "    print(\"even\")\n",
    "else:\n",
    "    print(\"odd\")"
   ]
  },
  {
   "cell_type": "code",
   "execution_count": 22,
   "id": "5520f2d6",
   "metadata": {},
   "outputs": [
    {
     "name": "stdout",
     "output_type": "stream",
     "text": [
      "2\n"
     ]
    }
   ],
   "source": [
    "# 17. Count how many times a specific element appears in a list.\n",
    "list1=[1,2,3,4,5,6,7,8,1]\n",
    "char=input()\n",
    "count=0\n",
    "for ele in list1:\n",
    "    if char==str(ele):\n",
    "        count+=1\n",
    "print(count)"
   ]
  },
  {
   "cell_type": "code",
   "execution_count": 26,
   "id": "a51badf2",
   "metadata": {},
   "outputs": [
    {
     "name": "stdout",
     "output_type": "stream",
     "text": [
      "2\n",
      "3\n",
      "5\n",
      "7\n",
      "11\n",
      "13\n",
      "17\n",
      "19\n",
      "23\n",
      "29\n",
      "31\n",
      "37\n",
      "41\n",
      "43\n",
      "47\n"
     ]
    }
   ],
   "source": [
    "# 18. Print all prime numbers between 1 and 50.\n",
    "for num in range(2,51):\n",
    "    count=0\n",
    "    for i in range(2,num):\n",
    "        if num%i==0:\n",
    "            count+=1\n",
    "    if count==0:\n",
    "        print(num)\n"
   ]
  },
  {
   "cell_type": "code",
   "execution_count": 28,
   "id": "a2bada10",
   "metadata": {},
   "outputs": [
    {
     "name": "stdout",
     "output_type": "stream",
     "text": [
      "Not a palindrome\n"
     ]
    }
   ],
   "source": [
    "# 19. Check if a string is a palindrome using a loop.\n",
    "st=input()\n",
    "res=''\n",
    "for ch in st:\n",
    "    res=ch+res\n",
    "if st==res:\n",
    "    print(\"palindrome\")\n",
    "else:\n",
    "    print(\"Not a palindrome\")"
   ]
  },
  {
   "cell_type": "code",
   "execution_count": 30,
   "id": "165143df",
   "metadata": {},
   "outputs": [
    {
     "name": "stdout",
     "output_type": "stream",
     "text": [
      "1\n",
      "1\n",
      "2\n",
      "3\n",
      "5\n",
      "8\n",
      "13\n",
      "21\n"
     ]
    }
   ],
   "source": [
    "# 20. Print Fibonacci series up to n terms.\n",
    "num=int(input(\"Enter a number\"))\n",
    "num1=1\n",
    "num2=1\n",
    "for i in range (3,num+1):\n",
    "    print(num1)\n",
    "    result=num1+num2\n",
    "    num1=num2\n",
    "    num2=result\n",
    "\n"
   ]
  },
  {
   "cell_type": "code",
   "execution_count": 3,
   "id": "881e69f5",
   "metadata": {},
   "outputs": [
    {
     "name": "stdout",
     "output_type": "stream",
     "text": [
      "1\n",
      "4\n",
      "9\n",
      "16\n",
      "25\n",
      "36\n",
      "49\n",
      "64\n",
      "81\n",
      "100\n"
     ]
    }
   ],
   "source": [
    "# 21. Print all perfect squares between 1 and 100.\n",
    "\n",
    "for i in range(1,101):\n",
    "    for j in range(1,101):\n",
    "        sq=j*j\n",
    "        if sq==i:\n",
    "            print(i)\n",
    "\n"
   ]
  },
  {
   "cell_type": "code",
   "execution_count": 4,
   "id": "0fb853a6",
   "metadata": {},
   "outputs": [
    {
     "name": "stdout",
     "output_type": "stream",
     "text": [
      "66\n"
     ]
    }
   ],
   "source": [
    "# 22. Find the largest number in a list using a loop.\n",
    "list1=[1,2,3,4,5,6,7,6,54,34,54,66,54,44,56]\n",
    "largest=list1[0]\n",
    "\n",
    "for i in list1:\n",
    "    if i>largest:\n",
    "        largest=i\n",
    "print(largest)"
   ]
  },
  {
   "cell_type": "code",
   "execution_count": 5,
   "id": "a90787ea",
   "metadata": {},
   "outputs": [
    {
     "name": "stdout",
     "output_type": "stream",
     "text": [
      "3 3\n"
     ]
    }
   ],
   "source": [
    "# 23. Count uppercase and lowercase characters in a string.\n",
    "st=input()\n",
    "up=0\n",
    "lw=0\n",
    "for ch in st:\n",
    "    if ch>='A' and ch<='Z':\n",
    "        up+=1\n",
    "    elif ch>='a' and ch<='z':\n",
    "        lw+=1\n",
    "print(up,lw)"
   ]
  },
  {
   "cell_type": "code",
   "execution_count": 15,
   "id": "29ff4af4",
   "metadata": {},
   "outputs": [
    {
     "name": "stdout",
     "output_type": "stream",
     "text": [
      "\n",
      "1 \n",
      "1 2 \n",
      "1 2 3 \n",
      "1 2 3 4 "
     ]
    }
   ],
   "source": [
    "# 24. Print a pattern like:\n",
    "\"\"\"\n",
    "    1\n",
    "    1 2\n",
    "    1 2 3\n",
    "    1 2 3 4\n",
    "    \n",
    "\"\"\"\n",
    "for i in range(1,5):\n",
    "    print()\n",
    "    j=1\n",
    "    while j<=i:\n",
    "        print(j,end=' ')\n",
    "        j+=1\n"
   ]
  },
  {
   "cell_type": "code",
   "execution_count": 16,
   "id": "9e21ec7b",
   "metadata": {},
   "outputs": [
    {
     "name": "stdout",
     "output_type": "stream",
     "text": [
      "1 X 1 = 1\n",
      "1 X 2 = 2\n",
      "1 X 3 = 3\n",
      "1 X 4 = 4\n",
      "1 X 5 = 5\n",
      "1 X 6 = 6\n",
      "1 X 7 = 7\n",
      "1 X 8 = 8\n",
      "1 X 9 = 9\n",
      "1 X 10 = 10\n",
      "2 X 1 = 2\n",
      "2 X 2 = 4\n",
      "2 X 3 = 6\n",
      "2 X 4 = 8\n",
      "2 X 5 = 10\n",
      "2 X 6 = 12\n",
      "2 X 7 = 14\n",
      "2 X 8 = 16\n",
      "2 X 9 = 18\n",
      "2 X 10 = 20\n",
      "3 X 1 = 3\n",
      "3 X 2 = 6\n",
      "3 X 3 = 9\n",
      "3 X 4 = 12\n",
      "3 X 5 = 15\n",
      "3 X 6 = 18\n",
      "3 X 7 = 21\n",
      "3 X 8 = 24\n",
      "3 X 9 = 27\n",
      "3 X 10 = 30\n",
      "4 X 1 = 4\n",
      "4 X 2 = 8\n",
      "4 X 3 = 12\n",
      "4 X 4 = 16\n",
      "4 X 5 = 20\n",
      "4 X 6 = 24\n",
      "4 X 7 = 28\n",
      "4 X 8 = 32\n",
      "4 X 9 = 36\n",
      "4 X 10 = 40\n",
      "5 X 1 = 5\n",
      "5 X 2 = 10\n",
      "5 X 3 = 15\n",
      "5 X 4 = 20\n",
      "5 X 5 = 25\n",
      "5 X 6 = 30\n",
      "5 X 7 = 35\n",
      "5 X 8 = 40\n",
      "5 X 9 = 45\n",
      "5 X 10 = 50\n"
     ]
    }
   ],
   "source": [
    "# 25. Print multiplication tables from 1 to 5 using nested loops.\n",
    "for i in range (1,6):\n",
    "    for num in range(1,11):\n",
    "        print(f'{i} X {num} = {i*num}')\n",
    "        "
   ]
  },
  {
   "cell_type": "code",
   "execution_count": null,
   "id": "ab784552",
   "metadata": {},
   "outputs": [
    {
     "name": "stdout",
     "output_type": "stream",
     "text": [
      "[1, 4, 9, 16, 25, 36, 49, 64, 81, 100, 121, 144, 169, 196, 225, 256, 289, 324, 361, 400]\n",
      "[1, 16, 81, 256, 625, 1296, 2401, 4096, 6561, 10000, 14641, 20736, 28561, 38416, 50625, 65536, 83521, 104976, 130321, 160000]\n"
     ]
    }
   ],
   "source": [
    "# 26. Create a list of squares for numbers from 1 to 20.\n",
    "list1=[]\n",
    "for i in range(1,21):\n",
    "    list1.append(i*i)\n",
    "print(list1)"
   ]
  },
  {
   "cell_type": "code",
   "execution_count": 21,
   "id": "3b4177cf",
   "metadata": {},
   "outputs": [
    {
     "name": "stdout",
     "output_type": "stream",
     "text": [
      "hll\n"
     ]
    }
   ],
   "source": [
    "# 27. Remove all vowels from a given string using a loop.\n",
    "st=input()\n",
    "res=''\n",
    "for ch in st:\n",
    "    if not ch in \"AEIOUaeiou\":\n",
    "        res=res+ch\n",
    "print(res)"
   ]
  },
  {
   "cell_type": "code",
   "execution_count": 22,
   "id": "562e5f94",
   "metadata": {},
   "outputs": [
    {
     "name": "stdout",
     "output_type": "stream",
     "text": [
      "4\n",
      "5\n",
      "4\n"
     ]
    }
   ],
   "source": [
    "# 28. Count digits, alphabets, and special characters in a string.\n",
    "st=input()\n",
    "dig=0\n",
    "alpha=0\n",
    "spc=0\n",
    "for ch in st:\n",
    "    if ch>='A' and ch<='Z' or ch>='a' and ch<='z':\n",
    "        alpha+=1\n",
    "    elif ch>='0' and ch<='9':\n",
    "        dig+=1\n",
    "    else:\n",
    "        spc+=1\n",
    "print(dig,alpha,spc,sep='\\n')"
   ]
  },
  {
   "cell_type": "code",
   "execution_count": 26,
   "id": "38779b65",
   "metadata": {},
   "outputs": [
    {
     "name": "stdout",
     "output_type": "stream",
     "text": [
      "   *\n",
      "  **\n"
     ]
    }
   ],
   "source": [
    "# 29. Print a right-aligned triangle pattern of stars.\n",
    "\"\"\"\n",
    "              *\n",
    "             **\n",
    "            ***\n",
    "           ****\n",
    "          *****\n",
    "\"\"\"\n",
    "num=int(input(\"Enter a number\"))\n",
    "for i in range(1,num+1):\n",
    "    space=num+1-i\n",
    "    print(' '*space,'*'*i)"
   ]
  },
  {
   "cell_type": "code",
   "execution_count": 27,
   "id": "d2170af0",
   "metadata": {},
   "outputs": [
    {
     "name": "stdout",
     "output_type": "stream",
     "text": [
      "1 9\n",
      "2 8\n",
      "3 7\n",
      "4 6\n",
      "5 5\n",
      "6 4\n",
      "7 3\n",
      "8 2\n",
      "9 1\n"
     ]
    }
   ],
   "source": [
    "# 30. Print all 2-digit numbers where the sum of digits is 10.\n",
    "for num1 in range(10):\n",
    "    for num2 in range(10):\n",
    "        if num1+num2==10:\n",
    "            print(num1,num2)\n",
    "            "
   ]
  },
  {
   "cell_type": "code",
   "execution_count": 29,
   "id": "0f3402a6",
   "metadata": {},
   "outputs": [
    {
     "name": "stdout",
     "output_type": "stream",
     "text": [
      "apple 100\n",
      "banana 200\n",
      "cherry 300\n"
     ]
    }
   ],
   "source": [
    "# 31. Print elements of two lists side by side using a loop.\n",
    "list1=['apple','banana','cherry']\n",
    "list2=[100,200,300]\n",
    "# for i in list1:\n",
    "#     print(i,list2[list1.index(i)])\n",
    "\n",
    "for i in range(min(len(list1),len(list2))):\n",
    "    print(list1[i],list2[i])\n"
   ]
  },
  {
   "cell_type": "code",
   "execution_count": 30,
   "id": "302990f4",
   "metadata": {},
   "outputs": [
    {
     "name": "stdout",
     "output_type": "stream",
     "text": [
      "26.4\n"
     ]
    }
   ],
   "source": [
    "# 32. Calculate the average of numbers in a list.\n",
    "list1=[1,2,3,4,5,6,7,6,54,34,54,66,54,44,56]\n",
    "sum=0\n",
    "for i in list1:\n",
    "    sum+=i\n",
    "print(sum/len(list1))"
   ]
  },
  {
   "cell_type": "code",
   "execution_count": 31,
   "id": "76805369",
   "metadata": {},
   "outputs": [
    {
     "name": "stdout",
     "output_type": "stream",
     "text": [
      "[1, 2, 3, 4, 5, 6, 7, 8]\n"
     ]
    }
   ],
   "source": [
    "# 33. Merge two lists using a loop.\n",
    "list1=[1,2,3,4]\n",
    "list2=[5,6,7,8]\n",
    "res=[]\n",
    "for ch in list1:\n",
    "    res.append(ch)\n",
    "for ch in list2:\n",
    "    res.append(ch)\n",
    "print(res)"
   ]
  },
  {
   "cell_type": "code",
   "execution_count": null,
   "id": "f02cb47b",
   "metadata": {},
   "outputs": [
    {
     "name": "stdout",
     "output_type": "stream",
     "text": [
      "66\n",
      "56\n"
     ]
    }
   ],
   "source": [
    "# 34. Find the second largest number in a list using a loop.\n",
    "fl=0\n",
    "sl=0\n",
    "list1=[1,2,3,4,5,6,7,6,54,34,54,66,54,44,56]\n",
    "for ch in list1:  #First largest Number in list\n",
    "    if ch>fl:\n",
    "        fl=ch\n",
    "for ch in list1:    #Second Largest Number in list\n",
    "    if ch<fl and ch>sl:\n",
    "        sl=ch\n",
    "print(fl,sl,sep='\\n')"
   ]
  },
  {
   "cell_type": "code",
   "execution_count": null,
   "id": "a6596644",
   "metadata": {},
   "outputs": [
    {
     "name": "stdout",
     "output_type": "stream",
     "text": [
      "1\n",
      "5\n",
      "17\n",
      "85\n"
     ]
    }
   ],
   "source": [
    "# 35. Find all factors of a number using a `for` loop.\n",
    "num=int(input(\"Enter a number\"))\n",
    "for i in range(1,num):\n",
    "    if num%i==0:\n",
    "        print(i)"
   ]
  },
  {
   "cell_type": "code",
   "execution_count": 41,
   "id": "d24bf837",
   "metadata": {},
   "outputs": [
    {
     "name": "stdout",
     "output_type": "stream",
     "text": [
      "153\n",
      "370\n",
      "371\n",
      "407\n"
     ]
    }
   ],
   "source": [
    "# 36. Print all Armstrong numbers between 100 and 999.  (153)\n",
    "for num in range(100,1000):\n",
    "    num2=num1=num\n",
    "    count=0\n",
    "    sum=0\n",
    "    while num>0:\n",
    "        count+=1\n",
    "        num=num//10\n",
    "    while num1>0:\n",
    "        dig=num1%10\n",
    "        sum+=dig**count\n",
    "        num1=num1//10\n",
    "    if num2==sum:\n",
    "        print(num2)\n"
   ]
  },
  {
   "cell_type": "code",
   "execution_count": null,
   "id": "afb1476b",
   "metadata": {
    "tags": [
     "Revisit"
    ]
   },
   "outputs": [
    {
     "name": "stdout",
     "output_type": "stream",
     "text": [
      "1\n",
      "2\n"
     ]
    }
   ],
   "source": [
    "# 37. Generate a Pascal’s triangle up to `n` rows.\n",
    "\n",
    "\n"
   ]
  },
  {
   "cell_type": "code",
   "execution_count": 51,
   "id": "8701569c",
   "metadata": {},
   "outputs": [
    {
     "name": "stdout",
     "output_type": "stream",
     "text": [
      "[1, 2, 3, 4, 5, 6, 6, 7, 34, 44, 54, 54, 54, 56, 66]\n"
     ]
    }
   ],
   "source": [
    "# 38. Sort a list using bubble sort with a `for` loop.\n",
    "list1=[1,2,3,4,5,6,7,6,54,34,54,66,54,44,56]\n",
    "for _ in range(len(list1)):\n",
    "    i=0\n",
    "    # while i<len(list1)-1:\n",
    "    for i in range(len(list1)-1):\n",
    "        ch=list1[i]\n",
    "        ch1=list1[i+1]\n",
    "        if ch>ch1:\n",
    "            list1[i],list1[i+1]=list1[i+1],list1[i]\n",
    "        # i+=1\n",
    "print(list1)"
   ]
  },
  {
   "cell_type": "code",
   "execution_count": 54,
   "id": "b908fc8a",
   "metadata": {},
   "outputs": [
    {
     "name": "stdout",
     "output_type": "stream",
     "text": [
      "[6, 54, 5, 4, 3]\n"
     ]
    }
   ],
   "source": [
    "# 39. Find duplicate elements in a list using a `for` loop.\n",
    "list1=[1,2,3,4,5,6,7,6,54,34,54,66,54,44,6,5,4,3,56]\n",
    "list2=[]\n",
    "dup=[]\n",
    "for num in list1:\n",
    "    if num in list2 and num not in dup:\n",
    "        dup.append(num)\n",
    "    else:\n",
    "        list2.append(num)\n",
    "print(dup)\n"
   ]
  },
  {
   "cell_type": "code",
   "execution_count": 56,
   "id": "1466b413",
   "metadata": {},
   "outputs": [
    {
     "name": "stdout",
     "output_type": "stream",
     "text": [
      "6\n"
     ]
    }
   ],
   "source": [
    "# 40. Print the GCD of two numbers using a loop.\n",
    "m=int(input(\"Enter a number\"))\n",
    "n=int(input(\"Enter a number\"))\n",
    "for i in range(1,min(m,n)):\n",
    "    if m%i==0 and n%i==0:\n",
    "        res=i\n",
    "print(res)"
   ]
  },
  {
   "cell_type": "code",
   "execution_count": null,
   "id": "1f9b1023",
   "metadata": {},
   "outputs": [],
   "source": [
    "# 41. Create a histogram from character frequencies in a string.\n"
   ]
  },
  {
   "cell_type": "code",
   "execution_count": 59,
   "id": "bcc0ea7c",
   "metadata": {},
   "outputs": [
    {
     "name": "stdout",
     "output_type": "stream",
     "text": [
      "[1, 2, 3, 4, 5]\n"
     ]
    }
   ],
   "source": [
    "# 42. Rotate a list left or right by `k` positions using loops.\n",
    "list1=[1,2,3,4,5]\n",
    "k=int(input())\n",
    "for _ in range(k):\n",
    "    last=list1[-1]\n",
    "    list1.pop()\n",
    "    list1.insert(0,last)\n",
    "print(list1)\n"
   ]
  },
  {
   "cell_type": "code",
   "execution_count": 72,
   "id": "57d5681e",
   "metadata": {},
   "outputs": [
    {
     "name": "stdout",
     "output_type": "stream",
     "text": [
      "[[7, 9, 11], [8, 10, 12]]\n"
     ]
    }
   ],
   "source": [
    "# 43. Create a matrix (nested list) and print its transpose using `for` loops.\n",
    "list1=[\n",
    "  [7, 8],\n",
    "  [9, 10],\n",
    "  [11, 12]\n",
    "]\n",
    "\n",
    "res=[]\n",
    "for i in range(0,len(list1[0])):\n",
    "    list2=[]\n",
    "    for j in range(0,len(list1)):\n",
    "        li=list1[j]\n",
    "        list2.append(li[i])\n",
    "    res.append(list2)\n",
    "print(res)"
   ]
  },
  {
   "cell_type": "code",
   "execution_count": 74,
   "id": "a06b45a7",
   "metadata": {},
   "outputs": [
    {
     "name": "stdout",
     "output_type": "stream",
     "text": [
      "10429570396\n",
      "5214785198\n",
      "2607392599\n",
      "7822177798\n",
      "3911088899\n",
      "11733266698\n",
      "5866633349\n",
      "17599900048\n",
      "8799950024\n",
      "4399975012\n",
      "2199987506\n",
      "1099993753\n",
      "3299981260\n",
      "1649990630\n",
      "824995315\n",
      "2474985946\n",
      "1237492973\n",
      "3712478920\n",
      "1856239460\n",
      "928119730\n",
      "464059865\n",
      "1392179596\n",
      "696089798\n",
      "348044899\n",
      "1044134698\n",
      "522067349\n",
      "1566202048\n",
      "783101024\n",
      "391550512\n",
      "195775256\n",
      "97887628\n",
      "48943814\n",
      "24471907\n",
      "73415722\n",
      "36707861\n",
      "110123584\n",
      "55061792\n",
      "27530896\n",
      "13765448\n",
      "6882724\n",
      "3441362\n",
      "1720681\n",
      "5162044\n",
      "2581022\n",
      "1290511\n",
      "3871534\n",
      "1935767\n",
      "5807302\n",
      "2903651\n",
      "8710954\n",
      "4355477\n",
      "13066432\n",
      "6533216\n",
      "3266608\n",
      "1633304\n",
      "816652\n",
      "408326\n",
      "204163\n",
      "612490\n",
      "306245\n",
      "918736\n",
      "459368\n",
      "229684\n",
      "114842\n",
      "57421\n",
      "172264\n",
      "86132\n",
      "43066\n",
      "21533\n",
      "64600\n",
      "32300\n",
      "16150\n",
      "8075\n",
      "24226\n",
      "12113\n",
      "36340\n",
      "18170\n",
      "9085\n",
      "27256\n",
      "13628\n",
      "6814\n",
      "3407\n",
      "10222\n",
      "5111\n",
      "15334\n",
      "7667\n",
      "23002\n",
      "11501\n",
      "34504\n",
      "17252\n",
      "8626\n",
      "4313\n",
      "12940\n",
      "6470\n",
      "3235\n",
      "9706\n",
      "4853\n",
      "14560\n",
      "7280\n",
      "3640\n",
      "1820\n",
      "910\n",
      "455\n",
      "1366\n",
      "683\n",
      "2050\n",
      "1025\n",
      "3076\n",
      "1538\n",
      "769\n",
      "2308\n",
      "1154\n",
      "577\n",
      "1732\n",
      "866\n",
      "433\n",
      "1300\n",
      "650\n",
      "325\n",
      "976\n",
      "488\n",
      "244\n",
      "122\n",
      "61\n",
      "184\n",
      "92\n",
      "46\n",
      "23\n",
      "70\n",
      "35\n",
      "106\n",
      "53\n",
      "160\n",
      "80\n",
      "40\n",
      "20\n",
      "10\n",
      "5\n",
      "16\n",
      "8\n",
      "4\n",
      "2\n",
      "1\n"
     ]
    }
   ],
   "source": [
    "# 44. Print the Collatz sequence for a number.\n",
    "num=int(input(\"Enter a number\"))\n",
    "while num!=1:\n",
    "    if num%2==0:\n",
    "        num=num//2\n",
    "    else:\n",
    "        num=3*num+1\n",
    "    print(num)"
   ]
  },
  {
   "cell_type": "code",
   "execution_count": 78,
   "id": "c4787701",
   "metadata": {},
   "outputs": [
    {
     "name": "stdout",
     "output_type": "stream",
     "text": [
      "Not a tech number\n"
     ]
    }
   ],
   "source": [
    "# 45. Check if a number is a tech number using digit manipulation.\n",
    "num=int(input(\"Enter a number\"))\n",
    "num1=num2=num\n",
    "threshold=0\n",
    "count=0\n",
    "while num>0:\n",
    "    count+=1\n",
    "    num=num//10\n",
    "if count%2==0:\n",
    "    threshold=count/2\n",
    "    first=num1//10**threshold\n",
    "    second=num1%10**threshold\n",
    "    sum=(first+second)**2\n",
    "    if sum==num2:\n",
    "        print(\"Tech number\")\n",
    "    else:\n",
    "        print(\"Not a tech number\")"
   ]
  },
  {
   "cell_type": "code",
   "execution_count": 89,
   "id": "b917bef6",
   "metadata": {},
   "outputs": [
    {
     "name": "stdout",
     "output_type": "stream",
     "text": [
      "worow\n"
     ]
    }
   ],
   "source": [
    "# 46. Print all palindrome words in a sentence.\n",
    "st=input()\n",
    "\n",
    "res=''\n",
    "for ch in st:\n",
    "    if ch==' ':\n",
    "        word=''\n",
    "        for char in res:\n",
    "            word=char+word\n",
    "        if res==word:\n",
    "            print(res)\n",
    "            res=''\n",
    "    else:\n",
    "        res=res+ch\n",
    "if res!='':\n",
    "    word=''\n",
    "    for char in res:\n",
    "        word=char+word\n",
    "    if res==word:\n",
    "        print(res)\n",
    "    "
   ]
  },
  {
   "cell_type": "code",
   "execution_count": null,
   "id": "1930b964",
   "metadata": {},
   "outputs": [
    {
     "name": "stdout",
     "output_type": "stream",
     "text": [
      "48\n",
      "96\n",
      "144\n"
     ]
    }
   ],
   "source": [
    "# 47. Find the LCM of two numbers using a `for` loop.\n",
    "n=int(input(\"Enter a number\"))\n",
    "m=int(input(\"Enter a number\"))\n",
    "\n",
    "for i in range(max(m,n),(m*n)):\n",
    "    if i%m==0 and i%n==0:\n",
    "        print(i)\n",
    "        break"
   ]
  },
  {
   "cell_type": "code",
   "execution_count": 115,
   "id": "fc365ef5",
   "metadata": {},
   "outputs": [
    {
     "name": "stdout",
     "output_type": "stream",
     "text": [
      "\n",
      "        1 \n",
      "      1 2 1 \n",
      "    1 2 3 2 1 \n",
      "  1 2 3 4 3 2 1 "
     ]
    }
   ],
   "source": [
    "# 48. Generate a pattern like:\n",
    "\"\"\"\n",
    "        1\n",
    "      1 2 1\n",
    "    1 2 3 2 1\n",
    "\"\"\"\n",
    "for i in range(1,5):\n",
    "    print()\n",
    "    space=(5-i)*2\n",
    "    j=1\n",
    "    print(' '*space,end='')\n",
    "    while j<i:\n",
    "        print(j,end=' ')\n",
    "        j+=1\n",
    "    while j>0:\n",
    "        print(j,end=' ')\n",
    "        j-=1"
   ]
  },
  {
   "cell_type": "code",
   "execution_count": 132,
   "id": "d4144847",
   "metadata": {},
   "outputs": [
    {
     "name": "stdout",
     "output_type": "stream",
     "text": [
      "[1, 4, 9, 16, 25, 36, 49, 64, 81, 100]\n"
     ]
    }
   ],
   "source": [
    "# 49. Write a loop to simulate and count steps in the “100 doors problem.”\n",
    "doors= {i: False for i in range(1, 101)}\n",
    "count=0\n",
    "\n",
    "for i in range(1,101):\n",
    "    for j in range(1,101):\n",
    "        if j%i==0:\n",
    "            doors[j]=not doors[j]\n",
    "            count+=1\n",
    "list1=[key for key,value in doors.items() if value==True]\n",
    "\n",
    "print(list1)\n",
    "\n"
   ]
  },
  {
   "cell_type": "code",
   "execution_count": 126,
   "id": "0fef5db1",
   "metadata": {},
   "outputs": [
    {
     "name": "stdout",
     "output_type": "stream",
     "text": [
      "1100100\n"
     ]
    }
   ],
   "source": [
    "# 50. Write a loop to convert a number into binary without using `bin()`.\n",
    "num=int(input(\"Enter a number\"))\n",
    "binary=''\n",
    "while num>0:\n",
    "    dig=num%2\n",
    "    binary=str(dig)+binary\n",
    "    num=num//2\n",
    "print(binary)\n"
   ]
  }
 ],
 "metadata": {
  "kernelspec": {
   "display_name": "Python 3",
   "language": "python",
   "name": "python3"
  },
  "language_info": {
   "codemirror_mode": {
    "name": "ipython",
    "version": 3
   },
   "file_extension": ".py",
   "mimetype": "text/x-python",
   "name": "python",
   "nbconvert_exporter": "python",
   "pygments_lexer": "ipython3",
   "version": "3.13.5"
  }
 },
 "nbformat": 4,
 "nbformat_minor": 5
}
