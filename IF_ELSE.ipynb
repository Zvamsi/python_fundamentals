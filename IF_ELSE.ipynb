{
 "cells": [
  {
   "cell_type": "code",
   "execution_count": 104,
   "id": "25fe3c56",
   "metadata": {},
   "outputs": [
    {
     "name": "stdout",
     "output_type": "stream",
     "text": [
      "positive\n"
     ]
    }
   ],
   "source": [
    "\n",
    "#53\n",
    "num=int(input())\n",
    "if num>=0:\n",
    "    print('positive')\n",
    "else:\n",
    "    print('negative')"
   ]
  },
  {
   "cell_type": "code",
   "execution_count": 105,
   "id": "0efddac5",
   "metadata": {},
   "outputs": [
    {
     "name": "stdout",
     "output_type": "stream",
     "text": [
      "Even\n"
     ]
    }
   ],
   "source": [
    "#54\n",
    "num=int(input())\n",
    "if num%2==0:\n",
    "    print(\"Even\")\n",
    "else:\n",
    "    print('odd')"
   ]
  },
  {
   "cell_type": "code",
   "execution_count": 106,
   "id": "4e42821e",
   "metadata": {},
   "outputs": [
    {
     "name": "stdout",
     "output_type": "stream",
     "text": [
      "3 is Not a Greater\n"
     ]
    }
   ],
   "source": [
    "#55\n",
    "num=int(input())\n",
    "if num>10:\n",
    "    print(\"Greater\")\n",
    "else:\n",
    "    print(f\"{num} is Not a Greater\")"
   ]
  },
  {
   "cell_type": "code",
   "execution_count": 107,
   "id": "ac500b66",
   "metadata": {},
   "outputs": [
    {
     "name": "stdout",
     "output_type": "stream",
     "text": [
      "Nothing\n"
     ]
    }
   ],
   "source": [
    "#56\n",
    "num=int(input())\n",
    "if num>=45 and num<=125:\n",
    "    print(chr(num))\n",
    "else:\n",
    "    print(\"Nothing\")"
   ]
  },
  {
   "cell_type": "code",
   "execution_count": 108,
   "id": "f4030f60",
   "metadata": {},
   "outputs": [
    {
     "name": "stdout",
     "output_type": "stream",
     "text": [
      "Good Evening\n"
     ]
    }
   ],
   "source": [
    "#57\n",
    "num=int(input())\n",
    "if num%3==0 and num%5==0:\n",
    "    print('Good Morning')\n",
    "else:\n",
    "    print(\"Good Evening\")"
   ]
  },
  {
   "cell_type": "code",
   "execution_count": 109,
   "id": "8b5b6e6e",
   "metadata": {},
   "outputs": [],
   "source": [
    "# 58\n",
    "num1=int(input())\n",
    "num2=int(input())\n",
    "if num1==num2:\n",
    "    print(num1*num2)"
   ]
  },
  {
   "cell_type": "code",
   "execution_count": 110,
   "id": "f1d66a65",
   "metadata": {},
   "outputs": [
    {
     "name": "stdout",
     "output_type": "stream",
     "text": [
      "4\n"
     ]
    }
   ],
   "source": [
    "# 59\n",
    "num1=int(input())\n",
    "num2=int(input())\n",
    "if num1>num2:\n",
    "    print(num1)\n",
    "else:\n",
    "    print(num2)\n"
   ]
  },
  {
   "cell_type": "code",
   "execution_count": 111,
   "id": "6ed1ae4b",
   "metadata": {},
   "outputs": [
    {
     "name": "stdout",
     "output_type": "stream",
     "text": [
      "4\n"
     ]
    }
   ],
   "source": [
    "# 60\n",
    "num=int(input())\n",
    "if num>10:\n",
    "    print(\"Greater\",num)\n",
    "else:\n",
    "    print(num)"
   ]
  },
  {
   "cell_type": "code",
   "execution_count": 112,
   "id": "3ec6f425",
   "metadata": {},
   "outputs": [
    {
     "name": "stdout",
     "output_type": "stream",
     "text": [
      "34\n"
     ]
    }
   ],
   "source": [
    "# 61\n",
    "num=int(input())\n",
    "\n",
    "if num>21:\n",
    "    print((num-21))\n",
    "else:\n",
    "    print(abs(num-21)*2)"
   ]
  },
  {
   "cell_type": "code",
   "execution_count": 113,
   "id": "b544b5b9",
   "metadata": {},
   "outputs": [
    {
     "name": "stdout",
     "output_type": "stream",
     "text": [
      "3\n"
     ]
    }
   ],
   "source": [
    "# 62\n",
    "num1=int(input())\n",
    "num2=int(input())\n",
    "\n",
    "if num1<num2:\n",
    "    print(num1)\n",
    "else:\n",
    "    print(num2)"
   ]
  },
  {
   "cell_type": "code",
   "execution_count": 114,
   "id": "d146aade",
   "metadata": {},
   "outputs": [
    {
     "name": "stdout",
     "output_type": "stream",
     "text": [
      "4\n"
     ]
    }
   ],
   "source": [
    "# 63\n",
    "num=int(input())\n",
    "if num%2==0:\n",
    "    print(num+1)\n",
    "else:\n",
    "    print(num+1)"
   ]
  },
  {
   "cell_type": "code",
   "execution_count": 115,
   "id": "fdc7d4a6",
   "metadata": {},
   "outputs": [
    {
     "name": "stdout",
     "output_type": "stream",
     "text": [
      "64\n"
     ]
    }
   ],
   "source": [
    "# 64\n",
    "num=int(input())\n",
    "if num%3==0:\n",
    "    print(num)\n",
    "else:\n",
    "    print(num**3)"
   ]
  },
  {
   "cell_type": "code",
   "execution_count": 116,
   "id": "f424dbec",
   "metadata": {},
   "outputs": [
    {
     "name": "stdout",
     "output_type": "stream",
     "text": [
      "3 <class 'str'>\n"
     ]
    }
   ],
   "source": [
    "# 65\n",
    "num=int(input())\n",
    "if num%3==0 and num%5==0:\n",
    "    print(num,type(num))\n",
    "else:\n",
    "    print(str(num),type(str(num)))"
   ]
  },
  {
   "cell_type": "code",
   "execution_count": 117,
   "id": "d6bbc952",
   "metadata": {},
   "outputs": [
    {
     "name": "stdout",
     "output_type": "stream",
     "text": [
      "16\n"
     ]
    }
   ],
   "source": [
    "# 66\n",
    "num=int(input())\n",
    "if num >=1 and num<=19:\n",
    "    print(num**2)\n",
    "else:\n",
    "    print(num**3)"
   ]
  },
  {
   "cell_type": "code",
   "execution_count": 118,
   "id": "58050fe2",
   "metadata": {},
   "outputs": [
    {
     "name": "stdout",
     "output_type": "stream",
     "text": [
      "3 fail\n"
     ]
    }
   ],
   "source": [
    "# 67\n",
    "num=int(input())\n",
    "\n",
    "if num > 40 :\n",
    "    print (f\"{40} and pass\")\n",
    "else:\n",
    "    print(f'{num} fail')"
   ]
  },
  {
   "cell_type": "code",
   "execution_count": 119,
   "id": "ca9aec97",
   "metadata": {},
   "outputs": [
    {
     "name": "stdout",
     "output_type": "stream",
     "text": [
      "0\n"
     ]
    }
   ],
   "source": [
    "# 68\n",
    "num=int(input())\n",
    "if num % 2==0 and (num>=47 and num<=58) and not(num==0 or num%2!=0):\n",
    "    print(chr(num))\n",
    "else:\n",
    "    print(num//5)"
   ]
  },
  {
   "cell_type": "code",
   "execution_count": 120,
   "id": "b8c3b67b",
   "metadata": {},
   "outputs": [
    {
     "name": "stdout",
     "output_type": "stream",
     "text": [
      "{}\n",
      "[3]\n"
     ]
    }
   ],
   "source": [
    "# 69\n",
    "num=int(input())\n",
    "dict1={}\n",
    "list1=[]\n",
    "if num>=47 and num<=125:\n",
    "    dict1[num]=str(num)\n",
    "else:\n",
    "    list1.append(num)\n",
    "print(dict1)\n",
    "print(list1)\n"
   ]
  },
  {
   "cell_type": "code",
   "execution_count": 121,
   "id": "99377e55",
   "metadata": {},
   "outputs": [
    {
     "name": "stdout",
     "output_type": "stream",
     "text": [
      "Alphabet f\n"
     ]
    }
   ],
   "source": [
    "# 70\n",
    "ch=input()\n",
    "if (ch>='A' and ch<='Z') or (ch >='a' and ch<='z'):\n",
    "    print('Alphabet',ch)\n",
    "else:\n",
    "    print('Non Alphabet ',ch)"
   ]
  },
  {
   "cell_type": "code",
   "execution_count": 122,
   "id": "9ff4482a",
   "metadata": {},
   "outputs": [
    {
     "name": "stdout",
     "output_type": "stream",
     "text": [
      "Other Character  g\n"
     ]
    }
   ],
   "source": [
    "# 71\n",
    "ch=input()\n",
    "if ch>='A' and ch<='Z':\n",
    "    print(\"Upper \",ch)\n",
    "else:\n",
    "    print('Other Character ',ch)"
   ]
  },
  {
   "cell_type": "code",
   "execution_count": 123,
   "id": "0acde474",
   "metadata": {},
   "outputs": [
    {
     "name": "stdout",
     "output_type": "stream",
     "text": [
      "lowercase  f\n"
     ]
    }
   ],
   "source": [
    "# 72\n",
    "ch=input()\n",
    "if ch>='a' and ch<='z':\n",
    "    print('lowercase ',ch)\n",
    "else:\n",
    "    print('Other Character ',ch)"
   ]
  },
  {
   "cell_type": "code",
   "execution_count": 124,
   "id": "9a1e59e2",
   "metadata": {},
   "outputs": [
    {
     "name": "stdout",
     "output_type": "stream",
     "text": [
      "F\n"
     ]
    }
   ],
   "source": [
    "# 73\n",
    "ch=input()\n",
    "if ch>='a' and ch<='z':\n",
    "    print(ch.upper())\n",
    "else:\n",
    "    print(ord(ch))"
   ]
  },
  {
   "cell_type": "code",
   "execution_count": 125,
   "id": "5cfe6e4e",
   "metadata": {},
   "outputs": [
    {
     "name": "stdout",
     "output_type": "stream",
     "text": [
      "T\n"
     ]
    }
   ],
   "source": [
    "# 74\n",
    "ch=input()\n",
    "if ch>='A' and ch<='Z':\n",
    "    print(ch.lower())\n",
    "elif ch>='a' and ch<='z':\n",
    "    print(ch.upper()) "
   ]
  },
  {
   "cell_type": "code",
   "execution_count": 126,
   "id": "e57917bf",
   "metadata": {},
   "outputs": [
    {
     "name": "stdout",
     "output_type": "stream",
     "text": [
      "h\n"
     ]
    }
   ],
   "source": [
    "# 75\n",
    "ch=input()\n",
    "asci=ord(ch[0])\n",
    "if (asci>=37 and asci<=47) or (asci>=58 and asci<=64) or (asci>=91 and asci<=97) or (asci>=122 and asci<=127):\n",
    "    middle=len(ch)//2\n",
    "    print(ch[middle])\n",
    "else:\n",
    "    reverse=ch[::-1]\n",
    "    print(reverse[0:len(reverse)//2+1])"
   ]
  },
  {
   "cell_type": "code",
   "execution_count": 127,
   "id": "615ff417",
   "metadata": {},
   "outputs": [
    {
     "name": "stdout",
     "output_type": "stream",
     "text": [
      "CONSONENT  f\n"
     ]
    }
   ],
   "source": [
    "# 76\n",
    "ch=input()\n",
    "if ch in 'AEIOUaeiou':\n",
    "    print('VOWEL',ch)\n",
    "else:\n",
    "    print('CONSONENT ',ch)"
   ]
  },
  {
   "cell_type": "code",
   "execution_count": null,
   "id": "5fc21202",
   "metadata": {},
   "outputs": [
    {
     "name": "stdout",
     "output_type": "stream",
     "text": [
      "b\n"
     ]
    }
   ],
   "source": [
    "# 77\n",
    "\n",
    "# del chr\n",
    "ch=input()\n",
    "if ch in 'AEIOUaeiou':\n",
    "    print(chr(ord(ch)+1))\n",
    "else:\n",
    "    print(chr(ord(ch)-1))"
   ]
  },
  {
   "cell_type": "code",
   "execution_count": 150,
   "id": "d53ed934",
   "metadata": {},
   "outputs": [
    {
     "name": "stdout",
     "output_type": "stream",
     "text": [
      "t\n"
     ]
    }
   ],
   "source": [
    "# 78\n",
    "ch=input()\n",
    "if (ch[0]>='A' and ch[0]<='Z') or (ch[0]>='a' and ch[0]<='z'):\n",
    "    print(ch[::-1])\n",
    "else:\n",
    "    print(ch[len(ch)//2])"
   ]
  },
  {
   "cell_type": "code",
   "execution_count": 157,
   "id": "6c4be44b",
   "metadata": {},
   "outputs": [
    {
     "name": "stdout",
     "output_type": "stream",
     "text": [
      "M\n"
     ]
    }
   ],
   "source": [
    "# 79\n",
    "ch=input()\n",
    "if ch >='A' and ch<='Z':\n",
    "    print(ch.lower())\n",
    "else:\n",
    "    print(ch.upper())"
   ]
  },
  {
   "cell_type": "code",
   "execution_count": null,
   "id": "a1a35819",
   "metadata": {},
   "outputs": [
    {
     "name": "stdout",
     "output_type": "stream",
     "text": [
      "he\n"
     ]
    }
   ],
   "source": [
    "# 80\n",
    "ch2=input()\n",
    "if len(ch2)<3:\n",
    "    print(ch2)\n",
    "else:\n",
    "    print(ch2[2:])"
   ]
  },
  {
   "cell_type": "code",
   "execution_count": null,
   "id": "cad21872",
   "metadata": {},
   "outputs": [
    {
     "name": "stdout",
     "output_type": "stream",
     "text": [
      "hell bye\n"
     ]
    }
   ],
   "source": [
    "# 81\n",
    "ch2=input()\n",
    "if len(ch2)%2==0:\n",
    "    ch2+=' bye'\n",
    "    print(ch2)\n",
    "else:\n",
    "    print(ch2[0::len(ch2)-1])"
   ]
  },
  {
   "cell_type": "code",
   "execution_count": 170,
   "id": "18cdb5d7",
   "metadata": {},
   "outputs": [
    {
     "name": "stdout",
     "output_type": "stream",
     "text": [
      " am vamshi\n"
     ]
    }
   ],
   "source": [
    "# 82\n",
    "ch2=input()\n",
    "if len(ch2)%2!=0:\n",
    "    ch2='Haii '+ch2\n",
    "    print(ch2)\n",
    "else:\n",
    "    print(ch2[1:-1])"
   ]
  },
  {
   "cell_type": "code",
   "execution_count": 8,
   "id": "f14cf97a",
   "metadata": {},
   "outputs": [
    {
     "name": "stdout",
     "output_type": "stream",
     "text": [
      "&olle\n"
     ]
    }
   ],
   "source": [
    "# 83\n",
    "ch2=input()\n",
    "asci=ord(ch2[-1])\n",
    "if (asci >=38 and asci <=47) or (asci >57 and asci <=64) or (asci >=92 and asci <=97) or (asci >=122 and asci<=127):\n",
    "    reverse=ch2[::-1]\n",
    "    print(reverse[:-1])\n",
    "else:\n",
    "    if len(ch2)%2!=0:\n",
    "        print(ch2[len(ch2)//2:])"
   ]
  },
  {
   "cell_type": "code",
   "execution_count": 18,
   "id": "eb597b5c",
   "metadata": {},
   "outputs": [
    {
     "name": "stdout",
     "output_type": "stream",
     "text": [
      "leap Year\n"
     ]
    }
   ],
   "source": [
    "# 84\n",
    "num=int(input())\n",
    "if num%4==0 and (num%100!=0 or num%400==0):\n",
    "    print(\"leap Year\")\n",
    "else:\n",
    "    print(\"not a leap year\")"
   ]
  },
  {
   "cell_type": "code",
   "execution_count": null,
   "id": "cc4b4af2",
   "metadata": {},
   "outputs": [],
   "source": [
    "# 85\n",
    "num1=int(input())\n",
    "num2=int(input())\n",
    "if num1>num2:\n",
    "    print(\"Greatest: \",num1)\n",
    "else:\n",
    "    print(\"Greatest: \",num2)\n"
   ]
  },
  {
   "cell_type": "code",
   "execution_count": 19,
   "id": "0c0380e5",
   "metadata": {},
   "outputs": [
    {
     "name": "stdout",
     "output_type": "stream",
     "text": [
      "value is present\n"
     ]
    }
   ],
   "source": [
    "# 86\n",
    "num=int(input())\n",
    "list1=[1,2,3,4,5,6,7,8,9,0]\n",
    "if num in list1:\n",
    "    print(\"value is present\")\n",
    "else:\n",
    "    print(\"values is not present\")"
   ]
  },
  {
   "cell_type": "code",
   "execution_count": 23,
   "id": "fa374d8e",
   "metadata": {},
   "outputs": [
    {
     "name": "stdout",
     "output_type": "stream",
     "text": [
      "hihihi\n"
     ]
    }
   ],
   "source": [
    "# 87\n",
    "ch2=input()\n",
    "if len(ch2)>2:\n",
    "    print(ch2[-1]+ch2[1:-1]+ch2[0])\n",
    "else:\n",
    "    print(ch2*3)"
   ]
  },
  {
   "cell_type": "code",
   "execution_count": 30,
   "id": "2e79042e",
   "metadata": {},
   "outputs": [
    {
     "name": "stdout",
     "output_type": "stream",
     "text": [
      "[0.3333333333333333, 2, 3, 4, 5, 6, 7, -9]\n"
     ]
    }
   ],
   "source": [
    "# 88\n",
    "list1=[1,2,3,4,5,6,7,8]\n",
    "if type(list1)==list and type(list1[0])==int and type(list1[-1])==int:\n",
    "    list1[0]=list1[0]/3\n",
    "    list1[-1]=~list1[-1]\n",
    "    print(list1)\n",
    "else:\n",
    "    print(len(list1)**3)\n"
   ]
  },
  {
   "cell_type": "code",
   "execution_count": 33,
   "id": "5e0282bb",
   "metadata": {},
   "outputs": [
    {
     "name": "stdout",
     "output_type": "stream",
     "text": [
      "hellohellohello\n"
     ]
    }
   ],
   "source": [
    "# 89\n",
    "ch2=input()\n",
    "if type(ch2)==str and len(ch2)>7:\n",
    "    ch=input()\n",
    "    ch2=ch2[0:len(ch2)//2]+ch+ch2[len(ch2)//2:]\n",
    "    print(ch2)\n",
    "else:\n",
    "    print(ch2*3)"
   ]
  },
  {
   "cell_type": "code",
   "execution_count": 37,
   "id": "939c5e48",
   "metadata": {},
   "outputs": [
    {
     "name": "stdout",
     "output_type": "stream",
     "text": [
      "a b n g\n"
     ]
    }
   ],
   "source": [
    "# 90\n",
    "ch2=input()\n",
    "if ord(ch2[0])+1==ord(ch2[1]):\n",
    "    print(ch2[0],ch2[1],ch2[-2],ch2[-1])\n",
    "else:\n",
    "    reverse=ch2[0:len(ch2)//2][::-1]\n",
    "    print(reverse,ch2[len(ch2)//2:],sep='')"
   ]
  },
  {
   "cell_type": "code",
   "execution_count": 40,
   "id": "4722146d",
   "metadata": {},
   "outputs": [
    {
     "name": "stdout",
     "output_type": "stream",
     "text": [
      "not found\n"
     ]
    }
   ],
   "source": [
    "# 91\n",
    "num=int(input())\n",
    "coll=[1,2,3,4,5,6,7,8,9,0]\n",
    "if num in coll:\n",
    "    print('Present')\n",
    "else:\n",
    "    print(\"not found\")"
   ]
  },
  {
   "cell_type": "code",
   "execution_count": 44,
   "id": "0d59b5f3",
   "metadata": {},
   "outputs": [
    {
     "name": "stdout",
     "output_type": "stream",
     "text": [
      "hello\n",
      "{'1': 'hello', '2': 'Good'}\n"
     ]
    }
   ],
   "source": [
    "# 92\n",
    "key =input()\n",
    "dict1={'1':\"hello\",'2':'Good'}\n",
    "if key in dict1:\n",
    "    print(dict1[key])\n",
    "else:\n",
    "    value=input(\"The key is not found Enter a value to add\")\n",
    "    dict1[key]='value'\n",
    "print(dict1)"
   ]
  },
  {
   "cell_type": "code",
   "execution_count": 56,
   "id": "e452a928",
   "metadata": {},
   "outputs": [
    {
     "name": "stdout",
     "output_type": "stream",
     "text": [
      "{1, 2, 3, 4, 5, 6, 87}\n"
     ]
    }
   ],
   "source": [
    "# 93\n",
    "val=[1,2,3,2,87,3,1,2,3,4,5,6]\n",
    "if type(val)==set:\n",
    "    value=int(input(\"Enter something to insert\"))\n",
    "    list1=list(val)\n",
    "    list1.append(value)\n",
    "    val=set(list1)\n",
    "    print(val)\n",
    "else:\n",
    "    val=set(val)\n",
    "    print(val)"
   ]
  },
  {
   "cell_type": "code",
   "execution_count": 59,
   "id": "d36babc1",
   "metadata": {},
   "outputs": [
    {
     "name": "stdout",
     "output_type": "stream",
     "text": [
      "12 Not eligible\n"
     ]
    }
   ],
   "source": [
    "# 94\n",
    "age=int(input(\"Enter age\"))\n",
    "if age > 18:\n",
    "    print(age,'eligible to vote')\n",
    "else:\n",
    "    print(age,'Not eligible')"
   ]
  },
  {
   "cell_type": "code",
   "execution_count": 63,
   "id": "b33e885f",
   "metadata": {},
   "outputs": [
    {
     "name": "stdout",
     "output_type": "stream",
     "text": [
      "2\n"
     ]
    }
   ],
   "source": [
    "# 95\n",
    "num=int(input())\n",
    "\n",
    "if num%2==0 and num<=58 and num>=47 and not(num==0 or num%2!=0):\n",
    "    print(chr(num))\n",
    "else:\n",
    "    print(num//5)"
   ]
  },
  {
   "cell_type": "code",
   "execution_count": 65,
   "id": "46931b5f",
   "metadata": {},
   "outputs": [
    {
     "name": "stdout",
     "output_type": "stream",
     "text": [
      "NOT PALINDROME hello\n"
     ]
    }
   ],
   "source": [
    "# 96\n",
    "ch2=input()\n",
    "if ch2==ch2[::-1]:\n",
    "    print('PALINDROME',ch2)\n",
    "else:\n",
    "    print('NOT PALINDROME',ch2)"
   ]
  },
  {
   "cell_type": "code",
   "execution_count": null,
   "id": "a7910369",
   "metadata": {},
   "outputs": [],
   "source": [
    "# 97\n"
   ]
  },
  {
   "cell_type": "code",
   "execution_count": 68,
   "id": "e31b6c75",
   "metadata": {},
   "outputs": [
    {
     "name": "stdout",
     "output_type": "stream",
     "text": [
      "hello  6 darling 7\n"
     ]
    }
   ],
   "source": [
    "# 98\n",
    "ch2=input()\n",
    "ch3=input()\n",
    "if len(ch2)==len(ch3):\n",
    "    print(ch2+ch3)\n",
    "else:\n",
    "    print(ch2,len(ch2),ch3,len(ch3))"
   ]
  },
  {
   "cell_type": "code",
   "execution_count": 74,
   "id": "fcb9e0cc",
   "metadata": {},
   "outputs": [
    {
     "name": "stdout",
     "output_type": "stream",
     "text": [
      "1795509427184 1795509427184\n",
      "l\n"
     ]
    }
   ],
   "source": [
    "# 99\n",
    "list1='hello'\n",
    "list2='hello'\n",
    "print(id(list1),id(list2))\n",
    "if id(list1)==id(list2):\n",
    "    print(list2[len(list2)//2])\n",
    "else:\n",
    "    print(list1[0],list1[-1],id(list1))"
   ]
  },
  {
   "cell_type": "code",
   "execution_count": 80,
   "id": "fb168b95",
   "metadata": {},
   "outputs": [
    {
     "name": "stdout",
     "output_type": "stream",
     "text": [
      "65 115 65\n"
     ]
    }
   ],
   "source": [
    "# 100\n",
    "ch2='AsjhfdusfgkshA'\n",
    "if ord(ch2[0])%5==0 and ord(ch2[-1]) %5==0 and len(ch2)>10:\n",
    "    print(ord(ch2[0]),ord(ch2[len(ch2)//2]),ord(ch2[-1]))\n",
    "else:\n",
    "    print(ch2*3)"
   ]
  },
  {
   "cell_type": "code",
   "execution_count": 83,
   "id": "a2b15b9b",
   "metadata": {},
   "outputs": [
    {
     "name": "stdout",
     "output_type": "stream",
     "text": [
      "[1, 2, 3, 'str', 4, 5]\n"
     ]
    }
   ],
   "source": [
    "# 101\n",
    "list1=[1,2,3,'str',4,5]\n",
    "if type(list1[len(list1)//2])==str:\n",
    "    print(list1)\n",
    "else:\n",
    "    print(list1[len(list1)//2])"
   ]
  },
  {
   "cell_type": "code",
   "execution_count": 84,
   "id": "06781421",
   "metadata": {},
   "outputs": [
    {
     "name": "stdout",
     "output_type": "stream",
     "text": [
      "oellh\n"
     ]
    }
   ],
   "source": [
    "# 102\n",
    "ch2=input()\n",
    "ch=ch2[-1]+ch2[1:-1]+ch2[0]\n",
    "print(ch)"
   ]
  },
  {
   "cell_type": "code",
   "execution_count": 86,
   "id": "24bd376f",
   "metadata": {},
   "outputs": [
    {
     "name": "stdout",
     "output_type": "stream",
     "text": [
      "49\n"
     ]
    }
   ],
   "source": [
    "# 103\n",
    "num=int(input())\n",
    "if num%7==0 and num%5!=0:\n",
    "    print(num)\n",
    "else:\n",
    "    print(num*4)"
   ]
  },
  {
   "cell_type": "code",
   "execution_count": 88,
   "id": "dbe24d80",
   "metadata": {},
   "outputs": [
    {
     "name": "stdout",
     "output_type": "stream",
     "text": [
      "1795516209584 1795516212416\n"
     ]
    }
   ],
   "source": [
    "# 104\n",
    "num1=input()\n",
    "num2=input()\n",
    "if id(num1)==id(num2):\n",
    "    print(id(num1))\n",
    "else:\n",
    "    print(id(num1),id(num2))"
   ]
  },
  {
   "cell_type": "code",
   "execution_count": 91,
   "id": "c2563cf6",
   "metadata": {},
   "outputs": [
    {
     "name": "stdout",
     "output_type": "stream",
     "text": [
      "aaa\n"
     ]
    }
   ],
   "source": [
    "# 105\n",
    "ch=input()\n",
    "asci=ord(ch)\n",
    "if (asci >=38 and asci <=47) or (asci >57 and asci <=64) or (asci >=92 and asci <97) or (asci >=122 and asci<=127):\n",
    "    print(ch*5)\n",
    "else:\n",
    "    print(ch*3)"
   ]
  },
  {
   "cell_type": "code",
   "execution_count": 93,
   "id": "63244173",
   "metadata": {},
   "outputs": [
    {
     "name": "stdout",
     "output_type": "stream",
     "text": [
      "hello hell\n"
     ]
    }
   ],
   "source": [
    "# 106\n",
    "ch2=input()\n",
    "ch3=input()\n",
    "if len(ch2)==len(ch3):\n",
    "    print(ch2)\n",
    "else:\n",
    "    print(ch2,ch3)"
   ]
  },
  {
   "cell_type": "code",
   "execution_count": 95,
   "id": "21f3dcdf",
   "metadata": {},
   "outputs": [
    {
     "name": "stdout",
     "output_type": "stream",
     "text": [
      "h 1795516139200\n"
     ]
    }
   ],
   "source": [
    "# 107\n",
    "num1=input()\n",
    "num2=input()\n",
    "if id(num1)==id(num2):\n",
    "    print(num2[-1])\n",
    "else:\n",
    "    print(num1[0],id(num1))\n"
   ]
  },
  {
   "cell_type": "code",
   "execution_count": 99,
   "id": "09a03645",
   "metadata": {},
   "outputs": [
    {
     "name": "stdout",
     "output_type": "stream",
     "text": [
      "`\n"
     ]
    }
   ],
   "source": [
    "# 108\n",
    "ch2=input()\n",
    "if len(ch2)>3 and (ch2[len(ch2)//2] in 'aeiouAEIOU') and ord(ch2[0])%2==0:\n",
    "    print(chr(ord(ch2[len(ch2)//2])-1))\n",
    "else:\n",
    "    print(ch2*3)"
   ]
  },
  {
   "cell_type": "code",
   "execution_count": 101,
   "id": "42b77416",
   "metadata": {},
   "outputs": [
    {
     "name": "stdout",
     "output_type": "stream",
     "text": [
      "bought\n"
     ]
    }
   ],
   "source": [
    "# 109\n",
    "shop=['pen','paper','pencil','scissors']\n",
    "if 'pen' in shop:\n",
    "    print('bought')\n",
    "else:\n",
    "    print('not bought')"
   ]
  },
  {
   "cell_type": "code",
   "execution_count": 105,
   "id": "411a08ac",
   "metadata": {},
   "outputs": [],
   "source": [
    "# 110\n",
    "list1=[1,2,4,4,5]\n",
    "list2=[1,2,4,4,5]\n",
    "if list1[0]%2==0 and list1[len(list1)//2]%2==0:\n",
    "    print(list1+list2)\n",
    "# else:\n",
    "#     print(list1-list2)"
   ]
  },
  {
   "cell_type": "code",
   "execution_count": 107,
   "id": "d4bdf888",
   "metadata": {},
   "outputs": [
    {
     "name": "stdout",
     "output_type": "stream",
     "text": [
      "1795525470144 1795520324800\n"
     ]
    }
   ],
   "source": [
    "# 111\n",
    "list1=['hello',2,3,4]\n",
    "list2=[1,2,3,4]\n",
    "if type(list1[0])==type(list1[0])==int:\n",
    "    print(list1+list2)\n",
    "else:\n",
    "    print(id(list1),id(list2))"
   ]
  }
 ],
 "metadata": {
  "kernelspec": {
   "display_name": "Python 3",
   "language": "python",
   "name": "python3"
  },
  "language_info": {
   "codemirror_mode": {
    "name": "ipython",
    "version": 3
   },
   "file_extension": ".py",
   "mimetype": "text/x-python",
   "name": "python",
   "nbconvert_exporter": "python",
   "pygments_lexer": "ipython3",
   "version": "3.13.5"
  }
 },
 "nbformat": 4,
 "nbformat_minor": 5
}
