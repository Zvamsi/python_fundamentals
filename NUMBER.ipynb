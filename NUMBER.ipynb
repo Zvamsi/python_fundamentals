{
 "cells": [
  {
   "cell_type": "code",
   "execution_count": null,
   "id": "8a319721",
   "metadata": {},
   "outputs": [],
   "source": [
    "#NUMBER PROGRAMMING\n",
    "# The Process of extracting digit from a digit and doing a task on that digit.\n",
    "\n",
    "# HARSHAD NUMBER ->num%sum of digits==0\n",
    "# SPY NUMBER->sum of digits=product of digits\n",
    "# MEGA PRIME -> all digits in a given number is prime\n",
    "# ARMSTRONG NUMBER-> sum of digits of its power to length=num\n",
    "# NEON Number->square it and sum it and equate it"
   ]
  },
  {
   "cell_type": "code",
   "execution_count": null,
   "id": "0b464bf1",
   "metadata": {},
   "outputs": [],
   "source": [
    "# 1.Extract Digits and print them\n",
    "num=int(input(\"Enter a digit\"))\n",
    "while num>0:\n",
    "    print(num%10)\n",
    "    num=num//10\n",
    "    "
   ]
  },
  {
   "cell_type": "code",
   "execution_count": null,
   "id": "4d62cd2c",
   "metadata": {},
   "outputs": [],
   "source": [
    "# 2.WAP to print the count of all digits from given number\n",
    "num=int(input(\"Enter a digit\"))\n",
    "count=0\n",
    "while num>0:\n",
    "    digit=num%10\n",
    "    count+=1\n",
    "    num=num//10\n",
    "print(count)"
   ]
  },
  {
   "cell_type": "code",
   "execution_count": null,
   "id": "c491c343",
   "metadata": {},
   "outputs": [],
   "source": [
    "# 3.WAP to print sum of all digits from a given number\n",
    "num=int(input(\"Enter a digit\"))\n",
    "sum=0\n",
    "while num>0:\n",
    "    digit=num%10\n",
    "    sum+=digit\n",
    "    num=num//10\n",
    "print(sum)\n"
   ]
  },
  {
   "cell_type": "code",
   "execution_count": null,
   "id": "ec35efdc",
   "metadata": {},
   "outputs": [],
   "source": [
    "# 4.WAP to print odd digits from a given number\n",
    "num=int(input(\"Enter a digit\"))\n",
    "while num>0:\n",
    "    digit=num%10\n",
    "    if digit%2!=0:\n",
    "        print(digit)\n",
    "    num=num//10"
   ]
  },
  {
   "cell_type": "code",
   "execution_count": null,
   "id": "114ac692",
   "metadata": {},
   "outputs": [],
   "source": [
    "# 5.WAP to print the digits from a given number where are greater than 5\n",
    "num=int(input(\"Enter a digit\"))\n",
    "while num>0:\n",
    "    digit=num%10\n",
    "    if digit>5:\n",
    "        print(digit)\n",
    "    num=num//10\n",
    "    "
   ]
  },
  {
   "cell_type": "code",
   "execution_count": null,
   "id": "0e5d73f8",
   "metadata": {},
   "outputs": [],
   "source": [
    "# 6.Write a program to print sum of even digits from given number.\n",
    "num=int(input(\"Enter a digit\"))\n",
    "sum=0\n",
    "while num>0:\n",
    "    digit=num%10\n",
    "    if digit%2==0:\n",
    "        sum+=digit\n",
    "    num=num//10\n",
    "print(sum)"
   ]
  },
  {
   "cell_type": "code",
   "execution_count": null,
   "id": "ec53e9de",
   "metadata": {},
   "outputs": [],
   "source": [
    "# 7.WAP to print the product of all digits from given number\n",
    "num=int(input(\"Enter a digit\"))\n",
    "product=1\n",
    "while num>0:\n",
    "    digit=num%10\n",
    "    product*=digit\n",
    "    num=num//10\n",
    "print(product)"
   ]
  },
  {
   "cell_type": "code",
   "execution_count": null,
   "id": "5ab253f3",
   "metadata": {},
   "outputs": [],
   "source": [
    "# 8.WAP to check if given number is SPY number or not\n",
    "num=int(input(\"Enter a digit\"))\n",
    "product=1\n",
    "sum=0\n",
    "while num>0:\n",
    "    digit=num%10\n",
    "    product*=digit\n",
    "    sum+=digit\n",
    "    num=num//10\n",
    "if sum==product:\n",
    "    print(\"SPY Number\")\n",
    "else:\n",
    "    print(\"Not a SPY Number\")"
   ]
  },
  {
   "cell_type": "code",
   "execution_count": null,
   "id": "ebe0c64b",
   "metadata": {},
   "outputs": [],
   "source": [
    "# 9.WAP to print the digits which are divisors of 24 from a given number\n",
    "num=int(input(\"Enter a digit\"))\n",
    "while num>0:\n",
    "    digit=num%10\n",
    "    if 24%digit==0:\n",
    "        print(digit)\n",
    "    num=num//10"
   ]
  },
  {
   "cell_type": "code",
   "execution_count": null,
   "id": "c4d330b8",
   "metadata": {},
   "outputs": [],
   "source": [
    "# 10.WAP to check sum of digits is a given number is prime or not\n",
    "num=int(input(\"Enter a digit\"))\n",
    "sum=0\n",
    "while num>0:\n",
    "    digit=num%10\n",
    "    sum+=digit\n",
    "    num=num//10\n",
    "print(sum)\n",
    "i=1\n",
    "count=0\n",
    "while i<=sum:\n",
    "    if sum%i==0:\n",
    "        count+=1\n",
    "    i+=1\n",
    "if count==2:\n",
    "    print('Prime Number')\n",
    "else:\n",
    "    print(\"Not Prime\")"
   ]
  },
  {
   "cell_type": "code",
   "execution_count": null,
   "id": "ff28a73e",
   "metadata": {},
   "outputs": [],
   "source": [
    "# 11.WAP to check the count of digits in a given number is divisor for 8 or not\n",
    "num=int(input(\"Enter a digit\"))\n",
    "count=0\n",
    "while num>0:\n",
    "    digit=num%10\n",
    "    count+=1\n",
    "    num=num//10\n",
    "if 8%count==0:\n",
    "    print(\"Yes\")\n",
    "else:\n",
    "    print('No')"
   ]
  },
  {
   "cell_type": "code",
   "execution_count": null,
   "id": "43fba12b",
   "metadata": {},
   "outputs": [],
   "source": [
    "# 12.WAP to check whether a given number is Harshad number or not (190)\n",
    "num=int(input(\"Enter a digit\"))\n",
    "sum=0\n",
    "num1=num\n",
    "while num>0:\n",
    "    digit=num%10\n",
    "    sum+=digit\n",
    "    num=num//10\n",
    "\n",
    "if num1%sum==0:\n",
    "    print(\"Harshad Number\")\n",
    "else:\n",
    "    print(\"Not a Harshad Number\")"
   ]
  },
  {
   "cell_type": "code",
   "execution_count": null,
   "id": "817d57e5",
   "metadata": {},
   "outputs": [],
   "source": [
    "# 13.WAP to print factorial of a given number\n",
    "num=int(input(\"Enter a digit\"))\n",
    "fact=1\n",
    "i=1\n",
    "while i<=num:\n",
    "    fact*=i\n",
    "    i+=1\n",
    "print(fact)"
   ]
  },
  {
   "cell_type": "code",
   "execution_count": null,
   "id": "ef518250",
   "metadata": {},
   "outputs": [],
   "source": [
    "# 14. WAP to print the series from 1 to digit everytime from given number\n",
    "num=int(input(\"Enter a digit\"))\n",
    "while num>0:\n",
    "    digit=num%10\n",
    "    i=1\n",
    "    while i<=digit:\n",
    "        print(i,end=' ')\n",
    "        i+=1\n",
    "    print('\\n')\n",
    "    num=num//10\n"
   ]
  },
  {
   "cell_type": "code",
   "execution_count": null,
   "id": "dfbefb96",
   "metadata": {},
   "outputs": [],
   "source": [
    "# 15. WAP to print factorial of each digit from a given number\n",
    "num=int(input(\"Enter a digit\"))\n",
    "while num>0:\n",
    "    digit=num%10\n",
    "    i=1\n",
    "    fact=1\n",
    "    while i<=digit:\n",
    "        fact*=i\n",
    "        i+=1\n",
    "    num=num//10\n",
    "    print(fact)"
   ]
  },
  {
   "cell_type": "code",
   "execution_count": null,
   "id": "7b7e7302",
   "metadata": {},
   "outputs": [],
   "source": [
    "# 16.WAP to print sum of series from 1 to digit for each digit in a given number\n",
    "num=int(input(\"Enter a digit\"))\n",
    "while num>0:\n",
    "    digit=num%10\n",
    "    sum=0\n",
    "    i=1\n",
    "    while i<=digit:\n",
    "        sum+=i\n",
    "        i+=1\n",
    "    print(sum)\n",
    "    num=num//10\n"
   ]
  },
  {
   "cell_type": "code",
   "execution_count": null,
   "id": "1db61e14",
   "metadata": {},
   "outputs": [],
   "source": [
    "# 17.WAP to print sum of all factorials of each digit from a given number\n",
    "num=int(input(\"Enter a digit\"))\n",
    "sum=0\n",
    "while num>0:\n",
    "    digit=num%10\n",
    "    fact=1\n",
    "    i=1\n",
    "    while i<=digit:\n",
    "        fact*=i\n",
    "        i+=1\n",
    "    sum+=fact\n",
    "    num=num//10\n",
    "print(sum)"
   ]
  },
  {
   "cell_type": "code",
   "execution_count": null,
   "id": "c01ea25b",
   "metadata": {},
   "outputs": [],
   "source": [
    "# 18.WAP to print prime digits from a given number\n",
    "num=int(input(\"Enter a digit\"))\n",
    "num1=num\n",
    "while num>0:\n",
    "    digit=num%10\n",
    "    i=1\n",
    "    count=0\n",
    "    while i<=digit:\n",
    "        if digit%i==0:\n",
    "            count+=1\n",
    "        i+=1\n",
    "    if count==2:\n",
    "        print(digit)\n",
    "    num=num//10"
   ]
  },
  {
   "cell_type": "code",
   "execution_count": null,
   "id": "e2d88b8d",
   "metadata": {},
   "outputs": [],
   "source": [
    "# 19.WAP to check the given number is mega prime or not\n",
    "num=int(input(\"Enter a digit\"))\n",
    "is_mega_prime=True\n",
    "\n",
    "while num>0:\n",
    "    digit=num%10\n",
    "    i=1\n",
    "    count=0\n",
    "    while i<=digit:\n",
    "        if digit%i==0:\n",
    "            count+=1\n",
    "        i+=1\n",
    "    if count!=2:\n",
    "        is_mega_prime=False\n",
    "    num=num//10\n",
    "if is_mega_prime:\n",
    "    print(\"Mega Prime\")\n",
    "else:\n",
    "    print('Not a Mega Prime')"
   ]
  },
  {
   "cell_type": "code",
   "execution_count": null,
   "id": "a215a4e1",
   "metadata": {},
   "outputs": [],
   "source": [
    "# 20.WAP to check the given number is Armstrong number or not\n",
    "num=int(input(\"Enter a digit\"))\n",
    "num1=num2=num\n",
    "length=0\n",
    "sum=0\n",
    "while num>0:\n",
    "    digit=num%10\n",
    "    length+=1\n",
    "    num=num//10\n",
    "while num1>0:\n",
    "    digit=num1%10\n",
    "    sum+=digit**length\n",
    "    num1=num1//10\n",
    "if sum==num2:\n",
    "    print('Armstrong Number')\n",
    "else:\n",
    "    print(\"Not an Armstrong Number\")\n"
   ]
  },
  {
   "cell_type": "code",
   "execution_count": null,
   "id": "689a278d",
   "metadata": {},
   "outputs": [],
   "source": [
    "# 21.WAP to check the given number is neon number or not\n",
    "num=int(input(\"Enter a digit\"))\n",
    "num2=num**2\n",
    "sum=0\n",
    "while num2>0:\n",
    "    digit=num2%10\n",
    "    sum+=digit\n",
    "    num2=num2//10\n",
    "if sum==num:\n",
    "    print(\"NEON Number\")\n",
    "else:\n",
    "    print(\"Not a Neon Number\")"
   ]
  },
  {
   "cell_type": "code",
   "execution_count": null,
   "id": "6d37c701",
   "metadata": {},
   "outputs": [],
   "source": [
    "# 22.WAP to print HCF of given two numbers\n",
    "num1=int(input(\"Enter a digit\"))\n",
    "num2=int(input(\"Enter a digit\"))\n",
    "i=1\n",
    "gcd=1\n",
    "while i<=num1 and i<=num2:\n",
    "    if num1%i==0 and num2%i==0:\n",
    "        gcd=i\n",
    "    i+=1\n",
    "print(gcd)\n"
   ]
  },
  {
   "cell_type": "code",
   "execution_count": null,
   "id": "36acfd40",
   "metadata": {},
   "outputs": [],
   "source": [
    "# 23.WAP to check sum of digits is single digit if not make is single digit and print it\n",
    "num=int(input(\"Enter a digit\"))\n",
    "sum=0\n",
    "while num>0:\n",
    "    digit=num%10\n",
    "    sum+=digit**2\n",
    "    num=num//10\n",
    "    if num==0:\n",
    "        if sum>9:\n",
    "            num=sum\n",
    "            sum=0\n",
    "        else:\n",
    "            print(sum)"
   ]
  },
  {
   "cell_type": "code",
   "execution_count": null,
   "id": "3224d5b7",
   "metadata": {},
   "outputs": [],
   "source": [
    "# 24.Check whether the given number is Happy number or sad Number\n",
    "num=int(input(\"Enter a digit\"))\n",
    "sum=0\n",
    "while num>0:\n",
    "    digit=num%10\n",
    "    sum+=digit**2\n",
    "    num=num//10\n",
    "    if num==0:\n",
    "        if sum!=4 and sum!=1:\n",
    "            num=sum\n",
    "            sum=0\n",
    "        elif sum==1:\n",
    "            print(\"Happy Number\")\n",
    "        else:\n",
    "            print(\"Unhappy Number\")\n",
    "    \n"
   ]
  },
  {
   "cell_type": "code",
   "execution_count": null,
   "id": "8ebc6aed",
   "metadata": {},
   "outputs": [],
   "source": [
    "#25.WAP to print prime numbers from 1 to 100\n",
    "i=1\n",
    "while i<=100:\n",
    "    num=i\n",
    "    count=0\n",
    "    start=1\n",
    "    while start<=num:\n",
    "        if num%start==0:\n",
    "            count+=1\n",
    "        start+=1\n",
    "    if count==2:\n",
    "        print(num)\n",
    "    i+=1"
   ]
  },
  {
   "cell_type": "code",
   "execution_count": null,
   "id": "78a1ce4e",
   "metadata": {},
   "outputs": [],
   "source": [
    "# 26.WAP to print perfect numbers between 5 and 50\n",
    "i=5\n",
    "while i<=50:\n",
    "    sum=0\n",
    "    start=1\n",
    "    while start<i:\n",
    "        if i%start==0:\n",
    "            sum+=start\n",
    "        start+=1\n",
    "    if sum==i:\n",
    "        print(i)\n",
    "    i+=1"
   ]
  },
  {
   "cell_type": "code",
   "execution_count": null,
   "id": "f76fa425",
   "metadata": {},
   "outputs": [],
   "source": [
    "# 27.WAP to print first 5 prime digits\n",
    "n=5\n",
    "i=1\n",
    "while n>0:\n",
    "    start=1\n",
    "    count=0\n",
    "    while start<=i:\n",
    "        if i%start==0:\n",
    "            count+=1\n",
    "        start+=1\n",
    "    if count==2:\n",
    "        print(i)\n",
    "        n-=1\n",
    "    i+=1"
   ]
  },
  {
   "cell_type": "code",
   "execution_count": null,
   "id": "605492a7",
   "metadata": {},
   "outputs": [],
   "source": [
    "# Exercises"
   ]
  },
  {
   "cell_type": "code",
   "execution_count": null,
   "id": "e1d4cdce",
   "metadata": {},
   "outputs": [],
   "source": [
    "# 1.WAP to check whether the given number is even or odd\n",
    "num=int(input(\"Enter a number\"))\n",
    "if num%2==0:\n",
    "    print('EVEN')\n",
    "else:\n",
    "    print('ODD')"
   ]
  },
  {
   "cell_type": "code",
   "execution_count": null,
   "id": "0fa8024d",
   "metadata": {},
   "outputs": [],
   "source": [
    "# 2.WAP to print the sum of the numbers between m to n\n",
    "m=int(input(\"Enter a number\"))\n",
    "n=int(input(\"Enter a number\"))\n",
    "\n",
    "sum=0\n",
    "while m<=n:\n",
    "    sum+=m\n",
    "    m+=1\n",
    "print(sum)"
   ]
  },
  {
   "cell_type": "code",
   "execution_count": null,
   "id": "f885d15b",
   "metadata": {},
   "outputs": [],
   "source": [
    "# 3.WAP to print the product of the numbers between m to n\n",
    "m=int(input(\"Enter a number\"))\n",
    "n=int(input(\"Enter a number\"))\n",
    "pdt=1\n",
    "while m<=n:\n",
    "    pdt*=m\n",
    "    m+=1\n",
    "print(pdt)"
   ]
  },
  {
   "cell_type": "code",
   "execution_count": null,
   "id": "efca6664",
   "metadata": {},
   "outputs": [],
   "source": [
    "# 4.WAP to count the numbers from m to n\n",
    "m=int(input(\"Enter a number\"))\n",
    "n=int(input(\"Enter a number\"))\n",
    "count=0\n",
    "while m<=n:\n",
    "    count+=1\n",
    "    m+=1\n",
    "print(count)"
   ]
  },
  {
   "cell_type": "code",
   "execution_count": null,
   "id": "7d00b0df",
   "metadata": {},
   "outputs": [],
   "source": [
    "# 5.WAP to swap two numbers\n"
   ]
  },
  {
   "cell_type": "code",
   "execution_count": null,
   "id": "c35a29e8",
   "metadata": {},
   "outputs": [],
   "source": [
    "# 6.WAP to swap two numbers using third variable\n",
    "m=int(input(\"Enter a number\"))\n",
    "n=int(input(\"Enter a number\"))\n",
    "m,n=n,m\n",
    "print(m,n)\n",
    "\n"
   ]
  },
  {
   "cell_type": "code",
   "execution_count": null,
   "id": "b029f515",
   "metadata": {},
   "outputs": [],
   "source": [
    "# 7.WAP to swap two numbers without using third variable\n",
    "n=int(input(\"Enter a number\"))\n",
    "m=int(input(\"Enter a number\"))\n",
    "\n",
    "temp=n\n",
    "n=m\n",
    "m=temp\n",
    "print(n,m)"
   ]
  },
  {
   "cell_type": "code",
   "execution_count": null,
   "id": "08c1b66f",
   "metadata": {},
   "outputs": [],
   "source": [
    "# 8.WAP to print the square of a given number\n",
    "num=int(input(\"Enter a number\"))\n",
    "print(num**2)"
   ]
  },
  {
   "cell_type": "code",
   "execution_count": null,
   "id": "3ee5633d",
   "metadata": {},
   "outputs": [],
   "source": [
    "# 9.WAP to print the cube of a given number\n",
    "num=int(input(\"Enter a number\"))\n",
    "\n",
    "print(num**3)"
   ]
  },
  {
   "cell_type": "code",
   "execution_count": null,
   "id": "de7da68b",
   "metadata": {},
   "outputs": [],
   "source": [
    "# 10.WAP to print the Factorial of a given number\n",
    "num=int(input(\"Enter a number\"))\n",
    "fact=1\n",
    "while num>0:\n",
    "    fact*=num\n",
    "    num-=1\n",
    "print(fact)"
   ]
  },
  {
   "cell_type": "code",
   "execution_count": null,
   "id": "db705f5d",
   "metadata": {},
   "outputs": [],
   "source": [
    "# 11.WAp to print the factors of the number\n",
    "num=int(input(\"Enter a number\"))\n",
    "i=1\n",
    "while i<=num:\n",
    "    if num%i==0:\n",
    "        print(i)\n",
    "    i+=1"
   ]
  },
  {
   "cell_type": "code",
   "execution_count": null,
   "id": "4cd5c023",
   "metadata": {},
   "outputs": [],
   "source": [
    "# 12.WAP to print Fibonacci series\n",
    "i=1\n",
    "num=int(input(\"Enter a number\"))\n",
    "num1=0\n",
    "num2=1\n",
    "while i<=num:\n",
    "    result=num1+num2\n",
    "    num1=num2\n",
    "    num2=result\n",
    "    print(num2,end=' ')\n",
    "    i+=1"
   ]
  },
  {
   "cell_type": "code",
   "execution_count": null,
   "id": "61891709",
   "metadata": {},
   "outputs": [],
   "source": [
    "    # 13.WAP to print exponential value for a given base and power (x^n)\n",
    "base=int(input(\"Enter a number\"))\n",
    "power=int(input(\"Enter a number\"))\n",
    "print(base**power)"
   ]
  },
  {
   "cell_type": "code",
   "execution_count": null,
   "id": "21dd89b2",
   "metadata": {},
   "outputs": [],
   "source": [
    "# 14.WAP to extract digits in reverse order\n",
    "num=int(input(\"Enter a number\"))\n",
    "while num>0:\n",
    "    digit=num%10\n",
    "    # print(digit,end='')\n",
    "    num=num//10"
   ]
  },
  {
   "cell_type": "code",
   "execution_count": null,
   "id": "ab2fad83",
   "metadata": {},
   "outputs": [],
   "source": [
    "# 15.WAP to extract digits in reverse order and print them\n",
    "num=int(input(\"Enter a number\"))\n",
    "while num>0:\n",
    "    digit=num%10\n",
    "    print(digit,end='')\n",
    "    num=num//10"
   ]
  },
  {
   "cell_type": "code",
   "execution_count": null,
   "id": "32387805",
   "metadata": {},
   "outputs": [],
   "source": [
    "# 16.WAP to extract digits in reverse order and count them\n",
    "num=int(input(\"Enter a number\"))\n",
    "count=0\n",
    "while num>0:\n",
    "    # digit=num%10\n",
    "    count+=1\n",
    "    num=num//10\n",
    "print(count)"
   ]
  },
  {
   "cell_type": "code",
   "execution_count": null,
   "id": "97f9e542",
   "metadata": {},
   "outputs": [],
   "source": [
    "# 17.WAP to extract digits in reverse order and print the sum\n",
    "num=int(input(\"Enter a number\"))\n",
    "sum=0\n",
    "while num>0:\n",
    "    digit=num%10\n",
    "    sum+=digit\n",
    "    num=num//10\n",
    "print(sum)"
   ]
  },
  {
   "cell_type": "code",
   "execution_count": null,
   "id": "84647709",
   "metadata": {},
   "outputs": [],
   "source": [
    "# 18.WAP to extract digits in reverse order and print the product\n",
    "num=int(input(\"Enter a number\"))\n",
    "pdt=1\n",
    "while num>0:\n",
    "    digit=num%10\n",
    "    pdt*=digit\n",
    "    num=num//10\n",
    "print(pdt)"
   ]
  },
  {
   "cell_type": "code",
   "execution_count": null,
   "id": "58449d1d",
   "metadata": {},
   "outputs": [],
   "source": [
    "# 19.WAP to Reverse a Number\n",
    "num=int(input(\"Enter a number\"))\n",
    "reverse=0\n",
    "while num>0:\n",
    "    digit=num%10\n",
    "    reverse=reverse*10+digit\n",
    "    num=num//10\n",
    "print(reverse)"
   ]
  },
  {
   "cell_type": "code",
   "execution_count": null,
   "id": "f68224c6",
   "metadata": {},
   "outputs": [],
   "source": [
    "# 20.WAP to print the Multiplication table of a number\n",
    "num=int(input(\"Enter a number\"))\n",
    "i=1\n",
    "while i<=10:\n",
    "    print(f\"{num} X {i} = {num*i}\")\n",
    "    i+=1"
   ]
  },
  {
   "cell_type": "code",
   "execution_count": null,
   "id": "49e9ebb7",
   "metadata": {},
   "outputs": [],
   "source": [
    "# 21.WAP to check whether the given number is prime or not\n",
    "num=int(input(\"Enter a number\"))\n",
    "i=1\n",
    "count=0\n",
    "while i<=num:\n",
    "    if num%i==0:\n",
    "        count+=1\n",
    "    i+=1\n",
    "if count==2:\n",
    "    print(\"Prime Number\")\n",
    "else:\n",
    "    print(\"Not a Prime Number\")"
   ]
  },
  {
   "cell_type": "code",
   "execution_count": null,
   "id": "203e4bed",
   "metadata": {},
   "outputs": [],
   "source": [
    "# 22.WAP to print the sum of prime numbers from m to n\n",
    "m=int(input(\"Enter a number\"))\n",
    "n=int(input(\"Enter a number\"))\n",
    "sum=0\n",
    "while m<=n:\n",
    "    i=1\n",
    "    count=0\n",
    "    while i<=m:\n",
    "        if m%i==0:\n",
    "            count+=1\n",
    "        i+=1\n",
    "    if count==2:\n",
    "        sum+=m\n",
    "    m+=1\n",
    "print(sum)"
   ]
  },
  {
   "cell_type": "code",
   "execution_count": null,
   "id": "664f894e",
   "metadata": {},
   "outputs": [],
   "source": [
    "# 23.WAP to print the product of prime numbers from m to n\n",
    "m=int(input(\"Enter a number\"))\n",
    "n=int(input(\"Enter a number\"))\n",
    "pdt=1\n",
    "while m<=n:\n",
    "    i=1\n",
    "    count=0\n",
    "    while i<=m:\n",
    "        if m%i==0:\n",
    "            count+=1\n",
    "        i+=1\n",
    "    if count==2:\n",
    "        pdt*=m\n",
    "    m+=1\n",
    "print(pdt)"
   ]
  },
  {
   "cell_type": "code",
   "execution_count": null,
   "id": "8bc6d7b9",
   "metadata": {},
   "outputs": [],
   "source": [
    "# 24.WAP to print the sum of factors of a number\n",
    "num=int(input(\"Enter a number\"))\n",
    "sum=0\n",
    "i=1\n",
    "while i<=num:\n",
    "    if num%i==0:\n",
    "        sum+=i\n",
    "    i+=1\n",
    "print(sum)"
   ]
  },
  {
   "cell_type": "code",
   "execution_count": null,
   "id": "f6145cf1",
   "metadata": {},
   "outputs": [],
   "source": [
    "# 25.WAP to print the product of factors of a number\n",
    "num=int(input(\"Enter a number\"))\n",
    "i=1\n",
    "pdt=1\n",
    "while i<=num:\n",
    "    if num%i==0:\n",
    "        pdt*=i\n",
    "    i+=1\n",
    "print(pdt)"
   ]
  },
  {
   "cell_type": "code",
   "execution_count": null,
   "id": "25efbca6",
   "metadata": {},
   "outputs": [],
   "source": [
    "# 26. WAP to print sum of even and odd factors in a given number\n",
    "num=int(input(\"Enter a number\"))\n",
    "even_s=0\n",
    "odd_s=0\n",
    "i=1\n",
    "while i<=num:\n",
    "    if num%i==0:\n",
    "        if i%2==0:\n",
    "            even_s+=i\n",
    "        else:\n",
    "            odd_s+=i\n",
    "    i+=1\n",
    "print(\"even sum: \",even_s)\n",
    "print(\"odd sum: \",odd_s)"
   ]
  },
  {
   "cell_type": "code",
   "execution_count": null,
   "id": "89233058",
   "metadata": {},
   "outputs": [],
   "source": [
    "# 27.WAP to print product of even and odd factors in a given number\n",
    "num=int(input(\"Enter a number\"))\n",
    "even_p=1\n",
    "odd_p=1\n",
    "i=1\n",
    "while i<=num:\n",
    "    if num%i==0:\n",
    "        if i%2==0:\n",
    "            even_p*=i\n",
    "        else:\n",
    "            odd_p*=i\n",
    "    i+=1\n",
    "print('even product',even_p)\n",
    "print('odd product',odd_p)"
   ]
  },
  {
   "cell_type": "code",
   "execution_count": null,
   "id": "baf55179",
   "metadata": {},
   "outputs": [],
   "source": [
    "# 28.WAP to count the digits in a given number\n",
    "num=int(input(\"Enter a number\"))\n",
    "count=0\n",
    "while num>0:\n",
    "    count+=1\n",
    "    num=num//10\n",
    "print(count)"
   ]
  },
  {
   "cell_type": "code",
   "execution_count": null,
   "id": "bd51fd30",
   "metadata": {},
   "outputs": [],
   "source": [
    "# 29.WAP to print even digits in a given number\n",
    "num=int(input(\"Enter a number\"))\n",
    "while num>0:\n",
    "    digit=num%10\n",
    "    if digit%2==0:\n",
    "        print(digit)\n",
    "    num=num//10"
   ]
  },
  {
   "cell_type": "code",
   "execution_count": null,
   "id": "356ab398",
   "metadata": {},
   "outputs": [],
   "source": [
    "# 30.WAP to print odd digits in a given number\n",
    "num=int(input(\"Enter a number\"))\n",
    "while num>0:\n",
    "    digit=num%10\n",
    "    if digit%2!=0:\n",
    "        print(digit)\n",
    "    num=num//10"
   ]
  },
  {
   "cell_type": "code",
   "execution_count": null,
   "id": "f37a4996",
   "metadata": {},
   "outputs": [],
   "source": [
    "# 31.WAP to print sum of digits in a given number\n",
    "num=int(input(\"Enter a number\"))\n",
    "sum=0\n",
    "while num>0:\n",
    "    digit=num%10\n",
    "    sum+=digit\n",
    "    num=num//10\n",
    "print(sum)"
   ]
  },
  {
   "cell_type": "code",
   "execution_count": null,
   "id": "ecd8ce42",
   "metadata": {},
   "outputs": [],
   "source": [
    "# 32.WAP to print product of digits in a given number\n",
    "num=int(input(\"Enter a number\"))\n",
    "pdt=1\n",
    "while num>0:\n",
    "    digit=num%10\n",
    "    pdt*=digit\n",
    "    num=num//10\n",
    "print(pdt)"
   ]
  },
  {
   "cell_type": "code",
   "execution_count": null,
   "id": "07c00bad",
   "metadata": {},
   "outputs": [],
   "source": [
    "# 33.WAP to print sum of even digits in a given number\n",
    "num=int(input(\"Enter a number\"))\n",
    "sum=0\n",
    "i=1\n",
    "while i<=num:\n",
    "    digit=num%10\n",
    "    if digit%2==0:\n",
    "        sum+=digit\n",
    "    num=num//10\n",
    "print(sum)\n"
   ]
  },
  {
   "cell_type": "code",
   "execution_count": null,
   "id": "eff8e23d",
   "metadata": {},
   "outputs": [],
   "source": [
    "# 34.WAP to print product of prime digits in a given number\n",
    "num=int(input(\"Enter a number\"))\n",
    "pdt=1\n",
    "i=1\n",
    "while i<=num:\n",
    "    digit=num%10\n",
    "    start=1\n",
    "    count=0\n",
    "    while start<=digit:\n",
    "        if digit%start==0:\n",
    "            count+=1\n",
    "        start+=1\n",
    "    if count==2:\n",
    "        pdt*=digit\n",
    "    num=num//10\n",
    "print(pdt)"
   ]
  },
  {
   "cell_type": "code",
   "execution_count": null,
   "id": "93e9f560",
   "metadata": {},
   "outputs": [],
   "source": [
    "# 35.WAP to print factorial of each digit in a given number\n",
    "num=int(input(\"Enter a number\"))\n",
    "i=1\n",
    "while i<=num:\n",
    "    digit=num%10\n",
    "    pdt=1\n",
    "    while digit>0:\n",
    "        pdt*=digit\n",
    "        digit-=1\n",
    "    print(pdt)\n",
    "    num=num//10"
   ]
  },
  {
   "cell_type": "code",
   "execution_count": null,
   "id": "24d3e135",
   "metadata": {},
   "outputs": [],
   "source": [
    "# 36.WAP to print sum of factorial of each digit in a given number\n",
    "num=int(input(\"Enter a number\"))\n",
    "i=1\n",
    "sum=0\n",
    "while i<=num:\n",
    "    digit=num%10\n",
    "    pdt=1\n",
    "    while digit>0:\n",
    "        pdt*=digit\n",
    "        digit-=1\n",
    "    sum+=pdt\n",
    "    num=num//10\n",
    "print(sum)"
   ]
  },
  {
   "cell_type": "code",
   "execution_count": null,
   "id": "42125e64",
   "metadata": {},
   "outputs": [],
   "source": [
    "# 37.WAP to print the factorial of even digits in a given number\n",
    "num=int(input(\"Enter a number\"))\n",
    "while num>0:\n",
    "    digit=num%10\n",
    "    i=1\n",
    "    pdt=1\n",
    "    if digit%2==0:\n",
    "        while i<=digit:\n",
    "            pdt*=i\n",
    "            i+=1\n",
    "        print(pdt)\n",
    "    num=num//10\n"
   ]
  },
  {
   "cell_type": "code",
   "execution_count": null,
   "id": "c33fa2d5",
   "metadata": {},
   "outputs": [],
   "source": [
    "# 38.WAP to print the factorial of odd digits in a given number\n",
    "num=int(input(\"Enter a number\"))\n",
    "while num>0:\n",
    "    digit=num%10\n",
    "    i=1\n",
    "    pdt=1\n",
    "    if digit%2!=0:\n",
    "        while i<=digit:\n",
    "            pdt*=i\n",
    "            i+=1\n",
    "        print(pdt)\n",
    "    num=num//10\n"
   ]
  },
  {
   "cell_type": "code",
   "execution_count": null,
   "id": "7ed101fe",
   "metadata": {},
   "outputs": [],
   "source": [
    "# 39.WAP to print the power of each digit to the count number of digits in the given number\n",
    "\n",
    "num=int(input(\"Enter a number\"))\n",
    "num1=num\n",
    "count=0\n",
    "while num>0:\n",
    "    count+=1\n",
    "    num=num//10\n",
    "while num1>0:\n",
    "    digit=num1%10\n",
    "    digit=digit**count\n",
    "    print(digit)\n",
    "    num1=num1//10"
   ]
  },
  {
   "cell_type": "code",
   "execution_count": null,
   "id": "4c6eecb8",
   "metadata": {},
   "outputs": [],
   "source": [
    "# 40.WAP to print the sum of power of each digit to the count number of digits in the given number\n",
    "num=int(input(\"Enter a number\"))\n",
    "num1=num\n",
    "sum=0\n",
    "count=0\n",
    "while num>0:\n",
    "    count+=1\n",
    "    num=num//10\n",
    "while num1>0:\n",
    "    digit=num1%10\n",
    "    sum+=digit**count\n",
    "    num1=num1//10\n",
    "print(sum)"
   ]
  },
  {
   "cell_type": "code",
   "execution_count": null,
   "id": "c60b44d2",
   "metadata": {},
   "outputs": [],
   "source": [
    "# 41.WAP to print the sum of power of even digits to the count number of digits in the given number\n",
    "num=int(input(\"Enter a number\"))\n",
    "num1=num\n",
    "sum=0\n",
    "count=0\n",
    "while num>0:\n",
    "    count+=1\n",
    "    num=num//10\n",
    "while num1>0:\n",
    "    digit=num1%10\n",
    "    if digit%2==0:\n",
    "        sum+=digit**count\n",
    "    num1=num1//10\n",
    "print(sum)"
   ]
  },
  {
   "cell_type": "code",
   "execution_count": null,
   "id": "9c65a853",
   "metadata": {},
   "outputs": [],
   "source": [
    "# 42.WAP to print the sum of power of odd digit to the count number of digits in the given number\n",
    "num=int(input(\"Enter a number\"))\n",
    "num1=num\n",
    "sum=0\n",
    "count=0\n",
    "while num>0:\n",
    "    count+=1\n",
    "    num=num//10\n",
    "while num1>0:\n",
    "    digit=num1%10\n",
    "    if digit%2!=0:\n",
    "        sum+=digit**count\n",
    "    num1=num1//10\n",
    "print(sum)"
   ]
  },
  {
   "cell_type": "code",
   "execution_count": null,
   "id": "6b7c4cd5",
   "metadata": {},
   "outputs": [],
   "source": [
    "# 43.WAP to print the nth prime number\n",
    "num=int(input(\"Enter a number\"))\n",
    "i=1\n",
    "prime=0\n",
    "while num>0:\n",
    "    start=1\n",
    "    count=0\n",
    "    while start<=i:\n",
    "        if i%start==0:\n",
    "            count+=1\n",
    "        start+=1\n",
    "    if count==2:\n",
    "        num-=1\n",
    "        prime=i\n",
    "    i+=1\n",
    "print(prime)"
   ]
  },
  {
   "cell_type": "code",
   "execution_count": null,
   "id": "9c05b3ee",
   "metadata": {},
   "outputs": [],
   "source": [
    "# 44.WAP to print the next prime number for a given number\n",
    "num=int(input(\"Enter a number\"))\n",
    "n=1\n",
    "while n>0:\n",
    "    count=0\n",
    "    i=1\n",
    "    while i<=num:\n",
    "        if num%i==0:\n",
    "            count+=1\n",
    "        i+=1\n",
    "    if count==2:\n",
    "        n-=1\n",
    "        print(num)\n",
    "    num+=1"
   ]
  },
  {
   "cell_type": "code",
   "execution_count": null,
   "id": "b46cf46f",
   "metadata": {},
   "outputs": [],
   "source": [
    "# 45.WAP to print the nth fibonacci series\n",
    "num=int(input(\"Enter a number\"))\n",
    "num1=0\n",
    "num2=1\n",
    "while num>0:\n",
    "    result=num1+num2\n",
    "    num1=num2\n",
    "    num2=result\n",
    "    print(num1,end=' ')\n",
    "    num-=1"
   ]
  },
  {
   "cell_type": "code",
   "execution_count": null,
   "id": "803d5518",
   "metadata": {},
   "outputs": [],
   "source": [
    "# 46.WAP to check if a number is a Fibonacci number or not\n",
    "num=int(input(\"Enter a number\"))\n",
    "num1=1\n",
    "num2=1\n",
    "while num>=num1:\n",
    "    result=num1+num2\n",
    "    num1=num2\n",
    "    num2=result\n",
    "    if num==num2:\n",
    "        print(\"Fibonacci Number\")"
   ]
  },
  {
   "cell_type": "code",
   "execution_count": null,
   "id": "1dc852e6",
   "metadata": {},
   "outputs": [],
   "source": [
    "# 47.WAP to find the largest digit in a given number\n",
    "num=int(input(\"Enter a number\"))\n",
    "large=0\n",
    "while num>0:\n",
    "    digit=num%10\n",
    "    if digit>large:\n",
    "        large=digit\n",
    "    num=num//10\n",
    "print(large)"
   ]
  },
  {
   "cell_type": "code",
   "execution_count": null,
   "id": "f06b4dda",
   "metadata": {},
   "outputs": [],
   "source": [
    "# 48.WAP to find the smallest digit in a given number\n",
    "num=int(input(\"Enter a number\"))\n",
    "small=10\n",
    "while num>0:\n",
    "    digit=num%10\n",
    "    if digit<small:\n",
    "        small=digit\n",
    "    num=num//10\n",
    "print(small)"
   ]
  },
  {
   "cell_type": "code",
   "execution_count": null,
   "id": "002e30f4",
   "metadata": {},
   "outputs": [],
   "source": [
    "# 49.WAP to find the nth Largest digit in a given number\n",
    "num=int(input(\"Enter a number\"))\n",
    "n=2\n",
    "largest=10\n",
    "while n>0:\n",
    "    large=0\n",
    "    num1=num\n",
    "    while num1>0:\n",
    "        digit=num1%10\n",
    "        if digit>large and digit<largest:\n",
    "            large=digit\n",
    "        num1=num1//10\n",
    "    largest=large\n",
    "    n-=1\n",
    "print(largest)\n",
    "    "
   ]
  },
  {
   "cell_type": "code",
   "execution_count": null,
   "id": "ab43f5c0",
   "metadata": {},
   "outputs": [],
   "source": [
    "# 50.WAP to find the nth smallest digit in a given number\n",
    "num=int(input(\"Enter a number\"))\n",
    "n=int(input(\"Enter which smallest digit you want\"))\n",
    "smallest=-1 #To include 0 in value we keep smallest as -1\n",
    "while n>0:\n",
    "    small=10\n",
    "    num1=num\n",
    "    while num1>0:\n",
    "        digit=num1%10\n",
    "        if digit<small and digit>smallest:\n",
    "           small=digit\n",
    "        num1=num1//10\n",
    "    smallest=small\n",
    "    n-=1\n",
    "print(smallest)"
   ]
  },
  {
   "cell_type": "code",
   "execution_count": null,
   "id": "23897fe2",
   "metadata": {},
   "outputs": [],
   "source": [
    "# 51.WAP to find the sum of smallest digit and largest digit in a given number.\n",
    "num=int(input(\"Enter a number\"))\n",
    "sum=0\n",
    "small=10\n",
    "large=0\n",
    "while num>0:\n",
    "    digit=num%10\n",
    "    if digit<small:\n",
    "        small=digit\n",
    "    if digit>large:\n",
    "        large=digit\n",
    "    num=num//10\n",
    "sum=small+large\n",
    "print(sum)"
   ]
  },
  {
   "cell_type": "code",
   "execution_count": null,
   "id": "8a88ac06",
   "metadata": {},
   "outputs": [],
   "source": [
    "# 52.WAP to find the sum of nth smallest digit and nth largest digit in a given number\n",
    "num=int(input(\"Enter a number\"))\n",
    "n=int(input(\"Enter a level of digits to find sum\"))\n",
    "largest=10\n",
    "smallest=-1\n",
    "while n>0:\n",
    "    large=0\n",
    "    small=10\n",
    "    num1=num\n",
    "    while num1>0:\n",
    "        digit=num1%10\n",
    "        if digit>large and digit<largest:\n",
    "            large=digit\n",
    "        if digit<small and digit > smallest:\n",
    "            small=digit\n",
    "        num1=num1//10\n",
    "    largest=large\n",
    "    smallest=small\n",
    "    n-=1\n",
    "sum=largest+smallest\n",
    "print(sum)\n"
   ]
  },
  {
   "cell_type": "code",
   "execution_count": null,
   "id": "cba86a1c",
   "metadata": {},
   "outputs": [],
   "source": [
    "# 53.WAP to find the binary representation of a number\n",
    "num=int(input(\"Enter a number\"))\n",
    "num1=num\n",
    "reverse_binary=1\n",
    "binary=0\n",
    "while num>0: #Binary rep but comes in reverse order\n",
    "    reverse_binary=(reverse_binary*10)+num%2\n",
    "    num=num//2\n",
    "print(reverse_binary) #Not working for 200/100\n",
    "while reverse_binary>9: #To reverse the binary representation\n",
    "    digit=reverse_binary%10\n",
    "    binary=(binary*10)+digit\n",
    "    reverse_binary=reverse_binary//10\n",
    "print(binary)"
   ]
  },
  {
   "cell_type": "code",
   "execution_count": null,
   "id": "8c84abd2",
   "metadata": {},
   "outputs": [],
   "source": [
    "# 54.WAP to find the decimal representation of a binary number\n",
    "num=int(input(\"Enter a number\"))\n",
    "sum=0\n",
    "i=0\n",
    "while num>0:\n",
    "    digit=num%10\n",
    "    sum+=digit*(2**i)\n",
    "    num=num//10\n",
    "    i+=1\n",
    "print(sum)"
   ]
  },
  {
   "cell_type": "code",
   "execution_count": null,
   "id": "1ea470e3",
   "metadata": {},
   "outputs": [],
   "source": [
    "# 55.WAP to find the GCD or HCF of two numbers\n",
    "num1=int(input(\"Enter a number\"))\n",
    "num2=int(input(\"Enter a number\"))\n",
    "gcd=1\n",
    "i=1\n",
    "while i<=num1 and i<=num2:\n",
    "    if num1%i==0 and num2%i==0:\n",
    "        gcd=i\n",
    "    i+=1\n",
    "print(gcd)"
   ]
  },
  {
   "cell_type": "code",
   "execution_count": null,
   "id": "54d905f4",
   "metadata": {},
   "outputs": [],
   "source": [
    "# 56.WAP to find the LCM of two numbers.\n",
    "num1=int(input(\"Enter a number\"))\n",
    "num2=int(input(\"Enter a number\"))\n",
    "dup_num1=num1\n",
    "dup_num2=num2\n",
    "while num1!=num2:\n",
    "    if num1<num2:\n",
    "        num1+=dup_num1\n",
    "    elif num2<num1:\n",
    "        num2+=dup_num2\n",
    "print(num1)"
   ]
  },
  {
   "cell_type": "code",
   "execution_count": null,
   "id": "2cb4306d",
   "metadata": {},
   "outputs": [],
   "source": [
    "# HARD LEVEL-1"
   ]
  },
  {
   "cell_type": "code",
   "execution_count": null,
   "id": "904a5742",
   "metadata": {},
   "outputs": [],
   "source": [
    "# 57.WAP to check whether the given number is Twisted Prime or not\n",
    "num=int(input(\"Enter a number\"))\n",
    "num1=num\n",
    "reverse=0\n",
    "start=1\n",
    "count=0\n",
    "while start<=num:\n",
    "    if num%start==0:\n",
    "        count+=1\n",
    "    start+=1\n",
    "if count==2: #If it is prime start to reverse number and check that\n",
    "    while num1>0: # reverse Number\n",
    "        digit=num1%10\n",
    "        reverse=reverse*10+digit\n",
    "        num1=num1//10\n",
    "    count=0\n",
    "    i=1\n",
    "    while i<=reverse: # check prime\n",
    "        if reverse%i==0:\n",
    "            count+=1\n",
    "        i+=1\n",
    "    if count==2:\n",
    "        print('Twisted Prime Number')\n",
    "    else:\n",
    "        print(\"Not a Twisted prime but actual prime\")"
   ]
  },
  {
   "cell_type": "code",
   "execution_count": 47,
   "id": "80fdca48",
   "metadata": {},
   "outputs": [
    {
     "name": "stdout",
     "output_type": "stream",
     "text": [
      "Not a Mega Prime Number\n"
     ]
    }
   ],
   "source": [
    "# 58.WAP to check whether the given number is Mega prime Number or not.\n",
    "num=int(input(\"Enter a number\"))\n",
    "is_mega_prime=True\n",
    "while num>0:\n",
    "    digit=num%10\n",
    "    count=0\n",
    "    i=1\n",
    "    while i<=digit:\n",
    "        if digit%i==0:\n",
    "            count+=1\n",
    "        i+=1\n",
    "    if count!=2:\n",
    "        is_mega_prime=False\n",
    "    num=num//10\n",
    "if is_mega_prime:\n",
    "    print('Mega Prime Number')\n",
    "else:\n",
    "    print(\"Not a Mega Prime Number\")"
   ]
  },
  {
   "cell_type": "code",
   "execution_count": null,
   "id": "0c8ad48c",
   "metadata": {},
   "outputs": [],
   "source": [
    "# 59.WAP to check whether the given number is Palindrome or not\n",
    "num=int(input(\"Enter a number\"))\n",
    "num1=num\n",
    "reverse=0\n",
    "while num>0:\n",
    "    digit=num%10\n",
    "    reverse=reverse*10+digit\n",
    "    num=num//10\n",
    "if num1==reverse:\n",
    "    print(\"Palindrome\")\n",
    "else:\n",
    "    print(\"Not a palindrome\")"
   ]
  },
  {
   "cell_type": "code",
   "execution_count": null,
   "id": "7955c66e",
   "metadata": {},
   "outputs": [],
   "source": [
    "# 60.WAP to check whether the given number is SPY Number or not\n",
    "num=int(input(\"Enter a number\"))\n",
    "sum=0\n",
    "pdt=1\n",
    "while num>0:\n",
    "    digit=num%10\n",
    "    sum+=digit\n",
    "    pdt*=digit\n",
    "    num=num//10\n",
    "if sum==pdt:\n",
    "    print(\"SPY Number\")\n",
    "else:\n",
    "    print(\"Not a SPY Number\")"
   ]
  },
  {
   "cell_type": "code",
   "execution_count": null,
   "id": "7fe03f43",
   "metadata": {},
   "outputs": [],
   "source": [
    "# 61.WAP to check whether the given number is Perfect Number or not\n",
    "num=int(input(\"Enter a number\"))\n",
    "num1=num\n",
    "sum=0\n",
    "i=1\n",
    "while i<num:\n",
    "    if num%i==0:\n",
    "        sum+=i\n",
    "    i+=1\n",
    "if sum==num1:\n",
    "    print(\"Perfect Number\")\n",
    "else:\n",
    "    print(\"Not a perfect Number\")"
   ]
  },
  {
   "cell_type": "code",
   "execution_count": null,
   "id": "4ee70f54",
   "metadata": {},
   "outputs": [],
   "source": [
    "# 62.WAP to check whether the given number is Strong Number or not\n",
    "# STRONG NUMBER : The number whose factorials of a digit is equal to that number.\n",
    "num=int(input(\"Enter a number\"))\n",
    "num1=num\n",
    "sum=0\n",
    "while num>0:\n",
    "    digit=num%10\n",
    "    i=1\n",
    "    fact=1\n",
    "    while i<=digit:\n",
    "        fact*=i\n",
    "        i+=1\n",
    "    sum+=fact\n",
    "    num=num//10\n",
    "if sum==num1:\n",
    "    print(\"Strong number\")\n",
    "else:\n",
    "    print(\"Not a strong Number\")"
   ]
  },
  {
   "cell_type": "code",
   "execution_count": null,
   "id": "1c666aa5",
   "metadata": {},
   "outputs": [],
   "source": [
    "# 63.WAP to check whether the given number is Neon Number or not\n",
    "# NEON NUMBER : Square of number and sum of digits is equal to that number\n",
    "num=int(input(\"Enter a number\"))\n",
    "new_num=num**2\n",
    "sum=0\n",
    "while new_num>0:\n",
    "    digit=new_num%10\n",
    "    sum+=digit\n",
    "    new_num=new_num//10\n",
    "if sum==num:\n",
    "    print(\"Neon Number\")\n",
    "else:\n",
    "    print(\"Not a Neon Number\")"
   ]
  },
  {
   "cell_type": "code",
   "execution_count": null,
   "id": "8a258c51",
   "metadata": {},
   "outputs": [],
   "source": [
    "# 64.WAP to check whether the given number is Armstrong or not\n",
    "# ARMSTRONG NUMBER: A number which each digit power by length of number and sum equal to the same number\n",
    "num=int(input(\"Enter a number\"))\n",
    "num1=num2=num\n",
    "sum=0\n",
    "count=0\n",
    "while num>0:\n",
    "    count+=1\n",
    "    num=num//10\n",
    "while num1>0:\n",
    "    digit=num1%10\n",
    "    sum+=digit**count\n",
    "    num1=num1//10\n",
    "if sum==num2:\n",
    "    print(\"Armstrong Number\")\n",
    "else:\n",
    "    print(\"Not an Armstrong Number\")"
   ]
  },
  {
   "cell_type": "code",
   "execution_count": 1,
   "id": "65613ed3",
   "metadata": {},
   "outputs": [
    {
     "name": "stdout",
     "output_type": "stream",
     "text": [
      "SUNNY NUMBER\n"
     ]
    }
   ],
   "source": [
    "# 65.WAP to check whether the given number is Sunny Number or not\n",
    "# SUNNY NUMBER: The number+1=perfect square\n",
    "num=int(input(\"Enter a number\"))\n",
    "square=num+1\n",
    "i=1\n",
    "while True:\n",
    "    n=i**2\n",
    "    if n==square:\n",
    "        print(\"SUNNY NUMBER\")\n",
    "        break\n",
    "    elif n>num:\n",
    "        print(\"Not a sunny Number\")\n",
    "        break\n",
    "    i+=1"
   ]
  },
  {
   "cell_type": "code",
   "execution_count": null,
   "id": "cb67f204",
   "metadata": {},
   "outputs": [],
   "source": [
    "# 66.WAP to check whether the given number is Automorphic or not\n",
    "# AUTOMORPHIC NUMBER: A number in which squared last digits are same as original Number\n",
    "num=int(input(\"Enter a number\"))\n",
    "square=num**2\n",
    "is_AutoMorphic=True\n",
    "while num>0:\n",
    "    digit1=num%10\n",
    "    digit2=square%10\n",
    "    if digit1!=digit2:\n",
    "        is_AutoMorphic=False\n",
    "        break\n",
    "    num=num//10\n",
    "    square=square//10\n",
    "if is_AutoMorphic:\n",
    "    print(\"AutoMorphic Number\")\n",
    "else:\n",
    "    print(\"Not an AutoMorphic Number\")"
   ]
  },
  {
   "cell_type": "code",
   "execution_count": null,
   "id": "e18bbfe6",
   "metadata": {},
   "outputs": [],
   "source": [
    "# 67.WAP to check whether the given number is Magic Number or not\n",
    "# MAGIC NUMBER: A number adds up all digits becomes 1\n",
    "num=int(input(\"Enter a number\"))\n",
    "sum=0\n",
    "while num>0:\n",
    "    digit=num%10\n",
    "    sum+=digit\n",
    "    num=num//10\n",
    "    if num==0:\n",
    "        if sum==1:\n",
    "            print(\"Magic Number\")\n",
    "        elif sum>9:\n",
    "            num=sum\n",
    "            sum=0\n",
    "        else:\n",
    "            print(\"Not a Magic Number\")\n",
    "    "
   ]
  },
  {
   "cell_type": "code",
   "execution_count": null,
   "id": "0e01bab2",
   "metadata": {},
   "outputs": [],
   "source": [
    "# 68.WAP to check whether the given number is Tech Number or not\n",
    "# TECH NUMBER: even digits convert into 2 halves add and square it sum it get same number\n",
    "\n",
    "num=int(input(\"Enter a number\"))\n",
    "num1=num2=num\n",
    "count=0\n",
    "sum1=sum2=0\n",
    "as1=0\n",
    "as2=0\n",
    "while num>0:\n",
    "    count+=1\n",
    "    num=num//10\n",
    "if count%2==0:\n",
    "    first_half=count/2\n",
    "    i=1\n",
    "    while num1>0:\n",
    "        while i<=first_half:\n",
    "            digit=num1%10\n",
    "            sum1=sum1*10+digit\n",
    "            i+=1\n",
    "            num1=num1//10\n",
    "\n",
    "        while i<=count:\n",
    "            digit=num1%10\n",
    "            sum2=sum2*10+digit\n",
    "            i+=1\n",
    "            num1=num1//10\n",
    "\n",
    "        while sum1>0:\n",
    "            digit=sum1%10\n",
    "            as1=as1*10+digit\n",
    "            sum1=sum1//10\n",
    "        while sum2>0:\n",
    "            digit=sum2%10\n",
    "            as2=as2*10+digit\n",
    "            sum2=sum2//10\n",
    "\n",
    "print(as1)\n",
    "print(as2)\n",
    "\n",
    "if (as1+as2)**2==num2:\n",
    "    print(\"Tech number\")\n",
    "else:\n",
    "    print(\"Non_Tech Number\")\n",
    "\n",
    "        \n"
   ]
  },
  {
   "cell_type": "code",
   "execution_count": null,
   "id": "626e0764",
   "metadata": {},
   "outputs": [],
   "source": [
    "# 68.WAP to check whether the given number is Tech Number or not\n",
    "# TECH NUMBER: even digits convert into 2 halves add and square it sum it get same number\n",
    "num=int(input(\"Enter a number\"))\n",
    "num1=num\n",
    "count=0\n",
    "divisor=1\n",
    "while num>0:\n",
    "    count+=1\n",
    "    num=num//10\n",
    "if count%2==0:\n",
    "    c=count/2\n",
    "    # divisor=10**c\n",
    "    while c>0:\n",
    "        divisor*=10\n",
    "        c-=1\n",
    "    # print(divisor)\n",
    "    first_d=num1//divisor\n",
    "    last_d=num1%divisor\n",
    "    if (first_d+last_d)**2==num1:\n",
    "        print(\"Tech Number\")\n",
    "    else:\n",
    "        print(\"Not a Tech Number\")\n",
    "else:\n",
    "    print(\"Something went wrong\")"
   ]
  },
  {
   "cell_type": "code",
   "execution_count": null,
   "id": "7b6d750c",
   "metadata": {},
   "outputs": [],
   "source": [
    "# 69.WAP to check whether the given number is Harshad(Niven) Number or not\n",
    "# HARSHAD NUMBER: The sum of digits of a given number divides number get absolute integer(divisor for that number)\n",
    "num=int(input(\"Enter a number\"))\n",
    "num1=num\n",
    "sum=0\n",
    "while num>0:\n",
    "    digit=num%10\n",
    "    sum+=digit\n",
    "    num=num//10\n",
    "if num1%sum==0:\n",
    "    print(\"Harshad(Niven) Number\")\n",
    "else:\n",
    "    print(\"Not a Harsha(Niven) Number\")"
   ]
  },
  {
   "cell_type": "code",
   "execution_count": null,
   "id": "585f52a0",
   "metadata": {},
   "outputs": [],
   "source": [
    "# HARD LEVEL-2"
   ]
  },
  {
   "cell_type": "code",
   "execution_count": null,
   "id": "cf6d242b",
   "metadata": {},
   "outputs": [],
   "source": [
    "# 70.WAP to print the Twisted Prime Numbers present in the range of m to n.\n",
    "m=int(input(\"Enter a number\"))\n",
    "n=int(input(\"Enter a number\"))\n",
    "m1=m\n",
    "rev_m=0\n",
    "while m<=n:\n",
    "    i=1\n",
    "    count=0\n",
    "    while i<=m:\n",
    "        if m%i==0:\n",
    "            count+=1\n",
    "        i+=1\n",
    "    if count==2:\n",
    "        # print(f'{m} is prime')\n",
    "        m1=m2=m\n",
    "        rev_m=0\n",
    "        while m1>0:\n",
    "            digit=m1%10\n",
    "            rev_m=rev_m*10+digit\n",
    "            m1=m1//10\n",
    "        j=1\n",
    "        count2=0\n",
    "        while j<=rev_m:\n",
    "            if rev_m%j==0:\n",
    "                count2+=1\n",
    "            j+=1\n",
    "        if count2==2:\n",
    "            print(m2)\n",
    "    m+=1\n"
   ]
  },
  {
   "cell_type": "code",
   "execution_count": null,
   "id": "af73cdc8",
   "metadata": {},
   "outputs": [],
   "source": [
    "# 71.WAP to print the Mega Prime Numbers present in the range of m to n.\n",
    "m=int(input(\"Enter a number\"))\n",
    "n=int(input(\"Enter a number\"))\n",
    "while m<=n:\n",
    "    m1=m\n",
    "    while m1>0:\n",
    "        digit=m1%10\n",
    "        i=1\n",
    "        count=0\n",
    "        is_mega_prime=True\n",
    "        while i<=digit:\n",
    "            if digit%i==0:\n",
    "                count+=1\n",
    "            i+=1\n",
    "        if count!=2:\n",
    "            is_mega_prime=False\n",
    "            break\n",
    "        m1=m1//10\n",
    "    if is_mega_prime:\n",
    "        print(m)\n",
    "    m+=1\n"
   ]
  },
  {
   "cell_type": "code",
   "execution_count": null,
   "id": "d329159a",
   "metadata": {},
   "outputs": [],
   "source": [
    "# 72.WAP to print the Palindrome Numbers present in the range of m to n.\n",
    "m=int(input(\"Enter a number\"))\n",
    "n=int(input(\"Enter a number\"))\n",
    "while m<=n:\n",
    "    rev_m=0\n",
    "    m1=m\n",
    "    while m>0:\n",
    "        digit=m%10\n",
    "        rev_m=rev_m*10+digit\n",
    "        m=m//10\n",
    "    if m1==rev_m:\n",
    "        print(m1)\n",
    "    m=m1+1\n",
    "\n"
   ]
  },
  {
   "cell_type": "code",
   "execution_count": null,
   "id": "7a2c828e",
   "metadata": {},
   "outputs": [],
   "source": [
    "# 73.WAP to print the SPY Numbers present in the range of m to n.\n",
    "m=int(input(\"Enter a number\"))\n",
    "n=int(input(\"Enter a number\"))\n",
    "while m<=n:\n",
    "    num=m\n",
    "    sum=0\n",
    "    pdt=1\n",
    "    while num>0:\n",
    "        digit=num%10\n",
    "        pdt*=digit\n",
    "        sum+=digit\n",
    "        num=num//10\n",
    "    if sum==pdt:\n",
    "        print(m)\n",
    "    m+=1"
   ]
  },
  {
   "cell_type": "code",
   "execution_count": null,
   "id": "d5b85ea1",
   "metadata": {},
   "outputs": [],
   "source": [
    "# 74.WAP to print the Perfect Numbers present in the range of m to n.\n",
    "m=int(input(\"Enter a number\"))\n",
    "n=int(input(\"Enter a number\"))\n",
    "while m<=n:\n",
    "    num=m\n",
    "    i=1\n",
    "    sum=0\n",
    "    while i<num:\n",
    "        if num%i==0:\n",
    "            sum+=i\n",
    "        i+=1\n",
    "    if sum==m:\n",
    "        print(m)\n",
    "    m+=1"
   ]
  },
  {
   "cell_type": "code",
   "execution_count": null,
   "id": "d06f29ce",
   "metadata": {},
   "outputs": [],
   "source": [
    "# 75.WAP to print the Strong Numbers present in the range of m to n.\n",
    "m=int(input(\"Enter a number\"))\n",
    "n=int(input(\"Enter a number\"))\n",
    "while m<=n:\n",
    "    num=m\n",
    "    sum=0\n",
    "    while num>0:\n",
    "        fact=1\n",
    "        i=1\n",
    "        digit=num%10\n",
    "        while i<=digit:\n",
    "            fact*=i\n",
    "            i+=1\n",
    "        sum+=fact\n",
    "        num=num//10\n",
    "    if sum==m:\n",
    "        print(m)\n",
    "    m+=1"
   ]
  },
  {
   "cell_type": "code",
   "execution_count": null,
   "id": "161c366b",
   "metadata": {},
   "outputs": [],
   "source": [
    "# 76.WAP to print the Neon Numbers present in the range of m to n.\n",
    "m=int(input(\"Enter a number\"))\n",
    "n=int(input(\"Enter a number\"))\n",
    "while m<=n:\n",
    "    num=m\n",
    "    s_num=num**2\n",
    "    sum=0\n",
    "    while s_num>0:\n",
    "        digit=s_num%10\n",
    "        sum+=digit\n",
    "        s_num=s_num//10\n",
    "    if sum==m:\n",
    "        print(m)\n",
    "    m+=1\n"
   ]
  },
  {
   "cell_type": "code",
   "execution_count": null,
   "id": "1ea6ebac",
   "metadata": {},
   "outputs": [],
   "source": [
    "# 77.WAP to print the Armstrong Numbers present in the range of m to n.\n",
    "m=int(input(\"Enter a number\"))\n",
    "n=int(input(\"Enter a number\"))\n",
    "while m<=n:\n",
    "    num1=num=m\n",
    "    count=0\n",
    "    sum=0\n",
    "    while num>0:\n",
    "        count+=1\n",
    "        num=num//10\n",
    "    while num1>0:\n",
    "        digit=num1%10\n",
    "        sum+=digit**count\n",
    "        num1=num1//10\n",
    "    if sum==m:\n",
    "        print(m)\n",
    "    m+=1\n"
   ]
  },
  {
   "cell_type": "code",
   "execution_count": null,
   "id": "6a597574",
   "metadata": {},
   "outputs": [],
   "source": [
    "# 78.WAP to print the Sunny Numbers present in the range of m to n.\n",
    "m=int(input(\"Enter a number\"))\n",
    "n=int(input(\"Enter a number\"))\n",
    "while m<=n:\n",
    "    num=m\n",
    "    s_num=m+1\n",
    "    i=1\n",
    "    while i<=s_num:\n",
    "        n1=i**2\n",
    "        if s_num==n1:\n",
    "            print(num)\n",
    "            break\n",
    "        elif n1>s_num:\n",
    "            break\n",
    "        i+=1\n",
    "    m+=1"
   ]
  },
  {
   "cell_type": "code",
   "execution_count": null,
   "id": "a11e7d56",
   "metadata": {},
   "outputs": [],
   "source": [
    "# 79.WAP to print the AutoMorphic Numbers present in the range of m to n.\n",
    "m=int(input(\"Enter a number\"))\n",
    "n=int(input(\"Enter a number\"))\n",
    "while m<=n:\n",
    "    num=m\n",
    "    s_num=num**2\n",
    "    is_AutoMorphic=True\n",
    "    while num>0:\n",
    "        digit1=num%10\n",
    "        digit2=s_num%10\n",
    "        if digit1!=digit2:\n",
    "            is_AutoMorphic=False\n",
    "        num=num//10\n",
    "        s_num=s_num//10\n",
    "    if is_AutoMorphic:\n",
    "        print(m)\n",
    "    m+=1"
   ]
  },
  {
   "cell_type": "code",
   "execution_count": null,
   "id": "27c422e1",
   "metadata": {},
   "outputs": [],
   "source": [
    "# 80.WAP to print the Magic Numbers present in the range of m to n.\n",
    "m=int(input(\"Enter a number\"))\n",
    "n=int(input(\"Enter a number\"))\n",
    "while m<=n:\n",
    "    num=m\n",
    "    sum=0\n",
    "    while num>0:\n",
    "        digit=num%10\n",
    "        sum+=digit\n",
    "        num=num//10\n",
    "        if num==0:\n",
    "            if sum>9:\n",
    "                num=sum\n",
    "                sum=0\n",
    "            elif sum==1:\n",
    "                print(m)\n",
    "    m+=1"
   ]
  },
  {
   "cell_type": "code",
   "execution_count": null,
   "id": "35dad8d8",
   "metadata": {},
   "outputs": [],
   "source": [
    "# 81.WAP to print the Tech Numbers present in the range of m to n.\n",
    "m=int(input(\"Enter a number\"))\n",
    "n=int(input(\"Enter a number\"))\n",
    "while m<=n:\n",
    "    num1=num=m\n",
    "    count=0\n",
    "    while num>0:\n",
    "        count+=1\n",
    "        num=num//10\n",
    "    if count%2==0:\n",
    "        c=count/2\n",
    "        i=1\n",
    "        divisor=1\n",
    "        while i<=c:\n",
    "            divisor=divisor*10\n",
    "            i+=1\n",
    "        first_num=num1%divisor\n",
    "        second_num=num1//divisor\n",
    "        if (first_num+second_num)**2==m:\n",
    "            print(m)\n",
    "\n",
    "    m+=1"
   ]
  },
  {
   "cell_type": "code",
   "execution_count": null,
   "id": "43caaee9",
   "metadata": {},
   "outputs": [],
   "source": [
    "# 82.WAP to print the Harshad (Niven) Numbers present in the range of m to n.\n",
    "m=int(input(\"Enter a number\"))\n",
    "n=int(input(\"Enter a number\"))\n",
    "while m<=n:\n",
    "    num=m\n",
    "    sum=0\n",
    "    while num>0:\n",
    "        digit=num%10\n",
    "        sum+=digit\n",
    "        num=num//10\n",
    "    if m%sum==0:\n",
    "        print(m)\n",
    "    m+=1"
   ]
  },
  {
   "cell_type": "code",
   "execution_count": null,
   "id": "9618874f",
   "metadata": {},
   "outputs": [],
   "source": [
    "# HARD LEVEL-3"
   ]
  },
  {
   "cell_type": "code",
   "execution_count": null,
   "id": "a79aaeff",
   "metadata": {},
   "outputs": [],
   "source": [
    "# 83.WAP to print the Nth Prime Number.\n",
    "num=int(input(\"Enter a number\"))\n",
    "n=1\n",
    "while num>0:\n",
    "    i=1\n",
    "    count=0\n",
    "    while i<=n:\n",
    "        if n%i==0:\n",
    "            count+=1\n",
    "        i+=1\n",
    "    if count==2:\n",
    "        num-=1\n",
    "        if num==0:\n",
    "            print(n)\n",
    "    n+=1"
   ]
  },
  {
   "cell_type": "code",
   "execution_count": null,
   "id": "94d680f3",
   "metadata": {},
   "outputs": [],
   "source": [
    "# 84.WAP to print the Nth Twisted Prime Number.\n",
    "num=int(input(\"Enter a number\"))\n",
    "n=1\n",
    "while num>0:\n",
    "    kusuma=n\n",
    "    n1=kusuma\n",
    "    count=0\n",
    "    i=1\n",
    "    while i<=kusuma:\n",
    "        if kusuma%i==0:\n",
    "            count+=1\n",
    "        i+=1\n",
    "    \n",
    "    if count==2:\n",
    "        rev_n=0\n",
    "        while kusuma>0:\n",
    "            digit=kusuma%10\n",
    "            rev_n=rev_n*10+digit\n",
    "            kusuma=kusuma//10\n",
    "        s=1\n",
    "        count2=0\n",
    "        while s<=rev_n:\n",
    "            if rev_n%s==0:\n",
    "                count2+=1\n",
    "            s+=1\n",
    "        if count2==2:\n",
    "            num-=1\n",
    "            if num==0:\n",
    "                print(n1)\n",
    "    n+=1\n",
    "        "
   ]
  },
  {
   "cell_type": "code",
   "execution_count": 56,
   "id": "21af4956",
   "metadata": {},
   "outputs": [
    {
     "name": "stdout",
     "output_type": "stream",
     "text": [
      "223\n"
     ]
    }
   ],
   "source": [
    "# 85.WAP to print the Nth Mega Prime Number.\n",
    "num=int(input(\"Enter a number\"))\n",
    "n=1\n",
    "while num>0:\n",
    "    dummy1=dummy=n\n",
    "    start=1\n",
    "    count2=0\n",
    "    while start<=dummy1:\n",
    "        if dummy1%start==0:\n",
    "            count2+=1\n",
    "        start+=1\n",
    "    if count2==2:\n",
    "        is_mega_prime=True\n",
    "        while dummy>0:\n",
    "            digit=dummy%10\n",
    "            i=1\n",
    "            count=0\n",
    "            while i<=digit:\n",
    "                if digit%i==0:\n",
    "                    count+=1\n",
    "                i+=1\n",
    "            if count!=2:\n",
    "                is_mega_prime=False\n",
    "                break\n",
    "            dummy=dummy//10\n",
    "        if is_mega_prime:\n",
    "            num-=1\n",
    "            if num==0:\n",
    "                print(n)\n",
    "    n+=1"
   ]
  },
  {
   "cell_type": "code",
   "execution_count": 68,
   "id": "4aa6fe10",
   "metadata": {},
   "outputs": [
    {
     "name": "stdout",
     "output_type": "stream",
     "text": [
      "55\n"
     ]
    }
   ],
   "source": [
    "# 86.WAP to print the Nth Palindrome Number.\n",
    "num=int(input(\"Enter a number\"))\n",
    "n=0\n",
    "c=0\n",
    "while c<num:\n",
    "    dummy=n\n",
    "    rev_dummy=0\n",
    "    while dummy>0:\n",
    "        digit=dummy%10\n",
    "        rev_dummy=rev_dummy*10+digit\n",
    "        dummy=dummy//10\n",
    "    if rev_dummy==n:\n",
    "        c+=1\n",
    "        if c==num:\n",
    "            print(n)\n",
    "    n+=1\n"
   ]
  },
  {
   "cell_type": "code",
   "execution_count": 79,
   "id": "06be32e5",
   "metadata": {},
   "outputs": [
    {
     "name": "stdout",
     "output_type": "stream",
     "text": [
      "99\n"
     ]
    }
   ],
   "source": [
    "# 87.WAP to print the Nth Sunny Number.\n",
    "num=int(input(\"Enter a number\"))\n",
    "n=1\n",
    "while num>0:\n",
    "    dummy=n\n",
    "    s_num=dummy+1\n",
    "    i=1\n",
    "    while True:\n",
    "        sq=i**2\n",
    "        if s_num==sq:\n",
    "            num-=1\n",
    "            if num==0:\n",
    "                print(n)\n",
    "            break\n",
    "        elif s_num<sq:\n",
    "            break\n",
    "        i+=1\n",
    "    n+=1"
   ]
  },
  {
   "cell_type": "code",
   "execution_count": 94,
   "id": "c780d52b",
   "metadata": {},
   "outputs": [
    {
     "name": "stdout",
     "output_type": "stream",
     "text": [
      "2890625\n"
     ]
    }
   ],
   "source": [
    "# 88.WAP to print the Nth Automorphic Number.\n",
    "num=int(input(\"Enter a number\"))\n",
    "n=1\n",
    "while num>0:\n",
    "    dummy=n\n",
    "    s_dummy=dummy**2\n",
    "    is_AutoMorphic=True\n",
    "    while dummy>0:\n",
    "        digit1=dummy%10\n",
    "        digit2=s_dummy%10\n",
    "        if digit1!=digit2:\n",
    "            is_AutoMorphic=False\n",
    "        dummy=dummy//10\n",
    "        s_dummy=s_dummy//10\n",
    "    if is_AutoMorphic:\n",
    "        num-=1\n",
    "        if num==0:\n",
    "            print(n)\n",
    "    n+=1"
   ]
  },
  {
   "cell_type": "code",
   "execution_count": 97,
   "id": "448d8bfa",
   "metadata": {},
   "outputs": [
    {
     "name": "stdout",
     "output_type": "stream",
     "text": [
      "172\n"
     ]
    }
   ],
   "source": [
    "# 89.WAP to print the Nth Magic Number.\n",
    "num=int(input(\"Enter a number\"))\n",
    "n=1\n",
    "while num>0:\n",
    "    dummy=n\n",
    "    sum=0\n",
    "    while dummy>0:\n",
    "        digit=dummy%10\n",
    "        sum+=digit\n",
    "        dummy=dummy//10\n",
    "        if dummy==0:\n",
    "            if sum>9:\n",
    "                dummy=sum\n",
    "                sum=0\n",
    "            elif sum==1:\n",
    "                num-=1\n",
    "                if num==0:\n",
    "                    print(n)\n",
    "    n+=1"
   ]
  },
  {
   "cell_type": "code",
   "execution_count": 101,
   "id": "b58f1024",
   "metadata": {},
   "outputs": [
    {
     "name": "stdout",
     "output_type": "stream",
     "text": [
      "42\n"
     ]
    }
   ],
   "source": [
    "# 90.WAP to print the Nth Harshad(Niven) Number.\n",
    "num=int(input(\"Enter a number\"))\n",
    "n=1\n",
    "while num>0:\n",
    "    dummy=n\n",
    "    sum=0\n",
    "    while dummy>0:\n",
    "        digit=dummy%10\n",
    "        sum+=digit\n",
    "        dummy=dummy//10\n",
    "    if n%sum==0:\n",
    "        num-=1\n",
    "        if num==0:\n",
    "            print(n)\n",
    "    n+=1"
   ]
  },
  {
   "cell_type": "code",
   "execution_count": null,
   "id": "6b929e59",
   "metadata": {},
   "outputs": [],
   "source": [
    "# HARD LEVEL -MISCELLANEOUS NUMBER SERIES"
   ]
  },
  {
   "cell_type": "code",
   "execution_count": null,
   "id": "dfdaacc5",
   "metadata": {},
   "outputs": [
    {
     "name": "stdout",
     "output_type": "stream",
     "text": [
      "2 1 3 4 7 "
     ]
    }
   ],
   "source": [
    "# 91.Print the Lucas series up to n terms\n",
    "num=int(input(\"Enter a number\"))\n",
    "num1=2\n",
    "num2=1\n",
    "i=1\n",
    "while i<=num:\n",
    "    print(num1,end=' ')\n",
    "    result=num1+num2\n",
    "    num1=num2\n",
    "    num2=result\n",
    "    i+=1"
   ]
  },
  {
   "cell_type": "code",
   "execution_count": 116,
   "id": "d4a83db4",
   "metadata": {},
   "outputs": [
    {
     "name": "stdout",
     "output_type": "stream",
     "text": [
      "1 2 6 24 120 720 5040 40320 "
     ]
    }
   ],
   "source": [
    "# 92.Print the factorial series up to n terms\n",
    "num=int(input(\"Enter a number\"))\n",
    "n=1\n",
    "while n<=num:\n",
    "    i=1\n",
    "    fact=1\n",
    "    while i<=n:\n",
    "        fact*=i\n",
    "        i+=1\n",
    "    print(fact,end=' ')\n",
    "    n+=1"
   ]
  },
  {
   "cell_type": "code",
   "execution_count": 5,
   "id": "d11db46a",
   "metadata": {},
   "outputs": [
    {
     "name": "stdout",
     "output_type": "stream",
     "text": [
      "112370471237020396 56185235618510200 28092617809255100 14046308904627550 7023154452313775 21069463356941324 10534731678470662 5267365839235331 15802097517705992 7901048758852996 3950524379426498 1975262189713249 5925786569139748 2962893284569874 1481446642284937 4444339926854812 2222169963427406 1111084981713703 3333254945141110 1666627472570555 4999882417711666 2499941208855833 7499823626567500 3749911813283750 1874955906641875 5624867719925626 2812433859962813 8437301579888440 4218650789944220 2109325394972110 1054662697486055 3163988092458166 1581994046229083 4745982138687250 2372991069343625 7118973208030876 3559486604015438 1779743302007719 5339229906023158 2669614953011579 8008844859034738 4004422429517369 12013267288552108 6006633644276054 3003316822138027 9009950466414080 4504975233207040 2252487616603520 1126243808301760 563121904150880 281560952075440 140780476037720 70390238018860 35195119009430 17597559504715 52792678514146 26396339257073 79189017771220 39594508885610 19797254442805 59391763328416 29695881664208 14847940832104 7423970416052 3711985208026 1855992604013 5567977812040 2783988906020 1391994453010 695997226505 2087991679516 1043995839758 521997919879 1565993759638 782996879819 2348990639458 1174495319729 3523485959188 1761742979594 880871489797 2642614469392 1321307234696 660653617348 330326808674 165163404337 495490213012 247745106506 123872553253 371617659760 185808829880 92904414940 46452207470 23226103735 69678311206 34839155603 104517466810 52258733405 156776200216 78388100108 39194050054 19597025027 58791075082 29395537541 88186612624 44093306312 22046653156 11023326578 5511663289 16534989868 8267494934 4133747467 12401242402 6200621201 18601863604 9300931802 4650465901 13951397704 6975698852 3487849426 1743924713 5231774140 2615887070 1307943535 3923830606 1961915303 5885745910 2942872955 8828618866 4414309433 13242928300 6621464150 3310732075 9932196226 4966098113 14898294340 7449147170 3724573585 11173720756 5586860378 2793430189 8380290568 4190145284 2095072642 1047536321 3142608964 1571304482 785652241 2356956724 1178478362 589239181 1767717544 883858772 441929386 220964693 662894080 331447040 165723520 82861760 41430880 20715440 10357720 5178860 2589430 1294715 3884146 1942073 5826220 2913110 1456555 4369666 2184833 6554500 3277250 1638625 4915876 2457938 1228969 3686908 1843454 921727 2765182 1382591 4147774 2073887 6221662 3110831 9332494 4666247 13998742 6999371 20998114 10499057 31497172 15748586 7874293 23622880 11811440 5905720 2952860 1476430 738215 2214646 1107323 3321970 1660985 4982956 2491478 1245739 3737218 1868609 5605828 2802914 1401457 4204372 2102186 1051093 3153280 1576640 788320 394160 197080 98540 49270 24635 73906 36953 110860 55430 27715 83146 41573 124720 62360 31180 15590 7795 23386 11693 35080 17540 8770 4385 13156 6578 3289 9868 4934 2467 7402 3701 11104 5552 2776 1388 694 347 1042 521 1564 782 391 1174 587 1762 881 2644 1322 661 1984 992 496 248 124 62 31 94 47 142 71 214 107 322 161 484 242 121 364 182 91 274 137 412 206 103 310 155 466 233 700 350 175 526 263 790 395 1186 593 1780 890 445 1336 668 334 167 502 251 754 377 1132 566 283 850 425 1276 638 319 958 479 1438 719 2158 1079 3238 1619 4858 2429 7288 3644 1822 911 2734 1367 4102 2051 6154 3077 9232 4616 2308 1154 577 1732 866 433 1300 650 325 976 488 244 122 61 184 92 46 23 70 35 106 53 160 80 40 20 10 5 16 8 4 2 1 "
     ]
    }
   ],
   "source": [
    "# 93.Generate the collatz sequence for a number\n",
    "num=int(input(\"Enter a number\"))\n",
    "while num!=1:\n",
    "    if num%2==0:\n",
    "        num=num/2\n",
    "    else:\n",
    "        num=(3*num)+1\n",
    "    print(int(num),end=' ')"
   ]
  },
  {
   "cell_type": "code",
   "execution_count": 10,
   "id": "c0f953f5",
   "metadata": {},
   "outputs": [
    {
     "name": "stdout",
     "output_type": "stream",
     "text": [
      "1\n"
     ]
    }
   ],
   "source": [
    "# 94.Find the GCD or HCF of three numbers\n",
    "num1=int(input(\"Enter a number\"))\n",
    "num2=int(input(\"Enter a number\"))\n",
    "num3=int(input(\"Enter a number\"))\n",
    "gcd=1\n",
    "i=1\n",
    "while i<=num1 and i<=num2 and i<=num3:\n",
    "    if num1%i==0 and num2%i==0 and num3%i==0:\n",
    "        gcd=i\n",
    "    i+=1\n",
    "print(gcd)\n"
   ]
  },
  {
   "cell_type": "code",
   "execution_count": 12,
   "id": "f8d34626",
   "metadata": {},
   "outputs": [
    {
     "name": "stdout",
     "output_type": "stream",
     "text": [
      "0 1 1 2 4 7 13 24 44 81 149 274 504 927 1705 3136 5768 10609 19513 35890 "
     ]
    }
   ],
   "source": [
    "# 95.Generate the first n terms of a Tribonacci Sequence.\n",
    "num=int(input(\"Enter a number\"))\n",
    "num1=0\n",
    "num2=num3=1\n",
    "i=1\n",
    "while i<=num:\n",
    "    print(num1,end=' ')\n",
    "    result=num1+num2+num3\n",
    "    num1=num2\n",
    "    num2=num3\n",
    "    num3=result\n",
    "    i+=1\n",
    "    "
   ]
  }
 ],
 "metadata": {
  "kernelspec": {
   "display_name": "Python 3",
   "language": "python",
   "name": "python3"
  },
  "language_info": {
   "codemirror_mode": {
    "name": "ipython",
    "version": 3
   },
   "file_extension": ".py",
   "mimetype": "text/x-python",
   "name": "python",
   "nbconvert_exporter": "python",
   "pygments_lexer": "ipython3",
   "version": "3.13.5"
  }
 },
 "nbformat": 4,
 "nbformat_minor": 5
}
