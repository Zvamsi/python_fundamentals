{
 "cells": [
  {
   "cell_type": "code",
   "execution_count": 3,
   "id": "6a8abf52",
   "metadata": {},
   "outputs": [
    {
     "name": "stdout",
     "output_type": "stream",
     "text": [
      "hll  world   haii\n"
     ]
    }
   ],
   "source": [
    "st='hello world 123 haii'\n",
    "res=\"\"\n",
    "is_odd=False\n",
    "for ch in st:\n",
    "    if ch==' ':\n",
    "        is_odd=not is_odd\n",
    "    if is_odd==True:\n",
    "        res=res+ch\n",
    "    if ((ch>=\"A\" and ch<='Z') or (ch>='a' and ch<='z')) and is_odd==False and  ch not in 'aeiouAEIOU' or ch==' ':\n",
    "        res=res+ch\n",
    "print(res)"
   ]
  },
  {
   "cell_type": "code",
   "execution_count": 10,
   "id": "551b2c89",
   "metadata": {},
   "outputs": [
    {
     "name": "stdout",
     "output_type": "stream",
     "text": [
      "a1b3c2d5d1\n"
     ]
    }
   ],
   "source": [
    "st='zaaabbcccccd'\n",
    "i=0\n",
    "count=1\n",
    "res=''\n",
    "while i<len(st)-1:\n",
    "    ch=st[i]\n",
    "    ch1=st[i+1]\n",
    "    if ch==ch1:\n",
    "        count+=1\n",
    "    else:\n",
    "        char=ch1\n",
    "        res=res+char+str(count)\n",
    "        count=1\n",
    "    i+=1\n",
    "res=res+char+str(count)\n",
    "print(res)"
   ]
  },
  {
   "cell_type": "code",
   "execution_count": 11,
   "id": "f836a2b9",
   "metadata": {},
   "outputs": [
    {
     "name": "stdout",
     "output_type": "stream",
     "text": [
      "axbycz\n"
     ]
    }
   ],
   "source": [
    "st1='abc'\n",
    "st2='xyz'\n",
    "res=''\n",
    "i=0\n",
    "while i<3:\n",
    "    ch1=st1[i]\n",
    "    res=res+ch1\n",
    "    ch2=st2[i]\n",
    "    res=res+ch2\n",
    "    i+=1\n",
    "print(res)"
   ]
  },
  {
   "cell_type": "code",
   "execution_count": 17,
   "id": "27073b7f",
   "metadata": {},
   "outputs": [
    {
     "name": "stdout",
     "output_type": "stream",
     "text": [
      "axbyczwop\n"
     ]
    }
   ],
   "source": [
    "st1=input()\n",
    "st2=input()\n",
    "res=''\n",
    "i=0\n",
    "while i<len(st1) and i<len(st2):\n",
    "    ch1=st1[i]\n",
    "    res=res+ch1\n",
    "    ch2=st2[i]\n",
    "    res=res+ch2\n",
    "    i+=1\n",
    "if len(st1)-len(st2)>0:\n",
    "    res=res+st1[len(st2):]\n",
    "else:\n",
    "    res=res+st2[len(st1):]\n",
    "print(res)"
   ]
  },
  {
   "cell_type": "code",
   "execution_count": 26,
   "id": "92e109bf",
   "metadata": {},
   "outputs": [
    {
     "name": "stdout",
     "output_type": "stream",
     "text": [
      "a1b2c34\n"
     ]
    }
   ],
   "source": [
    "st=input()\n",
    "dig=alpha=res=''\n",
    "for ch in st:\n",
    "    if ch>='0' and ch<='9':\n",
    "        dig=dig+ch\n",
    "    else:\n",
    "        alpha=alpha+ch\n",
    "i=0\n",
    "while i<len(dig) and i<len(alpha):\n",
    "    ch1=alpha[i]\n",
    "    res=res+ch1\n",
    "    ch2=dig[i]\n",
    "    res=res+ch2\n",
    "    i+=1\n",
    "if len(dig)-len(alpha)>0:\n",
    "    res=res+dig[len(alpha):]\n",
    "else:\n",
    "    res=res+alpha[len(dig):]\n",
    "print(res)"
   ]
  },
  {
   "cell_type": "markdown",
   "id": "b12cb891",
   "metadata": {},
   "source": [
    "EXAMPLE QUESTIONS"
   ]
  },
  {
   "cell_type": "code",
   "execution_count": 95,
   "id": "55cb4832",
   "metadata": {},
   "outputs": [
    {
     "name": "stdout",
     "output_type": "stream",
     "text": [
      "Upper case\n"
     ]
    }
   ],
   "source": [
    "# WAP to check the given character is uppercase\n",
    "ch=input()\n",
    "if ch>='A' and ch<='Z':\n",
    "    print(\"Upper case\")"
   ]
  },
  {
   "cell_type": "code",
   "execution_count": 97,
   "id": "0ad92c31",
   "metadata": {},
   "outputs": [],
   "source": [
    "# WAP to check the given character is lower case and also ascii value should be less than 100\n",
    "ch=input()\n",
    "if ch>='a' and ch<='z' and ord(ch)<100:\n",
    "    print(\"True\")"
   ]
  },
  {
   "cell_type": "code",
   "execution_count": 98,
   "id": "888ca7b8",
   "metadata": {},
   "outputs": [
    {
     "name": "stdout",
     "output_type": "stream",
     "text": [
      "10000\n"
     ]
    }
   ],
   "source": [
    "# WAP to check the given character is a digit if it is print it's square\n",
    "num=100\n",
    "if type(num)==int:\n",
    "    print(num**2)"
   ]
  },
  {
   "cell_type": "code",
   "execution_count": 103,
   "id": "7cbf9fc8",
   "metadata": {},
   "outputs": [
    {
     "name": "stdout",
     "output_type": "stream",
     "text": [
      "Alphabet\n"
     ]
    }
   ],
   "source": [
    "# WAP to check the given character is alphabet\n",
    "ch=input()\n",
    "if ch>='A' and ch<='Z' or ch>='a' and ch<='z':\n",
    "    print(\"Alphabet\")"
   ]
  },
  {
   "cell_type": "code",
   "execution_count": 105,
   "id": "d1b7524e",
   "metadata": {},
   "outputs": [],
   "source": [
    "# WAP to check if given character is vowel\n",
    "ch=input()\n",
    "if ch in 'AEIOUaeiou':\n",
    "    print(\"vowel\")"
   ]
  },
  {
   "cell_type": "code",
   "execution_count": null,
   "id": "0307f8af",
   "metadata": {},
   "outputs": [
    {
     "name": "stdout",
     "output_type": "stream",
     "text": [
      "Consonent\n"
     ]
    }
   ],
   "source": [
    "# WAP to check the given character is consonent\n",
    "ch=input()\n",
    "if ch>='A' and ch<='Z' or ch>='a' and ch<='z':\n",
    "    if ch not in 'AEIOUaeiou':\n",
    "        print('Consonent')"
   ]
  },
  {
   "cell_type": "code",
   "execution_count": 110,
   "id": "a7e397f4",
   "metadata": {},
   "outputs": [],
   "source": [
    "# WAP to check if the given string's first and last character is uppercase or not\n",
    "st=input()\n",
    "if st[0]>='A' and st[0]<='Z' and st[-1]>='A' and st[-1]<='Z':\n",
    "    print(\"Uppercase\")"
   ]
  },
  {
   "cell_type": "code",
   "execution_count": 112,
   "id": "121459d3",
   "metadata": {},
   "outputs": [
    {
     "name": "stdout",
     "output_type": "stream",
     "text": [
      "Upper case consonent\n"
     ]
    }
   ],
   "source": [
    "# WAP to check the given character is uppercase consonent or not\n",
    "ch=input()\n",
    "if ch>='A' and ch<='Z' and ch not in \"AEIOU\":\n",
    "    print(\"Upper case consonent\")"
   ]
  },
  {
   "cell_type": "code",
   "execution_count": 113,
   "id": "de662518",
   "metadata": {},
   "outputs": [
    {
     "name": "stdout",
     "output_type": "stream",
     "text": [
      "h\n",
      "e\n",
      "l\n",
      "l\n",
      "o\n"
     ]
    }
   ],
   "source": [
    "# WAP to print all the characters in a given string\n",
    "st=input()\n",
    "for ch in st:\n",
    "    print(ch)"
   ]
  },
  {
   "cell_type": "code",
   "execution_count": 115,
   "id": "89b8b680",
   "metadata": {},
   "outputs": [
    {
     "name": "stdout",
     "output_type": "stream",
     "text": [
      "e\n",
      "l\n"
     ]
    }
   ],
   "source": [
    "# WAP to print odd indexed characters from a given string\n",
    "st=input()\n",
    "i=0\n",
    "while i<len(st):\n",
    "    if i%2!=0:\n",
    "        print(st[i])\n",
    "    i+=1"
   ]
  },
  {
   "cell_type": "code",
   "execution_count": 117,
   "id": "a42c0a39",
   "metadata": {},
   "outputs": [
    {
     "name": "stdout",
     "output_type": "stream",
     "text": [
      "H\n",
      "O\n"
     ]
    }
   ],
   "source": [
    "# WAP to print upper case characters from given string\n",
    "st=input()\n",
    "i=0\n",
    "while i<len(st):\n",
    "    ch=st[i]\n",
    "    if ch>='A' and ch<='Z':\n",
    "        print(ch)\n",
    "    i+=1"
   ]
  },
  {
   "cell_type": "code",
   "execution_count": 118,
   "id": "e4fc9f07",
   "metadata": {},
   "outputs": [
    {
     "name": "stdout",
     "output_type": "stream",
     "text": [
      "e\n",
      "o\n"
     ]
    }
   ],
   "source": [
    "# WAP to print vowels in a given string\n",
    "st=input()\n",
    "i=0\n",
    "while i<len(st):\n",
    "    ch=st[i]\n",
    "    if ch in 'AEIOUaeiou':\n",
    "        print(ch)\n",
    "    i+=1"
   ]
  },
  {
   "cell_type": "code",
   "execution_count": null,
   "id": "793f6ba9",
   "metadata": {},
   "outputs": [
    {
     "name": "stdout",
     "output_type": "stream",
     "text": [
      "e 1\n",
      "o 7\n",
      "o 15\n"
     ]
    }
   ],
   "source": [
    "# WAP to print odd indexed vowels from a given string\n",
    "st=input()\n",
    "i=0\n",
    "while i<len(st):\n",
    "    ch=st[i]\n",
    "    if i%2!=0 and ch in 'AEIOUaeiou':\n",
    "        print(ch)\n",
    "    i+=1"
   ]
  },
  {
   "cell_type": "code",
   "execution_count": 123,
   "id": "841ac586",
   "metadata": {},
   "outputs": [
    {
     "name": "stdout",
     "output_type": "stream",
     "text": [
      "1\n",
      "2\n",
      "3\n"
     ]
    }
   ],
   "source": [
    "# WAP to print only digits from a given string\n",
    "st=input()\n",
    "i=0\n",
    "while i<len(st):\n",
    "    ch=st[i]\n",
    "    if ch>='0' and ch<='9':\n",
    "        print(ch)\n",
    "    i+=1"
   ]
  },
  {
   "cell_type": "code",
   "execution_count": 124,
   "id": "ba76ff28",
   "metadata": {},
   "outputs": [
    {
     "name": "stdout",
     "output_type": "stream",
     "text": [
      "h\n",
      "l\n",
      "l\n",
      "h\n",
      "w\n",
      "r\n",
      "y\n"
     ]
    }
   ],
   "source": [
    "# WAP to print lowercase consonent from given string\n",
    "st=input()\n",
    "i=0\n",
    "while i<len(st):\n",
    "    ch=st[i]\n",
    "    if ch>='a' and ch<='z' and ch not in 'aeiou':\n",
    "        print(ch)\n",
    "    i+=1"
   ]
  },
  {
   "cell_type": "code",
   "execution_count": 130,
   "id": "4321ea0c",
   "metadata": {},
   "outputs": [
    {
     "name": "stdout",
     "output_type": "stream",
     "text": [
      "E\n",
      "L\n"
     ]
    }
   ],
   "source": [
    "# WAP to convert and all lower case to uppercase from string\n",
    "st=input()\n",
    "i=0\n",
    "res=''\n",
    "while i<len(st):\n",
    "    ch=st[i]\n",
    "    if ch>='a' and ch<='z':\n",
    "        print(chr(ord(ch)-32))\n",
    "    i+=1\n"
   ]
  },
  {
   "cell_type": "code",
   "execution_count": 132,
   "id": "70a078c9",
   "metadata": {},
   "outputs": [
    {
     "name": "stdout",
     "output_type": "stream",
     "text": [
      "h\n",
      "E\n",
      "L\n",
      "L\n",
      "o\n"
     ]
    }
   ],
   "source": [
    "# WAP to convert and print uppercase to lower case and lowercase to uppercase from a string\n",
    "st=input()\n",
    "i=0\n",
    "while i<len(st):\n",
    "    ch=st[i]\n",
    "    if ch>='A' and ch<='Z':\n",
    "        print(chr(ord(ch)+32))\n",
    "    elif ch>='a' and ch<='z':\n",
    "        print(chr(ord(ch)-32))\n",
    "    else:\n",
    "        print(ch)\n",
    "    i+=1"
   ]
  },
  {
   "cell_type": "code",
   "execution_count": 133,
   "id": "88ab6267",
   "metadata": {},
   "outputs": [
    {
     "name": "stdout",
     "output_type": "stream",
     "text": [
      "5\n"
     ]
    }
   ],
   "source": [
    "# WAP to count and print total characters from a given string\n",
    "st=input()\n",
    "count=0\n",
    "i=0\n",
    "while i<len(st):\n",
    "    count+=1\n",
    "    i+=1\n",
    "print(count)"
   ]
  },
  {
   "cell_type": "code",
   "execution_count": 134,
   "id": "219cffb8",
   "metadata": {},
   "outputs": [
    {
     "name": "stdout",
     "output_type": "stream",
     "text": [
      "5\n"
     ]
    }
   ],
   "source": [
    "# WAP to count total no of alphabets from a given string\n",
    "st=input()\n",
    "count=0\n",
    "for ch in st:\n",
    "    if ch>='A' and ch<='Z' or ch>='a' and ch<='z':\n",
    "        count+=1\n",
    "print(count)"
   ]
  },
  {
   "cell_type": "code",
   "execution_count": 135,
   "id": "8f65198c",
   "metadata": {},
   "outputs": [
    {
     "name": "stdout",
     "output_type": "stream",
     "text": [
      "3\n"
     ]
    }
   ],
   "source": [
    "# WAP to count total no of digits in a given string\n",
    "st=input()\n",
    "count=0\n",
    "for ch in st:\n",
    "    if ch>='0' and ch<='9':\n",
    "        count+=1\n",
    "print(count)"
   ]
  },
  {
   "cell_type": "code",
   "execution_count": 137,
   "id": "20dc59ab",
   "metadata": {},
   "outputs": [],
   "source": [
    "# WAP to count lowercase odd indexed vowels from a given string.\n",
    "st=input()\n",
    "i=0\n",
    "while i<len(st):\n",
    "    ch=st[i]\n",
    "    if i%2!=0 and ch in 'aeiou':\n",
    "        print(ch)\n",
    "    i+=1"
   ]
  },
  {
   "cell_type": "code",
   "execution_count": 138,
   "id": "8c3eda70",
   "metadata": {},
   "outputs": [
    {
     "name": "stdout",
     "output_type": "stream",
     "text": [
      "5\n",
      "3\n",
      "1\n"
     ]
    }
   ],
   "source": [
    "# WAP to count total no of alphabets, digits,symbols from a given string\n",
    "st=input()\n",
    "alpha=0\n",
    "dig=0\n",
    "sym=0\n",
    "for ch in st:\n",
    "    if ch>='A' and ch<='Z' or ch>='a' and ch<='z':\n",
    "        alpha+=1\n",
    "    elif ch>='0' and ch<='9':\n",
    "        dig+=1\n",
    "    else:\n",
    "        sym+=1\n",
    "print(alpha,dig,sym,sep='\\n')"
   ]
  },
  {
   "cell_type": "code",
   "execution_count": 139,
   "id": "0806347d",
   "metadata": {},
   "outputs": [
    {
     "name": "stdout",
     "output_type": "stream",
     "text": [
      "6\n"
     ]
    }
   ],
   "source": [
    "# WAP to print sum of the digits from a given string\n",
    "st=input()\n",
    "dig=0\n",
    "for ch in st:\n",
    "    if ch>='0' and ch<='9':\n",
    "        dig+=int(ch)\n",
    "print(dig)"
   ]
  },
  {
   "cell_type": "code",
   "execution_count": 141,
   "id": "361fc05e",
   "metadata": {},
   "outputs": [
    {
     "name": "stdout",
     "output_type": "stream",
     "text": [
      "4\n"
     ]
    }
   ],
   "source": [
    "# # WAP to print sum of odd indexed digits from a given string\n",
    "st=input()\n",
    "dig=0\n",
    "i=0\n",
    "while i<len(st):\n",
    "    ch=st[i]\n",
    "    if i%2!=0 and ch>='0' and ch<='9':\n",
    "        dig+=int(ch)\n",
    "    i+=1\n",
    "print(dig)"
   ]
  },
  {
   "cell_type": "code",
   "execution_count": 142,
   "id": "5383ea17",
   "metadata": {},
   "outputs": [
    {
     "name": "stdout",
     "output_type": "stream",
     "text": [
      "olleh\n"
     ]
    }
   ],
   "source": [
    "# WAP to reverse and print a string\n",
    "st=input()\n",
    "res=''\n",
    "i=0\n",
    "while i<len(st):\n",
    "    ch=st[i]\n",
    "    res=ch+res\n",
    "    i+=1\n",
    "print(res)\n"
   ]
  },
  {
   "cell_type": "code",
   "execution_count": 143,
   "id": "edcfe05f",
   "metadata": {},
   "outputs": [
    {
     "name": "stdout",
     "output_type": "stream",
     "text": [
      "hello\n"
     ]
    }
   ],
   "source": [
    "# WAP to store and print alphabets from a given string\n",
    "st=input()\n",
    "res=''\n",
    "i=0\n",
    "while i<len(st):\n",
    "    ch=st[i]\n",
    "    if ch>='A' and ch<='Z' or ch>='a' and ch<='z':\n",
    "        res+=ch\n",
    "    i+=1\n",
    "print(res)"
   ]
  },
  {
   "cell_type": "code",
   "execution_count": 144,
   "id": "5f7e201e",
   "metadata": {},
   "outputs": [
    {
     "name": "stdout",
     "output_type": "stream",
     "text": [
      "123\n"
     ]
    }
   ],
   "source": [
    "# WAP to store and print all digits from a given string\n",
    "st=input()\n",
    "res=''\n",
    "i=0\n",
    "while i<len(st):\n",
    "    ch=st[i]\n",
    "    if ch>='0' and ch<='9':\n",
    "        res+=ch\n",
    "    i+=1\n",
    "print(res)"
   ]
  },
  {
   "cell_type": "code",
   "execution_count": 146,
   "id": "7cfa0429",
   "metadata": {},
   "outputs": [
    {
     "name": "stdout",
     "output_type": "stream",
     "text": [
      "@\n"
     ]
    }
   ],
   "source": [
    "# WAP to store all symbols from string and print\n",
    "st=input()\n",
    "res=''\n",
    "i=0\n",
    "while i<len(st):\n",
    "    ch=st[i]\n",
    "    if not(ch>='A' and ch<='Z' or ch>='a' and ch<='z' or ch>='0' and ch<='9'):\n",
    "        res+=ch    \n",
    "    i+=1\n",
    "print(res)"
   ]
  },
  {
   "cell_type": "code",
   "execution_count": 147,
   "id": "589c49f8",
   "metadata": {},
   "outputs": [
    {
     "name": "stdout",
     "output_type": "stream",
     "text": [
      "eoo\n"
     ]
    }
   ],
   "source": [
    "# WAP to store all vowels from a given string and print it\n",
    "st=input()\n",
    "res=''\n",
    "i=0\n",
    "while i<len(st):\n",
    "    ch=st[i]\n",
    "    if ch in 'AEIOUaeiou':\n",
    "        res+=ch\n",
    "    i+=1\n",
    "print(res)"
   ]
  },
  {
   "cell_type": "code",
   "execution_count": 148,
   "id": "31641749",
   "metadata": {},
   "outputs": [
    {
     "name": "stdout",
     "output_type": "stream",
     "text": [
      "el@2\n"
     ]
    }
   ],
   "source": [
    "# WAP to store and print odd index character from a given string\n",
    "st=input()\n",
    "res=''\n",
    "i=0\n",
    "while i<len(st):\n",
    "    ch=st[i]\n",
    "    if i%2!=0:\n",
    "        res+=ch\n",
    "    i+=1\n",
    "print(res)"
   ]
  },
  {
   "cell_type": "code",
   "execution_count": 149,
   "id": "5e2635a9",
   "metadata": {},
   "outputs": [
    {
     "name": "stdout",
     "output_type": "stream",
     "text": [
      "hlo13\n"
     ]
    }
   ],
   "source": [
    "# WAP to store and print even index consonents from a given string\n",
    "st=input()\n",
    "res=''\n",
    "i=0\n",
    "while i<len(st):\n",
    "    ch=st[i]\n",
    "    if i%2==0:\n",
    "        res+=ch\n",
    "    i+=1\n",
    "print(res)"
   ]
  },
  {
   "cell_type": "markdown",
   "id": "48d6e096",
   "metadata": {},
   "source": [
    "ASSIGNMENT QUESTIONS"
   ]
  },
  {
   "cell_type": "code",
   "execution_count": 2,
   "id": "07b42037",
   "metadata": {},
   "outputs": [
    {
     "name": "stdout",
     "output_type": "stream",
     "text": [
      "eoo123aii\n"
     ]
    }
   ],
   "source": [
    "# 1.Given the string 'hello world 123 haii', extract only the vowels and digits in order.\n",
    "st='hello world 123 haii'\n",
    "res=''\n",
    "for ch in st:\n",
    "    if ch in 'AEIOUaeiou' or ch>='0' and ch<='9':\n",
    "        res+=ch\n",
    "print(res)"
   ]
  },
  {
   "cell_type": "code",
   "execution_count": 3,
   "id": "89846d53",
   "metadata": {},
   "outputs": [
    {
     "name": "stdout",
     "output_type": "stream",
     "text": [
      "eo o 123 aii\n"
     ]
    }
   ],
   "source": [
    "# 2.Given string 'hello world 123 haii' extract only vowels and digits preserving spaces\n",
    "st='hello world 123 haii'\n",
    "res=''\n",
    "for ch in st:\n",
    "    if ch in 'AEIOUaeiou' or ch>='0' and ch<='9' or ch==' ':\n",
    "        res+=ch\n",
    "print(res)"
   ]
  },
  {
   "cell_type": "code",
   "execution_count": 4,
   "id": "37223a46",
   "metadata": {},
   "outputs": [
    {
     "name": "stdout",
     "output_type": "stream",
     "text": [
      "eo o  aii\n"
     ]
    }
   ],
   "source": [
    "# 3.Given string 'hello world 123 haii' extract only vowels preserving spaces exclude digits\n",
    "st='hello world 123 haii'\n",
    "res=''\n",
    "for ch in st:\n",
    "    if ch in 'AEIOUaeiou' or ch==' ':\n",
    "        res+=ch\n",
    "print(res)"
   ]
  },
  {
   "cell_type": "code",
   "execution_count": 11,
   "id": "e691b5ed",
   "metadata": {},
   "outputs": [
    {
     "name": "stdout",
     "output_type": "stream",
     "text": [
      "hll world haii\n"
     ]
    }
   ],
   "source": [
    "# 4.Given string 'hello world 123 haii', remove vowels from and keep only consonents from odd words\n",
    "st='hello world 123 haii'\n",
    "word=1\n",
    "res=''\n",
    "for ch in st:\n",
    "    if ch==' ':\n",
    "        word+=1\n",
    "    if word%2!=0:\n",
    "        if ch>='A' and ch<='Z' or ch>='a' and ch<='z' and ch not in 'AEIOUaeiou':\n",
    "            res+=ch\n",
    "    else:\n",
    "        res+=ch\n",
    "print(res)"
   ]
  },
  {
   "cell_type": "code",
   "execution_count": 17,
   "id": "d36efe9c",
   "metadata": {},
   "outputs": [
    {
     "name": "stdout",
     "output_type": "stream",
     "text": [
      "eoo hllwrld\n"
     ]
    }
   ],
   "source": [
    "# 5.Given the string 'hello world'  1.remove vowels  2.extract vowels\n",
    "st='hello @world'\n",
    "vow=''\n",
    "con=''\n",
    "for ch in st:\n",
    "    if  ch in 'AEIOUaeiou':\n",
    "        vow+=ch\n",
    "    elif ch>='A' and ch<='Z' or ch>='a' and ch<='z':\n",
    "        con+=ch\n",
    "print(vow,con)"
   ]
  },
  {
   "cell_type": "code",
   "execution_count": 18,
   "id": "9ca1b837",
   "metadata": {},
   "outputs": [
    {
     "name": "stdout",
     "output_type": "stream",
     "text": [
      "hllwrld\n",
      "eoo\n",
      "12344\n"
     ]
    }
   ],
   "source": [
    "# 6.Given the string '12hello3 4world4', extract 1.only consonents 2.only vowels 3.only digits\n",
    "st='12hello3 4world4'\n",
    "con=''\n",
    "vow=''\n",
    "dig=''\n",
    "i=0\n",
    "while i<len(st):\n",
    "    ch=st[i]\n",
    "    if ch in 'AEIOUaeiou':\n",
    "        vow+=ch\n",
    "    elif ch>='A' and ch<='Z' or ch>='a' and ch<='z':\n",
    "        con+=ch\n",
    "    elif ch>='0' and ch<='9':\n",
    "        dig+=ch\n",
    "    i+=1\n",
    "print(con,vow,dig,sep='\\n')"
   ]
  },
  {
   "cell_type": "code",
   "execution_count": 19,
   "id": "51712673",
   "metadata": {},
   "outputs": [
    {
     "name": "stdout",
     "output_type": "stream",
     "text": [
      "hllwrld\n",
      "eoo\n",
      "12344\n",
      "(*$ $#*)\n"
     ]
    }
   ],
   "source": [
    "# 7.Given string '(*12hello3$ $4#world4*)' extract 1.only consonents without spaces  2.only vowels  3.only digits  4.only special characters(preserve order and spacing) \n",
    "st='(*12hello3$ $4#world4*)'\n",
    "con=''\n",
    "vow=''\n",
    "dig=''\n",
    "spc=''\n",
    "i=0\n",
    "while i<len(st):\n",
    "    ch=st[i]\n",
    "    if ch in 'AEIOUaeiou':\n",
    "        vow+=ch\n",
    "    elif ch>='A' and ch<='Z' or ch>='a' and ch<='z':\n",
    "        con+=ch\n",
    "    elif ch>='0' and ch<='9':\n",
    "        dig+=ch\n",
    "    else:\n",
    "        spc+=ch\n",
    "    i+=1\n",
    "print(con,vow,dig,spc,sep='\\n')"
   ]
  },
  {
   "cell_type": "code",
   "execution_count": 20,
   "id": "1c70a895",
   "metadata": {},
   "outputs": [
    {
     "name": "stdout",
     "output_type": "stream",
     "text": [
      "dlrwllh ooe 44321 )*#$ $*(\n"
     ]
    }
   ],
   "source": [
    "# 8.Given a string '(*12hello3$ $4#world4*)' output combined reverse of the elements: (consonants+vowels+digits+special characters) in reverse order\n",
    "st='(*12hello3$ $4#world4*)'\n",
    "con=''\n",
    "vow=''\n",
    "dig=''\n",
    "spc=''\n",
    "i=0\n",
    "while i<len(st):\n",
    "    ch=st[i]\n",
    "    if ch in 'AEIOUaeiou':\n",
    "        vow=ch+vow\n",
    "    elif ch>='A' and ch<='Z' or ch>='a' and ch<='z':\n",
    "        con=ch+con\n",
    "    elif ch>='0' and ch<='9':\n",
    "        dig=ch+dig\n",
    "    else:\n",
    "        spc=ch+spc\n",
    "    i+=1\n",
    "print(con,vow,dig,spc)"
   ]
  },
  {
   "cell_type": "code",
   "execution_count": 21,
   "id": "53c9cf49",
   "metadata": {},
   "outputs": [
    {
     "name": "stdout",
     "output_type": "stream",
     "text": [
      "hllwrld,eoo,12344,(*$ $#*)\n"
     ]
    }
   ],
   "source": [
    "# 9.Given the string '(*12hello3$ $4#world4*)' output elements as comma seperated string : consonants,vowels,digits,specials\n",
    "st='(*12hello3$ $4#world4*)'\n",
    "con=''\n",
    "vow=''\n",
    "dig=''\n",
    "spc=''\n",
    "i=0\n",
    "while i<len(st):\n",
    "    ch=st[i]\n",
    "    if ch in 'AEIOUaeiou':\n",
    "        vow+=ch\n",
    "    elif ch>='A' and ch<='Z' or ch>='a' and ch<='z':\n",
    "        con+=ch\n",
    "    elif ch>='0' and ch<='9':\n",
    "        dig+=ch\n",
    "    else:\n",
    "        spc+=ch\n",
    "    i+=1\n",
    "print(f'{con},{vow},{dig},{spc}')"
   ]
  },
  {
   "cell_type": "code",
   "execution_count": 22,
   "id": "07e36db3",
   "metadata": {},
   "outputs": [
    {
     "name": "stdout",
     "output_type": "stream",
     "text": [
      "hllwrld ooe 44321 (*$ $#*)\n"
     ]
    }
   ],
   "source": [
    "# 10.Given the string '(*12hello3$ $4#world4*)' rearrage as consonants,digits reversed,specials and vowels reversed\n",
    "st='(*12hello3$ $4#world4*)'\n",
    "con=''\n",
    "vow=''\n",
    "dig=''\n",
    "spc=''\n",
    "i=0\n",
    "while i<len(st):\n",
    "    ch=st[i]\n",
    "    if ch in 'AEIOUaeiou':\n",
    "        vow=ch+vow\n",
    "    elif ch>='A' and ch<='Z' or ch>='a' and ch<='z':\n",
    "        con+=ch\n",
    "    elif ch>='0' and ch<='9':\n",
    "        dig=ch+dig\n",
    "    else:\n",
    "        spc+=ch\n",
    "    i+=1\n",
    "print(con,vow,dig,spc)"
   ]
  },
  {
   "cell_type": "code",
   "execution_count": 24,
   "id": "3bc75b2c",
   "metadata": {},
   "outputs": [
    {
     "name": "stdout",
     "output_type": "stream",
     "text": [
      "dlrwllh )*#$ $*( ooe 44321\n"
     ]
    }
   ],
   "source": [
    "# 11.Given the string '(*12hello3$ $4#world4*)' output combined reverse string (C+S+V+D)\n",
    "st='(*12hello3$ $4#world4*)'\n",
    "con=''\n",
    "vow=''\n",
    "dig=''\n",
    "spc=''\n",
    "i=0\n",
    "while i<len(st):\n",
    "    ch=st[i]\n",
    "    if ch in 'AEIOUaeiou':\n",
    "        vow=ch+vow\n",
    "    elif ch>='A' and ch<='Z' or ch>='a' and ch<='z':\n",
    "        con=ch+con\n",
    "    elif ch>='0' and ch<='9':\n",
    "        dig=ch+dig\n",
    "    else:\n",
    "        spc=ch+spc\n",
    "    i+=1\n",
    "print(con,spc,vow,dig)"
   ]
  },
  {
   "cell_type": "code",
   "execution_count": 27,
   "id": "b55a49e9",
   "metadata": {},
   "outputs": [
    {
     "name": "stdout",
     "output_type": "stream",
     "text": [
      "h$ll*w*rld\n"
     ]
    }
   ],
   "source": [
    "# 12.Given the string 'HELLOWORLD'. convert to lowercase and replace vowels with *,e with $:\n",
    "st='HELLOWORLD'\n",
    "res=''\n",
    "for ch in st:\n",
    "    if ch>='A' and ch<='Z' and ch not in 'AEIOU':\n",
    "        res+=chr(ord(ch)+32)\n",
    "    elif ch=='E':\n",
    "        res+='$'\n",
    "    elif ch in 'AEIOU':\n",
    "        res+='*'\n",
    "print(res)\n",
    "        "
   ]
  },
  {
   "cell_type": "code",
   "execution_count": 29,
   "id": "7cf1c564",
   "metadata": {},
   "outputs": [
    {
     "name": "stdout",
     "output_type": "stream",
     "text": [
      "123456HLL WRLD\n"
     ]
    }
   ],
   "source": [
    "# 13.Given the string '123HELLO WORLD456' remove vowels and return digits first\n",
    "st='123HELLO WORLD456'\n",
    "dig=''\n",
    "rest=''\n",
    "for ch in st:\n",
    "    if ch>='0' and ch<='9':\n",
    "        dig+=ch\n",
    "    elif ch not in 'AEIOUaeiou':\n",
    "        rest+=ch\n",
    "    \n",
    "print(dig+rest)"
   ]
  },
  {
   "cell_type": "code",
   "execution_count": 30,
   "id": "e800316c",
   "metadata": {},
   "outputs": [
    {
     "name": "stdout",
     "output_type": "stream",
     "text": [
      "123HeLLo WoRLD456\n"
     ]
    }
   ],
   "source": [
    "# 14.Given the string '123HELLO WORLD456' convert only vowels to lowercase and rest same\n",
    "st='123HELLO WORLD456'\n",
    "res=''\n",
    "for ch in st:\n",
    "    if ch in 'AEIOU':\n",
    "        res+=chr(ord(ch)+32)\n",
    "    else:\n",
    "        res+=ch\n",
    "print(res)"
   ]
  },
  {
   "cell_type": "code",
   "execution_count": 35,
   "id": "630e1a98",
   "metadata": {},
   "outputs": [
    {
     "name": "stdout",
     "output_type": "stream",
     "text": [
      "321HELLO WORLD654\n"
     ]
    }
   ],
   "source": [
    "# 15.Given the string '123HELLO WORLD456' reverse digits and maintain original case with spacing.\n",
    "st='123HELLO WORLD456'\n",
    "res=''\n",
    "dig=''\n",
    "for ch in st:\n",
    "    if ch>='0' and ch<='9':\n",
    "        dig=ch+dig\n",
    "    else:\n",
    "        res=res+dig+ch\n",
    "        dig=''\n",
    "if dig!='':\n",
    "    res+=dig\n",
    "print(res)"
   ]
  },
  {
   "cell_type": "code",
   "execution_count": 36,
   "id": "baeceb8c",
   "metadata": {},
   "outputs": [
    {
     "name": "stdout",
     "output_type": "stream",
     "text": [
      "321*E**O*O***654\n"
     ]
    }
   ],
   "source": [
    "# 16.Given the string '123HELLO WORLD456' replace consonants with *,keep vowels in uppercase,reverse digits\n",
    "st='123HELLO WORLD456'\n",
    "res=''\n",
    "dig=''\n",
    "for ch in st:\n",
    "    if ch>='0' and ch<='9':\n",
    "        dig=ch+dig\n",
    "    elif ch in 'AEIOUaeiou':\n",
    "        res=res+dig+ch\n",
    "        dig=''\n",
    "    elif ch>='A' and ch<='Z' or ch>='a' and ch<='z':\n",
    "        res=res+dig+'*'\n",
    "        dig=''\n",
    "if dig!='':\n",
    "    res+=dig\n",
    "print(res)"
   ]
  },
  {
   "cell_type": "code",
   "execution_count": 38,
   "id": "a8e16cb8",
   "metadata": {},
   "outputs": [
    {
     "name": "stdout",
     "output_type": "stream",
     "text": [
      "123*E**O *O***456\n"
     ]
    }
   ],
   "source": [
    "# 17.Given the string, '123HELLO WORLD456', replace consonants with *,keep vowels in uppercase and vowels intact\n",
    "st='123HELLO WORLD456'\n",
    "res=''\n",
    "for ch in st:\n",
    "    if (ch>='A' and ch<='Z' or ch>='a' and ch<='z') and ch not in 'AEIOUaeiou':\n",
    "        res+='*'\n",
    "    else:\n",
    "        res+=ch\n",
    "print(res)"
   ]
  },
  {
   "cell_type": "code",
   "execution_count": 40,
   "id": "4845b9b5",
   "metadata": {},
   "outputs": [
    {
     "name": "stdout",
     "output_type": "stream",
     "text": [
      "axbycz\n"
     ]
    }
   ],
   "source": [
    "# 18.Given two strings 'abc' and 'xyz', merge them character by character.\n",
    "st1='abc'\n",
    "st2='xyz'\n",
    "i=0\n",
    "res=''\n",
    "while i<len(st1) and i<len(st2):\n",
    "    ch1=st1[i]\n",
    "    ch2=st2[i]\n",
    "    res=res+ch1+ch2\n",
    "    i+=1\n",
    "print(res)"
   ]
  },
  {
   "cell_type": "code",
   "execution_count": 44,
   "id": "00d1ba33",
   "metadata": {},
   "outputs": [
    {
     "name": "stdout",
     "output_type": "stream",
     "text": [
      "axbycz4w54545\n"
     ]
    }
   ],
   "source": [
    "# 19.Given 'abc' and 'xyzw', merge character by character append extras.\n",
    "st1='abc454545'\n",
    "st2='xyzw'\n",
    "res=''\n",
    "i=0\n",
    "while i<len(st1) or i<len(st2):\n",
    "    if i<len(st1) and i<len(st2):\n",
    "        res=res+st1[i]+st2[i]\n",
    "    elif i<len(st1):\n",
    "        res+=st1[i]\n",
    "    else:\n",
    "        res+=st2[i]\n",
    "    i+=1\n",
    "print(res)"
   ]
  },
  {
   "cell_type": "code",
   "execution_count": 49,
   "id": "9257fd68",
   "metadata": {},
   "outputs": [
    {
     "name": "stdout",
     "output_type": "stream",
     "text": [
      "a1$b2%c3^d6&e4f5g4h6i4j7k89\n"
     ]
    }
   ],
   "source": [
    "# 20.Given 'abc123' interleave letters and digits.\n",
    "st='abcdefghijk123645464789$%^&'\n",
    "dig=''\n",
    "alpha=''\n",
    "spc=''\n",
    "res=''\n",
    "for ch in st:\n",
    "    if ch>='0' and ch<='9':\n",
    "        dig+=ch\n",
    "    elif ch>='A' and ch<='Z' or ch>='a' and ch<='z':\n",
    "        alpha+=ch\n",
    "    else:\n",
    "        spc+=ch\n",
    "i=0\n",
    "while i<len(dig) or i<len(alpha) or i<len(spc):\n",
    "    if i<len(dig) and i<len(alpha) and i<len(spc):\n",
    "        res=res+alpha[i]+dig[i]+spc[i]\n",
    "    elif i<len(alpha) and i<len(dig):\n",
    "        res=res+alpha[i]+dig[i]\n",
    "    elif i<len(dig) and i<len(spc):\n",
    "        res=res+dig[i]+spc[i]\n",
    "    elif i<len(alpha) and i<len(spc):\n",
    "        res=res+alpha[i]+spc[i]\n",
    "    elif i<len(alpha):\n",
    "        res=res+alpha[i]\n",
    "    elif i<len(dig):\n",
    "        res=res+dig[i]\n",
    "    else:\n",
    "        res=res+spc[i]\n",
    "    i+=1\n",
    "print(res)\n",
    "\n"
   ]
  },
  {
   "cell_type": "code",
   "execution_count": 57,
   "id": "270ed911",
   "metadata": {},
   "outputs": [
    {
     "name": "stdout",
     "output_type": "stream",
     "text": [
      "oreH Good gninroM \n"
     ]
    }
   ],
   "source": [
    "# 21.\"Hero Good Morning\"-->'oreH Good gninroM'\n",
    "st=\"Hero Good Morning\"\n",
    "res=''\n",
    "word=''\n",
    "is_odd=True\n",
    "for ch in st:\n",
    "    if ch==' ':\n",
    "        is_odd=not is_odd\n",
    "        res+=word+ch\n",
    "        word=''\n",
    "    if is_odd:\n",
    "        word=ch+word\n",
    "    elif ch!=' ':\n",
    "        word+=ch\n",
    "if word!='':\n",
    "    res+=word\n",
    "print(res)"
   ]
  },
  {
   "cell_type": "markdown",
   "id": "c98e3c7a",
   "metadata": {},
   "source": [
    "TWO POINTER APPROACH"
   ]
  },
  {
   "cell_type": "code",
   "execution_count": null,
   "id": "4da6b240",
   "metadata": {},
   "outputs": [
    {
     "name": "stdout",
     "output_type": "stream",
     "text": [
      "h 1\n",
      "e 1\n",
      "l 2\n",
      "l 2\n",
      "o 1\n"
     ]
    }
   ],
   "source": [
    "# WAP to print occurence of each character in given array\n",
    "st=input()\n",
    "i=0\n",
    "while i<len(st):\n",
    "    ch1=st[i]\n",
    "    j=0\n",
    "    count=0\n",
    "    while j<len(st):\n",
    "        ch2=st[j]\n",
    "        if ch1==ch2:\n",
    "            count+=1\n",
    "        j+=1\n",
    "    print(ch1,count)\n",
    "\n",
    "    i+=1"
   ]
  },
  {
   "cell_type": "code",
   "execution_count": 62,
   "id": "2e2795e4",
   "metadata": {},
   "outputs": [
    {
     "name": "stdout",
     "output_type": "stream",
     "text": [
      "helo wrd\n",
      "h 1\n",
      "e 1\n",
      "l 3\n",
      "o 2\n",
      "  1\n",
      "w 1\n",
      "r 1\n",
      "d 1\n"
     ]
    }
   ],
   "source": [
    "# WAP to print occurence of each character in given string (ignore duplicates)\n",
    "st='hello world'\n",
    "uniq=''\n",
    "for ch in st:\n",
    "    if ch not in uniq:\n",
    "        uniq+=ch\n",
    "print(uniq)\n",
    "i=0\n",
    "while i<len(uniq):\n",
    "    ch1=uniq[i]\n",
    "    j=0\n",
    "    count=0\n",
    "    while j<len(st):\n",
    "        ch2=st[j]\n",
    "        if ch2==ch1:\n",
    "            count+=1\n",
    "        j+=1\n",
    "    print(ch1,count)\n",
    "    i+=1\n"
   ]
  },
  {
   "cell_type": "code",
   "execution_count": 64,
   "id": "d32fd841",
   "metadata": {},
   "outputs": [
    {
     "name": "stdout",
     "output_type": "stream",
     "text": [
      "l 3\n"
     ]
    }
   ],
   "source": [
    "# WAP to find maximum occuring character in a string\n",
    "st='hello world'\n",
    "max_count=0\n",
    "max_char=''\n",
    "i=0\n",
    "while i<len(st):\n",
    "    ch1=st[i]\n",
    "    j=0\n",
    "    count=0\n",
    "    while j<len(st):\n",
    "        ch2=st[j]\n",
    "        if ch1==ch2:\n",
    "            count+=1\n",
    "        j+=1\n",
    "    if max_count<count:\n",
    "        max_count=count\n",
    "        max_char=ch1\n",
    "    i+=1\n",
    "print(max_char,max_count)"
   ]
  },
  {
   "cell_type": "code",
   "execution_count": 65,
   "id": "fa690fe8",
   "metadata": {},
   "outputs": [
    {
     "name": "stdout",
     "output_type": "stream",
     "text": [
      "hetto wortd\n"
     ]
    }
   ],
   "source": [
    "# WAP to replace maximum occuring character with 't'\n",
    "st='hello world'\n",
    "max_count=0\n",
    "max_char=''\n",
    "res=''\n",
    "i=0\n",
    "for ch1 in st:\n",
    "    count=0\n",
    "    for ch2 in st:\n",
    "        if ch1==ch2:\n",
    "            count+=1\n",
    "    if max_count<count:\n",
    "        max_count=count\n",
    "        max_char=ch1\n",
    "for ch in st:\n",
    "    if ch==max_char:\n",
    "        res+='t'\n",
    "    else:\n",
    "        res+=ch\n",
    "print(res)"
   ]
  },
  {
   "cell_type": "code",
   "execution_count": 69,
   "id": "5e6d1147",
   "metadata": {},
   "outputs": [
    {
     "name": "stdout",
     "output_type": "stream",
     "text": [
      "0\n",
      "2\n",
      "3\n",
      "4\n",
      "7\n",
      "8\n"
     ]
    }
   ],
   "source": [
    "# WAP to print the index values where current character is equals to it's next character\n",
    "st='aabbbbcddd'\n",
    "i=0\n",
    "while i<len(st)-1:\n",
    "    ch1=st[i]\n",
    "    ch2=st[i+1]\n",
    "    if ch1==ch2:\n",
    "        print(i)\n",
    "    i+=1"
   ]
  },
  {
   "cell_type": "code",
   "execution_count": 6,
   "id": "84a316be",
   "metadata": {},
   "outputs": [
    {
     "name": "stdout",
     "output_type": "stream",
     "text": [
      "aaabbbbbcc\n"
     ]
    }
   ],
   "source": [
    "# WAP to 'a3b2c5'==>'aaabbccccc'\n",
    "st='a3b5c2'\n",
    "res=''\n",
    "dig=''\n",
    "i=0\n",
    "char=''\n",
    "while i<len(st):\n",
    "    ch=st[i]\n",
    "    if ch>='A' and ch<='Z' or ch>='a' and ch<='z':\n",
    "        if dig!='':\n",
    "            res+=char*int(dig)\n",
    "            dig=''\n",
    "        char=ch\n",
    "    if ch>='0' and ch<='9':\n",
    "        dig+=ch\n",
    "    i+=1\n",
    "if char!='':\n",
    "    res+=char*int(dig)\n",
    "print(res)"
   ]
  },
  {
   "cell_type": "code",
   "execution_count": 8,
   "id": "e05c17ad",
   "metadata": {},
   "outputs": [
    {
     "name": "stdout",
     "output_type": "stream",
     "text": [
      "aaaaaaaaaaaaabbbbbbbbbbbbbbbbbbbbccccccccccccccc\n"
     ]
    }
   ],
   "source": [
    "# WAP to \"a13b20c15\"==>\"aaaaaaaaaaaaabbbbbbbbbbbbbbbbbbbbccccccccccccccc\"\n",
    "st='a13b20c15'\n",
    "res=''\n",
    "dig=''\n",
    "i=0\n",
    "char=''\n",
    "while i<len(st):\n",
    "    ch=st[i]\n",
    "    if ch>='A' and ch<='Z' or ch>='a' and ch<='z':\n",
    "        if dig!='':\n",
    "            res+=char*int(dig)\n",
    "            dig=''\n",
    "        char=ch\n",
    "    if ch>='0' and ch<='9':\n",
    "        dig+=ch\n",
    "    i+=1\n",
    "if char!='':\n",
    "    res+=char*int(dig)\n",
    "print(res)"
   ]
  },
  {
   "cell_type": "code",
   "execution_count": 12,
   "id": "64d1ab20",
   "metadata": {},
   "outputs": [
    {
     "name": "stdout",
     "output_type": "stream",
     "text": [
      "a3b3c3\n"
     ]
    }
   ],
   "source": [
    "# WAP to \"aaaabbbcc\"-->\"a4b3c2\"\n",
    "st='aaaabbbccc'\n",
    "res=''\n",
    "i=0\n",
    "count=0\n",
    "while i<len(st)-1:\n",
    "    ch1=st[i]\n",
    "    ch2=st[i+1]\n",
    "    if ch1==ch2:\n",
    "        count+=1\n",
    "    else:\n",
    "        res=res+ch1+str(count)\n",
    "        count=1\n",
    "    i+=1\n",
    "res=res+ch1+str(count)\n",
    "print(res)"
   ]
  },
  {
   "cell_type": "markdown",
   "id": "f21bf26f",
   "metadata": {},
   "source": [
    "SUBSTRING"
   ]
  },
  {
   "cell_type": "code",
   "execution_count": 13,
   "id": "569a1024",
   "metadata": {},
   "outputs": [
    {
     "name": "stdout",
     "output_type": "stream",
     "text": [
      "p\n",
      "py\n",
      "pyt\n",
      "pyth\n",
      "pytho\n",
      "python\n",
      "y\n",
      "yt\n",
      "yth\n",
      "ytho\n",
      "ython\n",
      "t\n",
      "th\n",
      "tho\n",
      "thon\n",
      "h\n",
      "ho\n",
      "hon\n",
      "o\n",
      "on\n",
      "n\n"
     ]
    }
   ],
   "source": [
    "# WAP to print all the substring from a given string.\n",
    "st='python'\n",
    "i=0\n",
    "while i<len(st):\n",
    "    j=i\n",
    "    while j<len(st):\n",
    "        print(st[i:j+1])\n",
    "        j+=1\n",
    "    i+=1\n",
    "    "
   ]
  },
  {
   "cell_type": "code",
   "execution_count": 14,
   "id": "6999bb21",
   "metadata": {},
   "outputs": [
    {
     "name": "stdout",
     "output_type": "stream",
     "text": [
      "py\n",
      "yt\n",
      "th\n",
      "ho\n",
      "on\n"
     ]
    }
   ],
   "source": [
    "# WAP to print the substring whose length is 2.\n",
    "st='python'\n",
    "i=0\n",
    "while i<len(st):\n",
    "    j=i\n",
    "    while j<len(st):\n",
    "        sub=st[i:j+1]\n",
    "        if len(sub)==2:\n",
    "            print(sub)\n",
    "        j+=1\n",
    "    i+=1"
   ]
  },
  {
   "cell_type": "code",
   "execution_count": 19,
   "id": "bf04a4bc",
   "metadata": {},
   "outputs": [
    {
     "name": "stdout",
     "output_type": "stream",
     "text": [
      "elle\n",
      "ll\n"
     ]
    }
   ],
   "source": [
    "# WAP to print palindrome substring whose length is greater than 1\n",
    "st='helle'\n",
    "i=0\n",
    "while i<len(st):\n",
    "    j=i\n",
    "    while j<len(st):\n",
    "        sub=st[i:j+1]\n",
    "        if sub==sub[::-1] and len(sub)>1:\n",
    "            print(sub)\n",
    "        j+=1\n",
    "    i+=1\n"
   ]
  },
  {
   "cell_type": "code",
   "execution_count": 2,
   "id": "2ea36dee",
   "metadata": {},
   "outputs": [
    {
     "name": "stdout",
     "output_type": "stream",
     "text": [
      "a\n",
      "ab\n",
      "aba\n",
      "b\n",
      "ba\n"
     ]
    }
   ],
   "source": [
    "# WAP to print unique substrings from a given string\n",
    "st='aba'\n",
    "uniq=[]\n",
    "i=0\n",
    "while i<len(st):\n",
    "    j=i\n",
    "    while j<len(st):\n",
    "        sub=st[i:j+1]\n",
    "        if sub not in uniq:\n",
    "            uniq+=[sub]\n",
    "            print(sub)\n",
    "        j+=1\n",
    "    i+=1\n",
    "# print(uniq)\n",
    "\n",
    "\n",
    "# for ch in st:\n",
    "#     if ch not in uniq:\n",
    "#         uniq+=ch\n",
    "# if uniq==st:\n",
    "#     print(\"Unique\")"
   ]
  },
  {
   "cell_type": "code",
   "execution_count": 3,
   "id": "91c43fc8",
   "metadata": {},
   "outputs": [
    {
     "name": "stdout",
     "output_type": "stream",
     "text": [
      "False\n",
      "True\n",
      "True\n"
     ]
    }
   ],
   "source": [
    "# WAP to take 3 strings and check if they are palindrome or not.\n",
    "st1=input()\n",
    "st2=input()\n",
    "st3=input()\n",
    "print(st1==st1[::-1])\n",
    "print(st2==st2[::-1])\n",
    "print(st3==st3[::-1])"
   ]
  },
  {
   "cell_type": "code",
   "execution_count": 5,
   "id": "172266fa",
   "metadata": {},
   "outputs": [],
   "source": [
    "# WAP to take 4 numbers and check each of them is prime or not.\n",
    "num1=int(input(\"Enter a number\"))\n",
    "num2=int(input(\"Enter a number\"))\n",
    "num3=int(input(\"Enter a number\"))\n",
    "num4=int(input(\"Enter a number\"))\n",
    "count1=0\n",
    "count2=0\n",
    "count3=0\n",
    "count4=0\n",
    "for i in range(2,num1):\n",
    "    if num1%i==0:\n",
    "        count1+=1\n",
    "for i in range(2,num2):\n",
    "    if num2%i==0:\n",
    "        count2+=1\n",
    "for i in range(2,num3):\n",
    "    if num3%i==0:\n",
    "        count3+=1\n",
    "for i in range(2,num4):\n",
    "    if num4%i==0:\n",
    "        count4+=1\n",
    "if count1==0:\n",
    "    print(\"First Number is prime\")\n",
    "if count2==0:\n",
    "    print(\"Second number is prime\")\n",
    "if count3==0:\n",
    "    print('Third number is prime')\n",
    "if count4==0:\n",
    "    print(\"Fourth Number is prime\")"
   ]
  },
  {
   "cell_type": "markdown",
   "id": "ada0e822",
   "metadata": {},
   "source": [
    "EXERCISE QUESTIONS"
   ]
  },
  {
   "cell_type": "code",
   "execution_count": 1,
   "id": "0817e7bb",
   "metadata": {},
   "outputs": [
    {
     "name": "stdout",
     "output_type": "stream",
     "text": [
      "h\n",
      "e\n",
      "l\n",
      "l\n",
      "o\n"
     ]
    }
   ],
   "source": [
    "# 1. WAPT extract all the characters present in the given String.\n",
    "st=input()\n",
    "for ch in st:\n",
    "    print(ch)"
   ]
  },
  {
   "cell_type": "code",
   "execution_count": 6,
   "id": "0443e331",
   "metadata": {},
   "outputs": [
    {
     "name": "stdout",
     "output_type": "stream",
     "text": [
      "h\n",
      "e\n",
      "l\n",
      "l\n",
      "o\n"
     ]
    }
   ],
   "source": [
    "# 2. WAPT to print\n",
    "#  Only Alphabets\n",
    "#  Only Digits\n",
    "#  Only Special Characters\n",
    "st=input()\n",
    "for ch in st:\n",
    "    if ch>='A' and ch<='Z' or ch>='a' and ch<='z':\n",
    "        print(ch)\n",
    "# for ch in st:\n",
    "#     if ch>='0' and ch<='9':\n",
    "#         print(ch)\n",
    "# for ch in st:\n",
    "#     if not ((ch>='A' and ch<='Z') or (ch>='a' and ch<='z') or (ch>='0' and ch<='9')):\n",
    "#         print(ch)\n"
   ]
  },
  {
   "cell_type": "code",
   "execution_count": 8,
   "id": "743e4351",
   "metadata": {},
   "outputs": [
    {
     "name": "stdout",
     "output_type": "stream",
     "text": [
      "olleh\n"
     ]
    }
   ],
   "source": [
    "# 3. WAPT Reverse a given String\n",
    "st=input()\n",
    "res=''\n",
    "for ch in st:\n",
    "    res=ch+res\n",
    "print(res)"
   ]
  },
  {
   "cell_type": "code",
   "execution_count": 9,
   "id": "1117c1d9",
   "metadata": {},
   "outputs": [
    {
     "name": "stdout",
     "output_type": "stream",
     "text": [
      "l\n"
     ]
    }
   ],
   "source": [
    "# 4. WAPT extract all the duplicate characters from a given string.\n",
    "st=input()\n",
    "res=''\n",
    "for ch in st:\n",
    "    if ch not in res:\n",
    "        res=res+ch\n",
    "    else:\n",
    "        print(ch)"
   ]
  },
  {
   "cell_type": "code",
   "execution_count": null,
   "id": "20a02a8b",
   "metadata": {},
   "outputs": [
    {
     "name": "stdout",
     "output_type": "stream",
     "text": [
      "hello  \n",
      "how  \n",
      "are   \n",
      "yo\n"
     ]
    }
   ],
   "source": [
    "# 5. WAPT extract all the words present in the given String\n",
    "st=input()\n",
    "res=''\n",
    "\n",
    "# for ch in st:\n",
    "#     res=res+ch\n",
    "#     if ch==' ':\n",
    "#         print(res)\n",
    "#         res=''\n",
    "# if res!=' ':\n",
    "#     print(res)\n",
    "\n",
    "\n",
    "# TWO POINTER APPROACH (SUFFICIENT TO AKNOWLEDGE DOUBLE SPACE)\n",
    "i=0\n",
    "while i<len(st)-1:\n",
    "    ch=st[i]\n",
    "    ch1=st[i+1]\n",
    "    res=res+ch\n",
    "    if ch==' ' and ch1!=' ':\n",
    "        print(res)\n",
    "        res=''\n",
    "    i+=1\n",
    "if res!='':\n",
    "    print(res)"
   ]
  },
  {
   "cell_type": "code",
   "execution_count": 44,
   "id": "b06ab809",
   "metadata": {},
   "outputs": [
    {
     "name": "stdout",
     "output_type": "stream",
     "text": [
      "skeegrofsk ee gtapi hsn retni\n"
     ]
    }
   ],
   "source": [
    "# 6. Reverse a string while maintaining the position of spaces.\n",
    "st='internship at geeks for geeks'\n",
    "i=len(st)-1\n",
    "res2=''\n",
    "res=''\n",
    "res3=''\n",
    "for ch in st:\n",
    "    res=ch+res\n",
    "# print(res)\n",
    "for ch in res:\n",
    "    if ch!=' ':\n",
    "        res2=res2+ch\n",
    "# print(res2)\n",
    "i=0\n",
    "for ch in st:\n",
    "    if ch==' ':\n",
    "        res3=res3+ch\n",
    "    elif i<len(res2):\n",
    "        res3=res3+res2[i]\n",
    "        i+=1\n",
    "print(res3)"
   ]
  },
  {
   "cell_type": "code",
   "execution_count": 45,
   "id": "722c0bd9",
   "metadata": {},
   "outputs": [
    {
     "name": "stdout",
     "output_type": "stream",
     "text": [
      "Palindrome\n"
     ]
    }
   ],
   "source": [
    "# 7.Check if a string is a palindrome.\n",
    "st=input()\n",
    "res=''\n",
    "for ch in st:\n",
    "    res=res+ch\n",
    "if res==st:\n",
    "    print('Palindrome')"
   ]
  },
  {
   "cell_type": "code",
   "execution_count": 49,
   "id": "512b3c98",
   "metadata": {},
   "outputs": [
    {
     "name": "stdout",
     "output_type": "stream",
     "text": [
      "h 1\n",
      "e 1\n",
      "l 2\n",
      "o 1\n"
     ]
    }
   ],
   "source": [
    "# 8.Count the frequency of each character in a string.\n",
    "st=input()\n",
    "uniq=''\n",
    "for ch in st:\n",
    "    if ch not in uniq:\n",
    "        uniq=uniq+ch\n",
    "for ch in uniq:\n",
    "    count=0\n",
    "    for ch1 in st:\n",
    "        if ch==ch1:\n",
    "            count+=1\n",
    "    print(ch,count)\n"
   ]
  },
  {
   "cell_type": "code",
   "execution_count": 52,
   "id": "cff5345d",
   "metadata": {},
   "outputs": [
    {
     "name": "stdout",
     "output_type": "stream",
     "text": [
      "w\n"
     ]
    }
   ],
   "source": [
    "# 9.Find the first non-repeated character in a string.\n",
    "st=input()\n",
    "for ch in st:\n",
    "    count=0\n",
    "    for ch1 in st:\n",
    "        if ch==ch1:\n",
    "            count+=1\n",
    "    if count==1:\n",
    "        print(ch)\n",
    "        break"
   ]
  },
  {
   "cell_type": "code",
   "execution_count": null,
   "id": "7e271610",
   "metadata": {},
   "outputs": [
    {
     "name": "stdout",
     "output_type": "stream",
     "text": [
      "l 3\n",
      "2 o\n"
     ]
    }
   ],
   "source": [
    "# 10.Find the second most frequent character in a string.\n",
    "st=input()\n",
    "first_most=0\n",
    "first_char=''\n",
    "second_most=0\n",
    "second_char=''\n",
    "for ch in st:\n",
    "    count=0\n",
    "    for ch1 in st:\n",
    "        if ch==ch1:\n",
    "            count+=1\n",
    "    if first_most<count:\n",
    "        first_most=count\n",
    "        first_char=ch\n",
    "# print(first_char,first_most)\n",
    "for ch in st:\n",
    "    count=0\n",
    "    for ch1 in st:\n",
    "        if ch==ch1:\n",
    "            count+=1\n",
    "    if second_most<count and count<first_most:\n",
    "        second_most=count\n",
    "        second_char=ch\n",
    "print(second_most,second_char)"
   ]
  },
  {
   "cell_type": "code",
   "execution_count": 1,
   "id": "f26be077",
   "metadata": {},
   "outputs": [
    {
     "name": "stdout",
     "output_type": "stream",
     "text": [
      "l\n"
     ]
    }
   ],
   "source": [
    "# 11.Find the first repeating character in a string.\n",
    "st=input()\n",
    "max_count=0\n",
    "max_char=''\n",
    "for ch in st:\n",
    "    count=0\n",
    "    for ch1 in st:\n",
    "        if ch==ch1:\n",
    "            count+=1\n",
    "    if max_count<count:\n",
    "        max_count=count\n",
    "        max_char=ch\n",
    "print(max_char)\n",
    "        "
   ]
  },
  {
   "cell_type": "code",
   "execution_count": 6,
   "id": "c449d1db",
   "metadata": {},
   "outputs": [
    {
     "name": "stdout",
     "output_type": "stream",
     "text": [
      "hel432@32\n"
     ]
    }
   ],
   "source": [
    "# 12.Reverse only the digits present in a string.\n",
    "st=input()\n",
    "dig=''\n",
    "res=''\n",
    "for ch in st:\n",
    "    if ch>='0' and ch<='9':\n",
    "        dig=ch+dig\n",
    "    else:\n",
    "        if dig!='':\n",
    "            res=res+dig+ch\n",
    "            dig=''\n",
    "        else:\n",
    "            res=res+ch\n",
    "if dig!='':\n",
    "    res=res+dig\n",
    "print(res)"
   ]
  },
  {
   "cell_type": "code",
   "execution_count": 7,
   "id": "df132f54",
   "metadata": {},
   "outputs": [
    {
     "name": "stdout",
     "output_type": "stream",
     "text": [
      "hel*o@*\n"
     ]
    }
   ],
   "source": [
    "# 13.Replace duplicate characters with '*'.\n",
    "st=input()\n",
    "uniq=''\n",
    "res=''\n",
    "for ch in st:\n",
    "    if ch not in uniq:\n",
    "        uniq+=ch\n",
    "        res+=ch\n",
    "    else:\n",
    "        res+='*'\n",
    "print(res)"
   ]
  },
  {
   "cell_type": "code",
   "execution_count": 9,
   "id": "c5aac0ac",
   "metadata": {},
   "outputs": [
    {
     "name": "stdout",
     "output_type": "stream",
     "text": [
      "heo@123\n"
     ]
    }
   ],
   "source": [
    "# 14.Remove a specific character from a string.\n",
    "st=input()\n",
    "char=input()\n",
    "res=''\n",
    "for ch in st:\n",
    "    if ch!=char:\n",
    "        res+=ch\n",
    "print(res)"
   ]
  },
  {
   "cell_type": "code",
   "execution_count": 12,
   "id": "540cbb47",
   "metadata": {},
   "outputs": [
    {
     "name": "stdout",
     "output_type": "stream",
     "text": [
      "unique\n"
     ]
    }
   ],
   "source": [
    "# 15.Check if a string is made up of unique characters\n",
    "st=input()\n",
    "is_unique=True\n",
    "uniq=''\n",
    "for ch in st:\n",
    "    if ch not in uniq:\n",
    "        uniq+=ch\n",
    "    else:\n",
    "        is_unique=False\n",
    "if is_unique:\n",
    "    print(\"unique\")\n",
    "else:\n",
    "    print('Not unique')"
   ]
  },
  {
   "cell_type": "code",
   "execution_count": 25,
   "id": "f810cd56",
   "metadata": {},
   "outputs": [
    {
     "name": "stdout",
     "output_type": "stream",
     "text": [
      "uninu\n"
     ]
    }
   ],
   "source": [
    "# 16.Find the longest palindrome in a string.\n",
    "st='hello uninu'\n",
    "i=0\n",
    "max_count=0\n",
    "max_char=''\n",
    "while i<len(st):\n",
    "    j=i\n",
    "    while j<len(st):\n",
    "        sub=st[i:j+1]\n",
    "        rev_sub=''\n",
    "        for ch in sub:\n",
    "            rev_sub=ch+rev_sub\n",
    "        if sub==rev_sub:\n",
    "            if max_count<len(sub):\n",
    "                max_count=len(sub)\n",
    "                max_char=sub\n",
    "        j+=1\n",
    "    i+=1\n",
    "print(max_char)\n"
   ]
  },
  {
   "cell_type": "code",
   "execution_count": 30,
   "id": "ff51a739",
   "metadata": {},
   "outputs": [
    {
     "name": "stdout",
     "output_type": "stream",
     "text": [
      "ll\n"
     ]
    }
   ],
   "source": [
    "# 17.Find the smallest palindrome in a string.\n",
    "st='hello uninu'\n",
    "i=0\n",
    "min_count=len(st)\n",
    "min_str=''\n",
    "while i<len(st):\n",
    "    j=i\n",
    "    while j<len(st):\n",
    "        sub=st[i:j+1]\n",
    "        rev_sub=''\n",
    "        for ch in sub:\n",
    "            rev_sub=ch+rev_sub\n",
    "        if sub==rev_sub:\n",
    "            if min_count>len(sub) and len(sub)>1:\n",
    "                min_count=len(sub)\n",
    "                min_str=sub\n",
    "        j+=1\n",
    "    i+=1\n",
    "print(min_str)"
   ]
  },
  {
   "cell_type": "code",
   "execution_count": 29,
   "id": "3138fff9",
   "metadata": {},
   "outputs": [
    {
     "name": "stdout",
     "output_type": "stream",
     "text": [
      "vamshi\n",
      "3\n",
      "5 hello\n",
      "1 i\n"
     ]
    }
   ],
   "source": [
    "# 18.Find the smallest and largest words in a string\n",
    "st=input()\n",
    "word=''\n",
    "i=0\n",
    "max_count=0\n",
    "max_word=''\n",
    "min_count=len(st)\n",
    "min_word=''\n",
    "while i<len(st)-1:\n",
    "    ch=st[i]\n",
    "    ch1=st[i+1]\n",
    "    if ch!=' ':\n",
    "        word+=ch\n",
    "    if ch==' ' and ch1!=' ':\n",
    "        # print(word)\n",
    "        count=0\n",
    "        for ch in word:\n",
    "            count+=1\n",
    "        if count>max_count:\n",
    "            max_count=count\n",
    "            max_word=word\n",
    "        if count<min_count:\n",
    "            min_count=count\n",
    "            min_word=word\n",
    "        word=''\n",
    "    i+=1\n",
    "word+=st[-1]\n",
    "count+=1\n",
    "print(word)\n",
    "print(count)\n",
    "if word!='':\n",
    "    if count>max_count:\n",
    "        max_count=count\n",
    "        max_word=word\n",
    "    if count<min_count:\n",
    "        min_count=count\n",
    "        min_word=word\n",
    "    word=''\n",
    "\n",
    "print(max_count,max_word)\n",
    "print(min_count,min_word)"
   ]
  },
  {
   "cell_type": "code",
   "execution_count": 17,
   "id": "3b1e3366",
   "metadata": {},
   "outputs": [
    {
     "name": "stdout",
     "output_type": "stream",
     "text": [
      "hello 1\n",
      "i 2\n",
      "am 1\n",
      "i 2\n",
      "vamshi 1\n",
      "world 1\n"
     ]
    }
   ],
   "source": [
    "# 19.Find the frequency of each word in a string.\n",
    "st='hello i am i vamshi world'\n",
    "word=''\n",
    "l=[]\n",
    "for ch in st:\n",
    "    if ch!=' ':\n",
    "        word+=ch\n",
    "    else:\n",
    "        l+=[word]\n",
    "        word=''\n",
    "l+=[word]\n",
    "\n",
    "for ch in l:\n",
    "    count=0\n",
    "    for ch1 in l:\n",
    "        if ch==ch1:\n",
    "            count+=1\n",
    "    print(ch,count)\n"
   ]
  },
  {
   "cell_type": "code",
   "execution_count": 37,
   "id": "f04ec744",
   "metadata": {},
   "outputs": [
    {
     "name": "stdout",
     "output_type": "stream",
     "text": [
      "olleh i ma ihsmav\n"
     ]
    }
   ],
   "source": [
    "# 20.Reverse each word in a string individually.\n",
    "st='hello i am vamshi'\n",
    "rev=''\n",
    "res=''\n",
    "for ch in st:\n",
    "    if ch!=' ':\n",
    "        rev=ch+rev\n",
    "    else:\n",
    "        res+=rev+\" \"\n",
    "        rev=''\n",
    "if rev!=\"\":\n",
    "    res+=rev\n",
    "print(res)"
   ]
  },
  {
   "cell_type": "code",
   "execution_count": 38,
   "id": "bb4030dc",
   "metadata": {},
   "outputs": [
    {
     "name": "stdout",
     "output_type": "stream",
     "text": [
      "hello%20i%20am%20vamshi\n"
     ]
    }
   ],
   "source": [
    "# 21.Replace all spaces in a string with '%20'.\n",
    "st=input()\n",
    "res=''\n",
    "for ch in st:\n",
    "    if ch==' ':\n",
    "        res+='%20'\n",
    "    else:\n",
    "        res+=ch\n",
    "print(res)"
   ]
  },
  {
   "cell_type": "code",
   "execution_count": 43,
   "id": "ce58d55e",
   "metadata": {},
   "outputs": [
    {
     "name": "stdout",
     "output_type": "stream",
     "text": [
      "False\n"
     ]
    }
   ],
   "source": [
    "# 22.Check if two strings are rotations of each other.\n",
    "st1=input()\n",
    "st2=input()\n",
    "count1=0\n",
    "count2=0\n",
    "for ch in st1:\n",
    "    count1+=1\n",
    "for ch in st2:\n",
    "    count2+=1\n",
    "if count1==count2:\n",
    "    st1=st1+st1\n",
    "print(st2 in st1)\n",
    "\n"
   ]
  },
  {
   "cell_type": "code",
   "execution_count": 31,
   "id": "dc21f0ae",
   "metadata": {},
   "outputs": [
    {
     "name": "stdout",
     "output_type": "stream",
     "text": [
      "lo \n"
     ]
    }
   ],
   "source": [
    "# 23.Implement your own substring() method\n",
    "st='hello i am vamshi'\n",
    "start=int(input(\"Enter starting position: \"))\n",
    "end=int(input(\"Enter ending position: \"))\n",
    "res=''\n",
    "while start<end:\n",
    "    ch=st[start]\n",
    "    res+=ch\n",
    "    start+=1\n",
    "print(res)"
   ]
  },
  {
   "cell_type": "code",
   "execution_count": 49,
   "id": "eb4fc471",
   "metadata": {},
   "outputs": [
    {
     "name": "stdout",
     "output_type": "stream",
     "text": [
      "['I', 'am', 'good', 'in', 'programming']\n"
     ]
    }
   ],
   "source": [
    "# 24.Implement your own split() method for a string.\n",
    "st='I am good in programming'\n",
    "i=0\n",
    "word=''\n",
    "res=[]\n",
    "while i<len(st):\n",
    "    ch=st[i]\n",
    "    if ch!=' ':\n",
    "        word+=ch\n",
    "    if ch==' ' and word!='':\n",
    "        res+=[word]\n",
    "        word=''\n",
    "    i+=1\n",
    "if word!='':\n",
    "    res+=[word]\n",
    "print(res)"
   ]
  },
  {
   "cell_type": "code",
   "execution_count": null,
   "id": "a824dc34",
   "metadata": {},
   "outputs": [
    {
     "name": "stdout",
     "output_type": "stream",
     "text": [
      "4\n"
     ]
    }
   ],
   "source": [
    "# 25.Implement your own indexOf() method for strings. (index())\n",
    "st='string'\n",
    "char='n'\n",
    "i=0\n",
    "while i<len(st):\n",
    "    if st[i]==char:\n",
    "        print(i)\n",
    "        break\n",
    "    i+=1"
   ]
  },
  {
   "cell_type": "code",
   "execution_count": null,
   "id": "a7d293fb",
   "metadata": {},
   "outputs": [
    {
     "name": "stdout",
     "output_type": "stream",
     "text": [
      "   hel lo       15\n"
     ]
    }
   ],
   "source": [
    "# 26.Implement your own trim() method for strings. (strip())\n",
    "st='   hel lo      '\n",
    "res=''\n",
    "res1=''\n",
    "# print(st.strip())\n",
    "i=0\n",
    "while i<len(st):\n",
    "    ch=st[i]\n",
    "    if ch==\" \":\n",
    "        i+=1\n",
    "        continue\n",
    "    else:\n",
    "        res=st[i:]\n",
    "        break\n",
    "    i+=1\n",
    "\n",
    "i=len(res)-1\n",
    "\n",
    "while i>=0:\n",
    "    ch=res[i]\n",
    "    if ch==' ':\n",
    "        i-=1\n",
    "        continue\n",
    "    else:\n",
    "        res1=res[:i+1]\n",
    "        break\n",
    "    i-=1\n",
    "print(res1,len(res1))\n"
   ]
  },
  {
   "cell_type": "code",
   "execution_count": 54,
   "id": "ae1f985d",
   "metadata": {},
   "outputs": [
    {
     "name": "stdout",
     "output_type": "stream",
     "text": [
      "Hello How Are You\n"
     ]
    }
   ],
   "source": [
    "# 27.Implement your own toLowerCase() and toUpperCase() methods.\n",
    "st=input()\n",
    "res=''\n",
    "\n",
    "#TO LOWER CASE \n",
    "\n",
    "# for ch in st:  #toLowerCase()\n",
    "#     if ch>='A' and ch<='Z':\n",
    "#         res+=chr(ord(ch)+32)\n",
    "#     else:\n",
    "#         res+=ch\n",
    "# print(res)\n",
    "\n",
    "\n",
    "# TO UPPER CASE\n",
    "\n",
    "# for ch in st: #toUpperCase()\n",
    "#     if ch>='a' and ch<='z':\n",
    "#         res+=chr(ord(ch)-32)\n",
    "#     else:\n",
    "#         res+=ch\n",
    "# print(res)\n",
    "\n",
    "\n",
    "# TO TITLE CASE\n",
    "i=1\n",
    "res=''\n",
    "if st[0]>='a' and st[0]<='z':\n",
    "    res+=chr(ord(st[0])-32)\n",
    "while i<len(st):\n",
    "    ch1=st[i-1]\n",
    "    ch=st[i]\n",
    "    if ch1==' ' and ch!=' ':\n",
    "        if ch>='a' and ch<='z':\n",
    "            res=res+chr(ord(ch)-32)\n",
    "    else:\n",
    "        if ch>='A' and ch<='Z':\n",
    "            res=res+chr(ord(ch)+32)\n",
    "        else:\n",
    "            res+=ch\n",
    "    i+=1\n",
    "print(res)\n",
    "\n"
   ]
  },
  {
   "cell_type": "code",
   "execution_count": 91,
   "id": "1a9535df",
   "metadata": {},
   "outputs": [
    {
     "name": "stdout",
     "output_type": "stream",
     "text": [
      "104101108108111\n"
     ]
    }
   ],
   "source": [
    "# 28.Convert a string to its ASCII representation.\n",
    "st=input()\n",
    "res=''\n",
    "for ch in st:\n",
    "    res+=str(ord(ch))\n",
    "print(res)"
   ]
  },
  {
   "cell_type": "code",
   "execution_count": 36,
   "id": "788a9782",
   "metadata": {},
   "outputs": [
    {
     "name": "stdout",
     "output_type": "stream",
     "text": [
      "The input has alphabets or special characters which cannot be parsed into integer\n"
     ]
    }
   ],
   "source": [
    "# 29.Convert a string to its equivalent integer representation.\n",
    "\n",
    "try:\n",
    "    num=int(input())\n",
    "except ValueError:\n",
    "    print(\"The input has alphabets or special characters which cannot be parsed into integer\")\n",
    "else:\n",
    "    print(num)\n",
    "    print(\n",
    "        'Parsed Gracefully'\n",
    "    )"
   ]
  },
  {
   "cell_type": "code",
   "execution_count": 93,
   "id": "7da60e26",
   "metadata": {},
   "outputs": [
    {
     "name": "stdout",
     "output_type": "stream",
     "text": [
      "h*ll* h*w *r* y**\n"
     ]
    }
   ],
   "source": [
    "# 30.Replace all vowels in a string with a given character.\n",
    "st=input()\n",
    "char=input(\"Enter a character\")\n",
    "res=''\n",
    "for ch in st:\n",
    "    if ch in \"AEIOUaeiou\":\n",
    "        res+=char\n",
    "    else:\n",
    "        res+=ch\n",
    "print(res)"
   ]
  },
  {
   "cell_type": "code",
   "execution_count": 10,
   "id": "6521db5f",
   "metadata": {},
   "outputs": [
    {
     "name": "stdout",
     "output_type": "stream",
     "text": [
      "a\n",
      "b\n",
      "c\n",
      "d\n",
      "a\n"
     ]
    }
   ],
   "source": [
    "# 31.Write a program to remove all consecutive duplicate characters in a string.\n",
    "st='aabbccdaa'\n",
    "i=0\n",
    "while i<len(st)-1:\n",
    "    ch1=st[i]\n",
    "    ch2=st[i+1]\n",
    "    if ch1!=ch2:\n",
    "        print(ch1)\n",
    "    i+=1\n",
    "print(ch2)\n"
   ]
  },
  {
   "cell_type": "code",
   "execution_count": 30,
   "id": "9cfe08d9",
   "metadata": {},
   "outputs": [
    {
     "name": "stdout",
     "output_type": "stream",
     "text": [
      "12\n"
     ]
    }
   ],
   "source": [
    "# 32.Implement your own version of the strstr() function to find the first occurrence of a substring.\n",
    "main='Hello world hai'\n",
    "sub='ha'\n",
    "i=0\n",
    "j=0\n",
    "while i<len(main):\n",
    "    ch=main[i]\n",
    "    ch1=sub[j]\n",
    "    if ch==ch1:\n",
    "        if j==len(sub)-1:\n",
    "            print(z)\n",
    "            break\n",
    "        i+=1\n",
    "        j+=1\n",
    "    else:\n",
    "        j=0\n",
    "        i+=1\n",
    "        z=i\n",
    "        \n",
    "    "
   ]
  },
  {
   "cell_type": "code",
   "execution_count": 32,
   "id": "6bb0b6cf",
   "metadata": {},
   "outputs": [
    {
     "name": "stdout",
     "output_type": "stream",
     "text": [
      "he \n"
     ]
    }
   ],
   "source": [
    "# 33.Given two strings, remove all characters from the first string that appear in the second.\n",
    "st1=input()\n",
    "st2=input()\n",
    "res=''\n",
    "for ch in st1:\n",
    "    if ch not in st2:\n",
    "        res=res+ch\n",
    "print(res)"
   ]
  },
  {
   "cell_type": "code",
   "execution_count": 46,
   "id": "847c02d1",
   "metadata": {},
   "outputs": [
    {
     "name": "stdout",
     "output_type": "stream",
     "text": [
      "False\n"
     ]
    }
   ],
   "source": [
    "# 34.Determine if two strings follow the same character pattern.\n",
    "st1='hello44'\n",
    "st2='abccd35'\n",
    "res=''\n",
    "i=0\n",
    "is_pattern=False\n",
    "\n",
    "while i<len(st1) and i<len(st2):\n",
    "    if len(st1)!=len(st2):\n",
    "        # print(\"not same pattern\")\n",
    "        break\n",
    "    if st1[i] not in res:\n",
    "        res=res+st1[i]+st2[i]\n",
    "    else:\n",
    "        is_pattern=res[res.index(st1[i])+1]==st2[i]\n",
    "    i+=1\n",
    "print(is_pattern)"
   ]
  },
  {
   "cell_type": "code",
   "execution_count": 5,
   "id": "22e3ffed",
   "metadata": {},
   "outputs": [
    {
     "name": "stdout",
     "output_type": "stream",
     "text": [
      "a4b2c1d5\n"
     ]
    }
   ],
   "source": [
    "# 35.Compress a string using run-length encoding.\n",
    "st=\"aaaabbcddddd\"\n",
    "res=''\n",
    "i=0\n",
    "count=1\n",
    "while i<len(st)-1:\n",
    "    ch=st[i]\n",
    "    ch1=st[i+1]\n",
    "    if ch==ch1:\n",
    "        count+=1\n",
    "    else:\n",
    "        res=res+ch+str(count)\n",
    "        count=1\n",
    "    i+=1\n",
    "res=res+ch+str(count)\n",
    "print(res)\n",
    "\n"
   ]
  },
  {
   "cell_type": "code",
   "execution_count": 53,
   "id": "ef36725a",
   "metadata": {},
   "outputs": [
    {
     "name": "stdout",
     "output_type": "stream",
     "text": [
      "How Are You Boyyyyy\n"
     ]
    }
   ],
   "source": [
    "# 36.Write a program to capitalize the first letter of each word in a string.\n",
    "st='how are You boyyyyy'\n",
    "i=0\n",
    "res=''\n",
    "while i<len(st)-1:\n",
    "    ch1=st[i]\n",
    "    ch2=st[i+1]\n",
    "    if i==0:\n",
    "        if ch1>='a' and ch1<='z':\n",
    "            res+=chr(ord(ch1)-32)\n",
    "        else:\n",
    "            res+=ch1\n",
    "\n",
    "    if ch1==' ' and ch2>='a' and ch2<='z':\n",
    "        res+=chr(ord(ch2)-32)\n",
    "    else:\n",
    "        res+=ch2\n",
    "    i+=1\n",
    "print(res)"
   ]
  },
  {
   "cell_type": "code",
   "execution_count": 55,
   "id": "22e99e4e",
   "metadata": {},
   "outputs": [
    {
     "name": "stdout",
     "output_type": "stream",
     "text": [
      "p\n",
      "py\n",
      "pyt\n",
      "pyth\n",
      "pytho\n",
      "python\n",
      "y\n",
      "yt\n",
      "yth\n",
      "ytho\n",
      "ython\n",
      "t\n",
      "th\n",
      "tho\n",
      "thon\n",
      "h\n",
      "ho\n",
      "hon\n",
      "o\n",
      "on\n",
      "n\n"
     ]
    }
   ],
   "source": [
    "# 37.Generate and print all possible substrings of a given string.\n",
    "st='python'\n",
    "i=0\n",
    "while i<len(st):\n",
    "    j=i\n",
    "    while j<len(st):\n",
    "        print(st[i:j+1])\n",
    "        j+=1\n",
    "    i+=1\n"
   ]
  },
  {
   "cell_type": "code",
   "execution_count": 63,
   "id": "61c5fca6",
   "metadata": {},
   "outputs": [
    {
     "name": "stdout",
     "output_type": "stream",
     "text": [
      "True\n"
     ]
    }
   ],
   "source": [
    "# 38.Check whether one string is a permutation of another string.\n",
    "st1='p1ytthon'\n",
    "st2='yphtont1'\n",
    "uniq=''\n",
    "is_permuted=True\n",
    "for ch in st1:\n",
    "    if ch not in uniq:\n",
    "        uniq+=ch\n",
    "i=0\n",
    "for ch in uniq:\n",
    "    if len(st1)!=len(st2):\n",
    "        is_permuted=False\n",
    "        break\n",
    "    count1=0\n",
    "    count2=0\n",
    "    for ch1 in st1:\n",
    "        if ch==ch1:\n",
    "            count1+=1\n",
    "    for ch2 in st2:\n",
    "        if ch==ch2:\n",
    "            count2+=1\n",
    "    if count1!=count2:\n",
    "        is_permuted=False\n",
    "print(is_permuted)\n",
    "    "
   ]
  },
  {
   "cell_type": "code",
   "execution_count": 71,
   "id": "082ab8f2",
   "metadata": {},
   "outputs": [
    {
     "name": "stdout",
     "output_type": "stream",
     "text": [
      "False\n"
     ]
    }
   ],
   "source": [
    "# 39.Determine if a string is a palindrome, considering only alphanumeric characters and ignoring cases.\n",
    "st1='pytYPt'\n",
    "is_palindrome=True\n",
    "rev=''\n",
    "for ch in st1:\n",
    "    rev=ch+rev\n",
    "i=0\n",
    "while i<len(st1) and i<len(st2):\n",
    "    if not (st1[i]==rev[i] or st1[i]==chr(ord(rev[i])+32) or st1[i]==chr(ord(rev[i])-32)):\n",
    "        is_palindrome=False\n",
    "    i+=1\n",
    "print(is_palindrome)\n"
   ]
  },
  {
   "cell_type": "code",
   "execution_count": 110,
   "id": "b5d350b0",
   "metadata": {},
   "outputs": [
    {
     "name": "stdout",
     "output_type": "stream",
     "text": [
      "lo\n"
     ]
    }
   ],
   "source": [
    "# 40.Given two strings s and t, return the minimum window in s which contains all the characters of t.\n",
    "# s='Hello world'\n",
    "# t='lo'\n",
    "# i=0\n",
    "# lenn=len(s)\n",
    "# while i<len(s):\n",
    "#     j=i\n",
    "#     while j<len(s):\n",
    "#         sub=s[i:j+1]\n",
    "#         is_present=True\n",
    "#         for ch in t:\n",
    "#             if ch not in sub:\n",
    "#                 is_present=False\n",
    "#         if is_present:\n",
    "#             if lenn>len(sub):\n",
    "#                 lenn=len(sub)\n",
    "#                 res=sub\n",
    "#         j+=1\n",
    "#     i+=1\n",
    "# print(res)\n",
    "\n",
    "s='Hello world'\n",
    "t='lo'\n",
    "i=0\n",
    "\n",
    "while i<len(s):\n",
    "    j=0\n",
    "    right=i\n",
    "    while j<len(s) and right<len(s):\n",
    "        left=j\n",
    "        sub=s[left:right+1]\n",
    "        is_present=True\n",
    "        for ch in t:\n",
    "            if ch not in sub:\n",
    "                is_present=False\n",
    "        if is_present:\n",
    "            print(sub)\n",
    "            break      \n",
    "        right+=1\n",
    "        j+=1\n",
    "    if is_present:\n",
    "        break\n",
    "        # print(sub) \n",
    "    i+=1\n"
   ]
  },
  {
   "cell_type": "code",
   "execution_count": 10,
   "id": "de2129e7",
   "metadata": {},
   "outputs": [
    {
     "name": "stdout",
     "output_type": "stream",
     "text": [
      "False\n"
     ]
    }
   ],
   "source": [
    "# 41.Given a pattern and a string, determine if the string follows the same pattern.\n",
    "pattern='abba'\n",
    "string='cat dog dog dog'\n",
    "\n",
    "is_true=True\n",
    "empty={}\n",
    "string_arr=[]\n",
    "word=''\n",
    "for ch in string:  #CONVERTING STRING TO ARRAY\n",
    "    if ch!=' ':\n",
    "        word+=ch\n",
    "    else:\n",
    "        string_arr+=[word]\n",
    "        word=''\n",
    "string_arr+=[word]\n",
    "i=0\n",
    "while i<len(pattern):\n",
    "    if len(pattern)!=len(string_arr):\n",
    "        is_true=False\n",
    "        break\n",
    "    char=pattern[i]\n",
    "    if char not in empty:\n",
    "        empty[char]=string_arr[i]\n",
    "    else:\n",
    "        if empty[char]!=string_arr[i]:\n",
    "            is_true=False\n",
    "    i+=1\n",
    "print(is_true)"
   ]
  },
  {
   "cell_type": "code",
   "execution_count": null,
   "id": "2987077c",
   "metadata": {},
   "outputs": [
    {
     "name": "stdout",
     "output_type": "stream",
     "text": [
      " world\n"
     ]
    }
   ],
   "source": [
    "# 42.Find the length of the longest substring without repeating characters.\n",
    "st=input()\n",
    "length=0\n",
    "str=''\n",
    "# GETTING THE SUBSTRING\n",
    "i=0\n",
    "while i<len(st):\n",
    "    j=i\n",
    "    while j<len(st):\n",
    "        sub=st[i:j+1]\n",
    "        uniq=''\n",
    "        for ch in sub:\n",
    "            if ch not in uniq:\n",
    "                uniq+=ch\n",
    "        if len(uniq)==len(sub):\n",
    "            if length<len(uniq):\n",
    "                length=len(uniq)\n",
    "                str=sub\n",
    "        j+=1\n",
    "    i+=1\n",
    "print(str)"
   ]
  },
  {
   "cell_type": "code",
   "execution_count": 14,
   "id": "29aea5e3",
   "metadata": {},
   "outputs": [
    {
     "name": "stdout",
     "output_type": "stream",
     "text": [
      "abcabccdcdcd\n"
     ]
    }
   ],
   "source": [
    "# 43.Decode an encoded string where patterns are in the form k[encoded_string].\n",
    "st=\"2abc3cd\"\n",
    "res=''\n",
    "i=0\n",
    "str=''\n",
    "dig=''\n",
    "while i<len(st)-1:\n",
    "    ch=st[i]\n",
    "    if ch>='0' and ch<='9':\n",
    "        dig+=ch\n",
    "    else:\n",
    "        str+=ch\n",
    "        if dig!='' and st[i+1]>='0' and st[i+1]<='9':\n",
    "            res=res+str*int(dig)\n",
    "            str=''\n",
    "            dig=''\n",
    "    i+=1\n",
    "str+=st[i]\n",
    "res=res+str*int(dig)\n",
    "print(res)\n"
   ]
  },
  {
   "cell_type": "code",
   "execution_count": 30,
   "id": "124566c3",
   "metadata": {},
   "outputs": [
    {
     "name": "stdout",
     "output_type": "stream",
     "text": [
      "123\n"
     ]
    }
   ],
   "source": [
    "# 44.Reverse the characters in a string, but keep the special characters in their original position.\n",
    "st=\"123\"   #\"c,b$a\"\n",
    "char=''  #STORE ONLY ALPHABETS IN REVERSE ORDER.\n",
    "res=''\n",
    "for ch in st:\n",
    "    if ch>='A' and ch<='Z' or ch>='a' and ch<='z' or (ch>='0' and ch<='9'):\n",
    "        char=ch+char\n",
    "i=0\n",
    "j=0\n",
    "while i<len(st):\n",
    "    ch=st[i]\n",
    "    if ch>='A' and ch<='Z' or ch>='a' and ch<='z':\n",
    "        res+=char[j]\n",
    "        j+=1\n",
    "    else:\n",
    "        res+=ch\n",
    "    i+=1\n",
    "print(res)"
   ]
  },
  {
   "cell_type": "code",
   "execution_count": 44,
   "id": "04fc6732",
   "metadata": {},
   "outputs": [
    {
     "name": "stdout",
     "output_type": "stream",
     "text": [
      "False\n"
     ]
    }
   ],
   "source": [
    "# 45.Check whether two strings are one edit (insert, remove, replace) away from each other.\n",
    "st1='hello'\n",
    "st2='hlloo'\n",
    "if len(st1)==len(st2):\n",
    "    i=0\n",
    "    correct=0\n",
    "    while i<len(st1):\n",
    "        ch1=st1[i]\n",
    "        ch2=st2[i]\n",
    "        if ch1==ch2:\n",
    "            correct+=1\n",
    "        i+=1\n",
    "    if correct==len(st1)-1:\n",
    "        print(True)\n",
    "    else:\n",
    "        print(False)\n",
    "if len(st1)!=len(st2):\n",
    "    if len(st1)-len(st2)==1:\n",
    "        #TWO POINTER APPROACH\n",
    "        i=0\n",
    "        j=0\n",
    "        edit=0\n",
    "        while i<len(st1)-1:\n",
    "            ch=st1[i]\n",
    "            sh=st1[j]\n",
    "            if ch==sh:\n",
    "                i+=1\n",
    "                j+=1\n",
    "            else:\n",
    "                i+=1\n",
    "        if edit>1:\n",
    "            print(False)\n",
    "        else:\n",
    "            print(True)\n",
    "    if len(st1)-len(st2)==-1:\n",
    "            #TWO POINTER APPROACH\n",
    "        i=0\n",
    "        j=0\n",
    "        edit=0\n",
    "        while i<len(st1)-1:\n",
    "            ch=st1[i]\n",
    "            sh=st1[j]\n",
    "            if ch==sh:\n",
    "                i+=1\n",
    "                j+=1\n",
    "            else:\n",
    "                j+=1\n",
    "        if edit>1:\n",
    "            print(False)\n",
    "        else:\n",
    "            print(True)\n",
    "# else:\n",
    "#     print(False)"
   ]
  },
  {
   "cell_type": "code",
   "execution_count": null,
   "id": "66f4c4a6",
   "metadata": {},
   "outputs": [
    {
     "name": "stdout",
     "output_type": "stream",
     "text": [
      "madam\n"
     ]
    }
   ],
   "source": [
    "# 46.Find the longest subsequence in a string that is also a palindrome.\n",
    "st=input()\n",
    "i=0\n",
    "max_len=0\n",
    "max_str=''\n",
    "while i<len(st):\n",
    "    j=i\n",
    "    while j<len(st):\n",
    "        sub=st[i:j+1]\n",
    "        rev_sub=''\n",
    "        for ch in sub:\n",
    "            rev_sub=ch+rev_sub\n",
    "        if sub==rev_sub:\n",
    "            if max_len<len(sub):\n",
    "                max_len=len(sub)\n",
    "                max_str=sub\n",
    "        j+=1\n",
    "    i+=1\n",
    "print(max_str)"
   ]
  },
  {
   "cell_type": "code",
   "execution_count": 2,
   "id": "ebcd1bbd",
   "metadata": {},
   "outputs": [
    {
     "name": "stdout",
     "output_type": "stream",
     "text": [
      "['h', 'e', 'l', 'o', ' ', 'w', 'a', 'r', 'y', 'u']\n",
      " aehloruwy\n"
     ]
    }
   ],
   "source": [
    "# 47.Remove duplicate letters so that every letter appears once and the result is the smallest in \n",
    "# lexicographical order.\n",
    "st='hello how are you'\n",
    "uniq=''\n",
    "for ch in st:\n",
    "    if ch not in uniq:\n",
    "        uniq+=ch\n",
    "list1=list(uniq)\n",
    "print(list1)\n",
    "i=0\n",
    "while i<len(list1):\n",
    "    j=0\n",
    "    while j<len(list1)-1:\n",
    "        if list1[j]>list1[j+1]:\n",
    "            list1[j],list1[j+1]=list1[j+1],list1[j]\n",
    "        j+=1\n",
    "    i+=1\n",
    "print(''.join(list1))"
   ]
  },
  {
   "cell_type": "code",
   "execution_count": null,
   "id": "6102a338",
   "metadata": {},
   "outputs": [
    {
     "name": "stdout",
     "output_type": "stream",
     "text": [
      "3\n"
     ]
    }
   ],
   "source": [
    "# 48.Find the minimum number of insertions required to make a string a palindrome.\n",
    "\n"
   ]
  },
  {
   "cell_type": "code",
   "execution_count": 73,
   "id": "840e4dad",
   "metadata": {},
   "outputs": [
    {
     "name": "stdout",
     "output_type": "stream",
     "text": [
      "l2o\n"
     ]
    }
   ],
   "source": [
    "# 49.Find the smallest substring in a given string that contains all characters of another string.\n",
    "st='Hell11o i am vamshil2o'\n",
    "char='lo'\n",
    "i=0\n",
    "\n",
    "min_count=len(st)\n",
    "min_char=''\n",
    "while i<len(st):\n",
    "    j=i\n",
    "    while j<len(st):\n",
    "        sub=st[i:j+1]\n",
    "        is_available=True\n",
    "        for ch in char:\n",
    "            if ch not in sub:\n",
    "                is_available=False\n",
    "        if is_available:\n",
    "            if min_count>len(sub):\n",
    "                min_count=len(sub)\n",
    "                min_char=sub\n",
    "        j+=1\n",
    "    i+=1\n",
    "print(min_char)"
   ]
  },
  {
   "cell_type": "code",
   "execution_count": 85,
   "id": "d5de1d6d",
   "metadata": {},
   "outputs": [
    {
     "name": "stdout",
     "output_type": "stream",
     "text": [
      "False\n"
     ]
    }
   ],
   "source": [
    "# 50.Write a program to check if two strings are anagrams of each other.\n",
    "st=\"Hello world\"\n",
    "st1='weoHloorl dl'\n",
    "uniq=''\n",
    "is_anagrams=True\n",
    "for ch in st:\n",
    "    if ch not in uniq:\n",
    "        uniq+=ch\n",
    "i=0\n",
    "while i<len(uniq):\n",
    "    ch=uniq[i]\n",
    "    count1=0\n",
    "    count2=0\n",
    "    for ch1 in st:\n",
    "        if ch1==ch:\n",
    "            count1+=1\n",
    "    for ch2 in st1:\n",
    "        if ch2==ch:\n",
    "            count2+=1\n",
    "    if count1!=count2:\n",
    "        is_anagrams=False\n",
    "    i+=1\n",
    "print(is_anagrams)\n"
   ]
  },
  {
   "cell_type": "code",
   "execution_count": 1,
   "id": "c5a09b12",
   "metadata": {
    "tags": [
     "bookmark"
    ]
   },
   "outputs": [
    {
     "name": "stdout",
     "output_type": "stream",
     "text": [
      "{'t1': 'eat', 'a1': 'tea', 'n1': 'tan', 'e1': 'ate'}\n"
     ]
    }
   ],
   "source": [
    "# 51.Given an array of strings, group the anagrams together.\n",
    "list1=[\"eat\", \"tea\", \"tan\", \"ate\", \"nat\", \"bat\"]\n",
    "li={}\n",
    "key=''\n",
    "for string in list1:\n",
    "    for ch in string:\n",
    "        count=0\n",
    "        for ch1 in string:\n",
    "            if ch==ch1:\n",
    "                count+=1\n",
    "        key=ch+str(count)\n",
    "    if key not in li:\n",
    "        li[key]=string\n",
    "print(li)\n"
   ]
  },
  {
   "cell_type": "code",
   "execution_count": 5,
   "id": "92a68796",
   "metadata": {},
   "outputs": [
    {
     "name": "stdout",
     "output_type": "stream",
     "text": [
      "Not a k-Anagram\n"
     ]
    }
   ],
   "source": [
    "# 52.Two strings are k-anagrams if they can be made anagrams by changing at most k characters in one of \n",
    "# the strings.\n",
    "st1='hellolllllll'\n",
    "st2='holellll'\n",
    "edit=0\n",
    "k=int(input())\n",
    "is_anagram=False\n",
    "uniq=''\n",
    "for ch in st1:\n",
    "    if ch not in uniq:\n",
    "        uniq+=ch\n",
    "for ch in uniq:\n",
    "    count1=0\n",
    "    count2=0\n",
    "    for ch1 in st1:\n",
    "        if ch==ch1:\n",
    "            count1+=1\n",
    "    for ch2 in st2:\n",
    "        if ch==ch2:\n",
    "            count2+=1\n",
    "    if count1-count2<0:\n",
    "        edit+=(count1-count2)*-1\n",
    "    else:\n",
    "        edit+=(count1-count2)\n",
    "if edit<k:\n",
    "    print(\"k-Anagram\")\n",
    "else:\n",
    "    print(\"Not a k-Anagram\")"
   ]
  },
  {
   "cell_type": "code",
   "execution_count": 19,
   "id": "24446027",
   "metadata": {},
   "outputs": [
    {
     "name": "stdout",
     "output_type": "stream",
     "text": [
      "0\n",
      "2\n"
     ]
    }
   ],
   "source": [
    "# 53.Given a string and a pattern, return all starting indices of substrings in the string that are anagrams of the pattern.\n",
    "string = \"abcba\"\n",
    "pattern = \"abc\"\n",
    "\n",
    "end=len(pattern)\n",
    "i=0\n",
    "while end<=len(string):\n",
    "    sub=string[i:end]\n",
    "    is_anagram=True\n",
    "    for ch in pattern:\n",
    "        count1=0\n",
    "        count2=0\n",
    "        for ch1 in sub:\n",
    "            if ch==ch1:\n",
    "                count1+=1\n",
    "        for ch2 in pattern:\n",
    "            if ch==ch2:\n",
    "                count2+=1\n",
    "        if count1!=count2:\n",
    "            is_anagram=False\n",
    "    if is_anagram:\n",
    "        print(i)\n",
    "    end+=1\n",
    "    i+=1"
   ]
  },
  {
   "cell_type": "code",
   "execution_count": null,
   "id": "56189b3a",
   "metadata": {},
   "outputs": [
    {
     "name": "stdout",
     "output_type": "stream",
     "text": [
      "Conditions are satisfied\n"
     ]
    }
   ],
   "source": [
    "# 54.Check whether one string is a rotation and also an anagram of another string.\n",
    "s1 = \"listen\"\n",
    "s2 = \"enlist\"\n",
    "# Output: False\n",
    "is_anagram=True\n",
    "is_rotation=False\n",
    "# TO FIND ANAGRAM\n",
    "for ch in s2:\n",
    "    count1=0\n",
    "    count2=0\n",
    "    for ch1 in s1:\n",
    "        if ch==ch1:\n",
    "            count1+=1\n",
    "    for ch2 in s2:\n",
    "        if ch==ch2:\n",
    "            count2+=1\n",
    "    if count1!=count2:\n",
    "        is_anagram=False\n",
    "# ROTATION OF EACH OTHER\n",
    "s2=s2+s2\n",
    "if s1 in s2:\n",
    "    is_rotation=True\n",
    "if is_anagram and is_rotation:\n",
    "    print(\"Conditions are satisfied\")\n",
    "else:\n",
    "    print(\"Condition not satisfied\")"
   ]
  }
 ],
 "metadata": {
  "kernelspec": {
   "display_name": "Python 3",
   "language": "python",
   "name": "python3"
  },
  "language_info": {
   "codemirror_mode": {
    "name": "ipython",
    "version": 3
   },
   "file_extension": ".py",
   "mimetype": "text/x-python",
   "name": "python",
   "nbconvert_exporter": "python",
   "pygments_lexer": "ipython3",
   "version": "3.13.5"
  }
 },
 "nbformat": 4,
 "nbformat_minor": 5
}
