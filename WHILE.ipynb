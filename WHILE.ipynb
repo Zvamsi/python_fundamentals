{
 "cells": [
  {
   "cell_type": "code",
   "execution_count": 1,
   "id": "b894bfaf",
   "metadata": {},
   "outputs": [
    {
     "name": "stdout",
     "output_type": "stream",
     "text": [
      "1\n",
      "2\n",
      "3\n",
      "4\n",
      "5\n",
      "6\n",
      "7\n",
      "8\n",
      "9\n",
      "10\n"
     ]
    }
   ],
   "source": [
    "# 1. Print numbers from 1 to 10 using a while loop\\[1]\\[3].\n",
    "\n",
    "i=1\n",
    "while i<=10:\n",
    "    print(i)\n",
    "    i+=1"
   ]
  },
  {
   "cell_type": "code",
   "execution_count": 4,
   "id": "c8cb895d",
   "metadata": {},
   "outputs": [
    {
     "name": "stdout",
     "output_type": "stream",
     "text": [
      "2\n",
      "4\n",
      "6\n",
      "8\n",
      "10\n",
      "12\n",
      "14\n",
      "16\n",
      "18\n",
      "20\n"
     ]
    }
   ],
   "source": [
    "# 2. Print all even numbers between 1 and 20.\n",
    "i=1\n",
    "while i<=20:\n",
    "    if i%2==0:\n",
    "        print(i)\n",
    "    i+=1"
   ]
  },
  {
   "cell_type": "code",
   "execution_count": 5,
   "id": "50db97a3",
   "metadata": {},
   "outputs": [
    {
     "name": "stdout",
     "output_type": "stream",
     "text": [
      "11\n",
      "13\n",
      "15\n",
      "17\n",
      "19\n",
      "21\n",
      "23\n",
      "25\n",
      "27\n",
      "29\n"
     ]
    }
   ],
   "source": [
    "# 3. Print all odd numbers between 10 and 30.\n",
    "i=10\n",
    "while i<=30:\n",
    "    if i%2!=0:\n",
    "        print(i)\n",
    "    i+=1"
   ]
  },
  {
   "cell_type": "code",
   "execution_count": 6,
   "id": "a47a6b91",
   "metadata": {},
   "outputs": [
    {
     "name": "stdout",
     "output_type": "stream",
     "text": [
      "10\n",
      "9\n",
      "8\n",
      "7\n",
      "6\n",
      "5\n",
      "4\n",
      "3\n",
      "2\n",
      "1\n"
     ]
    }
   ],
   "source": [
    "# 4. Print numbers from 10 down to 1.\n",
    "i=10\n",
    "while i>=1:\n",
    "    print(i)\n",
    "    i-=1"
   ]
  },
  {
   "cell_type": "code",
   "execution_count": 7,
   "id": "642c578d",
   "metadata": {},
   "outputs": [
    {
     "name": "stdout",
     "output_type": "stream",
     "text": [
      "5\n",
      "10\n",
      "15\n",
      "20\n",
      "25\n",
      "30\n",
      "35\n",
      "40\n",
      "45\n",
      "50\n"
     ]
    }
   ],
   "source": [
    "# 5. Print the first 10 multiples of 5 using a while loop.\n",
    "i=1\n",
    "while i<=10:\n",
    "    print(i*5)\n",
    "    i+=1"
   ]
  },
  {
   "cell_type": "code",
   "execution_count": 8,
   "id": "3158197e",
   "metadata": {},
   "outputs": [
    {
     "name": "stdout",
     "output_type": "stream",
     "text": [
      "2\n",
      "3\n",
      "4\n",
      "5\n",
      "6\n",
      "7\n",
      "8\n",
      "9\n"
     ]
    }
   ],
   "source": [
    "# 6. Print all numbers between two given numbers (inclusive).\n",
    "m=int(input(\"Enter a number\"))\n",
    "n=int(input(\"Enter a number\"))\n",
    "while m<=n:\n",
    "    print(m)\n",
    "    m+=1"
   ]
  },
  {
   "cell_type": "code",
   "execution_count": 10,
   "id": "be9207fc",
   "metadata": {},
   "outputs": [
    {
     "name": "stdout",
     "output_type": "stream",
     "text": [
      "5050\n"
     ]
    }
   ],
   "source": [
    "# 7. Sum numbers from 1 to 100 using a while loop.\n",
    "\n",
    "i=1\n",
    "sum=0\n",
    "while i<=100:\n",
    "    sum+=i\n",
    "    i+=1\n",
    "print(sum)\n"
   ]
  },
  {
   "cell_type": "code",
   "execution_count": 11,
   "id": "f008bb31",
   "metadata": {},
   "outputs": [
    {
     "name": "stdout",
     "output_type": "stream",
     "text": [
      "650\n"
     ]
    }
   ],
   "source": [
    "# 8. Calculate the sum of all even numbers from 1 to 50.\n",
    "i=1\n",
    "sum=0\n",
    "while i<=50:\n",
    "    if i%2==0:\n",
    "        sum+=i\n",
    "    i+=1\n",
    "print(sum)"
   ]
  },
  {
   "cell_type": "code",
   "execution_count": 12,
   "id": "bc7a762b",
   "metadata": {},
   "outputs": [
    {
     "name": "stdout",
     "output_type": "stream",
     "text": [
      "2500\n"
     ]
    }
   ],
   "source": [
    "# 9. Calculate the sum of all odd numbers from 1 to 100.\n",
    "i=1\n",
    "sum=0\n",
    "while i<=100:\n",
    "    if i%2!=0:\n",
    "        sum+=i\n",
    "    i+=1\n",
    "print(sum)"
   ]
  },
  {
   "cell_type": "code",
   "execution_count": 15,
   "id": "70b974a2",
   "metadata": {},
   "outputs": [
    {
     "name": "stdout",
     "output_type": "stream",
     "text": [
      "51\n"
     ]
    }
   ],
   "source": [
    "# 10. Take numbers as input until the user enters 0; print the sum of all numbers entered (excluding 0)\\[1].\n",
    "sum=0\n",
    "ui=1\n",
    "while ui!=0:\n",
    "    ui=int(input(\"Enter a Number\"))\n",
    "    sum+=ui\n",
    "print(sum)"
   ]
  },
  {
   "cell_type": "code",
   "execution_count": null,
   "id": "0c31cd4c",
   "metadata": {},
   "outputs": [],
   "source": [
    "# Moderate"
   ]
  },
  {
   "cell_type": "code",
   "execution_count": 16,
   "id": "6c766bcc",
   "metadata": {},
   "outputs": [
    {
     "name": "stdout",
     "output_type": "stream",
     "text": [
      "15\n",
      "30\n",
      "45\n",
      "60\n",
      "75\n",
      "90\n"
     ]
    }
   ],
   "source": [
    "# 11. Print all numbers divisible by 3 and 5 between 1 and 100.\n",
    "i=1\n",
    "while i<=100:\n",
    "    if i%3==0 and i%5==0:\n",
    "        print(i)\n",
    "    i+=1"
   ]
  },
  {
   "cell_type": "code",
   "execution_count": 17,
   "id": "50894be4",
   "metadata": {},
   "outputs": [
    {
     "name": "stdout",
     "output_type": "stream",
     "text": [
      "120\n"
     ]
    }
   ],
   "source": [
    "# 12. Find and print the factorial of a given number using a while loop.\n",
    "num=int(input(\"Enter a number\"))\n",
    "fact=1\n",
    "while num>0:\n",
    "    fact*=num\n",
    "    num-=1\n",
    "print(fact)\n"
   ]
  },
  {
   "cell_type": "code",
   "execution_count": null,
   "id": "cfd2ff78",
   "metadata": {},
   "outputs": [],
   "source": [
    "# 13. Given a number, print each digit of the number on a new line.\n",
    "\n",
    "# (NUMBER PROGRAMS)"
   ]
  },
  {
   "cell_type": "code",
   "execution_count": null,
   "id": "4b4aace1",
   "metadata": {},
   "outputs": [],
   "source": [
    "# 14. Reverse a given number using a while loop.\n",
    "\n",
    "# (NUMBER PROGRAMS)"
   ]
  },
  {
   "cell_type": "code",
   "execution_count": null,
   "id": "6b211969",
   "metadata": {},
   "outputs": [],
   "source": [
    "# 15. Count the number of digits in a given number.\n",
    "\n",
    "# (NUMBER PROGRAMS)"
   ]
  },
  {
   "cell_type": "code",
   "execution_count": null,
   "id": "a9138960",
   "metadata": {},
   "outputs": [],
   "source": [
    "# 16. Print the sum of digits of a given number.\n",
    "\n",
    "# (NUMBER PROGRAMS)"
   ]
  },
  {
   "cell_type": "code",
   "execution_count": null,
   "id": "128d749f",
   "metadata": {},
   "outputs": [],
   "source": [
    "# 17. Check if a number is a palindrome (reads the same forwards and backwards).\n",
    "\n",
    "# (NUMBER PROGRAMS)"
   ]
  },
  {
   "cell_type": "code",
   "execution_count": null,
   "id": "04460642",
   "metadata": {},
   "outputs": [],
   "source": [
    "# 18. Print the product of the digits of a given number.\n",
    "\n",
    "# (NUMBER PROGRAMS)"
   ]
  },
  {
   "cell_type": "code",
   "execution_count": null,
   "id": "98c865af",
   "metadata": {},
   "outputs": [],
   "source": [
    "# 19. Print the first N terms of the Fibonacci sequence using a while loop.\n",
    "\n",
    "# (NUMBER PROGRAMS)"
   ]
  },
  {
   "cell_type": "code",
   "execution_count": 20,
   "id": "71988ff4",
   "metadata": {},
   "outputs": [
    {
     "name": "stdout",
     "output_type": "stream",
     "text": [
      "14\n"
     ]
    }
   ],
   "source": [
    "# 20. Accept numbers as input until a negative number is entered; count how many positive numbers were entered.\n",
    "num=1\n",
    "count=0\n",
    "while num>=0:\n",
    "    num=int(input(\"Enter a number\"))\n",
    "    count+=1\n",
    "print(count)"
   ]
  },
  {
   "cell_type": "code",
   "execution_count": null,
   "id": "546106f7",
   "metadata": {},
   "outputs": [],
   "source": [
    "# Intermediate"
   ]
  },
  {
   "cell_type": "code",
   "execution_count": 23,
   "id": "b3041253",
   "metadata": {},
   "outputs": [
    {
     "name": "stdout",
     "output_type": "stream",
     "text": [
      "1\n"
     ]
    }
   ],
   "source": [
    "# 21. Accept numbers as input until a number divisible by 13 is entered; print the count of numbers entered (excluding the last one).\n",
    "\n",
    "count=0\n",
    "while True:\n",
    "    num=int(input(\"Enter a number\"))\n",
    "    if num%13==0:\n",
    "        break\n",
    "    count+=1\n",
    "print(count)"
   ]
  },
  {
   "cell_type": "code",
   "execution_count": 26,
   "id": "1d2a0a75",
   "metadata": {},
   "outputs": [
    {
     "name": "stdout",
     "output_type": "stream",
     "text": [
      "1\n",
      "2\n",
      "3\n",
      "4\n",
      "6\n",
      "8\n",
      "12\n",
      "24\n"
     ]
    }
   ],
   "source": [
    "# 22. Given a number, print all its divisors using a while loop.\n",
    "i=1\n",
    "num=int(input(\"Enter a number\"))\n",
    "while i<=num:\n",
    "    if num%i==0:\n",
    "        print(i)\n",
    "    i+=1\n",
    "    "
   ]
  },
  {
   "cell_type": "code",
   "execution_count": null,
   "id": "8ef7a515",
   "metadata": {},
   "outputs": [],
   "source": [
    "# 23. Print whether a given number is a prime number.\n",
    "\n",
    "# (NUMBER PROGRAMS)"
   ]
  },
  {
   "cell_type": "code",
   "execution_count": null,
   "id": "2f8a8b45",
   "metadata": {},
   "outputs": [],
   "source": [
    "# 24. Print all prime numbers between 1 and 100 using a while loop.\n",
    "\n",
    "# (NUMBER PROGRAMS)"
   ]
  },
  {
   "cell_type": "code",
   "execution_count": 29,
   "id": "c3bbc032",
   "metadata": {},
   "outputs": [
    {
     "name": "stdout",
     "output_type": "stream",
     "text": [
      "17\n"
     ]
    }
   ],
   "source": [
    "# 25. Print the sum of all prime numbers between 1 and N.\n",
    "sum=0\n",
    "i=1\n",
    "num=int(input(\"Enter a number\"))\n",
    "while i<=num:\n",
    "    count=0\n",
    "    start=1\n",
    "    while start<=i:\n",
    "        if i%start==0:\n",
    "            count+=1\n",
    "        start+=1\n",
    "    if count==2:\n",
    "        sum+=i\n",
    "    i+=1\n",
    "print(sum)"
   ]
  },
  {
   "cell_type": "code",
   "execution_count": null,
   "id": "0d3d30db",
   "metadata": {},
   "outputs": [],
   "source": [
    "# 26. Check if a given number is an Armstrong number (e.g., 153 = 1³+5³+3³).\n",
    "\n",
    "# (NUMBER PROGRAMS)"
   ]
  },
  {
   "cell_type": "code",
   "execution_count": null,
   "id": "c3098437",
   "metadata": {},
   "outputs": [],
   "source": [
    "# 27. Print all Armstrong numbers between 1 and 1000.\n",
    "\n",
    "# (NUMBER PROGRAMS)"
   ]
  },
  {
   "cell_type": "code",
   "execution_count": 31,
   "id": "24e57c60",
   "metadata": {},
   "outputs": [
    {
     "name": "stdout",
     "output_type": "stream",
     "text": [
      "6\n"
     ]
    }
   ],
   "source": [
    "# 28. Find the greatest common divisor (GCD) of two numbers using subtraction and a while loop.\n",
    "num1=int(input(\"Enter a number\"))\n",
    "num2=int(input(\"Enter a number\"))\n",
    "i=num1\n",
    "while True:\n",
    "    if num1%i==0 and num2%i==0:\n",
    "        print(i)\n",
    "        break\n",
    "    i-=1"
   ]
  },
  {
   "cell_type": "code",
   "execution_count": null,
   "id": "a46e906d",
   "metadata": {},
   "outputs": [],
   "source": [
    "# 29. Find the least common multiple (LCM) of two numbers using a while loop.\n",
    "\n",
    "# (NUMBER PROGRAMS)"
   ]
  },
  {
   "cell_type": "code",
   "execution_count": null,
   "id": "c32244b8",
   "metadata": {},
   "outputs": [],
   "source": [
    "# 30. Take an integer input and print the binary equivalent using a while loop.\n",
    "\n",
    "# (NUMBER PROGRAMS)"
   ]
  },
  {
   "cell_type": "code",
   "execution_count": null,
   "id": "54c90bd6",
   "metadata": {},
   "outputs": [],
   "source": [
    "# Challenging"
   ]
  },
  {
   "cell_type": "code",
   "execution_count": null,
   "id": "d821b0ea",
   "metadata": {},
   "outputs": [],
   "source": [
    "# 31. Input a number and print the first N perfect numbers using while loops.\n",
    "\n",
    "# (NUMBER PROGRAMS)"
   ]
  },
  {
   "cell_type": "code",
   "execution_count": 35,
   "id": "7593c621",
   "metadata": {},
   "outputs": [
    {
     "name": "stdout",
     "output_type": "stream",
     "text": [
      "243\n"
     ]
    }
   ],
   "source": [
    "# 32. Calculate the sum of the squares of the digits of a given number.\n",
    "num=int(input(\"Enter a number\"))\n",
    "sum=0\n",
    "while num>0:\n",
    "    digit=num%10\n",
    "    sum+=digit**2\n",
    "    num=num//10\n",
    "\n",
    "print(sum)"
   ]
  },
  {
   "cell_type": "code",
   "execution_count": null,
   "id": "b0df636e",
   "metadata": {},
   "outputs": [
    {
     "name": "stdout",
     "output_type": "stream",
     "text": [
      "1 inf\n",
      "inf\n"
     ]
    }
   ],
   "source": [
    "# 33. Take N numbers as input; print the maximum and minimum numbers entered using a while loop.\n",
    "list1=[1,2,3,4,5,6]\n",
    "i=0\n",
    "min=float('inf')\n",
    "max=list1[0]\n",
    "while i<len(list1):\n",
    "    num=list1[i]\n",
    "    if num>max:\n",
    "        max=num\n",
    "    if num<min:\n",
    "        min=num\n",
    "    i+=1\n",
    "print(max,min)\n"
   ]
  },
  {
   "cell_type": "code",
   "execution_count": 40,
   "id": "94ca95dc",
   "metadata": {},
   "outputs": [
    {
     "name": "stdout",
     "output_type": "stream",
     "text": [
      "116\n",
      "117\n",
      "124\n",
      "147\n",
      "148\n",
      "153\n",
      "164\n",
      "171\n",
      "172\n",
      "175\n",
      "188\n"
     ]
    }
   ],
   "source": [
    "# 34. Print all numbers between 100 and 200 that have exactly 6 divisors.\n",
    "i=100\n",
    "while i<=200:\n",
    "    count=0\n",
    "    start=1\n",
    "    while start<=i:\n",
    "        if i%start==0:\n",
    "            count+=1\n",
    "        start+=1\n",
    "    if count==6:\n",
    "        print(i)\n",
    "    i+=1"
   ]
  },
  {
   "cell_type": "code",
   "execution_count": null,
   "id": "879e180d",
   "metadata": {},
   "outputs": [],
   "source": [
    "# 35. Print all numbers between 1 and N whose reverse is also a prime number.\n",
    "\n",
    "# (NUMBER PROGRAMS)\n",
    "#Twisted Prime Number"
   ]
  },
  {
   "cell_type": "code",
   "execution_count": 39,
   "id": "04579f11",
   "metadata": {},
   "outputs": [
    {
     "name": "stdout",
     "output_type": "stream",
     "text": [
      "2\n",
      "4\n",
      "6\n",
      "8\n",
      "11\n",
      "13\n",
      "15\n",
      "17\n",
      "19\n",
      "20\n",
      "22\n",
      "24\n",
      "26\n",
      "28\n",
      "31\n",
      "33\n",
      "35\n",
      "37\n",
      "39\n",
      "40\n",
      "42\n",
      "44\n",
      "46\n",
      "48\n",
      "51\n",
      "53\n",
      "55\n",
      "57\n",
      "59\n",
      "60\n",
      "62\n",
      "64\n",
      "66\n",
      "68\n",
      "71\n",
      "73\n",
      "75\n",
      "77\n",
      "79\n",
      "80\n",
      "82\n",
      "84\n",
      "86\n",
      "88\n",
      "91\n",
      "93\n",
      "95\n",
      "97\n",
      "99\n"
     ]
    }
   ],
   "source": [
    "# 36. For a given N, print all numbers whose digits sum to an even number.\n",
    "num=int(input(\"Enter a number\"))\n",
    "i=1\n",
    "while i<=num:\n",
    "    n=i\n",
    "    start=1\n",
    "    sum=0\n",
    "    while n>0:\n",
    "        digit=n%10\n",
    "        sum+=n\n",
    "        n=n//10\n",
    "    if sum%2==0:\n",
    "        print(i)\n",
    "    i+=1\n"
   ]
  },
  {
   "cell_type": "code",
   "execution_count": 45,
   "id": "d10c56c4",
   "metadata": {},
   "outputs": [
    {
     "name": "stdout",
     "output_type": "stream",
     "text": [
      "5.0\n"
     ]
    }
   ],
   "source": [
    "# 37. Take numbers until the user enters ‘done’; print the average of entered numbers.\n",
    "num=1\n",
    "count=0\n",
    "sum=0\n",
    "while True:\n",
    "    num=input()\n",
    "    if num=='done':\n",
    "        break\n",
    "    count+=1\n",
    "    sum=int(num)+sum\n",
    "print(sum/count)"
   ]
  },
  {
   "cell_type": "code",
   "execution_count": 49,
   "id": "22b8daf1",
   "metadata": {},
   "outputs": [
    {
     "name": "stdout",
     "output_type": "stream",
     "text": [
      "4\n"
     ]
    }
   ],
   "source": [
    "# 38. Find the smallest number whose factorial is greater than a given number K.\n",
    "num=int(input(\"Enter a number\"))\n",
    "i=num\n",
    "while i>0:\n",
    "    fact=1\n",
    "    n=i\n",
    "    while n>0:\n",
    "        fact*=n\n",
    "        n-=1\n",
    "    if fact>num:\n",
    "        dummy=i\n",
    "    i-=1\n",
    "print(dummy)\n",
    "    "
   ]
  },
  {
   "cell_type": "code",
   "execution_count": 56,
   "id": "a6ca239f",
   "metadata": {},
   "outputs": [
    {
     "name": "stdout",
     "output_type": "stream",
     "text": [
      "167\n"
     ]
    }
   ],
   "source": [
    "# 39. For a number N, find how many times you can divide N by 2 until it becomes less than 1; print the result.\n",
    "count=0\n",
    "num=int(input(\"Enter a number\"))\n",
    "while num>1:\n",
    "    num=num/2\n",
    "    count+=1\n",
    "print(count)"
   ]
  },
  {
   "cell_type": "code",
   "execution_count": 57,
   "id": "c1549873",
   "metadata": {},
   "outputs": [
    {
     "name": "stdout",
     "output_type": "stream",
     "text": [
      "110110\n"
     ]
    }
   ],
   "source": [
    "# 40. Sum all numbers between 1 and 1000 that are divisible by 7 or 11.\n",
    "i=1\n",
    "sum=0\n",
    "while i<=1000:\n",
    "    if i%7==0 or i%11==0:\n",
    "        sum+=i\n",
    "    i+=1\n",
    "print(sum)"
   ]
  },
  {
   "cell_type": "code",
   "execution_count": null,
   "id": "08f5ef20",
   "metadata": {},
   "outputs": [],
   "source": [
    "# Fresher Interview Level"
   ]
  },
  {
   "cell_type": "code",
   "execution_count": 58,
   "id": "5a995ddd",
   "metadata": {},
   "outputs": [
    {
     "name": "stdout",
     "output_type": "stream",
     "text": [
      "1441\n",
      "1991\n"
     ]
    }
   ],
   "source": [
    "# 41. Find all numbers between 1000 and 2000 that are palindromes and the sum of their digits is divisible by 5.\n",
    "i=1000\n",
    "while i<=2000:\n",
    "    rev_num=0\n",
    "    num=i\n",
    "    sum=0\n",
    "    while num>0:\n",
    "        digit=num%10\n",
    "        sum+=digit\n",
    "        rev_num=(rev_num*10)+digit\n",
    "        num=num//10\n",
    "    if i==rev_num and sum%5==0:\n",
    "        print(i)        \n",
    "    i+=1"
   ]
  },
  {
   "cell_type": "code",
   "execution_count": 65,
   "id": "7f5b57f3",
   "metadata": {},
   "outputs": [
    {
     "name": "stdout",
     "output_type": "stream",
     "text": [
      "1 64 729 4096 15625 "
     ]
    }
   ],
   "source": [
    "# 42. Print the first N numbers that are both perfect squares and perfect cubes.\n",
    "\n",
    "num=int(input(\"Enter a number\"))\n",
    "n=1\n",
    "while n<=num:\n",
    "    sq=n**6\n",
    "    print(sq,end=' ')\n",
    "    n+=1\n"
   ]
  },
  {
   "cell_type": "code",
   "execution_count": 2,
   "id": "70840c8f",
   "metadata": {},
   "outputs": [
    {
     "name": "stdout",
     "output_type": "stream",
     "text": [
      "1\n",
      "2\n",
      "5\n",
      "10\n"
     ]
    }
   ],
   "source": [
    "# 43. Given two numbers, print all common divisors using a while loop.\n",
    "num1=int(input(\"Enter a number\"))\n",
    "num2=int(input(\"Enter a number\"))\n",
    "i=1\n",
    "while i<=num1 and i<=num2:\n",
    "    if num1%i==0 and num2%i==0:\n",
    "        print(i)\n",
    "    i+=1"
   ]
  },
  {
   "cell_type": "code",
   "execution_count": 20,
   "id": "ee7fbb15",
   "metadata": {},
   "outputs": [
    {
     "name": "stdout",
     "output_type": "stream",
     "text": [
      "1\n",
      "2\n",
      "3\n",
      "4\n",
      "5\n",
      "6\n",
      "7\n",
      "8\n",
      "9\n",
      "12\n",
      "13\n",
      "14\n",
      "15\n",
      "16\n",
      "17\n",
      "18\n",
      "19\n",
      "23\n",
      "24\n",
      "25\n",
      "26\n",
      "27\n",
      "28\n",
      "29\n",
      "34\n",
      "35\n",
      "36\n",
      "37\n",
      "38\n",
      "39\n",
      "45\n",
      "46\n",
      "47\n",
      "48\n",
      "49\n",
      "56\n",
      "57\n",
      "58\n",
      "59\n",
      "67\n",
      "68\n",
      "69\n",
      "78\n",
      "79\n",
      "89\n",
      "123\n",
      "124\n",
      "125\n",
      "126\n",
      "127\n",
      "128\n",
      "129\n",
      "134\n",
      "135\n",
      "136\n",
      "137\n",
      "138\n",
      "139\n",
      "145\n",
      "146\n",
      "147\n",
      "148\n",
      "149\n",
      "156\n",
      "157\n",
      "158\n",
      "159\n",
      "167\n",
      "168\n",
      "169\n",
      "178\n",
      "179\n",
      "189\n",
      "234\n",
      "235\n",
      "236\n",
      "237\n",
      "238\n",
      "239\n",
      "245\n",
      "246\n",
      "247\n",
      "248\n",
      "249\n",
      "256\n",
      "257\n",
      "258\n",
      "259\n",
      "267\n",
      "268\n",
      "269\n",
      "278\n",
      "279\n",
      "289\n",
      "345\n",
      "346\n",
      "347\n",
      "348\n",
      "349\n",
      "356\n",
      "357\n",
      "358\n",
      "359\n",
      "367\n",
      "368\n",
      "369\n",
      "378\n",
      "379\n",
      "389\n",
      "456\n",
      "457\n",
      "458\n",
      "459\n",
      "467\n",
      "468\n",
      "469\n",
      "478\n",
      "479\n",
      "489\n"
     ]
    }
   ],
   "source": [
    "# 44. For a given N, print all numbers whose digits are in increasing order (e.g., 123, 489).\n",
    "num=int(input(\"Enter a number\"))\n",
    "\n",
    "i=1\n",
    "while i<=num:\n",
    "    num1=i\n",
    "    digit1=10\n",
    "    is_true=True\n",
    "    while num1>0:\n",
    "        dummy=digit1\n",
    "        digit1=num1%10\n",
    "        if dummy<=digit1:\n",
    "            is_true=False\n",
    "            break\n",
    "        num1=num1//10\n",
    "    if is_true:\n",
    "        print(i)\n",
    "    i+=1\n"
   ]
  },
  {
   "cell_type": "code",
   "execution_count": 5,
   "id": "17f7a1ac",
   "metadata": {},
   "outputs": [
    {
     "name": "stdout",
     "output_type": "stream",
     "text": [
      "2000\n"
     ]
    }
   ],
   "source": [
    "# 45. Print the smallest number greater than N whose digits are all even.\n",
    "num=890\n",
    "while True:\n",
    "    num=num1=num+1\n",
    "    is_even=True\n",
    "    while num1>0:\n",
    "        digit=num1%10\n",
    "        if digit%2!=0:\n",
    "            is_even=False\n",
    "            break\n",
    "        num1=num1//10\n",
    "    if is_even:\n",
    "        print(num)\n",
    "        break\n"
   ]
  },
  {
   "cell_type": "code",
   "execution_count": null,
   "id": "3293d9b5",
   "metadata": {},
   "outputs": [],
   "source": [
    "# 46. Given a number, repeatedly replace the number with the sum of the squares of its digits; check if it becomes 1 (Happy Number).\n",
    "\n",
    "#NUMBER PROGRAM (HAPPY NUMBER)"
   ]
  },
  {
   "cell_type": "code",
   "execution_count": null,
   "id": "612befe4",
   "metadata": {},
   "outputs": [
    {
     "name": "stdout",
     "output_type": "stream",
     "text": [
      "788\n"
     ]
    }
   ],
   "source": [
    "# 47. For a number N, print all numbers less than N with only TWO DISTINCT digits.\n",
    "\n",
    "num=int(input(\"Enter a number\"))\n",
    "num1=num\n",
    "new_num=0\n",
    "while num1>0:\n",
    "    is_present=False\n",
    "    dummy=new_num\n",
    "    dig1=num1%10\n",
    "    while dummy>0:\n",
    "        dig2=dummy%10\n",
    "        if dig2==dig1:\n",
    "            is_present=True\n",
    "        dummy=dummy//10\n",
    "    if not is_present:\n",
    "        new_num=new_num*10+dig1\n",
    "\n",
    "    num1=num1//10\n",
    "if new_num<100:\n",
    "    print('yes')"
   ]
  },
  {
   "cell_type": "code",
   "execution_count": null,
   "id": "2fd29129",
   "metadata": {},
   "outputs": [],
   "source": [
    "# 48. For a number N, print all numbers less than N that do not contain the digit 3.\n",
    "num=int(input(\"Enter a number\"))\n",
    "num1=num\n",
    "i=1\n",
    "while num1>=i:\n",
    "    dummy=i\n",
    "    while dummy>0:\n",
    "        digit=dummy%10\n",
    "        if digit==3:\n",
    "            break\n",
    "        dummy=dummy//10\n",
    "        if dummy==0:\n",
    "            print(i)\n",
    "    i+=1"
   ]
  },
  {
   "cell_type": "code",
   "execution_count": null,
   "id": "9a51df61",
   "metadata": {},
   "outputs": [],
   "source": [
    "# 49. Calculate the digital root of a given number using a while loop (keep summing digits until a single digit remains).\n",
    "\n",
    "# NUMBER PROGRAM (SUM DIGITS UNTILL < 10)"
   ]
  },
  {
   "cell_type": "code",
   "execution_count": 12,
   "id": "8d2d583c",
   "metadata": {},
   "outputs": [],
   "source": [
    "# 50. For a given N, find the nth ugly number using a while loop.\n",
    "prime_factors=[2,3,5]\n",
    "num=int(input(\"Enter a number\"))\n",
    "num1=num\n",
    "i=1\n",
    "while i<=num1:\n",
    "    start=1\n",
    "    is_ugly=True\n",
    "    if i==1:\n",
    "        num-=1\n",
    "    else:\n",
    "        while start<=i:\n",
    "            if start%i ==0:\n",
    "                if i not in prime_factors:\n",
    "                    is_ugly=False\n",
    "            start+=1\n",
    "        if is_ugly:\n",
    "            num-=1\n",
    "            if num==0:\n",
    "                print(i)\n",
    "    i+=1"
   ]
  },
  {
   "cell_type": "code",
   "execution_count": 12,
   "id": "64339130",
   "metadata": {},
   "outputs": [
    {
     "name": "stdout",
     "output_type": "stream",
     "text": [
      "26\n"
     ]
    }
   ],
   "source": [
    "# To find a given number is ugly number or not.\n",
    "num=int(input(\"Enter a number\"))\n",
    "start=1\n",
    "count=0\n",
    "while True:\n",
    "    if start==1:\n",
    "        # print(start)\n",
    "        start+=1\n",
    "        count+=1\n",
    "        continue\n",
    "    i=2\n",
    "    is_ugly=False\n",
    "    while i<=start:\n",
    "        if start%i==0:\n",
    "            if (i==2 or i==3 or i==5):\n",
    "                is_ugly=True\n",
    "        i+=1\n",
    "    if is_ugly:\n",
    "        count+=1\n",
    "        if count==num:\n",
    "            print(start)\n",
    "            break\n",
    "    start+=1"
   ]
  }
 ],
 "metadata": {
  "kernelspec": {
   "display_name": "Python 3",
   "language": "python",
   "name": "python3"
  },
  "language_info": {
   "codemirror_mode": {
    "name": "ipython",
    "version": 3
   },
   "file_extension": ".py",
   "mimetype": "text/x-python",
   "name": "python",
   "nbconvert_exporter": "python",
   "pygments_lexer": "ipython3",
   "version": "3.13.5"
  }
 },
 "nbformat": 4,
 "nbformat_minor": 5
}
