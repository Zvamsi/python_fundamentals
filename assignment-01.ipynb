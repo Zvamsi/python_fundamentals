{
 "cells": [
  {
   "cell_type": "code",
   "execution_count": 5,
   "id": "84b5c5a8",
   "metadata": {},
   "outputs": [
    {
     "name": "stdout",
     "output_type": "stream",
     "text": [
      "[1, 2, 3, 'hello', 3.14]\n",
      "[1, 2, 3, 'hello', 3.14]\n",
      "1\n",
      "e\n",
      "['one', 2, 3, 'hello', 3.14]\n",
      "['one', 2, 'hello', 3.14]\n"
     ]
    }
   ],
   "source": [
    "#CRUD operations on list\n",
    "\n",
    "#CREATING\n",
    "\n",
    "list1=[1,2,3,\"hello\",3.14]\n",
    "print(list1)\n",
    "\n",
    "#READING\n",
    "\n",
    "print(list1)\n",
    "print(list1[0])\n",
    "print(list1[3][1])\n",
    "\n",
    "#UPDATING\n",
    "\n",
    "list1[0]=\"one\"\n",
    "# list1[3][4]=\"@\" # string is immutable\n",
    "print(list1)\n",
    "\n",
    "#DELETING\n",
    "del(list1[2])\n",
    "print(list1)"
   ]
  },
  {
   "cell_type": "code",
   "execution_count": 7,
   "id": "07ae27c2",
   "metadata": {},
   "outputs": [
    {
     "name": "stdout",
     "output_type": "stream",
     "text": [
      "{1: 'one', 2: 'two', 3: 'thre', 4: 'four'}\n",
      "two\n",
      "{1: 'one', 2: 'two', 3: 'thre', 4: 'four'}\n",
      "{1: 'one', 2: 'two', 3: 'Three', 4: 'four', 5: 'five'}\n",
      "{1: 'one', 2: 'two', 4: 'four', 5: 'five'}\n"
     ]
    }
   ],
   "source": [
    "#CRUD operations in Dictionary\n",
    "\n",
    "#CREATING\n",
    "dict1={1:\"one\",2:'two',3:'thre',4:'four'}\n",
    "\n",
    "#READING\n",
    "print(dict1)\n",
    "print(dict1[2])\n",
    "print(dict1)\n",
    "\n",
    "#UPDATING\n",
    "dict1[3]='Three'\n",
    "dict1[5]='five' #Creating new k:v pair\n",
    "print(dict1)\n",
    "\n",
    "#DELETING\n",
    "del[dict1[3]]\n",
    "print(dict1)"
   ]
  },
  {
   "cell_type": "code",
   "execution_count": 9,
   "id": "a1d9a4f5",
   "metadata": {},
   "outputs": [
    {
     "name": "stdout",
     "output_type": "stream",
     "text": [
      "120\n"
     ]
    }
   ],
   "source": [
    "num=int(input(\"Enter a number to find fact\"))\n",
    "prod=1\n",
    "while num>0:\n",
    "    prod*=num\n",
    "    num-=1\n",
    "print(prod)"
   ]
  },
  {
   "cell_type": "code",
   "execution_count": 10,
   "id": "6c594cfc",
   "metadata": {},
   "outputs": [
    {
     "name": "stdout",
     "output_type": "stream",
     "text": [
      "1\n",
      "2\n",
      "3\n",
      "4\n",
      "5\n",
      "6\n",
      "1\n",
      "2\n",
      "3\n",
      "4\n",
      "5\n"
     ]
    }
   ],
   "source": [
    "num=int(input(\"Enter a number\"))\n",
    "\n",
    "while num>0:\n",
    "    digit=num%10\n",
    "    start=1\n",
    "    while start <= digit:\n",
    "        print(start)\n",
    "        start+=1\n",
    "    num=num//10"
   ]
  },
  {
   "cell_type": "code",
   "execution_count": 5,
   "id": "f142b993",
   "metadata": {},
   "outputs": [
    {
     "name": "stdout",
     "output_type": "stream",
     "text": [
      "720\n",
      "120\n"
     ]
    }
   ],
   "source": [
    "num=int(input(\"Enter a number\"))\n",
    "\n",
    "while num>0:\n",
    "    digit=num%10\n",
    "    start=1\n",
    "    fact=1\n",
    "    while digit>0:\n",
    "        fact*=digit\n",
    "        digit-=1\n",
    "    print(fact)\n",
    "    num=num//10"
   ]
  }
 ],
 "metadata": {
  "kernelspec": {
   "display_name": "Python 3",
   "language": "python",
   "name": "python3"
  },
  "language_info": {
   "codemirror_mode": {
    "name": "ipython",
    "version": 3
   },
   "file_extension": ".py",
   "mimetype": "text/x-python",
   "name": "python",
   "nbconvert_exporter": "python",
   "pygments_lexer": "ipython3",
   "version": "3.13.5"
  }
 },
 "nbformat": 4,
 "nbformat_minor": 5
}
