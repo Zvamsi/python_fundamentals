{
 "cells": [
  {
   "cell_type": "code",
   "execution_count": 9,
   "id": "ddb1903b",
   "metadata": {},
   "outputs": [
    {
     "name": "stdout",
     "output_type": "stream",
     "text": [
      "5\n"
     ]
    }
   ],
   "source": [
    "a=int(input())\n",
    "b=int(input())\n",
    "c=int(input())\n",
    "if a>b: #2,1,3\n",
    "    if b>c:\n",
    "        print(a)\n",
    "    else:\n",
    "        print(c)\n",
    "elif b>c:\n",
    "    print(b)\n",
    "else:\n",
    "    print(c)\n",
    "    "
   ]
  },
  {
   "cell_type": "code",
   "execution_count": 11,
   "id": "2f8c3b43",
   "metadata": {},
   "outputs": [
    {
     "name": "stdout",
     "output_type": "stream",
     "text": [
      "fizzbuzz\n"
     ]
    }
   ],
   "source": [
    "num=int(input())\n",
    "if num%3==0 and num%5==0:\n",
    "    print('fizzbuzz')\n",
    "elif num%5==0:\n",
    "    print('buzz')\n",
    "elif num%3==0:\n",
    "    print('fizz')"
   ]
  },
  {
   "cell_type": "code",
   "execution_count": null,
   "id": "2b3769fb",
   "metadata": {},
   "outputs": [],
   "source": [
    "num1=int(input())\n",
    "num2=int(input())\n",
    "if num1>num2:\n",
    "    print(\"greater\")\n",
    "elif num1<num2:\n",
    "    print('lesser')\n",
    "else:\n",
    "    print('equal')"
   ]
  },
  {
   "cell_type": "code",
   "execution_count": null,
   "id": "06e0722b",
   "metadata": {},
   "outputs": [],
   "source": [
    "num=int(input())\n",
    "if num>999:\n",
    "    print('Four digits')\n",
    "elif num>99:\n",
    "    print('Three digits')\n",
    "elif num>9:\n",
    "    print('two digits')\n",
    "elif num>=0:\n",
    "    print('One digit')"
   ]
  },
  {
   "cell_type": "code",
   "execution_count": null,
   "id": "eeda8fda",
   "metadata": {},
   "outputs": [
    {
     "ename": "TypeError",
     "evalue": "'str' object cannot be interpreted as an integer",
     "output_type": "error",
     "traceback": [
      "\u001b[31m---------------------------------------------------------------------------\u001b[39m",
      "\u001b[31mTypeError\u001b[39m                                 Traceback (most recent call last)",
      "\u001b[36mCell\u001b[39m\u001b[36m \u001b[39m\u001b[32mIn[25]\u001b[39m\u001b[32m, line 5\u001b[39m\n\u001b[32m      3\u001b[39m     \u001b[38;5;28mprint\u001b[39m(\u001b[38;5;28mord\u001b[39m(ch))\n\u001b[32m      4\u001b[39m \u001b[38;5;28;01melif\u001b[39;00m \u001b[38;5;28mord\u001b[39m(ch)>\u001b[32m38\u001b[39m \u001b[38;5;129;01mand\u001b[39;00m \u001b[38;5;28mord\u001b[39m(ch)<\u001b[32m127\u001b[39m:\n\u001b[32m----> \u001b[39m\u001b[32m5\u001b[39m     \u001b[38;5;28mprint\u001b[39m(\u001b[38;5;28;43mchr\u001b[39;49m\u001b[43m(\u001b[49m\u001b[43mch\u001b[49m\u001b[43m)\u001b[49m)\n\u001b[32m      6\u001b[39m \u001b[38;5;28;01melif\u001b[39;00m \u001b[38;5;28mint\u001b[39m(ch)>\u001b[32m38\u001b[39m \u001b[38;5;129;01mand\u001b[39;00m \u001b[38;5;28mint\u001b[39m(ch)<\u001b[32m127\u001b[39m:\n\u001b[32m      7\u001b[39m     \u001b[38;5;28mprint\u001b[39m(\u001b[38;5;28mchr\u001b[39m(\u001b[38;5;28mint\u001b[39m(ch)))\n",
      "\u001b[31mTypeError\u001b[39m: 'str' object cannot be interpreted as an integer"
     ]
    }
   ],
   "source": [
    "ch=input()\n",
    "if (ch<=\"A\" and ch>='B') or (ch<='a' and ch>='z'):\n",
    "    print(ord(ch))\n",
    "elif int(ch)>38 and int(ch)<127:\n",
    "    print(chr(int(ch)))\n",
    "elif ord(int(ch))>38 and ord(int(ch))<127:\n",
    "    print(chr(int(ch)))\n",
    "else:\n",
    "    print('invalid')\n"
   ]
  },
  {
   "cell_type": "code",
   "execution_count": 19,
   "id": "5cd2a7f8",
   "metadata": {},
   "outputs": [
    {
     "name": "stdout",
     "output_type": "stream",
     "text": [
      "five\n"
     ]
    }
   ],
   "source": [
    "num=int(input())\n",
    "if num==1:\n",
    "    print('one')\n",
    "elif num==2:\n",
    "    print('two')\n",
    "elif num==3:\n",
    "    print('three')\n",
    "elif num==4:\n",
    "    print('four')\n",
    "elif num==5:\n",
    "    print('five')\n",
    "else:\n",
    "    print('others')"
   ]
  },
  {
   "cell_type": "code",
   "execution_count": 33,
   "id": "665e0b86",
   "metadata": {},
   "outputs": [
    {
     "name": "stdout",
     "output_type": "stream",
     "text": [
      "upper\n"
     ]
    }
   ],
   "source": [
    "ch=input()\n",
    "if ord(ch)>64 and ord(ch)<92:\n",
    "    print(\"upper\")\n",
    "elif ord(ch)>96 and ord(ch)<123:\n",
    "    print('lower')\n",
    "elif ord(ch)>47 and ord(ch)<58:\n",
    "    print(\"number\")\n",
    "else:\n",
    "    print('special character')"
   ]
  },
  {
   "cell_type": "code",
   "execution_count": 35,
   "id": "bcd2daf1",
   "metadata": {},
   "outputs": [
    {
     "name": "stdout",
     "output_type": "stream",
     "text": [
      "%\n"
     ]
    }
   ],
   "source": [
    "ch=ord(input())\n",
    "if ch>64 and ch<92:\n",
    "    print(chr(ch).lower())\n",
    "elif ch>96 and ch<123:\n",
    "    print(chr(ch).upper())\n",
    "else:\n",
    "    print(chr(ch-1))"
   ]
  },
  {
   "cell_type": "code",
   "execution_count": 36,
   "id": "475d45bb",
   "metadata": {},
   "outputs": [
    {
     "name": "stdout",
     "output_type": "stream",
     "text": [
      "second grade\n"
     ]
    }
   ],
   "source": [
    "percentage=int(input())\n",
    "if percentage <100 and percentage>80:\n",
    "    print('First grade')\n",
    "elif percentage <=80 and percentage>60:\n",
    "    print('second grade')\n",
    "elif percentage <=60 and percentage<=40:\n",
    "    print('Third Grade')\n",
    "else:\n",
    "    print('Fail')"
   ]
  },
  {
   "cell_type": "code",
   "execution_count": 37,
   "id": "3755919c",
   "metadata": {},
   "outputs": [
    {
     "name": "stdout",
     "output_type": "stream",
     "text": [
      "4\n"
     ]
    }
   ],
   "source": [
    "num1=int(input())\n",
    "num2=int(input())\n",
    "op=input()\n",
    "if op=='+':\n",
    "    print(num1+num2)\n",
    "elif op=='-':\n",
    "    print(num1-num2)\n",
    "elif op=='*':\n",
    "    print(num1*num2)\n",
    "elif op=='/':\n",
    "    print(num1/num2)\n",
    "elif op=='%':\n",
    "    print(num1%num2)\n",
    "else:\n",
    "    print(\"something went wrong, Please try again\")"
   ]
  }
 ],
 "metadata": {
  "kernelspec": {
   "display_name": "Python 3",
   "language": "python",
   "name": "python3"
  },
  "language_info": {
   "codemirror_mode": {
    "name": "ipython",
    "version": 3
   },
   "file_extension": ".py",
   "mimetype": "text/x-python",
   "name": "python",
   "nbconvert_exporter": "python",
   "pygments_lexer": "ipython3",
   "version": "3.13.5"
  }
 },
 "nbformat": 4,
 "nbformat_minor": 5
}
