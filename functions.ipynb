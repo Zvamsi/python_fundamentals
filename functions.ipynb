{
 "cells": [
  {
   "cell_type": "code",
   "execution_count": 2,
   "id": "0dd2bac4",
   "metadata": {},
   "outputs": [
    {
     "name": "stdout",
     "output_type": "stream",
     "text": [
      "I am shakila\n"
     ]
    }
   ],
   "source": [
    "def shakila():\n",
    "    print(\"I am shakila\")\n",
    "def laila():\n",
    "    print(\"laila\")\n",
    "shakila()"
   ]
  },
  {
   "cell_type": "code",
   "execution_count": 3,
   "id": "2dd150fc",
   "metadata": {},
   "outputs": [
    {
     "name": "stdout",
     "output_type": "stream",
     "text": [
      "8\n",
      "4\n",
      "1\n",
      "0\n"
     ]
    }
   ],
   "source": [
    "# getting maximum digit from a given number\n",
    "\n",
    "# def max_dig():\n",
    "#     num=int(input())\n",
    "#     max_num=0\n",
    "#     while num>0:\n",
    "#         dig=num%10\n",
    "#         if dig>max_num:\n",
    "#             max_num=dig\n",
    "#         num=num//10\n",
    "#     print(max_num)\n",
    "# max_dig()\n",
    "\n",
    "# USING ARGUMENTS\n",
    "\n",
    "def max_dig(num):\n",
    "    max_num=0\n",
    "    while num>0:\n",
    "        dig=num%10\n",
    "        if dig>max_num:\n",
    "            max_num=dig\n",
    "        num=num//10\n",
    "    print(max_num)\n",
    "\n",
    "max_dig(45678)\n",
    "max_dig(234)\n",
    "max_dig(1)\n",
    "max_dig(0)\n"
   ]
  },
  {
   "cell_type": "code",
   "execution_count": 4,
   "id": "d5896429",
   "metadata": {},
   "outputs": [
    {
     "name": "stdout",
     "output_type": "stream",
     "text": [
      "120\n",
      "24\n",
      "6\n",
      "2\n"
     ]
    }
   ],
   "source": [
    "# Factorial of a given number\n",
    "def factorial(num):\n",
    "    i=1\n",
    "    fact=1\n",
    "    while i<=num:\n",
    "        fact*=i\n",
    "        i+=1\n",
    "    print(fact)\n",
    "\n",
    "factorial(5)\n",
    "factorial(4)\n",
    "factorial(3)\n",
    "factorial(2)"
   ]
  },
  {
   "cell_type": "code",
   "execution_count": 4,
   "id": "f11494a1",
   "metadata": {},
   "outputs": [
    {
     "name": "stdout",
     "output_type": "stream",
     "text": [
      "210\n"
     ]
    }
   ],
   "source": [
    "# Sum of a given numbers in a list\n",
    "def sum_of_numbers():\n",
    "    arr=[60, 20, 40, 30, 50, 10]\n",
    "    add=0\n",
    "    for el in arr:\n",
    "        add+=el\n",
    "    print(add)\n",
    "sum_of_numbers()"
   ]
  },
  {
   "cell_type": "code",
   "execution_count": 5,
   "id": "ce7f153f",
   "metadata": {},
   "outputs": [
    {
     "name": "stdout",
     "output_type": "stream",
     "text": [
      "65\n",
      "765\n",
      "8765432\n"
     ]
    }
   ],
   "source": [
    "# Reverse a given number\n",
    "def reverse_num(num):\n",
    "    \n",
    "    res=0\n",
    "    while num>0:\n",
    "        dig=num%10\n",
    "        res=res*10+dig\n",
    "        num=num//10\n",
    "    print(res)\n",
    "\n",
    "reverse_num(56)\n",
    "reverse_num(567)\n",
    "reverse_num(2345678)\n"
   ]
  },
  {
   "cell_type": "code",
   "execution_count": 6,
   "id": "984439ae",
   "metadata": {},
   "outputs": [
    {
     "name": "stdout",
     "output_type": "stream",
     "text": [
      "olleh\n",
      "dlrow ollEH\n"
     ]
    }
   ],
   "source": [
    "# Reverse a given string\n",
    "def reverse_string(st):\n",
    "    print(st[::-1])\n",
    "reverse_string('hello')\n",
    "reverse_string('HEllo world')"
   ]
  },
  {
   "cell_type": "code",
   "execution_count": 8,
   "id": "ded24f3e",
   "metadata": {},
   "outputs": [
    {
     "name": "stdout",
     "output_type": "stream",
     "text": [
      "Not a prime\n",
      "It is prime\n",
      "Not a prime\n",
      "It is prime\n"
     ]
    }
   ],
   "source": [
    "# to print whether the given number is prime or not\n",
    "def is_prime(num):\n",
    "    i=1\n",
    "    count=0\n",
    "    while i<=num:\n",
    "        if num%i==0:\n",
    "            count+=1\n",
    "        i+=1\n",
    "    if count==2:\n",
    "        print(\"It is prime\")\n",
    "    else:\n",
    "        print(\"Not a prime\")\n",
    "is_prime(4)\n",
    "is_prime(67)\n",
    "is_prime(69)\n",
    "is_prime(47)"
   ]
  },
  {
   "cell_type": "code",
   "execution_count": 16,
   "id": "c4f92e5b",
   "metadata": {},
   "outputs": [
    {
     "name": "stdout",
     "output_type": "stream",
     "text": [
      "0\n",
      "1\n",
      "2\n",
      "3\n",
      "4\n",
      "5\n",
      "0\n",
      "1\n",
      "2\n",
      "3\n",
      "4\n",
      "5\n",
      "6\n",
      "7\n",
      "8\n",
      "9\n",
      "10\n",
      "0\n",
      "1\n",
      "0\n"
     ]
    }
   ],
   "source": [
    "# To print the series from 1 to N\n",
    "def gen_series(N):\n",
    "    i=0\n",
    "    while i<=N:\n",
    "        print(i)\n",
    "        i+=1\n",
    "gen_series(5)\n",
    "gen_series(10)\n",
    "gen_series(1)\n",
    "gen_series(0)"
   ]
  },
  {
   "cell_type": "code",
   "execution_count": 14,
   "id": "ff5653ec",
   "metadata": {},
   "outputs": [
    {
     "name": "stdout",
     "output_type": "stream",
     "text": [
      "even\n",
      "odd\n",
      "odd\n",
      "odd\n"
     ]
    }
   ],
   "source": [
    "# even or odd\n",
    "def even_or_odd(num):\n",
    "    if num%2==0:\n",
    "        print(\"even\")\n",
    "    else:\n",
    "        print('odd')\n",
    "\n",
    "even_or_odd(34)\n",
    "even_or_odd(89)\n",
    "even_or_odd(1)\n",
    "even_or_odd(33)"
   ]
  },
  {
   "cell_type": "code",
   "execution_count": 3,
   "id": "623583b6",
   "metadata": {},
   "outputs": [
    {
     "name": "stdout",
     "output_type": "stream",
     "text": [
      "False True False\n"
     ]
    }
   ],
   "source": [
    "def sum(n1,n2):\n",
    "    if (n1+n2)%2==0:\n",
    "        return True\n",
    "    else:\n",
    "        return False\n",
    "sum1=sum(2,3)\n",
    "sum2=sum(3,1)\n",
    "sum3=sum(4,5)\n",
    "print(sum1,sum2,sum3)"
   ]
  },
  {
   "cell_type": "code",
   "execution_count": 6,
   "id": "f57c0d14",
   "metadata": {},
   "outputs": [
    {
     "name": "stdout",
     "output_type": "stream",
     "text": [
      "6\n",
      "None\n"
     ]
    }
   ],
   "source": [
    "def sumOfN(n):\n",
    "    i=1\n",
    "    sum=0\n",
    "    while i<=n:\n",
    "        sum+=i\n",
    "        i+=1\n",
    "    print(sum)\n",
    "print(sumOfN(3))"
   ]
  },
  {
   "cell_type": "code",
   "execution_count": 22,
   "id": "21eba6f5",
   "metadata": {},
   "outputs": [
    {
     "name": "stdout",
     "output_type": "stream",
     "text": [
      "The number is not a prime\n",
      "False\n"
     ]
    }
   ],
   "source": [
    "# WAP to check if a number is prime, if yes check if it is MEGA prime\n",
    "def check_prime(num):\n",
    "    i=1\n",
    "    count=0\n",
    "    while i<=num:\n",
    "        if num%i==0:\n",
    "            count+=1\n",
    "        i+=1\n",
    "    if count==2:\n",
    "        return True\n",
    "    return False\n",
    "is_mega_prime=True\n",
    "num=int(input())\n",
    "if check_prime(num):\n",
    "    while num>0:\n",
    "        dig=num%10\n",
    "        if not check_prime(dig):\n",
    "            is_mega_prime=False\n",
    "        num=num//10\n",
    "else:\n",
    "    is_mega_prime=False\n",
    "    print(\"The number is not a prime\")\n",
    "print(is_mega_prime)\n",
    "            "
   ]
  },
  {
   "cell_type": "code",
   "execution_count": 4,
   "id": "26892b6f",
   "metadata": {},
   "outputs": [
    {
     "name": "stdout",
     "output_type": "stream",
     "text": [
      "2\n",
      "3\n",
      "5\n",
      "7\n",
      "11\n",
      "13\n",
      "17\n",
      "19\n",
      "23\n",
      "29\n",
      "31\n",
      "37\n",
      "41\n",
      "43\n",
      "47\n"
     ]
    }
   ],
   "source": [
    "# WAP to print the prime numbers from 1 to 50\n",
    "def check_prim(num):\n",
    "    i=1\n",
    "    count=0\n",
    "    while i<=num:\n",
    "        if num%i==0:\n",
    "            count+=1\n",
    "        i+=1\n",
    "    return count==2\n",
    "\n",
    "for i in range(1,51):\n",
    "    if check_prim(i):\n",
    "        print(i)"
   ]
  },
  {
   "cell_type": "code",
   "execution_count": 3,
   "id": "67d482c1",
   "metadata": {},
   "outputs": [
    {
     "name": "stdout",
     "output_type": "stream",
     "text": [
      "34\n"
     ]
    }
   ],
   "source": [
    "# WAP to print sum of perfect numbers from 1 to 50\n",
    "def check_perfect(num):\n",
    "    i=1\n",
    "    sum=0\n",
    "    while i<num:\n",
    "        if num%i==0:\n",
    "            sum+=i\n",
    "        i+=1\n",
    "    return sum==num\n",
    "\n",
    "sum=0\n",
    "for i in range(1,51):\n",
    "    if check_perfect(i):\n",
    "        sum+=i\n",
    "print(sum)"
   ]
  },
  {
   "cell_type": "code",
   "execution_count": 15,
   "id": "9f16a22f",
   "metadata": {},
   "outputs": [
    {
     "name": "stdout",
     "output_type": "stream",
     "text": [
      "5\n"
     ]
    }
   ],
   "source": [
    "# WAP to print nth prime number\n",
    "def check_prim(num):\n",
    "    i=1\n",
    "    count=0\n",
    "    while i<=num:\n",
    "        if num%i==0:\n",
    "            count+=1\n",
    "        i+=1\n",
    "    return count==2\n",
    "\n",
    "n=int(input())\n",
    "i=1\n",
    "j=0\n",
    "while j<n:\n",
    "    if check_prim(i):\n",
    "        j+=1\n",
    "    if n==j:\n",
    "        print(i)\n",
    "    i+=1"
   ]
  },
  {
   "cell_type": "markdown",
   "id": "5bc18f5f",
   "metadata": {},
   "source": [
    "TYPES OF ACTUAL ARGUMENTS.\n"
   ]
  },
  {
   "cell_type": "code",
   "execution_count": 7,
   "id": "481d3526",
   "metadata": {},
   "outputs": [
    {
     "name": "stdout",
     "output_type": "stream",
     "text": [
      "can't drive\n",
      "can drive\n",
      "I don't know may be...\n",
      "I don't know may be...\n"
     ]
    }
   ],
   "source": [
    "# 1.POSITION ACTUAL ARGUMENT\n",
    "def info(name='raja',age=18):\n",
    "    if age>18:\n",
    "        print('can drive')\n",
    "    elif age<18:\n",
    "        print(\"can't drive\")\n",
    "    else:\n",
    "        print(\"I don't know may be...\")\n",
    "info('vicky',17)\n",
    "info(age=21,name='dinga')\n",
    "info(name='Dingi')\n",
    "info()"
   ]
  },
  {
   "cell_type": "code",
   "execution_count": 15,
   "id": "fdc48e3b",
   "metadata": {},
   "outputs": [
    {
     "name": "stdout",
     "output_type": "stream",
     "text": [
      "None\n"
     ]
    }
   ],
   "source": [
    "def outer(greeting,name):\n",
    "    greeting(\"hello\")\n",
    "    return \n",
    "\n",
    "def greeting(prefix):\n",
    "    return \"Good morning\"+prefix\n",
    "\n",
    "print(outer(greeting,name=' vamshi'))"
   ]
  }
 ],
 "metadata": {
  "kernelspec": {
   "display_name": "Python 3",
   "language": "python",
   "name": "python3"
  },
  "language_info": {
   "codemirror_mode": {
    "name": "ipython",
    "version": 3
   },
   "file_extension": ".py",
   "mimetype": "text/x-python",
   "name": "python",
   "nbconvert_exporter": "python",
   "pygments_lexer": "ipython3",
   "version": "3.13.5"
  }
 },
 "nbformat": 4,
 "nbformat_minor": 5
}
