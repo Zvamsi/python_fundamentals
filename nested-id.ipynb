{
 "cells": [
  {
   "cell_type": "code",
   "execution_count": 3,
   "id": "fff155e9",
   "metadata": {},
   "outputs": [
    {
     "name": "stdout",
     "output_type": "stream",
     "text": [
      "odd\n"
     ]
    }
   ],
   "source": [
    "num=int(input(\"Enter a number\"))\n",
    "if num>5:\n",
    "    if num%2==0:\n",
    "        print('even')\n",
    "    else:\n",
    "        print('odd')\n",
    "else:\n",
    "    if num>0:\n",
    "        print(\"positive\")\n",
    "    else:\n",
    "        print('Negative')"
   ]
  },
  {
   "cell_type": "code",
   "execution_count": 9,
   "id": "6ab2ef6d",
   "metadata": {},
   "outputs": [
    {
     "name": "stdout",
     "output_type": "stream",
     "text": [
      "Upper\n"
     ]
    }
   ],
   "source": [
    "ch=input(\"Enter a character\")\n",
    "if (ch>='A' and ch<='Z') or (ch>='a' and ch<='z'):\n",
    "    if ch>='A' and ch<='Z':\n",
    "        print('Upper')\n",
    "    else:\n",
    "        print('Lower')\n",
    "else:\n",
    "    if ord(ch)%2==0:\n",
    "        print(\"even Ascii\")\n",
    "    else:\n",
    "        print(\"odd ASCII\")"
   ]
  },
  {
   "cell_type": "code",
   "execution_count": 15,
   "id": "8f6c8e6d",
   "metadata": {},
   "outputs": [
    {
     "name": "stdout",
     "output_type": "stream",
     "text": [
      "consonent\n"
     ]
    }
   ],
   "source": [
    "ch=input(\"enter a character\")\n",
    "\n",
    "if (ch>='A' and ch<='Z') or (ch>='a' and ch<='z'):\n",
    "    if ch in 'AEIOUaeiou':\n",
    "        print('vowel')\n",
    "    else:\n",
    "        print('consonent')\n",
    "else:\n",
    "    if ch>='0' and ch<='9':\n",
    "        print(int(ch)**2)"
   ]
  },
  {
   "cell_type": "code",
   "execution_count": 20,
   "id": "7f4b1ab4",
   "metadata": {},
   "outputs": [
    {
     "name": "stdout",
     "output_type": "stream",
     "text": [
      "negative\n"
     ]
    }
   ],
   "source": [
    "num=int(input(\"Enter a number\"))\n",
    "\n",
    "if num%5==0:\n",
    "    if num>10 and num<=25:\n",
    "        print(\"yes\")\n",
    "else:\n",
    "    if num>0:\n",
    "        print(\"positive\")\n",
    "    elif num<0:\n",
    "        print(\"negative\")\n",
    "    else:\n",
    "        print('zero')"
   ]
  },
  {
   "cell_type": "code",
   "execution_count": 24,
   "id": "dc1c00df",
   "metadata": {},
   "outputs": [
    {
     "name": "stdout",
     "output_type": "stream",
     "text": [
      "equal string\n"
     ]
    }
   ],
   "source": [
    "str=input(\"Enter a string\")\n",
    "\n",
    "if len(str)%2==0:\n",
    "    if str[0]==str[-1]:\n",
    "        print(\"equal string\")\n",
    "else:\n",
    "    mid=str[len(str)//2]\n",
    "    if (mid>='A' and mid<='Z') or (mid>='a' and mid<='z'):\n",
    "        print(\"alphabet\")\n",
    "    elif mid<='9' and mid>='0':\n",
    "        print('number')\n",
    "    else:\n",
    "        print('symbol')"
   ]
  },
  {
   "cell_type": "code",
   "execution_count": null,
   "id": "7bb717f9",
   "metadata": {},
   "outputs": [
    {
     "name": "stdout",
     "output_type": "stream",
     "text": [
      "single valued datatype\n",
      "True\n"
     ]
    }
   ],
   "source": [
    "key=input(\"Enter a key\")\n",
    "dict1={'one':1,'two':2,'three':3,'four':[1,2,3]}\n",
    "if len(dict1)>0:\n",
    "    if key in dict1:\n",
    "        if type(dict1[key]) in [int,float,bool,complex]:\n",
    "            print('single valued datatype')\n",
    "        else:\n",
    "            print('multi-valued datatype')\n",
    "x=dict1.keys()\n",
    "print('one' in x)"
   ]
  },
  {
   "cell_type": "code",
   "execution_count": 39,
   "id": "cbb583c6",
   "metadata": {},
   "outputs": [
    {
     "name": "stdout",
     "output_type": "stream",
     "text": [
      "1384.74\n"
     ]
    }
   ],
   "source": [
    "num=int(input(\"Enter a number\"))\n",
    "if num%2==0:\n",
    "    if num%4==0:\n",
    "        print(num**2)\n",
    "else:\n",
    "    if num%3==0 and num%7==0:\n",
    "        print(3.14*num*num)"
   ]
  },
  {
   "cell_type": "code",
   "execution_count": 51,
   "id": "d3a1e338",
   "metadata": {},
   "outputs": [
    {
     "name": "stdout",
     "output_type": "stream",
     "text": [
      "['a', 'B', 'C']\n"
     ]
    }
   ],
   "source": [
    "list1=['A','B','C']\n",
    "ch=input(\"Enter a character\")\n",
    "if ch in list1:\n",
    "    if (ch>='A' and ch<='Z') or (ch>='a' and ch<='z'):\n",
    "        if ch>='A' and ch<='Z':\n",
    "            list1[list1.index(ch)]=ch.lower()\n",
    "        else:\n",
    "            list1[list1.index(ch)]=ch.upper()\n",
    "        print(list1)\n",
    "else:\n",
    "    print(\"invalid key\")"
   ]
  },
  {
   "cell_type": "code",
   "execution_count": 56,
   "id": "194678b5",
   "metadata": {},
   "outputs": [
    {
     "name": "stdout",
     "output_type": "stream",
     "text": [
      "aceg\n"
     ]
    }
   ],
   "source": [
    "collection=['abcdefg','qwe','iop']\n",
    "a='abcdefg'\n",
    "\n",
    "if a in collection:\n",
    "    if len(a)%2==0:\n",
    "        print(a[1::2])\n",
    "    else:\n",
    "        print(a[::2])\n",
    "else:\n",
    "    print(collection)"
   ]
  },
  {
   "cell_type": "code",
   "execution_count": null,
   "id": "43bdec5f",
   "metadata": {},
   "outputs": [],
   "source": []
  }
 ],
 "metadata": {
  "kernelspec": {
   "display_name": "Python 3",
   "language": "python",
   "name": "python3"
  },
  "language_info": {
   "codemirror_mode": {
    "name": "ipython",
    "version": 3
   },
   "file_extension": ".py",
   "mimetype": "text/x-python",
   "name": "python",
   "nbconvert_exporter": "python",
   "pygments_lexer": "ipython3",
   "version": "3.13.5"
  }
 },
 "nbformat": 4,
 "nbformat_minor": 5
}
