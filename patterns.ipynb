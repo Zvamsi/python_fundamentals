{
 "cells": [
  {
   "cell_type": "code",
   "execution_count": 2,
   "id": "a934b898",
   "metadata": {},
   "outputs": [
    {
     "name": "stdout",
     "output_type": "stream",
     "text": [
      "70 80 90 \n",
      " 50 60 40\n"
     ]
    }
   ],
   "source": [
    "print(70,80,90,'\\n',50, 60, 40)"
   ]
  },
  {
   "cell_type": "code",
   "execution_count": 3,
   "id": "2047b9ae",
   "metadata": {},
   "outputs": [
    {
     "name": "stdout",
     "output_type": "stream",
     "text": [
      "* * * \n",
      "* * * \n",
      "* * * \n"
     ]
    }
   ],
   "source": [
    "r=1\n",
    "while r<=3:\n",
    "    c=1\n",
    "    while c<=3:\n",
    "        print('*',end=' ')\n",
    "        c+=1\n",
    "    r+=1\n",
    "    print()"
   ]
  },
  {
   "cell_type": "code",
   "execution_count": 17,
   "id": "e3a512b5",
   "metadata": {},
   "outputs": [
    {
     "name": "stdout",
     "output_type": "stream",
     "text": [
      "2 3 5 \n",
      "7 11 13 \n",
      "17 19 23 \n"
     ]
    }
   ],
   "source": [
    "def check_prime(num):\n",
    "    i=1\n",
    "    count=0\n",
    "    while i<=num:\n",
    "        if num%i==0:\n",
    "            count+=1\n",
    "        i+=1\n",
    "    return count==2\n",
    "r=1\n",
    "n=1\n",
    "while r<=3:\n",
    "    c=1\n",
    "    while c<=3:\n",
    "        i=1\n",
    "        count=0\n",
    "        while i<=n:\n",
    "            if n%i==0:\n",
    "                count+=1\n",
    "            i+=1\n",
    "        if count==2:\n",
    "            print(n,end=' ')\n",
    "            c+=1\n",
    "        n+=1\n",
    "    print()\n",
    "    r+=1"
   ]
  },
  {
   "cell_type": "code",
   "execution_count": 15,
   "id": "4f1d56d3",
   "metadata": {},
   "outputs": [
    {
     "name": "stdout",
     "output_type": "stream",
     "text": [
      "1 3 5 7 \n",
      "9 11 13 15 \n",
      "17 19 21 23 \n",
      "25 27 29 31 \n"
     ]
    }
   ],
   "source": [
    "r=1\n",
    "i=1\n",
    "while r<=4:\n",
    "    c=1\n",
    "    while c<=4:\n",
    "        if i%2!=0:\n",
    "            print(i,end=' ')\n",
    "            c+=1\n",
    "        i+=1\n",
    "       \n",
    "    r+=1\n",
    "    print()\n"
   ]
  },
  {
   "cell_type": "code",
   "execution_count": 4,
   "id": "866ddeb5",
   "metadata": {},
   "outputs": [
    {
     "name": "stdout",
     "output_type": "stream",
     "text": [
      "2 3 5 \n",
      "7 11 13 \n",
      "17 19 23 \n"
     ]
    }
   ],
   "source": [
    "n=1\n",
    "for i in range(1,4):\n",
    "    for j in range(1,4):\n",
    "        for k in range(n+1,1000):\n",
    "            n=k\n",
    "            count=0\n",
    "            for l in range(1,k+1):\n",
    "                if k%l==0:\n",
    "                    count+=1\n",
    "            if count==2:\n",
    "                print(k,end=' ')\n",
    "                break\n",
    "    print()"
   ]
  },
  {
   "cell_type": "code",
   "execution_count": 14,
   "id": "a335a41b",
   "metadata": {},
   "outputs": [
    {
     "name": "stdout",
     "output_type": "stream",
     "text": [
      "A E I M \n",
      "B F J N \n",
      "C G K O \n",
      "D H L P \n"
     ]
    }
   ],
   "source": [
    "temp1='A'\n",
    "for i in range(1,5):\n",
    "    temp=temp1\n",
    "    for j in range(1,5):\n",
    "        print(temp,end=' ')\n",
    "        temp=chr(ord(temp)+4)\n",
    "    print()\n",
    "    temp1=chr(ord(temp1)+1)"
   ]
  },
  {
   "cell_type": "code",
   "execution_count": 2,
   "id": "7f752d2e",
   "metadata": {},
   "outputs": [
    {
     "name": "stdout",
     "output_type": "stream",
     "text": [
      "[0, 1, 2, 3]\n"
     ]
    }
   ],
   "source": [
    "i=range(0,4)\n",
    "print(list(i))"
   ]
  },
  {
   "cell_type": "code",
   "execution_count": 7,
   "id": "480884c4",
   "metadata": {},
   "outputs": [
    {
     "name": "stdout",
     "output_type": "stream",
     "text": [
      "[4]\n"
     ]
    }
   ],
   "source": [
    "i=range(4,0,-10)\n",
    "print(list(i))"
   ]
  },
  {
   "cell_type": "code",
   "execution_count": 9,
   "id": "f4bce1a7",
   "metadata": {},
   "outputs": [
    {
     "name": "stdout",
     "output_type": "stream",
     "text": [
      "[0, 2, 4, 6, 8]\n"
     ]
    }
   ],
   "source": [
    "i=range(0,10,2)\n",
    "print(list(i))"
   ]
  },
  {
   "cell_type": "code",
   "execution_count": 11,
   "id": "c2f93549",
   "metadata": {},
   "outputs": [
    {
     "name": "stdout",
     "output_type": "stream",
     "text": [
      "1 a 2 b \n",
      "3 c 4 d \n",
      "5 e 6 f \n",
      "7 g 8 h \n"
     ]
    }
   ],
   "source": [
    "num=1\n",
    "alpha='a'\n",
    "for i in range(1,5):\n",
    "    for j in range(1,3):\n",
    "        print(num,alpha,end=' ')\n",
    "        num+=1\n",
    "        alpha=chr(ord(alpha)+1)\n",
    "    print()"
   ]
  },
  {
   "cell_type": "code",
   "execution_count": 12,
   "id": "cfcec015",
   "metadata": {},
   "outputs": [
    {
     "name": "stdout",
     "output_type": "stream",
     "text": [
      "1 2 3 4 \n",
      "1 2 3 4 \n",
      "1 2 3 4 \n",
      "1 2 3 4 \n"
     ]
    }
   ],
   "source": [
    "for i in range(1,5):\n",
    "    for j in range(1,5):\n",
    "        print(j,end=' ')\n",
    "    print()"
   ]
  },
  {
   "cell_type": "code",
   "execution_count": 13,
   "id": "91fb774c",
   "metadata": {},
   "outputs": [
    {
     "name": "stdout",
     "output_type": "stream",
     "text": [
      "A B C D \n",
      "A B C D \n",
      "A B C D \n",
      "A B C D \n"
     ]
    }
   ],
   "source": [
    "for i in range(1,5):\n",
    "    alpha='A'\n",
    "    for j in range(1,5):\n",
    "        print(alpha,end=' ')\n",
    "        alpha=chr(ord(alpha)+1)\n",
    "    print()"
   ]
  },
  {
   "cell_type": "code",
   "execution_count": 20,
   "id": "a6bb5f5b",
   "metadata": {},
   "outputs": [
    {
     "name": "stdout",
     "output_type": "stream",
     "text": [
      "*       * \n",
      "  *   *   \n",
      "    *     \n",
      "  *   *   \n",
      "*       * \n"
     ]
    }
   ],
   "source": [
    "\n",
    "for i in range(1,6):\n",
    "    for j in range(1,6):\n",
    "        if i+j==6 or i==j:\n",
    "            print('*',end=' ')\n",
    "        else:\n",
    "            print(' ',end=' ')\n",
    "    print()"
   ]
  },
  {
   "cell_type": "code",
   "execution_count": null,
   "id": "1ecf4f37",
   "metadata": {},
   "outputs": [
    {
     "name": "stdout",
     "output_type": "stream",
     "text": [
      "140712559524320\n",
      "140712559525952\n"
     ]
    }
   ],
   "source": [
    "a='A'\n",
    "b='A'\n",
    "print(id(b))\n",
    "b='c'\n",
    "# print(id(a))\n",
    "print(id(b))"
   ]
  },
  {
   "cell_type": "markdown",
   "id": "8dc04d89",
   "metadata": {},
   "source": [
    "ASSIGNMENT"
   ]
  },
  {
   "cell_type": "code",
   "execution_count": 3,
   "id": "c455ff02",
   "metadata": {},
   "outputs": [
    {
     "name": "stdout",
     "output_type": "stream",
     "text": [
      "      * \n",
      "    * * \n",
      "  *   * \n",
      "* * * * \n"
     ]
    }
   ],
   "source": [
    "# 1.WAP to print \n",
    "'''\n",
    "      *\n",
    "    * *\n",
    "  *   *\n",
    "* * * *\n",
    "'''\n",
    "for i in range(1,5):\n",
    "    for j in range(1,5):\n",
    "        if i==4 or j==4 or i+j==5:\n",
    "            print('*',end=' ')\n",
    "        else:\n",
    "            print(' ',end=' ')\n",
    "    print()"
   ]
  },
  {
   "cell_type": "code",
   "execution_count": 7,
   "id": "bf878a42",
   "metadata": {},
   "outputs": [
    {
     "name": "stdout",
     "output_type": "stream",
     "text": [
      "*       \n",
      "* *     \n",
      "*   *   \n",
      "* * * * \n"
     ]
    }
   ],
   "source": [
    "# 2.WAP to print \n",
    "'''\n",
    "*\n",
    "* *\n",
    "*   *\n",
    "* * * *\n",
    "'''\n",
    "for i in range(1,5):\n",
    "    for j in range(1,5):\n",
    "        if i==4 or j==1 or i==j:\n",
    "            print('*',end=' ')\n",
    "        else:\n",
    "            print(' ',end=' ')\n",
    "    print()"
   ]
  },
  {
   "cell_type": "code",
   "execution_count": 8,
   "id": "72e4247c",
   "metadata": {},
   "outputs": [
    {
     "name": "stdout",
     "output_type": "stream",
     "text": [
      "* * * * \n",
      "*   *   \n",
      "* *     \n",
      "*       \n"
     ]
    }
   ],
   "source": [
    "# 3.WAP to print \n",
    "'''\n",
    "* * * *\n",
    "*   *\n",
    "* *\n",
    "*\n",
    "'''\n",
    "for i in range(1,5):\n",
    "    for j in range(1,5):\n",
    "        if i==1 or j==1 or i+j==5:\n",
    "            print('*',end=' ')\n",
    "        else:\n",
    "            print(' ',end=' ')\n",
    "    print()"
   ]
  },
  {
   "cell_type": "code",
   "execution_count": 9,
   "id": "82fc4db5",
   "metadata": {},
   "outputs": [
    {
     "name": "stdout",
     "output_type": "stream",
     "text": [
      "* * * * \n",
      "  *   * \n",
      "    * * \n",
      "      * \n"
     ]
    }
   ],
   "source": [
    "# 4.WAP to print \n",
    "'''\n",
    "* * * *\n",
    "  *   *\n",
    "    * *\n",
    "      *\n",
    "'''\n",
    "i=1\n",
    "while i<5:\n",
    "    j=1\n",
    "    while j<5:\n",
    "        if i==1 or j==4 or i==j:\n",
    "            print('*',end=' ')\n",
    "        else:\n",
    "            print(' ',end=' ')\n",
    "        j+=1\n",
    "    i+=1\n",
    "    print()"
   ]
  },
  {
   "cell_type": "code",
   "execution_count": null,
   "id": "e4cab9e5",
   "metadata": {},
   "outputs": [
    {
     "name": "stdout",
     "output_type": "stream",
     "text": [
      "1         \n",
      "  2       \n",
      "    3     \n",
      "      4   \n",
      "        5 \n"
     ]
    }
   ],
   "source": [
    "# 5.WAP to print \n",
    "'''\n",
    "1\n",
    "  2\n",
    "    3\n",
    "      4\n",
    "        5\n",
    "'''\n",
    "for i in range(1,6):\n",
    "    for j in range(1,6):\n",
    "        if i==j:\n",
    "            print(i,end=' ')\n",
    "        else:\n",
    "            print(' ',end=' ')\n",
    "    print()"
   ]
  },
  {
   "cell_type": "code",
   "execution_count": 15,
   "id": "09ab569b",
   "metadata": {},
   "outputs": [
    {
     "name": "stdout",
     "output_type": "stream",
     "text": [
      "        A \n",
      "      B   \n",
      "    C     \n",
      "  D       \n",
      "E         \n"
     ]
    }
   ],
   "source": [
    "# 6.WAP to print \n",
    "'''\n",
    "        A\n",
    "      B\n",
    "    C\n",
    "  D\n",
    "E\n",
    "'''\n",
    "alpha='A'\n",
    "for i in range(1,6):\n",
    "    for j in range(1,6):\n",
    "        if i+j==6:\n",
    "            print(alpha,end=' ')\n",
    "            alpha=chr(ord(alpha)+1)\n",
    "        else:\n",
    "            print(' ',end=' ')\n",
    "    print()"
   ]
  },
  {
   "cell_type": "code",
   "execution_count": null,
   "id": "790f2fdb",
   "metadata": {},
   "outputs": [
    {
     "name": "stdout",
     "output_type": "stream",
     "text": [
      "1 2 3 4 \n",
      "5     6 \n",
      "7     8 \n",
      "9 10 11 12 \n"
     ]
    }
   ],
   "source": [
    "# 7.WAP to print \n",
    "'''\n",
    "1  2  3 4\n",
    "5       6\n",
    "7       8\n",
    "9 10 11 12\n",
    "'''\n",
    "n=1\n",
    "for i in range(1,5):\n",
    "    for j in range(1,5):\n",
    "        if i==1 or i==4 or j==1 or j==4:\n",
    "            print(n,end=' ')\n",
    "            n+=1\n",
    "        else:\n",
    "            print(' ',end=' ')\n",
    "    print()"
   ]
  },
  {
   "cell_type": "code",
   "execution_count": 21,
   "id": "37cfe094",
   "metadata": {},
   "outputs": [
    {
     "name": "stdout",
     "output_type": "stream",
     "text": [
      "1       \n",
      "2 3     \n",
      "4   5   \n",
      "6 7 8 9 \n"
     ]
    }
   ],
   "source": [
    "# 8.WAP to print \n",
    "'''\n",
    "1\n",
    "2 3\n",
    "4   5\n",
    "6 7 8 9\n",
    "'''\n",
    "n=1\n",
    "for i in range(1,5):\n",
    "    for j in range(1,5):\n",
    "        if j==1 or i==4 or i==j:\n",
    "            print(n,end=' ')\n",
    "            n+=1\n",
    "        else:\n",
    "            print(' ',end=' ')\n",
    "    print()"
   ]
  },
  {
   "cell_type": "code",
   "execution_count": null,
   "id": "e46ebbcc",
   "metadata": {},
   "outputs": [
    {
     "name": "stdout",
     "output_type": "stream",
     "text": [
      "a b c d \n",
      "  e   f \n",
      "    g h \n",
      "      i \n"
     ]
    }
   ],
   "source": [
    "# 9.WAP to print \n",
    "'''\n",
    "a b c d\n",
    "  e   f\n",
    "    g h\n",
    "      i\n",
    "'''\n",
    "alpha='a'\n",
    "for i in range(1,5):\n",
    "    for j in range(1,5):\n",
    "        if i==j or i==1 or j==4:\n",
    "            print(alpha,end=' ')\n",
    "            alpha=chr(ord(alpha)+1)\n",
    "        else:\n",
    "            print(' ',end=' ')\n",
    "    print()"
   ]
  },
  {
   "cell_type": "code",
   "execution_count": null,
   "id": "8e91e90c",
   "metadata": {},
   "outputs": [
    {
     "name": "stdout",
     "output_type": "stream",
     "text": [
      "A       1 \n",
      "  B   2   \n",
      "    C     \n",
      "  3   D   \n",
      "4       E \n"
     ]
    }
   ],
   "source": [
    "# 10.WAP to print \n",
    "'''\n",
    "A       1\n",
    "  B   2\n",
    "    C\n",
    "  3   D\n",
    "4       E\n",
    "'''\n",
    "num=1\n",
    "alpha='A'\n",
    "for i in range(1,6):\n",
    "    for j in range(1,6):\n",
    "        if i==j:\n",
    "            print(alpha,end=' ')\n",
    "            alpha=chr(ord(alpha)+1)\n",
    "        elif i+j==6:\n",
    "            print(num,end=' ')\n",
    "            num+=1\n",
    "        else:\n",
    "            print(' ',end=' ')\n",
    "    print()"
   ]
  },
  {
   "cell_type": "code",
   "execution_count": 2,
   "id": "535296cb",
   "metadata": {},
   "outputs": [
    {
     "name": "stdout",
     "output_type": "stream",
     "text": [
      "* * * * * \n",
      "*       * \n",
      "* * * * * \n",
      "*       * \n",
      "* * * * * \n"
     ]
    }
   ],
   "source": [
    "# 11.WAP to print \n",
    "'''\n",
    "* * * * *\n",
    "*       *\n",
    "* * * * *\n",
    "*       *\n",
    "* * * * *\n",
    "'''\n",
    "for i in range(1,6):\n",
    "    for j in range(1,6):\n",
    "        if j==1 or j==5 or i%2!=0:\n",
    "            print('*',end=' ')\n",
    "        else:\n",
    "            print(' ',end=' ')\n",
    "    print()"
   ]
  },
  {
   "cell_type": "code",
   "execution_count": 3,
   "id": "f20dcbe5",
   "metadata": {},
   "outputs": [
    {
     "name": "stdout",
     "output_type": "stream",
     "text": [
      "* * * * * \n",
      "*   *   * \n",
      "*   *   * \n",
      "*   *   * \n",
      "* * * * * \n"
     ]
    }
   ],
   "source": [
    "# 12.WAP to print \n",
    "'''\n",
    "* * * * *\n",
    "*   *   *\n",
    "*   *   *\n",
    "*   *   *\n",
    "* * * * *\n",
    "'''\n",
    "for i in range(1,6):\n",
    "    for j in range(1,6):\n",
    "        if i==1 or i==5 or j%2!=0:\n",
    "            print('*',end=' ')\n",
    "        else:\n",
    "            print(' ',end=' ')\n",
    "    print()\n",
    "    "
   ]
  },
  {
   "cell_type": "code",
   "execution_count": 4,
   "id": "1ba0e81b",
   "metadata": {},
   "outputs": [
    {
     "name": "stdout",
     "output_type": "stream",
     "text": [
      "* * * * * \n",
      "*   *   * \n",
      "* * * * * \n",
      "*   *   * \n",
      "* * * * * \n"
     ]
    }
   ],
   "source": [
    "# 13.WAP to print \n",
    "'''\n",
    "* * * * *\n",
    "*   *   *\n",
    "* * * * *\n",
    "*   *   *\n",
    "* * * * *\n",
    "'''\n",
    "for i in range(1,6):\n",
    "    for j in range(1,6):\n",
    "        if i%2!=0 or j%2!=0:\n",
    "            print('*',end=' ')\n",
    "        else:\n",
    "            print(' ',end=' ')\n",
    "    print()"
   ]
  },
  {
   "cell_type": "code",
   "execution_count": 7,
   "id": "934d0e61",
   "metadata": {},
   "outputs": [
    {
     "name": "stdout",
     "output_type": "stream",
     "text": [
      "1 2 3 4 5 \n",
      "6   7   8 \n",
      "9 1 2 3 4 \n",
      "5   6   7 \n",
      "8 9 1 2 3 \n"
     ]
    }
   ],
   "source": [
    "# 14.WAP to print \n",
    "'''\n",
    "1 2 3 4 5\n",
    "6   7   8\n",
    "9 1 2 3 4\n",
    "5   6   7\n",
    "8 9 1 2 3\n",
    "'''\n",
    "num=1\n",
    "for i in range(1,6):\n",
    "    for j in range(1,6):\n",
    "        if i%2!=0 or j%2!=0:\n",
    "            print(num,end=' ')\n",
    "            num+=1\n",
    "        else:\n",
    "            print(' ',end=' ')\n",
    "        if num>9:\n",
    "            num=1\n",
    "    print()\n"
   ]
  },
  {
   "cell_type": "code",
   "execution_count": 8,
   "id": "61906234",
   "metadata": {},
   "outputs": [
    {
     "name": "stdout",
     "output_type": "stream",
     "text": [
      "5         \n",
      "  4       \n",
      "    3     \n",
      "      2   \n",
      "        1 \n"
     ]
    }
   ],
   "source": [
    "# 15.WAP to print \n",
    "'''\n",
    "5\n",
    "  4\n",
    "    3\n",
    "      2\n",
    "        1\n",
    "'''\n",
    "for i in range(5,0,-1):\n",
    "    for j in range(5,0,-1):\n",
    "        if i==j:\n",
    "            print(i,end=' ')\n",
    "        else:\n",
    "            print(' ',end=' ')\n",
    "    print()"
   ]
  },
  {
   "cell_type": "code",
   "execution_count": 17,
   "id": "0bd2a24a",
   "metadata": {},
   "outputs": [
    {
     "name": "stdout",
     "output_type": "stream",
     "text": [
      "*       \n",
      "* *     \n",
      "* * *   \n",
      "* * * * \n",
      "* * * \n",
      "* *   \n",
      "*     \n"
     ]
    }
   ],
   "source": [
    "# WAP to print \n",
    "'''\n",
    "*\n",
    "* *\n",
    "* * *\n",
    "* * * *\n",
    "* * *\n",
    "* *\n",
    "*\n",
    "'''\n",
    "for i in range(1,5):\n",
    "    for j in range(1,5):\n",
    "        if i>=j:\n",
    "            print('*',end=' ')\n",
    "        else:\n",
    "            print(' ',end=' ')\n",
    "    print()\n",
    "for i in range(1,4):\n",
    "    for j in range(1,4):\n",
    "        if i+j<=4:\n",
    "            print('*',end=' ')\n",
    "        else:\n",
    "            print(' ',end=' ')\n",
    "    print()"
   ]
  },
  {
   "cell_type": "code",
   "execution_count": 16,
   "id": "72111548",
   "metadata": {},
   "outputs": [
    {
     "name": "stdout",
     "output_type": "stream",
     "text": [
      "*****\n",
      "*****\n",
      "*****\n",
      "*****\n",
      "*****\n"
     ]
    }
   ],
   "source": [
    "# 1.WAP TO print Solid square of `*` (5x5) \n",
    "# *****\n",
    "# *****\n",
    "# *****\n",
    "# *****\n",
    "# *****\n",
    "i=0\n",
    "while i<5:\n",
    "    j=0\n",
    "    while j<5:\n",
    "        print('*',end='')\n",
    "        j+=1\n",
    "    i+=1\n",
    "    print()"
   ]
  },
  {
   "cell_type": "code",
   "execution_count": 17,
   "id": "693e7dc9",
   "metadata": {},
   "outputs": [
    {
     "name": "stdout",
     "output_type": "stream",
     "text": [
      "*****\n",
      "*   *\n",
      "*   *\n",
      "*   *\n",
      "*****\n"
     ]
    }
   ],
   "source": [
    "# 2.WAP TO print Hollow square of `*` (5x5) \n",
    "# *****\n",
    "# *   *\n",
    "# *   *\n",
    "# *   *\n",
    "# *****\n",
    "\n",
    "i=0\n",
    "while i<5:\n",
    "    j=0\n",
    "    while j<5:\n",
    "        if i==0 or i==4:\n",
    "            print('*',end='')\n",
    "        elif j==0 or j==4:\n",
    "            print('*',end='')\n",
    "        else:\n",
    "            print(' ',end='')\n",
    "        j+=1\n",
    "    i+=1\n",
    "    print()"
   ]
  },
  {
   "cell_type": "code",
   "execution_count": 22,
   "id": "d1dd8c55",
   "metadata": {},
   "outputs": [
    {
     "name": "stdout",
     "output_type": "stream",
     "text": [
      "*   *\n",
      " * * \n",
      "  *  \n",
      " * * \n",
      "*   *\n"
     ]
    }
   ],
   "source": [
    "# 3.WAP TO print Square with diagonal elements as `*`, rest as space \n",
    "# *     *\n",
    "#  *   *\n",
    "#    *\n",
    "#  *   *\n",
    "# *     *\n",
    "i=0\n",
    "dummy=4\n",
    "while i<5:\n",
    "    j=0\n",
    "    while j<5:\n",
    "        if i==j or i==j-dummy:\n",
    "            print('*',end='')\n",
    "        else:\n",
    "            print(' ',end='')\n",
    "        j+=1\n",
    "    dummy-=2\n",
    "    i+=1\n",
    "    print()"
   ]
  },
  {
   "cell_type": "code",
   "execution_count": 24,
   "id": "0907c01a",
   "metadata": {},
   "outputs": [
    {
     "name": "stdout",
     "output_type": "stream",
     "text": [
      "\n",
      "*\n",
      "**\n",
      "***\n",
      "****\n",
      "*****\n"
     ]
    }
   ],
   "source": [
    "# 4.WAP TO print Right-angled triangle using `*` \n",
    "# *\n",
    "# **\n",
    "# ***\n",
    "# ****\n",
    "# *****\n",
    "for i in range(6):\n",
    "    print('*'*i)"
   ]
  },
  {
   "cell_type": "code",
   "execution_count": 25,
   "id": "eed8391f",
   "metadata": {},
   "outputs": [
    {
     "name": "stdout",
     "output_type": "stream",
     "text": [
      "*****\n",
      "****\n",
      "***\n",
      "**\n",
      "*\n"
     ]
    }
   ],
   "source": [
    "# 5.WAP TO print Inverted right-angled triangle using `*` \n",
    "# *****\n",
    "# ****\n",
    "# ***\n",
    "# **\n",
    "# *\n",
    "for i in range(5,0,-1):\n",
    "    print('*'*i)"
   ]
  },
  {
   "cell_type": "code",
   "execution_count": 32,
   "id": "2056104a",
   "metadata": {},
   "outputs": [
    {
     "name": "stdout",
     "output_type": "stream",
     "text": [
      "    *\n",
      "   ***\n",
      "  *****\n",
      " *******\n",
      "*********\n"
     ]
    }
   ],
   "source": [
    "# 6.WAP TO print Full pyramid using `*` \n",
    "#       *\n",
    "#      ***\n",
    "#     *****\n",
    "#    *******\n",
    "#   *********\n",
    "space=4\n",
    "for i in range(1,10,2):\n",
    "    print(' '*space+'*'*i)\n",
    "    space-=1"
   ]
  },
  {
   "cell_type": "code",
   "execution_count": 37,
   "id": "e6e161f8",
   "metadata": {},
   "outputs": [
    {
     "name": "stdout",
     "output_type": "stream",
     "text": [
      " *********\n",
      "  *******\n",
      "   *****\n",
      "    ***\n",
      "     *\n"
     ]
    }
   ],
   "source": [
    "# 7.WAP TO print Inverted full pyramid using `*` \n",
    "# *********\n",
    "#  *******\n",
    "#   *****\n",
    "#    ***\n",
    "#     *\n",
    "n=9\n",
    "space=1\n",
    "for i in range(n,0,-2):\n",
    "    print(' '*space+'*'*i)\n",
    "    space+=1"
   ]
  },
  {
   "cell_type": "code",
   "execution_count": 50,
   "id": "104e6a6f",
   "metadata": {},
   "outputs": [
    {
     "name": "stdout",
     "output_type": "stream",
     "text": [
      "          *\n",
      "         ***\n",
      "        *****\n",
      "       *******\n",
      "      *********\n",
      "     ***********\n",
      "      *********\n",
      "       *******\n",
      "        *****\n",
      "         ***\n",
      "          *\n"
     ]
    }
   ],
   "source": [
    "# 8.WAP TO print Diamond Pattern (Size = 5) \n",
    "#       * \n",
    "#      *** \n",
    "#     ***** \n",
    "#    ******* \n",
    "#   *********\n",
    "#    ******* \n",
    "#     ***** \n",
    "#      *** \n",
    "#       * \n",
    "size=5\n",
    "space=10\n",
    "i=1\n",
    "while i<size*2:\n",
    "    print(' '*space+'*'*i)\n",
    "    i+=2\n",
    "    space-=1\n",
    "while i>0:\n",
    "    print(' '*space+'*'*i)\n",
    "    i-=2\n",
    "    space+=1"
   ]
  },
  {
   "cell_type": "code",
   "execution_count": null,
   "id": "40efd6af",
   "metadata": {},
   "outputs": [],
   "source": [
    "# 9.WAP TO print Hollow Diamond Pattern \n",
    "#       * \n",
    "#      * * \n",
    "#     *   * \n",
    "#    *     * \n",
    "#   *       *\n",
    "#    *     * \n",
    "#     *   * \n",
    "#      * * \n",
    "#       * "
   ]
  },
  {
   "cell_type": "code",
   "execution_count": null,
   "id": "061f3621",
   "metadata": {},
   "outputs": [],
   "source": [
    "# 10.WAP TO print Square Number Pattern\n",
    "# Question: Print a square where each row contains the same number from 1 to n.\n",
    "# Input: n = 4\n",
    "# Output:\n",
    "# 11111\n",
    "# 22222\n",
    "# 33333\n",
    "# 44444"
   ]
  },
  {
   "cell_type": "code",
   "execution_count": null,
   "id": "cd70a125",
   "metadata": {},
   "outputs": [],
   "source": [
    "# 11.WAP to print Question: Print a square where each row contains numbers from 1 to `n`.\n",
    "# Input: n = 4\n",
    "# Output:\n",
    "# 12345\n",
    "# 12345\n",
    "# 12345\n",
    "# 12345"
   ]
  },
  {
   "cell_type": "code",
   "execution_count": null,
   "id": "ac9f14de",
   "metadata": {},
   "outputs": [],
   "source": [
    "# 12.WAP to print Hollow Number Square\n",
    "# Question: Print a hollow square with numbers at the border and space inside.\n",
    "# Input: n = 5\n",
    "# Output:\n",
    "# 12345\n",
    "# 1   5\n",
    "# 1   5\n",
    "# 1   5\n",
    "# 12345"
   ]
  },
  {
   "cell_type": "code",
   "execution_count": null,
   "id": "17815048",
   "metadata": {},
   "outputs": [],
   "source": [
    "# 13.WAP to print Alternating 1s and 0s\n",
    "# Question: Print a square pattern with alternating 1s and 0s like a chessboard.\n",
    "# Input: n = 5\n",
    "# Output:\n",
    "# 10101\n",
    "# 01010\n",
    "# 10101\n",
    "# 01010\n",
    "# 10101"
   ]
  },
  {
   "cell_type": "code",
   "execution_count": null,
   "id": "ef913e93",
   "metadata": {},
   "outputs": [],
   "source": [
    "# 14.WAP to print Sum of Indices Pattern\n",
    "# Question: Print a square where each cell contains the sum of row and column indices (starting from \n",
    "# 0).\n",
    "# Input: n = 4\n",
    "# Output:\n",
    "# 0 1 2 3\n",
    "# 1 2 3 4\n",
    "# 2 3 4 5\n",
    "# 3 4 5 6"
   ]
  },
  {
   "cell_type": "code",
   "execution_count": null,
   "id": "05d7e0c1",
   "metadata": {},
   "outputs": [],
   "source": [
    "# 15.WAP to print Number Triangle\n",
    "# Question: Print a triangle with increasing numbers in each row.\n",
    "# Input: n = 5\n",
    "# Output:\n",
    "# 1\n",
    "# 12\n",
    "# 123\n",
    "# 1234\n",
    "# 12345"
   ]
  },
  {
   "cell_type": "code",
   "execution_count": null,
   "id": "10001710",
   "metadata": {},
   "outputs": [],
   "source": [
    "# 16.WAP to print Inverted Number Triangle\n",
    "# Question: Print a triangle with decreasing numbers in each row.\n",
    "# Input: n = 5\n",
    "# Output:\n",
    "# 12345\n",
    "# 1234\n",
    "# 123\n",
    "# 12\n",
    "# 1"
   ]
  },
  {
   "cell_type": "code",
   "execution_count": null,
   "id": "42640e29",
   "metadata": {},
   "outputs": [],
   "source": [
    "# 17.WAP to print Floyd's Triangle\n",
    "# Question: Print Floyd's triangle with continuous numbers.\n",
    "# Input: n = 5\n",
    "# Output:\n",
    "# 1\n",
    "# 2 3\n",
    "# 4 5 6\n",
    "# 7 8 9 10\n",
    "# 11 12 13 14 15"
   ]
  },
  {
   "cell_type": "code",
   "execution_count": null,
   "id": "3898d297",
   "metadata": {},
   "outputs": [],
   "source": [
    "# 18.WAP to print Number Pyramid\n",
    "# Question: Print a centred pyramid of increasing numbers.\n",
    "# Input: n = 5\n",
    "# Output:\n",
    "#       1\n",
    "#      121\n",
    "#     12321\n",
    "#    1234321\n",
    "#   123454321"
   ]
  },
  {
   "cell_type": "code",
   "execution_count": null,
   "id": "2f3c6193",
   "metadata": {},
   "outputs": [],
   "source": [
    "# 19.WAP to print inverted Number Pyramid\n",
    "# Question: Print an inverted number pyramid with decreasing width.\n",
    "# Input: n = 5\n",
    "# Output:\n",
    "# 123454321\n",
    "#  1234321\n",
    "#   12321\n",
    "#    121\n",
    "#     1\n"
   ]
  },
  {
   "cell_type": "code",
   "execution_count": null,
   "id": "f7c53b40",
   "metadata": {},
   "outputs": [],
   "source": [
    "# 20.WAP to print Alphabet Pyramid\n",
    "# Question: Print a centred pyramid with alphabets increasing in each row.\n",
    "# Input: n = 5\n",
    "# Output:\n",
    "#       A\n",
    "#      ABA\n",
    "#     ABCBA\n",
    "#    ABCDCBA\n",
    "#   ABCDEDCBA"
   ]
  },
  {
   "cell_type": "code",
   "execution_count": null,
   "id": "35fd78d8",
   "metadata": {},
   "outputs": [],
   "source": [
    "# 21.WAP to print Inverted Alphabet Pyramid\n",
    "# Question: Print an inverted pyramid with alphabets decreasing in each row.\n",
    "# Input: n = 5\n",
    "# Output:\n",
    "# ABCDEDCBA\n",
    "#  ABCDCBA\n",
    "#   ABCBA\n",
    "#    ABA\n",
    "#     A"
   ]
  },
  {
   "cell_type": "code",
   "execution_count": null,
   "id": "469f067b",
   "metadata": {},
   "outputs": [],
   "source": [
    "# 22.WAP to print Floyd's Triangle in Pyramid Form\n",
    "# Question: Print Floyd's triangle shaped as a pyramid.\n",
    "# Input: n = 5\n",
    "# Output:\n",
    "#       1\n",
    "#      2 3\n",
    "#     4 5 6\n",
    "#    7 8 9 10\n",
    "#  11 12 13 14 15"
   ]
  },
  {
   "cell_type": "code",
   "execution_count": null,
   "id": "15f8cf4b",
   "metadata": {},
   "outputs": [],
   "source": [
    "# 23.WAP to print Odd Number Pyramid\n",
    "# Question: Print a pyramid where each row contains increasing odd numbers.\n",
    "# Input: n = 5\n",
    "# Output:\n",
    "#     1\n",
    "#    3 5\n",
    "#   7 9 11\n",
    "#  13 15 17 19\n",
    "# 21 23 25 27 29\n"
   ]
  },
  {
   "cell_type": "code",
   "execution_count": null,
   "id": "2483c473",
   "metadata": {},
   "outputs": [],
   "source": [
    "# 24.WAP to print Even Number Pyramid\n",
    "# Question: Print a pyramid where each row contains increasing even numbers.\n",
    "# Input: n = 5\n",
    "# Output:\n",
    "#     2\n",
    "#    4 6\n",
    "#   8 10 12\n",
    "#  14 16 18 20\n",
    "# 22 24 26 28 30"
   ]
  },
  {
   "cell_type": "code",
   "execution_count": null,
   "id": "cf3e2e81",
   "metadata": {},
   "outputs": [],
   "source": [
    "# 25.WAP to print Number Diamond\n",
    "# Print a diamond pattern with fixed number in each row.\n",
    "# Input: n = 3\n",
    "# Output:\n",
    "#   1\n",
    "#  222\n",
    "# 33333\n",
    "#  222\n",
    "#   1\n"
   ]
  },
  {
   "cell_type": "code",
   "execution_count": null,
   "id": "cc3648fa",
   "metadata": {},
   "outputs": [],
   "source": [
    "# 26.WAP to Print a diamond pattern using only numbers increasing by 1 on each line.\n",
    "# Input: n = 3\n",
    "# Output:\n",
    "#   1\n",
    "#  123\n",
    "# 12345\n",
    "#  123\n",
    "#   1\n"
   ]
  },
  {
   "cell_type": "code",
   "execution_count": null,
   "id": "a578c077",
   "metadata": {},
   "outputs": [],
   "source": [
    "# 27.WAP to print Character Diamond\n",
    "# Print a diamond pattern using alphabets increasing row-wise (A to E).\n",
    "# Input: n = 3\n",
    "# Output:\n",
    "#   A\n",
    "#  BBB\n",
    "# CCCCC\n",
    "#  BBB\n",
    "#   A\n"
   ]
  },
  {
   "cell_type": "code",
   "execution_count": null,
   "id": "74ebe156",
   "metadata": {},
   "outputs": [],
   "source": [
    "# 28.WAP to Print a diamond pattern where each row contains consecutive alphabets.\n",
    "# Input: n = 3\n",
    "# Output:\n",
    "#   A\n",
    "#  ABC\n",
    "# ABCDE\n",
    "#  ABC\n",
    "#   A"
   ]
  },
  {
   "cell_type": "code",
   "execution_count": null,
   "id": "a7094c0a",
   "metadata": {},
   "outputs": [],
   "source": [
    "# 29.WAP to print Zigzag Number Pattern in Square\n",
    "# Input: 4\n",
    "# Output:\n",
    "# 1 2 3 4\n",
    "# 8 7 6 5\n",
    "# 9 10 11 12\n",
    "# 16 15 14 13"
   ]
  },
  {
   "cell_type": "code",
   "execution_count": null,
   "id": "bc97eb54",
   "metadata": {},
   "outputs": [],
   "source": [
    "# 30.WAP to print Pascal's Triangle (Number Pattern)\n",
    "# Input: 5\n",
    "# Output:\n",
    "#       1\n",
    "#      1 1\n",
    "#     1 2 1\n",
    "#    1 3 3 1\n",
    "#   1 4 6 4 1"
   ]
  },
  {
   "cell_type": "code",
   "execution_count": null,
   "id": "d473f021",
   "metadata": {},
   "outputs": [],
   "source": [
    "# 31.WAP to print Palindromic Number Triangle\n",
    "# Input: 5\n",
    "# Output:\n",
    "#         1\n",
    "#       1 2 1\n",
    "#     1 2 3 2 1\n",
    "#   1 2 3 4 3 2 1\n",
    "# 1 2 3 4 5 4 3 2 1\n"
   ]
  },
  {
   "cell_type": "code",
   "execution_count": null,
   "id": "6f1bb66e",
   "metadata": {},
   "outputs": [],
   "source": [
    "# 32.WAP to print Alphabet Palindromic Pyramid\n",
    "# Sample Input: 5\n",
    "#         A\n",
    "#       A B A\n",
    "#     A B C B A\n",
    "#   A B C D C B A\n",
    "# A B C D E D C B A"
   ]
  },
  {
   "cell_type": "code",
   "execution_count": null,
   "id": "8f1d4ab9",
   "metadata": {},
   "outputs": [],
   "source": [
    "# 33.WAP to print Number Mirror Pyramid\n",
    "# Sample Input: 5\n",
    "#         1\n",
    "#       2 1 2\n",
    "#     3 2 1 2 3\n",
    "#   4 3 2 1 2 3 4\n",
    "# 5 4 3 2 1 2 3 4 5\n"
   ]
  },
  {
   "cell_type": "code",
   "execution_count": null,
   "id": "38fceb58",
   "metadata": {},
   "outputs": [],
   "source": [
    "# 34.WAP to print Alternating Character Pyramid\n",
    "# Sample Input: 5\n",
    "#         A\n",
    "#       1 A 1\n",
    "#     A 1 A 1 A\n",
    "#   1 A 1 A 1 A 1\n",
    "# A 1 A 1 A 1 A 1 A\n"
   ]
  },
  {
   "cell_type": "code",
   "execution_count": null,
   "id": "23ea4468",
   "metadata": {},
   "outputs": [],
   "source": [
    "# 35.WAP to print Hollow Number Pyramid\n",
    "# Sample Input: 5\n",
    "#         1\n",
    "#       2   2\n",
    "#     3       3\n",
    "#   4           4\n",
    "# 5 5 5 5 5 5 5 5 5"
   ]
  },
  {
   "cell_type": "code",
   "execution_count": null,
   "id": "a3d4f5f2",
   "metadata": {},
   "outputs": [],
   "source": [
    "# 36.WAP to print Zig-Zag Alphabet Pyramid\n",
    "# Sample Input: 5\n",
    "# A\n",
    "#  B C\n",
    "#   D E F\n",
    "#    G H I J\n",
    "#     K L M N O"
   ]
  },
  {
   "cell_type": "code",
   "execution_count": null,
   "id": "fd5ee476",
   "metadata": {},
   "outputs": [],
   "source": [
    "# 37.WAP to print Alphabet Full Diamond\n",
    "# Sample Input: 5\n",
    "#     A\n",
    "#    ABA\n",
    "#   ABCBA\n",
    "#  ABCDCBA\n",
    "# ABCDEDCBA\n",
    "#  ABCDCBA\n",
    "#   ABCBA\n",
    "#    ABA\n",
    "#     A\n"
   ]
  },
  {
   "cell_type": "code",
   "execution_count": null,
   "id": "2b9bb544",
   "metadata": {},
   "outputs": [],
   "source": [
    "# 38.WAP to print Hollow Diamond with Alphabets\n",
    "# Sample Input: 5\n",
    "#       A\n",
    "#      B B\n",
    "#     C   C\n",
    "#    D     D\n",
    "#   E       E\n",
    "#    D     D\n",
    "#     C   C\n",
    "#      B B\n",
    "#       A\n"
   ]
  },
  {
   "cell_type": "code",
   "execution_count": null,
   "id": "bad0acc4",
   "metadata": {},
   "outputs": [],
   "source": [
    "# 39.WAP to print Double-Sided Number Diamond\n",
    "# Sample Input: 5\n",
    "#         1\n",
    "#       2 1 2\n",
    "#     3 2 1 2 3\n",
    "#   4 3 2 1 2 3 4\n",
    "# 5 4 3 2 1 2 3 4 5\n",
    "#   4 3 2 1 2 3 4\n",
    "#     3 2 1 2 3\n",
    "#       2 1 2\n",
    "#         1"
   ]
  },
  {
   "cell_type": "code",
   "execution_count": null,
   "id": "b55af56d",
   "metadata": {},
   "outputs": [],
   "source": [
    "# 40.WAP to print Number Hourglass\n",
    "# Sample Input: 5\n",
    "# 5 4 3 2 1 2 3 4 5\n",
    "#   4 3 2 1 2 3 4\n",
    "#     3 2 1 2 3\n",
    "#       2 1 2\n",
    "#         1\n",
    "#       2 1 2\n",
    "#     3 2 1 2 3\n",
    "#   4 3 2 1 2 3 4\n",
    "# 5 4 3 2 1 2 3 4 5\n"
   ]
  },
  {
   "cell_type": "code",
   "execution_count": null,
   "id": "66ca94ff",
   "metadata": {},
   "outputs": [],
   "source": [
    "# 41.WAP to print Alphabet Hourglass\n",
    "# Sample Input: 5\n",
    "# E D C B A B C D E\n",
    "#   D C B A B C D\n",
    "#     C B A B C\n",
    "#       B A B\n",
    "#         A\n",
    "#       B A B\n",
    "#     C B A B C\n",
    "#   D C B A B C D\n",
    "# E D C B A B C D E"
   ]
  },
  {
   "cell_type": "code",
   "execution_count": null,
   "id": "2d1a675c",
   "metadata": {},
   "outputs": [],
   "source": [
    "# 42.WAP to print Hollow Hourglass with Alphabets\n",
    "# Sample Input: 5\n",
    "# A B C D E D C B A\n",
    "#   B           B\n",
    "#     C       C\n",
    "#       D   D\n",
    "#         E\n",
    "#       D   D\n",
    "#     C       C\n",
    "#   B           B\n",
    "# A B C D E D C B A"
   ]
  }
 ],
 "metadata": {
  "kernelspec": {
   "display_name": "Python 3",
   "language": "python",
   "name": "python3"
  },
  "language_info": {
   "codemirror_mode": {
    "name": "ipython",
    "version": 3
   },
   "file_extension": ".py",
   "mimetype": "text/x-python",
   "name": "python",
   "nbconvert_exporter": "python",
   "pygments_lexer": "ipython3",
   "version": "3.13.5"
  }
 },
 "nbformat": 4,
 "nbformat_minor": 5
}
