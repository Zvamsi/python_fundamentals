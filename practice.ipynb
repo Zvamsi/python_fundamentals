{
 "cells": [
  {
   "cell_type": "code",
   "execution_count": null,
   "id": "eaa10bef",
   "metadata": {},
   "outputs": [
    {
     "name": "stdout",
     "output_type": "stream",
     "text": [
      "(1, 2, 2, 1, 2, 4, 5, 3, 2, 4, 4)\n",
      "[1, 2, 2, 1, 2, 4, 5, 3, 2, 4, 4]\n",
      "{1, 2, 3, 4, 5}\n",
      "frozenset({1, 2, 3, 4, 5})\n"
     ]
    },
    {
     "ename": "TypeError",
     "evalue": "'tuple' object cannot be interpreted as an integer",
     "output_type": "error",
     "traceback": [
      "\u001b[31m---------------------------------------------------------------------------\u001b[39m",
      "\u001b[31mTypeError\u001b[39m                                 Traceback (most recent call last)",
      "\u001b[36mCell\u001b[39m\u001b[36m \u001b[39m\u001b[32mIn[12]\u001b[39m\u001b[32m, line 9\u001b[39m\n\u001b[32m      7\u001b[39m \u001b[38;5;28mprint\u001b[39m(\u001b[38;5;28mset\u001b[39m(t))\n\u001b[32m      8\u001b[39m \u001b[38;5;28mprint\u001b[39m(\u001b[38;5;28mfrozenset\u001b[39m(t))\n\u001b[32m----> \u001b[39m\u001b[32m9\u001b[39m \u001b[38;5;28mprint\u001b[39m(\u001b[38;5;28;43mrange\u001b[39;49m\u001b[43m(\u001b[49m\u001b[43mt\u001b[49m\u001b[43m)\u001b[49m)\n\u001b[32m     11\u001b[39m \u001b[38;5;66;03m# print(dict(t)) #TypeError: cannot convert dictionary update sequence element #0 to a sequence\u001b[39;00m\n\u001b[32m     13\u001b[39m t1=([\u001b[32m1\u001b[39m,\u001b[32m2\u001b[39m],(\u001b[33m\"\u001b[39m\u001b[33mHello\u001b[39m\u001b[33m\"\u001b[39m,\u001b[33m\"\u001b[39m\u001b[33myar\u001b[39m\u001b[33m\"\u001b[39m),{\u001b[33m\"\u001b[39m\u001b[33magain hello\u001b[39m\u001b[33m\"\u001b[39m,\u001b[33m\"\u001b[39m\u001b[33magain Yar\u001b[39m\u001b[33m\"\u001b[39m})\n",
      "\u001b[31mTypeError\u001b[39m: 'tuple' object cannot be interpreted as an integer"
     ]
    }
   ],
   "source": [
    "#Tuple into respective datatypes\n",
    "\n",
    "t=(1,2,2,1,2,4,5,3,2,4,4)\n",
    "\n",
    "print(str(t))\n",
    "print(list(t))\n",
    "print(set(t))\n",
    "print(frozenset(t))\n",
    "# print(range(t))\n",
    "\n",
    "# print(dict(t)) #TypeError: cannot convert dictionary update sequence element #0 to a sequence\n",
    "\n",
    "t1=([1,2],(\"Hello\",\"yar\"),{\"again hello\",\"again Yar\"})\n",
    "print(dict(t1))"
   ]
  },
  {
   "cell_type": "code",
   "execution_count": null,
   "id": "97d95af0",
   "metadata": {},
   "outputs": [
    {
     "name": "stdout",
     "output_type": "stream",
     "text": [
      "{2, 1, 'hello', 3}\n",
      "[2, 1, 'hello', 3]\n",
      "(2, 1, 'hello', 3)\n",
      "{1: 2, 'hello': 'bro'}\n"
     ]
    }
   ],
   "source": [
    "#To convert set into respective datatypes\n",
    "\n",
    "s={1,2,3,\"hello\",3,2,1}\n",
    "print(str(s))\n",
    "print(list(s))\n",
    "print(tuple(s))\n",
    "\n",
    "# for dictionary we need two sets of any sequence\n",
    "\n",
    "s1={(1,2),(\"hello\",\"bro\")}\n",
    "print(dict(s1))"
   ]
  },
  {
   "cell_type": "code",
   "execution_count": 5,
   "id": "14b1c840",
   "metadata": {},
   "outputs": [
    {
     "name": "stdout",
     "output_type": "stream",
     "text": [
      "{1: 2, 'Hello': 'bro', 'Hii': 'someone'}\n",
      "[2, 'bro', 'someone']\n",
      "(1, 2)\n",
      "[1, 'Hello', 'Hii']\n",
      "(1, 'Hello', 'Hii')\n",
      "{'Hii', 1, 'Hello'}\n",
      "frozenset({'Hii', 1, 'Hello'})\n"
     ]
    }
   ],
   "source": [
    "#To convert dictionary into respective datatypes.\n",
    "\n",
    "d={1:2,\"Hello\":\"bro\",\"Hii\":'someone'}\n",
    "print(str(d))\n",
    "#To get the values indictionary\n",
    "print(list(d.values()))\n",
    "\n",
    "print(list(d.items())[0]) #to get items from dictionary\n",
    "\n",
    "print(list(d))\n",
    "print(tuple(d))\n",
    "print(set(d))\n",
    "print(frozenset(d))"
   ]
  },
  {
   "cell_type": "code",
   "execution_count": 11,
   "id": "e6dedb6c",
   "metadata": {},
   "outputs": [
    {
     "name": "stdout",
     "output_type": "stream",
     "text": [
      "range(0, 6)\n",
      "[0, 1, 2, 3, 4, 5]\n",
      "(0, 1, 2, 3, 4, 5)\n",
      "{0, 1, 2, 3, 4, 5}\n"
     ]
    }
   ],
   "source": [
    "s=range(0,6)\n",
    "print(str(s))\n",
    "print(list(s))\n",
    "print(tuple(s))\n",
    "print(set(s))\n",
    "# print(dict(s))"
   ]
  },
  {
   "cell_type": "code",
   "execution_count": 14,
   "id": "36cfe5fd",
   "metadata": {},
   "outputs": [
    {
     "name": "stdout",
     "output_type": "stream",
     "text": [
      "{'sit': 'stand', 'beautiful': 'ugly', 'good': 'bad', 'white': 'black', 'tall': 'short'}\n",
      "['sit', 'beautiful', 'good', 'white', 'tall']\n",
      "('sit', 'beautiful', 'good', 'white', 'tall')\n",
      "{'sit', 'tall', 'beautiful', 'white', 'good'}\n",
      "{'sit': 'stand', 'beautiful': 'ugly', 'good': 'bad', 'white': 'black', 'tall': 'short'}\n"
     ]
    }
   ],
   "source": [
    "#To convert dict into other respective types\n",
    "\n",
    "dict1={'sit':'stand',\"beautiful\":'ugly','good':'bad','white':'black','tall':'short'}\n",
    "print(str(dict1))\n",
    "print(list(dict1))\n",
    "print(tuple(dict1))\n",
    "print(set(dict1))\n",
    "print(dict(dict1))"
   ]
  },
  {
   "cell_type": "code",
   "execution_count": 8,
   "id": "22099006",
   "metadata": {},
   "outputs": [
    {
     "name": "stdout",
     "output_type": "stream",
     "text": [
      "({1, 2}, 4, 5) <class 'tuple'>\n"
     ]
    }
   ],
   "source": [
    "t=({1,2},4,5)\n",
    "print(t,type(t))"
   ]
  },
  {
   "cell_type": "code",
   "execution_count": 17,
   "id": "245d8cb8",
   "metadata": {},
   "outputs": [
    {
     "name": "stdout",
     "output_type": "stream",
     "text": [
      "[1, 45, 67, 34, 34, 23, 345, 6, 'hello', 4.56, True]\n",
      "[True, 4.56, 'hello', 6, 345, 23, 34, 34, 67, 45, 1]\n",
      "[1, 67, 34, 345, 'hello', True]\n",
      "[True, 6]\n",
      "[True]\n"
     ]
    }
   ],
   "source": [
    "scores=[1,45,67,34,34,23,345,6,\"hello\",4.56,True]\n",
    "print(scores[:])\n",
    "print(scores[::-1])\n",
    "print(scores[::2])\n",
    "print(scores[:-5:-3])\n",
    "print(scores[50::-50])"
   ]
  },
  {
   "cell_type": "code",
   "execution_count": 30,
   "id": "515b3c20",
   "metadata": {},
   "outputs": [
    {
     "name": "stdout",
     "output_type": "stream",
     "text": [
      "[6, 4, 2]\n",
      "(23, [1, 2, 3, 4, 5, 6])\n",
      "([1, 2, 3, 4, 5, 6],)\n",
      "('rahul',)\n",
      "()\n",
      "(8, 'rahul')\n"
     ]
    }
   ],
   "source": [
    "set1=(23,54,8,3.14,\"vamshi\",'rahul',False,[1,2,3,4,5,6])\n",
    "print(set1[7][::-2])\n",
    "print(set1[::7])\n",
    "print(set1[:6:-1])\n",
    "print(set1[5:4:-1])\n",
    "print(set1[8:-2:1])\n",
    "print(set1[2:6:3])"
   ]
  },
  {
   "cell_type": "code",
   "execution_count": 37,
   "id": "8e83b5d4",
   "metadata": {},
   "outputs": [
    {
     "ename": "TypeError",
     "evalue": "'set' object is not subscriptable",
     "output_type": "error",
     "traceback": [
      "\u001b[31m---------------------------------------------------------------------------\u001b[39m",
      "\u001b[31mTypeError\u001b[39m                                 Traceback (most recent call last)",
      "\u001b[36mCell\u001b[39m\u001b[36m \u001b[39m\u001b[32mIn[37]\u001b[39m\u001b[32m, line 2\u001b[39m\n\u001b[32m      1\u001b[39m dict1={\u001b[32m1\u001b[39m,\u001b[32m2\u001b[39m}\n\u001b[32m----> \u001b[39m\u001b[32m2\u001b[39m \u001b[38;5;28mprint\u001b[39m(\u001b[43mdict1\u001b[49m\u001b[43m[\u001b[49m\u001b[32;43m0\u001b[39;49m\u001b[43m]\u001b[49m)\n",
      "\u001b[31mTypeError\u001b[39m: 'set' object is not subscriptable"
     ]
    }
   ],
   "source": [
    "dict1={1,2}\n",
    "print(dict1[0])"
   ]
  },
  {
   "cell_type": "code",
   "execution_count": 17,
   "id": "a42c1828",
   "metadata": {},
   "outputs": [
    {
     "name": "stdout",
     "output_type": "stream",
     "text": [
      "PERIOD IS GOING TO END NOW\n",
      "WON DNE OT GNIOG SI DOIREP\n",
      "WNDEO NO IDIE\n",
      "PERIOD IS \n"
     ]
    }
   ],
   "source": [
    "#SLICING\n",
    "\n",
    "st='PERIOD IS GOING TO END NOW'\n",
    "\n",
    "print(st[:])\n",
    "print(st[::-1])\n",
    "print(st[::-2])\n",
    "print(st[:10])\n"
   ]
  },
  {
   "cell_type": "code",
   "execution_count": 21,
   "id": "9043e04e",
   "metadata": {},
   "outputs": [
    {
     "name": "stdout",
     "output_type": "stream",
     "text": [
      "0\n"
     ]
    },
    {
     "ename": "TypeError",
     "evalue": "'range' object does not support item assignment",
     "output_type": "error",
     "traceback": [
      "\u001b[31m---------------------------------------------------------------------------\u001b[39m",
      "\u001b[31mTypeError\u001b[39m                                 Traceback (most recent call last)",
      "\u001b[36mCell\u001b[39m\u001b[36m \u001b[39m\u001b[32mIn[21]\u001b[39m\u001b[32m, line 4\u001b[39m\n\u001b[32m      2\u001b[39m s=\u001b[38;5;28mrange\u001b[39m(\u001b[32m0\u001b[39m,\u001b[32m6\u001b[39m)\n\u001b[32m      3\u001b[39m \u001b[38;5;28mprint\u001b[39m(s[\u001b[32m0\u001b[39m])\n\u001b[32m----> \u001b[39m\u001b[32m4\u001b[39m \u001b[43ms\u001b[49m\u001b[43m[\u001b[49m\u001b[32;43m0\u001b[39;49m\u001b[43m]\u001b[49m=\u001b[32m7\u001b[39m\n\u001b[32m      5\u001b[39m \u001b[38;5;28mprint\u001b[39m(s)\n",
      "\u001b[31mTypeError\u001b[39m: 'range' object does not support item assignment"
     ]
    }
   ],
   "source": [
    "# print(\"hello world\")\n",
    "s=range(0,6)\n",
    "print(s[0])\n",
    "s[0]=7\n",
    "print(s)"
   ]
  },
  {
   "cell_type": "code",
   "execution_count": null,
   "id": "5f69cd61",
   "metadata": {},
   "outputs": [],
   "source": [
    "#MULTI VALUED DATATYPES\n",
    "\n",
    "# 1.LIST (MUTABLE), (INDEXING), (ORDERED)\n",
    "# 2.STRING (IMMUTABLE),(INDEXING)\n",
    "# 3.TUPLE (IMMUTABLE),(INDEXING)\n",
    "# 4.SET (MUTABLE),(NO INDEXING) (UNORDERED) (NO DUPLICATES) (STORES ONLY IMMUTABLES(NOT LIST,SET,DICT)) $$HASH CODE CONCEPT\n",
    "# 5.FROZENSET (IMMUTABLE),(NO INDEXING) (UNORDERED) (NO DUPLICATES)\n",
    "# 6.RANGE (IMMUTABLE),(NO INDEXING)\n",
    "# 4.DICTIONARY (MUTABLE),(NO INDEXING) (KEYS ARE IMMUTABLE) (VALUES CAN BE ANY TYPE) "
   ]
  },
  {
   "cell_type": "code",
   "execution_count": 26,
   "id": "13d61e4b",
   "metadata": {},
   "outputs": [
    {
     "name": "stdout",
     "output_type": "stream",
     "text": [
      "1\n",
      "(1, 2, 3, 4, ['hello', 22, 33])\n"
     ]
    }
   ],
   "source": [
    "tuple1=(1,2,3,4,[11,22,33])\n",
    "tuple1[4][0]='hello'\n",
    "print(tuple1[0])\n",
    "print(tuple1)"
   ]
  },
  {
   "cell_type": "code",
   "execution_count": 4,
   "id": "c1d551df",
   "metadata": {},
   "outputs": [
    {
     "name": "stdout",
     "output_type": "stream",
     "text": [
      "1\n"
     ]
    }
   ],
   "source": [
    "num1=int(input())\n",
    "num2=int(input())\n",
    "store=0\n",
    "if num1>num2:\n",
    "    num=num2\n",
    "else:\n",
    "    num=num1\n",
    "i=1\n",
    "while i <= num:\n",
    "    if num1%i==0 and num2%i==0:\n",
    "        if i>=store:\n",
    "            store=i\n",
    "    i+=1\n",
    "print(store)"
   ]
  },
  {
   "cell_type": "code",
   "execution_count": 5,
   "id": "7b3e12e0",
   "metadata": {},
   "outputs": [
    {
     "name": "stdout",
     "output_type": "stream",
     "text": [
      "4\n"
     ]
    }
   ],
   "source": [
    "num=int(input())\n",
    "count=0\n",
    "while count!=1:\n",
    "    sum=0\n",
    "    count=0\n",
    "    while num>0:\n",
    "        digit=num%10\n",
    "        sum+=digit\n",
    "        count+=1\n",
    "        num=num//10\n",
    "    num=sum\n",
    "print(sum)"
   ]
  }
 ],
 "metadata": {
  "kernelspec": {
   "display_name": "Python 3",
   "language": "python",
   "name": "python3"
  },
  "language_info": {
   "codemirror_mode": {
    "name": "ipython",
    "version": 3
   },
   "file_extension": ".py",
   "mimetype": "text/x-python",
   "name": "python",
   "nbconvert_exporter": "python",
   "pygments_lexer": "ipython3",
   "version": "3.13.5"
  }
 },
 "nbformat": 4,
 "nbformat_minor": 5
}
