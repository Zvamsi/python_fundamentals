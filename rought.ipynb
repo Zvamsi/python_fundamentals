{
 "cells": [
  {
   "cell_type": "code",
   "execution_count": 18,
   "id": "0eb110b3",
   "metadata": {},
   "outputs": [
    {
     "name": "stdout",
     "output_type": "stream",
     "text": [
      "[[0, 0, 0], [0, 0, 1], [0, 1, 0], [1, 0, 0], [1, 1, 1]]\n"
     ]
    }
   ],
   "source": [
    "x = 1\n",
    "y = 1\n",
    "z = 1\n",
    "n = 2\n",
    "    \n",
    "res=[[i,j,k] for i in range(x+1) for j in range(y+1) for k in range(z+1) if i+j+k!=n]\n",
    "print(res)"
   ]
  },
  {
   "cell_type": "code",
   "execution_count": 1,
   "id": "0ca335fd",
   "metadata": {},
   "outputs": [
    {
     "name": "stdout",
     "output_type": "stream",
     "text": [
      "6\n"
     ]
    }
   ],
   "source": [
    "a=-7\n",
    "b=1\n",
    "print(abs(a+b))"
   ]
  },
  {
   "cell_type": "code",
   "execution_count": 22,
   "id": "85a873ba",
   "metadata": {},
   "outputs": [
    {
     "name": "stdout",
     "output_type": "stream",
     "text": [
      "[57, -57]\n",
      "[57, -57]\n",
      "-57\n"
     ]
    }
   ],
   "source": [
    "n = int(input())\n",
    "arr =[57, 57, -57, 57]\n",
    "arr=list(set(arr))\n",
    "print(arr)\n",
    "arr.sort(reverse=True)\n",
    "print(arr)\n",
    "if len(arr)>1:\n",
    "    print(arr[1])\n",
    "else:\n",
    "    print(\"Not found\")"
   ]
  },
  {
   "cell_type": "code",
   "execution_count": null,
   "id": "1c5e4bae",
   "metadata": {},
   "outputs": [
    {
     "name": "stdout",
     "output_type": "stream",
     "text": [
      "[37.21, 37.21, 37.2, 41, 39]\n",
      "Harry\n",
      "Berry\n"
     ]
    }
   ],
   "source": [
    "records=[['Harry', 37.21], ['Berry', 37.21], ['Tina', 37.2], ['Akriti', 41], ['Harsh', 39]]\n",
    "score=[]\n",
    "for item in records:\n",
    "    score+=[item[1]]\n",
    "print(score)\n",
    "score=list(set(score))\n",
    "score.sort(reverse=True)\n",
    "if len(score)>1:\n",
    "    second=score[1]\n",
    "for item in records:\n",
    "    if item[1]==second:\n",
    "        print(item[0])\n",
    "# for item in records:"
   ]
  },
  {
   "cell_type": "code",
   "execution_count": null,
   "id": "df61b973",
   "metadata": {},
   "outputs": [
    {
     "ename": "TypeError",
     "evalue": "can only concatenate tuple (not \"str\") to tuple",
     "output_type": "error",
     "traceback": [
      "\u001b[31m---------------------------------------------------------------------------\u001b[39m",
      "\u001b[31mTypeError\u001b[39m                                 Traceback (most recent call last)",
      "\u001b[36mCell\u001b[39m\u001b[36m \u001b[39m\u001b[32mIn[27]\u001b[39m\u001b[32m, line 4\u001b[39m\n\u001b[32m      2\u001b[39m my_tuple=()\n\u001b[32m      3\u001b[39m \u001b[38;5;28;01mfor\u001b[39;00m ele \u001b[38;5;129;01min\u001b[39;00m l:\n\u001b[32m----> \u001b[39m\u001b[32m4\u001b[39m     \u001b[43mmy_tuple\u001b[49m\u001b[43m+\u001b[49m\u001b[43m=\u001b[49m\u001b[43m(\u001b[49m\u001b[43mele\u001b[49m\u001b[43m)\u001b[49m\n\u001b[32m      5\u001b[39m \u001b[38;5;28mprint\u001b[39m(my_tuple)\n",
      "\u001b[31mTypeError\u001b[39m: can only concatenate tuple (not \"str\") to tuple"
     ]
    }
   ],
   "source": [
    "l='1 2'\n",
    "my_tuple=()\n",
    "for ele in l:\n",
    "    my_tuple\n",
    "print(my_tuple)"
   ]
  },
  {
   "cell_type": "code",
   "execution_count": 2,
   "id": "bcb60201",
   "metadata": {},
   "outputs": [
    {
     "data": {
      "text/plain": [
       "34"
      ]
     },
     "execution_count": 2,
     "metadata": {},
     "output_type": "execute_result"
    }
   ],
   "source": [
    "def no_teen_sum(a, b, c):\n",
    "  sum=0\n",
    "  sum+=fix_teen(a)\n",
    "  sum+=fix_teen(b)\n",
    "  sum+=fix_teen(c)\n",
    "  return sum\n",
    "\n",
    "\n",
    "def fix_teen(num):\n",
    "  if num==15 or num==16:\n",
    "    return num\n",
    "  elif num in range(13,18):\n",
    "    return 0\n",
    "  else:\n",
    "    return num\n",
    "  \n",
    "no_teen_sum(16,17,18)"
   ]
  },
  {
   "cell_type": "code",
   "execution_count": 4,
   "id": "7b1dbab2",
   "metadata": {},
   "outputs": [
    {
     "name": "stdout",
     "output_type": "stream",
     "text": [
      "50\n"
     ]
    }
   ],
   "source": [
    "def round10(num):\n",
    "  dig=num%10\n",
    "  if dig>=5:\n",
    "    return num+(10-dig)\n",
    "  else:\n",
    "    return num-dig\n",
    "print(round10(45))"
   ]
  },
  {
   "cell_type": "code",
   "execution_count": null,
   "id": "1a78e4f3",
   "metadata": {},
   "outputs": [],
   "source": [
    "def close_far(a, b, c):\n",
    "  if abs(a-b)<1 and abs(a-c)<1:\n",
    "    return False\n",
    "  if abs(a-b)<1 or abs(a-c)<1:\n",
    "    return True\n",
    "  else:\n",
    "    return False\n",
    "  \n",
    "close_far(1,2,10)"
   ]
  },
  {
   "cell_type": "code",
   "execution_count": 8,
   "id": "4221e18a",
   "metadata": {},
   "outputs": [
    {
     "name": "stdout",
     "output_type": "stream",
     "text": [
      "ell\n"
     ]
    }
   ],
   "source": [
    "str='Hello'\n",
    "print(str[1:4])"
   ]
  },
  {
   "cell_type": "code",
   "execution_count": 9,
   "id": "22119e0f",
   "metadata": {},
   "outputs": [
    {
     "ename": "TypeError",
     "evalue": "unsupported operand type(s) for -: 'builtin_function_or_method' and 'builtin_function_or_method'",
     "output_type": "error",
     "traceback": [
      "\u001b[31m---------------------------------------------------------------------------\u001b[39m",
      "\u001b[31mTypeError\u001b[39m                                 Traceback (most recent call last)",
      "\u001b[36mCell\u001b[39m\u001b[36m \u001b[39m\u001b[32mIn[9]\u001b[39m\u001b[32m, line 9\u001b[39m\n\u001b[32m      6\u001b[39m     mi=\u001b[38;5;28mmin\u001b[39m(mi,num)\n\u001b[32m      7\u001b[39m   \u001b[38;5;28;01mreturn\u001b[39;00m \u001b[38;5;28mmax\u001b[39m-\u001b[38;5;28mmin\u001b[39m\n\u001b[32m----> \u001b[39m\u001b[32m9\u001b[39m \u001b[43mbig_diff\u001b[49m\u001b[43m(\u001b[49m\u001b[43m[\u001b[49m\u001b[32;43m10\u001b[39;49m\u001b[43m,\u001b[49m\u001b[43m \u001b[49m\u001b[32;43m3\u001b[39;49m\u001b[43m,\u001b[49m\u001b[43m \u001b[49m\u001b[32;43m5\u001b[39;49m\u001b[43m,\u001b[49m\u001b[43m \u001b[49m\u001b[32;43m6\u001b[39;49m\u001b[43m]\u001b[49m\u001b[43m)\u001b[49m\n",
      "\u001b[36mCell\u001b[39m\u001b[36m \u001b[39m\u001b[32mIn[9]\u001b[39m\u001b[32m, line 7\u001b[39m, in \u001b[36mbig_diff\u001b[39m\u001b[34m(nums)\u001b[39m\n\u001b[32m      5\u001b[39m   ma=\u001b[38;5;28mmax\u001b[39m(ma,num)\n\u001b[32m      6\u001b[39m   mi=\u001b[38;5;28mmin\u001b[39m(mi,num)\n\u001b[32m----> \u001b[39m\u001b[32m7\u001b[39m \u001b[38;5;28;01mreturn\u001b[39;00m \u001b[38;5;28;43mmax\u001b[39;49m\u001b[43m-\u001b[49m\u001b[38;5;28;43mmin\u001b[39;49m\n",
      "\u001b[31mTypeError\u001b[39m: unsupported operand type(s) for -: 'builtin_function_or_method' and 'builtin_function_or_method'"
     ]
    }
   ],
   "source": [
    "def big_diff(nums):\n",
    "  mi=nums[0]\n",
    "  ma=nums[0]\n",
    "  for num in nums:\n",
    "    ma=max(ma,num)\n",
    "    mi=min(mi,num)\n",
    "  return max-min\n",
    "\n",
    "big_diff([10, 3, 5, 6])"
   ]
  },
  {
   "cell_type": "code",
   "execution_count": null,
   "id": "f0efd5f1",
   "metadata": {},
   "outputs": [
    {
     "name": "stdout",
     "output_type": "stream",
     "text": [
      "9\n",
      "3\n"
     ]
    },
    {
     "data": {
      "text/plain": [
       "3.0"
      ]
     },
     "execution_count": 14,
     "metadata": {},
     "output_type": "execute_result"
    }
   ],
   "source": [
    "def centered_average(nums):\n",
    "  sum=0\n",
    "  max=nums[0]\n",
    "  min=nums[0]\n",
    "  for el in nums:\n",
    "    sum+=el\n",
    "    if max<el:\n",
    "      max=el\n",
    "    if min>el:\n",
    "      min=el\n",
    "  sum2=sum-max-min\n",
    "  return int(sum2/(len(nums)-2))\n",
    "\n",
    "centered_average([1, 2, 3, 4, 100])"
   ]
  },
  {
   "cell_type": "code",
   "execution_count": 2,
   "id": "0ea9e95a",
   "metadata": {},
   "outputs": [
    {
     "name": "stdout",
     "output_type": "stream",
     "text": [
      "[6, 5, 4, 3, 2, 1]\n"
     ]
    }
   ],
   "source": [
    "def reverse3(nums):\n",
    "  i=0\n",
    "  while i<len(nums)//2:\n",
    "    nums[i],nums[len(nums)-1-i]=nums[len(nums)-1-i],nums[i]\n",
    "    i+=1\n",
    "  return nums\n",
    "\n",
    "print(reverse3([1,2,3,4,5,6]))"
   ]
  },
  {
   "cell_type": "code",
   "execution_count": 4,
   "id": "ce7114e2",
   "metadata": {},
   "outputs": [
    {
     "data": {
      "text/plain": [
       "'Hello vamshi'"
      ]
     },
     "execution_count": 4,
     "metadata": {},
     "output_type": "execute_result"
    }
   ],
   "source": [
    "def hello_name(name):\n",
    "  return f\"Hello {name}\"\n",
    "hello_name(\"vamshi\")"
   ]
  },
  {
   "cell_type": "code",
   "execution_count": 6,
   "id": "a4fa379a",
   "metadata": {},
   "outputs": [
    {
     "data": {
      "text/plain": [
       "'<i>yay</i>'"
      ]
     },
     "execution_count": 6,
     "metadata": {},
     "output_type": "execute_result"
    }
   ],
   "source": [
    "def make_tags(tag, word):\n",
    "  res=f'<{tag}>{word}</{tag}>'\n",
    "  return res\n",
    "make_tags('i','yay')"
   ]
  },
  {
   "cell_type": "code",
   "execution_count": 7,
   "id": "9151c9e9",
   "metadata": {},
   "outputs": [
    {
     "data": {
      "text/plain": [
       "1"
      ]
     },
     "execution_count": 7,
     "metadata": {},
     "output_type": "execute_result"
    }
   ],
   "source": [
    "def last2(str):\n",
    "  sub=str[-2]+str[-1]\n",
    "  i=0\n",
    "  count=0\n",
    "  while i<len(str)-2:\n",
    "    if str[i:i+2]==sub:\n",
    "      count+=1\n",
    "    i+=1\n",
    "  return count\n",
    "\n",
    "last2('xaxxaxaxx')"
   ]
  }
 ],
 "metadata": {
  "kernelspec": {
   "display_name": "Python 3",
   "language": "python",
   "name": "python3"
  },
  "language_info": {
   "codemirror_mode": {
    "name": "ipython",
    "version": 3
   },
   "file_extension": ".py",
   "mimetype": "text/x-python",
   "name": "python",
   "nbconvert_exporter": "python",
   "pygments_lexer": "ipython3",
   "version": "3.13.5"
  }
 },
 "nbformat": 4,
 "nbformat_minor": 5
}
