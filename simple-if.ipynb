{
 "cells": [
  {
   "cell_type": "code",
   "execution_count": null,
   "id": "1b2a6968",
   "metadata": {},
   "outputs": [],
   "source": [
    "num=int(input())\n",
    "if num>0:\n",
    "    print('Positive')"
   ]
  },
  {
   "cell_type": "code",
   "execution_count": null,
   "id": "c2c80e90",
   "metadata": {},
   "outputs": [],
   "source": [
    "num=int(input())\n",
    "if num>1 and num<5:\n",
    "    print(\"hello world\")"
   ]
  },
  {
   "cell_type": "code",
   "execution_count": null,
   "id": "c416dc88",
   "metadata": {},
   "outputs": [],
   "source": [
    "num=int(input())\n",
    "if num%3==0:\n",
    "    print('fizz')"
   ]
  },
  {
   "cell_type": "code",
   "execution_count": 2,
   "id": "6096e1c8",
   "metadata": {},
   "outputs": [
    {
     "name": "stdout",
     "output_type": "stream",
     "text": [
      "(12+0j)\n"
     ]
    }
   ],
   "source": [
    "num=int(input())\n",
    "if num%2==0 and num%6==0:\n",
    "    print(complex(num))"
   ]
  },
  {
   "cell_type": "code",
   "execution_count": 8,
   "id": "c3971283",
   "metadata": {},
   "outputs": [
    {
     "name": "stdout",
     "output_type": "stream",
     "text": [
      "['3', '0']\n"
     ]
    }
   ],
   "source": [
    "num=int(input())\n",
    "if num%3==0 or num%5==0:\n",
    "    print(list(str(num)))\n"
   ]
  },
  {
   "cell_type": "code",
   "execution_count": null,
   "id": "bf5e1423",
   "metadata": {},
   "outputs": [],
   "source": [
    "num=int(input())\n",
    "if num%5==0:\n",
    "    print('yes')"
   ]
  },
  {
   "cell_type": "code",
   "execution_count": 9,
   "id": "05ec0102",
   "metadata": {},
   "outputs": [
    {
     "name": "stdout",
     "output_type": "stream",
     "text": [
      "0\n"
     ]
    }
   ],
   "source": [
    "num=int(input())\n",
    "if num!=0:\n",
    "    print(0)"
   ]
  },
  {
   "cell_type": "code",
   "execution_count": null,
   "id": "958bcd5f",
   "metadata": {},
   "outputs": [],
   "source": [
    "num=int(input())\n",
    "if num<0:\n",
    "    print(\"negative\")"
   ]
  },
  {
   "cell_type": "code",
   "execution_count": 10,
   "id": "e9ee00aa",
   "metadata": {},
   "outputs": [
    {
     "name": "stdout",
     "output_type": "stream",
     "text": [
      "[6]\n"
     ]
    }
   ],
   "source": [
    "num=int(input())\n",
    "list1=[]\n",
    "if num%2==0:\n",
    "    list1.append(num)\n",
    "print(list1)"
   ]
  },
  {
   "cell_type": "code",
   "execution_count": null,
   "id": "7ce215a3",
   "metadata": {},
   "outputs": [
    {
     "name": "stdout",
     "output_type": "stream",
     "text": [
      "[7]\n",
      "(7,)\n"
     ]
    }
   ],
   "source": [
    "num=int(input())\n",
    "tuple1=()\n",
    "if num%2!=0:\n",
    "    list1=list(tuple1)\n",
    "    list1.append(num)\n",
    "    tuple1=tuple(list1)\n",
    "print(tuple1)"
   ]
  },
  {
   "cell_type": "code",
   "execution_count": null,
   "id": "37bbc866",
   "metadata": {},
   "outputs": [],
   "source": [
    "num=int(input())\n",
    "if num%2==0:\n",
    "    print(num**4)"
   ]
  },
  {
   "cell_type": "code",
   "execution_count": null,
   "id": "a00fd3d4",
   "metadata": {},
   "outputs": [
    {
     "name": "stdout",
     "output_type": "stream",
     "text": [
      "17\n"
     ]
    }
   ],
   "source": [
    "num=int(input())\n",
    "if type(num)==int:\n",
    "   print(num+12)\n"
   ]
  },
  {
   "cell_type": "code",
   "execution_count": null,
   "id": "79343e26",
   "metadata": {},
   "outputs": [],
   "source": [
    "num=int(input())\n",
    "if num%7==0 and num%5==0:\n",
    "    print(num**2)"
   ]
  },
  {
   "cell_type": "code",
   "execution_count": 1,
   "id": "2ef1a272",
   "metadata": {},
   "outputs": [
    {
     "name": "stdout",
     "output_type": "stream",
     "text": [
      "24\n"
     ]
    }
   ],
   "source": [
    "num=int(input())\n",
    "if num%10>5:\n",
    "    print(num>>2)\n",
    "    "
   ]
  },
  {
   "cell_type": "code",
   "execution_count": null,
   "id": "c8ff07ea",
   "metadata": {},
   "outputs": [],
   "source": [
    "num=int(input())\n",
    "if num<30 and num%3==0:\n",
    "    print(num*num)"
   ]
  },
  {
   "cell_type": "code",
   "execution_count": null,
   "id": "93a8082c",
   "metadata": {},
   "outputs": [],
   "source": [
    "num=int(input())\n",
    "if num%4==0:\n",
    "    print(num**3)"
   ]
  },
  {
   "cell_type": "code",
   "execution_count": null,
   "id": "ef085502",
   "metadata": {},
   "outputs": [],
   "source": [
    "num=int(input())\n",
    "list1=[]\n",
    "if num%2==0:\n",
    "    list1.append(num)"
   ]
  },
  {
   "cell_type": "code",
   "execution_count": null,
   "id": "b112e299",
   "metadata": {},
   "outputs": [],
   "source": [
    "num=int(input())\n",
    "if num<0 or num%2==0:\n",
    "    print(num%10)"
   ]
  },
  {
   "cell_type": "code",
   "execution_count": null,
   "id": "74bead16",
   "metadata": {},
   "outputs": [],
   "source": [
    "num=int(input())\n",
    "if num<0 or num%2!=0 and num%4==0:\n",
    "    print(True)\n",
    "    "
   ]
  },
  {
   "cell_type": "code",
   "execution_count": null,
   "id": "350022de",
   "metadata": {},
   "outputs": [
    {
     "name": "stdout",
     "output_type": "stream",
     "text": [
      "65\n"
     ]
    }
   ],
   "source": [
    "num=input()\n",
    "if num%4==0:\n",
    "    print(ord(num))\n"
   ]
  },
  {
   "cell_type": "code",
   "execution_count": null,
   "id": "3528a5df",
   "metadata": {},
   "outputs": [],
   "source": [
    "num=int(input())\n",
    "if (num>=45 and num<=125) and (num%4==0 and num%5==0) and num%2==0:\n",
    "    print(chr(num))\n"
   ]
  },
  {
   "cell_type": "code",
   "execution_count": null,
   "id": "8e6db769",
   "metadata": {},
   "outputs": [],
   "source": [
    "num=int(input())\n",
    "if (num>=25 and num<=100) and (num%4==0 and num%5==0):\n",
    "    print(num*5)"
   ]
  },
  {
   "cell_type": "code",
   "execution_count": null,
   "id": "f69fa09b",
   "metadata": {},
   "outputs": [],
   "source": [
    "num=int(input())\n",
    "if type(num)==int and num%2!=0:\n",
    "    print(num/5)"
   ]
  },
  {
   "cell_type": "code",
   "execution_count": null,
   "id": "b4073a88",
   "metadata": {},
   "outputs": [],
   "source": [
    "num=int(input())\n",
    "if type(num)==int:\n",
    "    print(str(num))"
   ]
  },
  {
   "cell_type": "code",
   "execution_count": 11,
   "id": "d9e5bbe8",
   "metadata": {},
   "outputs": [
    {
     "name": "stdout",
     "output_type": "stream",
     "text": [
      "1\n"
     ]
    }
   ],
   "source": [
    "num=input()\n",
    "\n",
    "\n",
    "if int(num)<125 and int(num)>60:\n",
    "    print(num[len(num)//2])\n",
    "    "
   ]
  },
  {
   "cell_type": "code",
   "execution_count": null,
   "id": "15bae05a",
   "metadata": {},
   "outputs": [],
   "source": [
    "num1=int(input())\n",
    "num2=int(input())\n",
    "if num1==num2:\n",
    "    print(num1+num2)"
   ]
  },
  {
   "cell_type": "code",
   "execution_count": null,
   "id": "fe49a907",
   "metadata": {},
   "outputs": [],
   "source": [
    "num1=int(input())\n",
    "num2=int(input())\n",
    "if num1==num2:\n",
    "    print((num1*num2)/3)"
   ]
  },
  {
   "cell_type": "code",
   "execution_count": 13,
   "id": "ba954f18",
   "metadata": {},
   "outputs": [],
   "source": [
    "var=input()\n",
    "dict1={}\n",
    "if (var>=\"A\" and var<='Z') or (var>='a' and var<='z'):\n",
    "    dict1[var]=ord(var)"
   ]
  },
  {
   "cell_type": "code",
   "execution_count": null,
   "id": "91a29335",
   "metadata": {},
   "outputs": [],
   "source": [
    "var=input()\n",
    "dict1={}\n",
    "if (var>=\"A\" and var<='Z'):\n",
    "    dict1[var]=ord(var)"
   ]
  },
  {
   "cell_type": "code",
   "execution_count": 15,
   "id": "904723ae",
   "metadata": {},
   "outputs": [
    {
     "name": "stdout",
     "output_type": "stream",
     "text": [
      "{'f': 102}\n"
     ]
    }
   ],
   "source": [
    "var=input()\n",
    "dict1={}\n",
    "if (var>=\"A\" and var<='Z'):\n",
    "    lvar=var.lower()\n",
    "    dict1[lvar]=ord(lvar)\n",
    "print(dict1)"
   ]
  },
  {
   "cell_type": "code",
   "execution_count": 16,
   "id": "7fbae801",
   "metadata": {},
   "outputs": [
    {
     "name": "stdout",
     "output_type": "stream",
     "text": [
      "dd\n"
     ]
    }
   ],
   "source": [
    "var=input()\n",
    "if var>='a' and var<='z':\n",
    "    print(var*2)\n"
   ]
  },
  {
   "cell_type": "code",
   "execution_count": null,
   "id": "5d1f967a",
   "metadata": {},
   "outputs": [
    {
     "name": "stdout",
     "output_type": "stream",
     "text": [
      "y\n"
     ]
    }
   ],
   "source": [
    "num=int(input())\n",
    "if num>65 and num<=122:\n",
    "    print(chr(num))"
   ]
  },
  {
   "cell_type": "code",
   "execution_count": null,
   "id": "719e9b10",
   "metadata": {},
   "outputs": [
    {
     "name": "stdout",
     "output_type": "stream",
     "text": [
      "(\n"
     ]
    }
   ],
   "source": [
    "num=int(input())\n",
    "if (num>38 and num<48) or (num>57 and num<65) or (num>87 and num<97) or (num>122 and num<126):\n",
    "    print(chr(num))"
   ]
  },
  {
   "cell_type": "code",
   "execution_count": null,
   "id": "6d9f374d",
   "metadata": {},
   "outputs": [],
   "source": [
    "num1=int(input())\n",
    "num2=int(input())\n",
    "if num1==10 or num2==10 or num1+num2==10:\n",
    "    print((num1+num2)**2)"
   ]
  },
  {
   "cell_type": "code",
   "execution_count": null,
   "id": "0b8e537c",
   "metadata": {},
   "outputs": [],
   "source": [
    "letter=input()\n",
    "if letter in 'aeiouAEIOU':\n",
    "    print(chr(ord(letter)+1))"
   ]
  },
  {
   "cell_type": "code",
   "execution_count": 23,
   "id": "0abffa98",
   "metadata": {},
   "outputs": [
    {
     "name": "stdout",
     "output_type": "stream",
     "text": [
      "f\n"
     ]
    }
   ],
   "source": [
    "letter=input()\n",
    "if letter not in 'aeiouAEIOU':\n",
    "    print(chr((ord(letter)-1)))"
   ]
  },
  {
   "cell_type": "code",
   "execution_count": 3,
   "id": "61da1d09",
   "metadata": {},
   "outputs": [],
   "source": [
    "num=[1,2,3]\n",
    "if type(num) in (int,float,bool,complex):\n",
    "    print(\"Single value datatype\")"
   ]
  },
  {
   "cell_type": "code",
   "execution_count": null,
   "id": "b041d58b",
   "metadata": {},
   "outputs": [],
   "source": [
    "num=input()\n",
    "list1=[]\n",
    "if type(num) in [list,tuple,dict,set,frozenset,str]:\n",
    "    list1.append(num)\n",
    "    tuple1=tuple(list1)\n",
    "print(tuple1)"
   ]
  },
  {
   "cell_type": "code",
   "execution_count": 28,
   "id": "778c7742",
   "metadata": {},
   "outputs": [
    {
     "name": "stdout",
     "output_type": "stream",
     "text": [
      "{34}\n"
     ]
    }
   ],
   "source": [
    "num=int(input())\n",
    "set1=set()\n",
    "if type(num) in [int,float,str,bool,dict,frozenset,tuple]:\n",
    "    set1.add(num)\n",
    "print(set1)"
   ]
  },
  {
   "cell_type": "code",
   "execution_count": 30,
   "id": "37e2aaa1",
   "metadata": {},
   "outputs": [
    {
     "name": "stdout",
     "output_type": "stream",
     "text": [
      "4\n"
     ]
    }
   ],
   "source": [
    "list1=[1,2,3,4,5,7,8]\n",
    "if list1[len(list1)//2]%2!=0:\n",
    "    print('odd')\n",
    "else:\n",
    "    print(list1[len(list1)//2])"
   ]
  },
  {
   "cell_type": "code",
   "execution_count": null,
   "id": "c4ccb01f",
   "metadata": {},
   "outputs": [
    {
     "name": "stdout",
     "output_type": "stream",
     "text": [
      "notbeautiful\n"
     ]
    }
   ],
   "source": [
    "s='beautiful'\n",
    "if 'not' in s:\n",
    "    print(s)\n",
    "else:\n",
    "    print('not '+s)"
   ]
  },
  {
   "cell_type": "code",
   "execution_count": 33,
   "id": "7c01cbdc",
   "metadata": {},
   "outputs": [
    {
     "name": "stdout",
     "output_type": "stream",
     "text": [
      "140730047939784\n"
     ]
    }
   ],
   "source": [
    "a=10\n",
    "b=20\n",
    "if id(a)==id(b):\n",
    "    print('different')\n",
    "else:\n",
    "    print(id(a))"
   ]
  },
  {
   "cell_type": "code",
   "execution_count": 37,
   "id": "379d5b45",
   "metadata": {},
   "outputs": [
    {
     "name": "stdout",
     "output_type": "stream",
     "text": [
      "he\n"
     ]
    }
   ],
   "source": [
    "s=input()\n",
    "if len(s)%2==0:\n",
    "    print(s[0:-2])\n"
   ]
  },
  {
   "cell_type": "code",
   "execution_count": null,
   "id": "bc69e5f7",
   "metadata": {},
   "outputs": [],
   "source": [
    "a=input()\n",
    "b=input()\n",
    "if a==b:\n",
    "    a,b=b,a"
   ]
  },
  {
   "cell_type": "code",
   "execution_count": null,
   "id": "0d342cfb",
   "metadata": {},
   "outputs": [],
   "source": [
    "num=int(input())\n",
    "dict1={}\n",
    "if (num>38 and num<48) or (num>57 and num<65) or (num>87 and num<97) or (num>122 and num<126):\n",
    "    dict1[num]=ord(num)"
   ]
  },
  {
   "cell_type": "code",
   "execution_count": 44,
   "id": "23a39d09",
   "metadata": {},
   "outputs": [
    {
     "name": "stdout",
     "output_type": "stream",
     "text": [
      "{'4': 140730048001904}\n"
     ]
    }
   ],
   "source": [
    "key=input()\n",
    "dict1={}\n",
    "if key not in dict1.keys():\n",
    "    dict1[key]=id(key)\n",
    "print(dict1)"
   ]
  },
  {
   "cell_type": "code",
   "execution_count": 47,
   "id": "b5f4cc3c",
   "metadata": {},
   "outputs": [],
   "source": [
    "word=input()\n",
    "if word[0]!=word[-1]:\n",
    "    print(word[-1]+word[-2:0:-1]+word[0])"
   ]
  },
  {
   "cell_type": "code",
   "execution_count": null,
   "id": "5e0ce314",
   "metadata": {},
   "outputs": [],
   "source": [
    "num=int(input())\n",
    "if (num%10)==2:\n",
    "    print(num%10)"
   ]
  },
  {
   "cell_type": "code",
   "execution_count": null,
   "id": "12bc187f",
   "metadata": {},
   "outputs": [],
   "source": [
    "num1=int(input())\n",
    "num2=int(input())\n",
    "if num1==10 or num2==10 or num1+num2==10:\n",
    "    print((num1+num2)**2)"
   ]
  },
  {
   "cell_type": "code",
   "execution_count": null,
   "id": "30d63b3b",
   "metadata": {},
   "outputs": [
    {
     "name": "stdout",
     "output_type": "stream",
     "text": [
      "helloorld\n",
      "hello\n"
     ]
    }
   ],
   "source": [
    "string=input()\n",
    "num=int(input())\n",
    "if len(string)>num:\n",
    "    print(string[0:num]+string[num+1:len(string)])\n",
    "    print(string[0:num]+string[num+1:-1])"
   ]
  },
  {
   "cell_type": "code",
   "execution_count": 54,
   "id": "58a9ea07",
   "metadata": {},
   "outputs": [
    {
     "name": "stdout",
     "output_type": "stream",
     "text": [
      "Hello hello\n"
     ]
    }
   ],
   "source": [
    "a=input()\n",
    "b=input()\n",
    "if not a==b:\n",
    "    print(a+' '+b)"
   ]
  }
 ],
 "metadata": {
  "kernelspec": {
   "display_name": "Python 3",
   "language": "python",
   "name": "python3"
  },
  "language_info": {
   "codemirror_mode": {
    "name": "ipython",
    "version": 3
   },
   "file_extension": ".py",
   "mimetype": "text/x-python",
   "name": "python",
   "nbconvert_exporter": "python",
   "pygments_lexer": "ipython3",
   "version": "3.13.5"
  }
 },
 "nbformat": 4,
 "nbformat_minor": 5
}
