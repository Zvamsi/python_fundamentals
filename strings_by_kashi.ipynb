{
 "cells": [
  {
   "cell_type": "code",
   "execution_count": 2,
   "id": "fb27c112",
   "metadata": {},
   "outputs": [
    {
     "name": "stdout",
     "output_type": "stream",
     "text": [
      "h\n",
      "e\n",
      "l\n",
      "l\n",
      "o\n"
     ]
    }
   ],
   "source": [
    "# 1.WAP to print the characters in a string\n",
    "st=input()\n",
    "for ch in st:\n",
    "    print(ch)"
   ]
  },
  {
   "cell_type": "code",
   "execution_count": 3,
   "id": "c96723a6",
   "metadata": {},
   "outputs": [
    {
     "name": "stdout",
     "output_type": "stream",
     "text": [
      "104\n",
      "101\n",
      "108\n",
      "108\n",
      "111\n"
     ]
    }
   ],
   "source": [
    "# 2.WAP to print ASCII values of string characters\n",
    "st=input()\n",
    "for ch in st:\n",
    "    print(ord(ch))"
   ]
  },
  {
   "cell_type": "code",
   "execution_count": 4,
   "id": "47a9c95d",
   "metadata": {},
   "outputs": [
    {
     "name": "stdout",
     "output_type": "stream",
     "text": [
      "helloworld\n"
     ]
    }
   ],
   "source": [
    "# 3.WAP to concat strings\n",
    "st1=input()\n",
    "st2=input()\n",
    "st=st1+st2\n",
    "print(st)"
   ]
  },
  {
   "cell_type": "code",
   "execution_count": 7,
   "id": "55671c7b",
   "metadata": {},
   "outputs": [
    {
     "name": "stdout",
     "output_type": "stream",
     "text": [
      "HELLO\n"
     ]
    }
   ],
   "source": [
    "# 4.WAP to convert lowercase to uppercase\n",
    "st=input()\n",
    "res=''\n",
    "for ch in st:\n",
    "    if ch>=\"a\" and ch<='z':\n",
    "        res=res+chr(ord(ch)-32)\n",
    "    else:\n",
    "        res=res+ch\n",
    "print(res)"
   ]
  },
  {
   "cell_type": "code",
   "execution_count": 10,
   "id": "282cce44",
   "metadata": {},
   "outputs": [
    {
     "name": "stdout",
     "output_type": "stream",
     "text": [
      "hello\n"
     ]
    }
   ],
   "source": [
    "# 5.WAP to convert uppercase to lowercase\n",
    "st=input()\n",
    "res=''\n",
    "for ch in st:\n",
    "    if ch>=\"A\" and ch<='Z':\n",
    "        res=res+chr(ord(ch)+32)\n",
    "    else:\n",
    "        res=res+ch\n",
    "print(res)"
   ]
  },
  {
   "cell_type": "code",
   "execution_count": 11,
   "id": "990df23b",
   "metadata": {},
   "outputs": [
    {
     "name": "stdout",
     "output_type": "stream",
     "text": [
      "5\n"
     ]
    }
   ],
   "source": [
    "# 6.WAP to count total characters in a string\n",
    "st=input()\n",
    "count=0\n",
    "for ch in st:\n",
    "    count+=1\n",
    "print(count)"
   ]
  },
  {
   "cell_type": "code",
   "execution_count": 13,
   "id": "bdef9921",
   "metadata": {},
   "outputs": [
    {
     "name": "stdout",
     "output_type": "stream",
     "text": [
      "4\n"
     ]
    }
   ],
   "source": [
    "# 7.WAP to count the total words in a string\n",
    "st=input()\n",
    "word=1\n",
    "for ch in st:\n",
    "    if ch==\" \":\n",
    "        word+=1\n",
    "print(word)"
   ]
  },
  {
   "cell_type": "code",
   "execution_count": 14,
   "id": "5879f0e1",
   "metadata": {},
   "outputs": [
    {
     "name": "stdout",
     "output_type": "stream",
     "text": [
      "10 3 3\n"
     ]
    }
   ],
   "source": [
    "# 8.WAP to count alphabets, digits and special characters in a string\n",
    "st=input()\n",
    "alpha=0\n",
    "dig=0\n",
    "spc=0\n",
    "for ch in st:\n",
    "    if ch>=\"a\" and ch<='z' or ch>='A' and ch<='Z':\n",
    "        alpha+=1\n",
    "    elif ch>='0' and ch<='9':\n",
    "        dig+=1\n",
    "    else:\n",
    "        spc+=1\n",
    "print(alpha,dig,spc)"
   ]
  },
  {
   "cell_type": "code",
   "execution_count": 15,
   "id": "95fa9081",
   "metadata": {},
   "outputs": [
    {
     "name": "stdout",
     "output_type": "stream",
     "text": [
      "3 7\n"
     ]
    }
   ],
   "source": [
    "# 9.WAP to count vowels and consonents in a string\n",
    "st=input()\n",
    "vow=0\n",
    "con=0\n",
    "for ch in st:\n",
    "    if ch in 'AEIOUaeiou':\n",
    "        vow+=1\n",
    "    elif ch>='A' and ch<='Z' or ch>='a' and ch<='z':\n",
    "        con+=1\n",
    "print(vow,con)"
   ]
  },
  {
   "cell_type": "code",
   "execution_count": 18,
   "id": "d93f7cc5",
   "metadata": {},
   "outputs": [
    {
     "name": "stdout",
     "output_type": "stream",
     "text": [
      "3\n"
     ]
    }
   ],
   "source": [
    "# 10.WAP to count total occurence of a character in a string\n",
    "st=input()\n",
    "char=input()\n",
    "count=0\n",
    "for ch in st:\n",
    "    if ch==char:\n",
    "        count+=1\n",
    "print(count)"
   ]
  },
  {
   "cell_type": "code",
   "execution_count": null,
   "id": "ee931f00",
   "metadata": {},
   "outputs": [],
   "source": [
    "# 11.WAP to find all occurence of a character in a string\n"
   ]
  },
  {
   "cell_type": "code",
   "execution_count": 19,
   "id": "1cf4c14d",
   "metadata": {},
   "outputs": [
    {
     "name": "stdout",
     "output_type": "stream",
     "text": [
      "2\n"
     ]
    }
   ],
   "source": [
    "# 12.WAP to find first character occurence in a string\n",
    "st=input()\n",
    "char=input()\n",
    "for ch in st:\n",
    "    if ch==char:\n",
    "        print(st.index(ch))\n",
    "        break"
   ]
  },
  {
   "cell_type": "code",
   "execution_count": 25,
   "id": "a2b5f4e1",
   "metadata": {},
   "outputs": [
    {
     "name": "stdout",
     "output_type": "stream",
     "text": [
      "9\n"
     ]
    }
   ],
   "source": [
    "# 13.WAP to find last character occurence in a string\n",
    "st=input()\n",
    "char=input()\n",
    "# for ch in st:\n",
    "#     if ch==char:\n",
    "#         loc=st.index(ch)\n",
    "# print(loc)\n",
    "\n",
    "i=len(st)-1\n",
    "while i>=0:\n",
    "    ch=st[i]\n",
    "    if ch==char:\n",
    "        print(i)\n",
    "        break\n",
    "    i-=1"
   ]
  },
  {
   "cell_type": "code",
   "execution_count": null,
   "id": "3c5b557a",
   "metadata": {},
   "outputs": [
    {
     "name": "stdout",
     "output_type": "stream",
     "text": [
      "f\n"
     ]
    }
   ],
   "source": [
    "# 14.WAP to find the maximum occuring character in a string\n",
    "st=input()\n",
    "max_count=0\n",
    "max_char=''\n",
    "\n",
    "for ch in st:\n",
    "    char_count=0\n",
    "    for ch1 in st:\n",
    "        if ch1==ch:\n",
    "            char_count+=1\n",
    "    if char_count>max_count:\n",
    "        max_count=char_count\n",
    "        max_char=ch\n",
    "print(max_char)"
   ]
  },
  {
   "cell_type": "code",
   "execution_count": 13,
   "id": "1dffc535",
   "metadata": {},
   "outputs": [
    {
     "name": "stdout",
     "output_type": "stream",
     "text": [
      "e\n"
     ]
    }
   ],
   "source": [
    "# 15.WAP to find the minimum occuring character in a string\n",
    "st=input()\n",
    "min_count=len(st)\n",
    "min_char=''\n",
    "for ch in st:\n",
    "    char_c=0\n",
    "    for ch1 in st:\n",
    "        if ch1==ch:\n",
    "            char_c+=1\n",
    "    if char_c<min_count:\n",
    "        min_count=char_c\n",
    "        min_char=ch\n",
    "print(min_char)"
   ]
  },
  {
   "cell_type": "code",
   "execution_count": 15,
   "id": "f2eee8d3",
   "metadata": {},
   "outputs": [
    {
     "name": "stdout",
     "output_type": "stream",
     "text": [
      "h 1\n",
      "e 1\n",
      "l 3\n",
      "o 2\n",
      "  1\n",
      "w 1\n",
      "r 1\n",
      "d 1\n"
     ]
    }
   ],
   "source": [
    "# 16.WAP to find frequency of each character in a string\n",
    "st=input()\n",
    "dummy=''\n",
    "for ch in st:\n",
    "    if ch not in dummy:\n",
    "        dummy=dummy+ch\n",
    "\n",
    "for ch in dummy:\n",
    "    count=0\n",
    "    for ch1 in st:\n",
    "        if ch1==ch:\n",
    "            count+=1\n",
    "    print(ch,count)"
   ]
  },
  {
   "cell_type": "code",
   "execution_count": 21,
   "id": "4ef1c8ba",
   "metadata": {},
   "outputs": [
    {
     "name": "stdout",
     "output_type": "stream",
     "text": [
      "palindrome\n"
     ]
    }
   ],
   "source": [
    "# 17.WAP to check palindrome string\n",
    "st=input()\n",
    "reverse=''\n",
    "for ch in st:\n",
    "    reverse=ch+reverse\n",
    "if st==reverse:\n",
    "    print(\"palindrome\")\n",
    "else:\n",
    "    print(\"Not a palindrome\")"
   ]
  },
  {
   "cell_type": "code",
   "execution_count": 25,
   "id": "f4d4fa42",
   "metadata": {},
   "outputs": [
    {
     "name": "stdout",
     "output_type": "stream",
     "text": [
      "h d\n"
     ]
    }
   ],
   "source": [
    "# 18.WAP to find first and last character in a string\n",
    "st=input()\n",
    "i=0\n",
    "f=st[i]\n",
    "while i<len(st):\n",
    "    l=st[i]\n",
    "    i+=1\n",
    "print(f,l)"
   ]
  },
  {
   "cell_type": "code",
   "execution_count": null,
   "id": "f6ed5d01",
   "metadata": {},
   "outputs": [
    {
     "name": "stdout",
     "output_type": "stream",
     "text": [
      "heo word\n"
     ]
    }
   ],
   "source": [
    "# 19.WAP to remove all occurence of a character in a string\n",
    "st=input()\n",
    "char=input()\n",
    "res=\"\"\n",
    "for ch in st:\n",
    "    if ch==char:\n",
    "        continue #pass\n",
    "    else:\n",
    "        res=res+ch\n",
    "print(res)"
   ]
  },
  {
   "cell_type": "code",
   "execution_count": 30,
   "id": "50e71d5a",
   "metadata": {},
   "outputs": [
    {
     "name": "stdout",
     "output_type": "stream",
     "text": [
      "ello worl\n"
     ]
    }
   ],
   "source": [
    "# 20.WAP to remove first and last character in a string\n",
    "st=input()\n",
    "i=0\n",
    "res=\"\"\n",
    "while i<len(st):\n",
    "    if i==0 or i==len(st)-1:\n",
    "        pass\n",
    "    else:\n",
    "        res=res+st[i]\n",
    "    i+=1\n",
    "print(res)"
   ]
  },
  {
   "cell_type": "code",
   "execution_count": 33,
   "id": "0e7db9c9",
   "metadata": {},
   "outputs": [
    {
     "name": "stdout",
     "output_type": "stream",
     "text": [
      "helo world\n"
     ]
    }
   ],
   "source": [
    "# 21.WAP to remove first character occurence in a string\n",
    "st=input()\n",
    "char=input()\n",
    "i=0\n",
    "while i<len(st):\n",
    "    ch=st[i]\n",
    "    if ch==char:\n",
    "        index=i\n",
    "        break\n",
    "    i+=1\n",
    "i=0\n",
    "res=''\n",
    "while i<len(st):\n",
    "    if i==index:\n",
    "        pass\n",
    "    else:\n",
    "        res=res+st[i]\n",
    "    i+=1\n",
    "print(res)"
   ]
  },
  {
   "cell_type": "code",
   "execution_count": 34,
   "id": "634726bd",
   "metadata": {},
   "outputs": [
    {
     "name": "stdout",
     "output_type": "stream",
     "text": [
      "hello marathn\n"
     ]
    }
   ],
   "source": [
    "# 22.WAP to remove last character occurence in a string\n",
    "st=input()\n",
    "char=input()\n",
    "i=0\n",
    "while i<len(st):\n",
    "    ch=st[i]\n",
    "    if ch==char:\n",
    "        index=i\n",
    "    i+=1\n",
    "i=0\n",
    "res=''\n",
    "while i<len(st):\n",
    "    if i==index:\n",
    "        pass\n",
    "    else:\n",
    "        res=res+st[i]\n",
    "    i+=1\n",
    "print(res)"
   ]
  },
  {
   "cell_type": "code",
   "execution_count": 36,
   "id": "6e0246f6",
   "metadata": {},
   "outputs": [
    {
     "name": "stdout",
     "output_type": "stream",
     "text": [
      "hellohowareyou\n"
     ]
    }
   ],
   "source": [
    "# 23.WAP to remove all white spaces from a string\n",
    "st=input()\n",
    "res=''\n",
    "for ch in st:\n",
    "    if ch!=\" \":\n",
    "        res=res+ch\n",
    "print(res)"
   ]
  },
  {
   "cell_type": "code",
   "execution_count": 42,
   "id": "2972941d",
   "metadata": {},
   "outputs": [
    {
     "name": "stdout",
     "output_type": "stream",
     "text": [
      "he*lo world\n"
     ]
    }
   ],
   "source": [
    "# 24.WAP to replace first character occurence in a string\n",
    "st=input()\n",
    "char=input()\n",
    "res=''\n",
    "i=0\n",
    "while i<len(st):\n",
    "    if st[i]==char:\n",
    "        index=i\n",
    "        break\n",
    "    i+=1\n",
    "i=0\n",
    "while i<len(st):\n",
    "    if i==index:\n",
    "        res=res+\"*\"\n",
    "    else:\n",
    "        res=res+st[i]\n",
    "    i+=1\n",
    "print(res)"
   ]
  },
  {
   "cell_type": "code",
   "execution_count": 43,
   "id": "eb02e4c6",
   "metadata": {},
   "outputs": [
    {
     "name": "stdout",
     "output_type": "stream",
     "text": [
      "hello wor*d\n"
     ]
    }
   ],
   "source": [
    "# 25.WAP to replace last character occurence in a string\n",
    "st=input()\n",
    "char=input()\n",
    "res=''\n",
    "i=0\n",
    "while i<len(st):\n",
    "    if st[i]==char:\n",
    "        index=i\n",
    "    i+=1\n",
    "i=0\n",
    "while i<len(st):\n",
    "    if i==index:\n",
    "        res=res+\"*\"\n",
    "    else:\n",
    "        res=res+st[i]\n",
    "    i+=1\n",
    "print(res)"
   ]
  },
  {
   "cell_type": "code",
   "execution_count": 47,
   "id": "2cd14c84",
   "metadata": {},
   "outputs": [
    {
     "name": "stdout",
     "output_type": "stream",
     "text": [
      "olleh woh era uoy\n"
     ]
    }
   ],
   "source": [
    "# 26.WAP to reverse letters in a string\n",
    "st=input()\n",
    "res=''\n",
    "word=''\n",
    "for ch in st:\n",
    "    if ch==\" \":\n",
    "        res=res+word+ch\n",
    "        word=''\n",
    "    else:\n",
    "        word=ch+word\n",
    "if word!=\"\":\n",
    "    res=res+word\n",
    "    word=\"\"\n",
    "print(res)"
   ]
  },
  {
   "cell_type": "code",
   "execution_count": null,
   "id": "c1469953",
   "metadata": {},
   "outputs": [],
   "source": [
    "# 27.WAP to reverse a string\n",
    "st=input()\n",
    "res=''\n",
    "for ch in st:\n",
    "    res=ch+res\n",
    "print(res)"
   ]
  },
  {
   "cell_type": "code",
   "execution_count": null,
   "id": "7b5c1089",
   "metadata": {},
   "outputs": [],
   "source": [
    "# 28.WAP to reverse a string using recursion"
   ]
  },
  {
   "cell_type": "code",
   "execution_count": 49,
   "id": "387d3dfe",
   "metadata": {},
   "outputs": [
    {
     "name": "stdout",
     "output_type": "stream",
     "text": [
      "hELLO WORLD@123\n"
     ]
    }
   ],
   "source": [
    "# 29.WAP to toggle all characters in a string\n",
    "st=input()\n",
    "i=0\n",
    "res=''\n",
    "for ch in st:\n",
    "    if ch>='A' and ch<='Z':\n",
    "        res=res+chr(ord(ch)+32)\n",
    "    elif ch>='a' and ch<='z':\n",
    "        res=res+chr(ord(ch)-32)\n",
    "    else:\n",
    "        res=res+ch\n",
    "print(res)"
   ]
  },
  {
   "cell_type": "code",
   "execution_count": 4,
   "id": "fcf6f841",
   "metadata": {},
   "outputs": [
    {
     "name": "stdout",
     "output_type": "stream",
     "text": [
      "The given strings are same\n"
     ]
    }
   ],
   "source": [
    "# 30.WAP to string comparision\n",
    "st1=input()\n",
    "st2=input()\n",
    "is_same=True\n",
    "i=0\n",
    "while i<len(st1) or i<len(st2):\n",
    "    if i<len(st1) and i<len(st2):\n",
    "        ch1=st1[i]\n",
    "        ch2=st2[i]\n",
    "        if ch1!=ch2:\n",
    "            is_same=False\n",
    "    else:\n",
    "        is_same=False\n",
    "    i+=1\n",
    "if is_same:\n",
    "    print(\"The given strings are same\")\n",
    "else:\n",
    "    print(\"string are not same\")\n"
   ]
  },
  {
   "cell_type": "code",
   "execution_count": 63,
   "id": "5c1be78f",
   "metadata": {},
   "outputs": [
    {
     "name": "stdout",
     "output_type": "stream",
     "text": [
      "[2, 2, 3, 3, 4, 4, 5, 5, 5, 6, 6, 7, 7, 9]\n"
     ]
    }
   ],
   "source": [
    "# 31.WAP to sort strings in alphabetical order\n",
    "st=[2,4,5,3,7,6,5,9,7,6,5,4,3,2]\n",
    "j=0\n",
    "while j<len(st):\n",
    "    i=0\n",
    "    while i<len(st)-1:\n",
    "        ch=st[i]\n",
    "        ch1=st[i+1]\n",
    "        if ch>ch1:\n",
    "            st[i+1],st[i]=st[i],st[i+1]\n",
    "        i+=1\n",
    "    j+=1\n",
    "print(st)\n"
   ]
  },
  {
   "cell_type": "code",
   "execution_count": 54,
   "id": "b9e19f72",
   "metadata": {},
   "outputs": [
    {
     "ename": "IndexError",
     "evalue": "string index out of range",
     "output_type": "error",
     "traceback": [
      "\u001b[31m---------------------------------------------------------------------------\u001b[39m",
      "\u001b[31mIndexError\u001b[39m                                Traceback (most recent call last)",
      "\u001b[36mCell\u001b[39m\u001b[36m \u001b[39m\u001b[32mIn[54]\u001b[39m\u001b[32m, line 8\u001b[39m\n\u001b[32m      6\u001b[39m num=\u001b[33m\"\u001b[39m\u001b[33m\"\u001b[39m\n\u001b[32m      7\u001b[39m j=i+\u001b[32m1\u001b[39m\n\u001b[32m----> \u001b[39m\u001b[32m8\u001b[39m \u001b[38;5;28;01mwhile\u001b[39;00m \u001b[43mst\u001b[49m\u001b[43m[\u001b[49m\u001b[43mj\u001b[49m\u001b[43m]\u001b[49m>=\u001b[33m'\u001b[39m\u001b[33m0\u001b[39m\u001b[33m'\u001b[39m \u001b[38;5;129;01mand\u001b[39;00m st[j]<=\u001b[33m'\u001b[39m\u001b[33m9\u001b[39m\u001b[33m'\u001b[39m:\n\u001b[32m      9\u001b[39m     num=num+st[j]\n\u001b[32m     10\u001b[39m     j+=\u001b[32m1\u001b[39m\n",
      "\u001b[31mIndexError\u001b[39m: string index out of range"
     ]
    }
   ],
   "source": [
    "st='a13b20c15'\n",
    "res=\"\"\n",
    "i=0\n",
    "while i<len(st)-1:\n",
    "    ch=st[i]\n",
    "    num=\"\"\n",
    "    j=i+1\n",
    "    while st[j]>='0' and st[j]<='9':\n",
    "        num=num+st[j]\n",
    "        j+=1\n",
    "    res=res+ch*int(num)\n",
    "    i=j"
   ]
  }
 ],
 "metadata": {
  "kernelspec": {
   "display_name": "Python 3",
   "language": "python",
   "name": "python3"
  },
  "language_info": {
   "codemirror_mode": {
    "name": "ipython",
    "version": 3
   },
   "file_extension": ".py",
   "mimetype": "text/x-python",
   "name": "python",
   "nbconvert_exporter": "python",
   "pygments_lexer": "ipython3",
   "version": "3.13.5"
  }
 },
 "nbformat": 4,
 "nbformat_minor": 5
}
